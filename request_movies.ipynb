{
 "cells": [
  {
   "cell_type": "markdown",
   "source": [
    "#### Get Movies Type"
   ],
   "metadata": {
    "collapsed": false
   }
  },
  {
   "cell_type": "code",
   "execution_count": 19,
   "metadata": {
    "collapsed": true
   },
   "outputs": [],
   "source": [
    "import requests\n",
    "import bs4\n",
    "import pandas as pd\n",
    "import json\n",
    "from tqdm import tqdm\n",
    "import copy\n",
    "import random\n",
    "from urllib import request\n",
    "from http import cookiejar"
   ]
  },
  {
   "cell_type": "code",
   "execution_count": 3,
   "outputs": [],
   "source": [
    "def get_moviesLink_by_type(Type, types_num, header, data_csv, item_epoch, max_epoch):\n",
    "    print(Type)\n",
    "    # header = {\n",
    "    # 'User-Agent':r'Mozilla/5.0 (Windows NT 10.0; Win64; x64) AppleWebKit/537.36 (KHTML, like Gecko) Chrome/100.0.4896.127 Safari/537.36'}\n",
    "    with tqdm(total=400 * 16, desc=f'Epoch {item_epoch + 1}/{max_epoch}') as pbar:\n",
    "        for range_item in range(16):\n",
    "            for item_start in range(20):\n",
    "                type_url = 'https://movie.douban.com/j/chart/top_list?type={}&interval_id={}%3A{}&action=&start={}&limit=20'.\\\n",
    "                    format(types_num, 100 - range_item*5, 90 - range_item*5, item_start*20)\n",
    "                req = json.loads(requests.get(type_url, headers=header, timeout=50).text)\n",
    "                for detail_item in req:\n",
    "                    data_csv.loc[len(data_csv)] = detail_item\n",
    "                    pbar.update(1)"
   ],
   "metadata": {
    "collapsed": false,
    "pycharm": {
     "name": "#%%\n"
    }
   }
  },
  {
   "cell_type": "code",
   "execution_count": 11,
   "outputs": [
    {
     "name": "stdout",
     "output_type": "stream",
     "text": [
      "剧情\n"
     ]
    },
    {
     "name": "stderr",
     "output_type": "stream",
     "text": [
      "Epoch 0/29:   1%|▏         | 80/6400 [00:06<08:27, 12.45it/s] \n"
     ]
    },
    {
     "ename": "KeyboardInterrupt",
     "evalue": "",
     "output_type": "error",
     "traceback": [
      "\u001B[1;31m---------------------------------------------------------------------------\u001B[0m",
      "\u001B[1;31mKeyboardInterrupt\u001B[0m                         Traceback (most recent call last)",
      "Input \u001B[1;32mIn [11]\u001B[0m, in \u001B[0;36m<cell line: 9>\u001B[1;34m()\u001B[0m\n\u001B[0;32m     10\u001B[0m str_type \u001B[38;5;241m=\u001B[39m \u001B[38;5;28mstr\u001B[39m(soup_type_item[\u001B[38;5;124m'\u001B[39m\u001B[38;5;124mhref\u001B[39m\u001B[38;5;124m'\u001B[39m])[\u001B[38;5;28mstr\u001B[39m(soup_type_item[\u001B[38;5;124m'\u001B[39m\u001B[38;5;124mhref\u001B[39m\u001B[38;5;124m'\u001B[39m])\u001B[38;5;241m.\u001B[39mindex(\u001B[38;5;124m'\u001B[39m\u001B[38;5;124mtype=\u001B[39m\u001B[38;5;124m'\u001B[39m) \u001B[38;5;241m+\u001B[39m \u001B[38;5;241m5\u001B[39m:]\n\u001B[0;32m     11\u001B[0m str_type \u001B[38;5;241m=\u001B[39m str_type[:str_type\u001B[38;5;241m.\u001B[39mindex(\u001B[38;5;124m\"\u001B[39m\u001B[38;5;124m&\u001B[39m\u001B[38;5;124m\"\u001B[39m)]\n\u001B[1;32m---> 12\u001B[0m \u001B[43mget_moviesLink_by_type\u001B[49m\u001B[43m(\u001B[49m\u001B[38;5;28;43mstr\u001B[39;49m\u001B[43m(\u001B[49m\u001B[43msoup_type_item\u001B[49m\u001B[38;5;241;43m.\u001B[39;49m\u001B[43mstring\u001B[49m\u001B[43m)\u001B[49m\u001B[43m,\u001B[49m\u001B[43m \u001B[49m\u001B[43mstr_type\u001B[49m\u001B[43m,\u001B[49m\u001B[43m \u001B[49m\u001B[43mheader\u001B[49m\u001B[43m,\u001B[49m\u001B[43m \u001B[49m\u001B[43mdata_csv\u001B[49m\u001B[43m,\u001B[49m\u001B[43m \u001B[49m\u001B[43mitem_epoch\u001B[49m\u001B[43m,\u001B[49m\u001B[43m \u001B[49m\u001B[38;5;28;43mlen\u001B[39;49m\u001B[43m(\u001B[49m\u001B[43msoup_type\u001B[49m\u001B[43m)\u001B[49m\u001B[43m)\u001B[49m\n",
      "Input \u001B[1;32mIn [3]\u001B[0m, in \u001B[0;36mget_moviesLink_by_type\u001B[1;34m(Type, types_num, header, data_csv, item_epoch, max_epoch)\u001B[0m\n\u001B[0;32m      7\u001B[0m \u001B[38;5;28;01mfor\u001B[39;00m item \u001B[38;5;129;01min\u001B[39;00m \u001B[38;5;28mrange\u001B[39m(\u001B[38;5;241m20\u001B[39m):\n\u001B[0;32m      8\u001B[0m     type_url \u001B[38;5;241m=\u001B[39m \u001B[38;5;124m'\u001B[39m\u001B[38;5;124mhttps://movie.douban.com/j/chart/top_list?type=\u001B[39m\u001B[38;5;132;01m{}\u001B[39;00m\u001B[38;5;124m&interval_id=\u001B[39m\u001B[38;5;132;01m{}\u001B[39;00m\u001B[38;5;124m%\u001B[39m\u001B[38;5;124m3A\u001B[39m\u001B[38;5;132;01m{}\u001B[39;00m\u001B[38;5;124m&action=&start=\u001B[39m\u001B[38;5;132;01m{}\u001B[39;00m\u001B[38;5;124m&limit=20\u001B[39m\u001B[38;5;124m'\u001B[39m\u001B[38;5;241m.\u001B[39m\\\n\u001B[0;32m      9\u001B[0m         \u001B[38;5;28mformat\u001B[39m(types_num, \u001B[38;5;241m100\u001B[39m \u001B[38;5;241m-\u001B[39m range_item\u001B[38;5;241m*\u001B[39m\u001B[38;5;241m5\u001B[39m, \u001B[38;5;241m90\u001B[39m \u001B[38;5;241m-\u001B[39m range_item\u001B[38;5;241m*\u001B[39m\u001B[38;5;241m5\u001B[39m, item\u001B[38;5;241m*\u001B[39m\u001B[38;5;241m20\u001B[39m)\n\u001B[1;32m---> 10\u001B[0m     req \u001B[38;5;241m=\u001B[39m json\u001B[38;5;241m.\u001B[39mloads(\u001B[43mrequests\u001B[49m\u001B[38;5;241;43m.\u001B[39;49m\u001B[43mget\u001B[49m\u001B[43m(\u001B[49m\u001B[43mtype_url\u001B[49m\u001B[43m,\u001B[49m\u001B[43m \u001B[49m\u001B[43mheaders\u001B[49m\u001B[38;5;241;43m=\u001B[39;49m\u001B[43mheader\u001B[49m\u001B[43m,\u001B[49m\u001B[43m \u001B[49m\u001B[43mtimeout\u001B[49m\u001B[38;5;241;43m=\u001B[39;49m\u001B[38;5;241;43m50\u001B[39;49m\u001B[43m)\u001B[49m\u001B[38;5;241m.\u001B[39mtext)\n\u001B[0;32m     11\u001B[0m     \u001B[38;5;28;01mfor\u001B[39;00m detail_item \u001B[38;5;129;01min\u001B[39;00m req:\n\u001B[0;32m     12\u001B[0m         data_csv\u001B[38;5;241m.\u001B[39mloc[\u001B[38;5;28mlen\u001B[39m(data_csv)] \u001B[38;5;241m=\u001B[39m detail_item\n",
      "File \u001B[1;32mD:\\Code\\annaconda\\envs\\Env_1\\lib\\site-packages\\requests\\api.py:75\u001B[0m, in \u001B[0;36mget\u001B[1;34m(url, params, **kwargs)\u001B[0m\n\u001B[0;32m     64\u001B[0m \u001B[38;5;28;01mdef\u001B[39;00m \u001B[38;5;21mget\u001B[39m(url, params\u001B[38;5;241m=\u001B[39m\u001B[38;5;28;01mNone\u001B[39;00m, \u001B[38;5;241m*\u001B[39m\u001B[38;5;241m*\u001B[39mkwargs):\n\u001B[0;32m     65\u001B[0m     \u001B[38;5;124mr\u001B[39m\u001B[38;5;124;03m\"\"\"Sends a GET request.\u001B[39;00m\n\u001B[0;32m     66\u001B[0m \n\u001B[0;32m     67\u001B[0m \u001B[38;5;124;03m    :param url: URL for the new :class:`Request` object.\u001B[39;00m\n\u001B[1;32m   (...)\u001B[0m\n\u001B[0;32m     72\u001B[0m \u001B[38;5;124;03m    :rtype: requests.Response\u001B[39;00m\n\u001B[0;32m     73\u001B[0m \u001B[38;5;124;03m    \"\"\"\u001B[39;00m\n\u001B[1;32m---> 75\u001B[0m     \u001B[38;5;28;01mreturn\u001B[39;00m request(\u001B[38;5;124m'\u001B[39m\u001B[38;5;124mget\u001B[39m\u001B[38;5;124m'\u001B[39m, url, params\u001B[38;5;241m=\u001B[39mparams, \u001B[38;5;241m*\u001B[39m\u001B[38;5;241m*\u001B[39mkwargs)\n",
      "File \u001B[1;32mD:\\Code\\annaconda\\envs\\Env_1\\lib\\site-packages\\requests\\api.py:61\u001B[0m, in \u001B[0;36mrequest\u001B[1;34m(method, url, **kwargs)\u001B[0m\n\u001B[0;32m     57\u001B[0m \u001B[38;5;66;03m# By using the 'with' statement we are sure the session is closed, thus we\u001B[39;00m\n\u001B[0;32m     58\u001B[0m \u001B[38;5;66;03m# avoid leaving sockets open which can trigger a ResourceWarning in some\u001B[39;00m\n\u001B[0;32m     59\u001B[0m \u001B[38;5;66;03m# cases, and look like a memory leak in others.\u001B[39;00m\n\u001B[0;32m     60\u001B[0m \u001B[38;5;28;01mwith\u001B[39;00m sessions\u001B[38;5;241m.\u001B[39mSession() \u001B[38;5;28;01mas\u001B[39;00m session:\n\u001B[1;32m---> 61\u001B[0m     \u001B[38;5;28;01mreturn\u001B[39;00m session\u001B[38;5;241m.\u001B[39mrequest(method\u001B[38;5;241m=\u001B[39mmethod, url\u001B[38;5;241m=\u001B[39murl, \u001B[38;5;241m*\u001B[39m\u001B[38;5;241m*\u001B[39mkwargs)\n",
      "File \u001B[1;32mD:\\Code\\annaconda\\envs\\Env_1\\lib\\site-packages\\requests\\sessions.py:529\u001B[0m, in \u001B[0;36mSession.request\u001B[1;34m(self, method, url, params, data, headers, cookies, files, auth, timeout, allow_redirects, proxies, hooks, stream, verify, cert, json)\u001B[0m\n\u001B[0;32m    524\u001B[0m send_kwargs \u001B[38;5;241m=\u001B[39m {\n\u001B[0;32m    525\u001B[0m     \u001B[38;5;124m'\u001B[39m\u001B[38;5;124mtimeout\u001B[39m\u001B[38;5;124m'\u001B[39m: timeout,\n\u001B[0;32m    526\u001B[0m     \u001B[38;5;124m'\u001B[39m\u001B[38;5;124mallow_redirects\u001B[39m\u001B[38;5;124m'\u001B[39m: allow_redirects,\n\u001B[0;32m    527\u001B[0m }\n\u001B[0;32m    528\u001B[0m send_kwargs\u001B[38;5;241m.\u001B[39mupdate(settings)\n\u001B[1;32m--> 529\u001B[0m resp \u001B[38;5;241m=\u001B[39m \u001B[38;5;28mself\u001B[39m\u001B[38;5;241m.\u001B[39msend(prep, \u001B[38;5;241m*\u001B[39m\u001B[38;5;241m*\u001B[39msend_kwargs)\n\u001B[0;32m    531\u001B[0m \u001B[38;5;28;01mreturn\u001B[39;00m resp\n",
      "File \u001B[1;32mD:\\Code\\annaconda\\envs\\Env_1\\lib\\site-packages\\requests\\sessions.py:645\u001B[0m, in \u001B[0;36mSession.send\u001B[1;34m(self, request, **kwargs)\u001B[0m\n\u001B[0;32m    642\u001B[0m start \u001B[38;5;241m=\u001B[39m preferred_clock()\n\u001B[0;32m    644\u001B[0m \u001B[38;5;66;03m# Send the request\u001B[39;00m\n\u001B[1;32m--> 645\u001B[0m r \u001B[38;5;241m=\u001B[39m adapter\u001B[38;5;241m.\u001B[39msend(request, \u001B[38;5;241m*\u001B[39m\u001B[38;5;241m*\u001B[39mkwargs)\n\u001B[0;32m    647\u001B[0m \u001B[38;5;66;03m# Total elapsed time of the request (approximately)\u001B[39;00m\n\u001B[0;32m    648\u001B[0m elapsed \u001B[38;5;241m=\u001B[39m preferred_clock() \u001B[38;5;241m-\u001B[39m start\n",
      "File \u001B[1;32mD:\\Code\\annaconda\\envs\\Env_1\\lib\\site-packages\\requests\\adapters.py:440\u001B[0m, in \u001B[0;36mHTTPAdapter.send\u001B[1;34m(self, request, stream, timeout, verify, cert, proxies)\u001B[0m\n\u001B[0;32m    438\u001B[0m \u001B[38;5;28;01mtry\u001B[39;00m:\n\u001B[0;32m    439\u001B[0m     \u001B[38;5;28;01mif\u001B[39;00m \u001B[38;5;129;01mnot\u001B[39;00m chunked:\n\u001B[1;32m--> 440\u001B[0m         resp \u001B[38;5;241m=\u001B[39m \u001B[43mconn\u001B[49m\u001B[38;5;241;43m.\u001B[39;49m\u001B[43murlopen\u001B[49m\u001B[43m(\u001B[49m\n\u001B[0;32m    441\u001B[0m \u001B[43m            \u001B[49m\u001B[43mmethod\u001B[49m\u001B[38;5;241;43m=\u001B[39;49m\u001B[43mrequest\u001B[49m\u001B[38;5;241;43m.\u001B[39;49m\u001B[43mmethod\u001B[49m\u001B[43m,\u001B[49m\n\u001B[0;32m    442\u001B[0m \u001B[43m            \u001B[49m\u001B[43murl\u001B[49m\u001B[38;5;241;43m=\u001B[39;49m\u001B[43murl\u001B[49m\u001B[43m,\u001B[49m\n\u001B[0;32m    443\u001B[0m \u001B[43m            \u001B[49m\u001B[43mbody\u001B[49m\u001B[38;5;241;43m=\u001B[39;49m\u001B[43mrequest\u001B[49m\u001B[38;5;241;43m.\u001B[39;49m\u001B[43mbody\u001B[49m\u001B[43m,\u001B[49m\n\u001B[0;32m    444\u001B[0m \u001B[43m            \u001B[49m\u001B[43mheaders\u001B[49m\u001B[38;5;241;43m=\u001B[39;49m\u001B[43mrequest\u001B[49m\u001B[38;5;241;43m.\u001B[39;49m\u001B[43mheaders\u001B[49m\u001B[43m,\u001B[49m\n\u001B[0;32m    445\u001B[0m \u001B[43m            \u001B[49m\u001B[43mredirect\u001B[49m\u001B[38;5;241;43m=\u001B[39;49m\u001B[38;5;28;43;01mFalse\u001B[39;49;00m\u001B[43m,\u001B[49m\n\u001B[0;32m    446\u001B[0m \u001B[43m            \u001B[49m\u001B[43massert_same_host\u001B[49m\u001B[38;5;241;43m=\u001B[39;49m\u001B[38;5;28;43;01mFalse\u001B[39;49;00m\u001B[43m,\u001B[49m\n\u001B[0;32m    447\u001B[0m \u001B[43m            \u001B[49m\u001B[43mpreload_content\u001B[49m\u001B[38;5;241;43m=\u001B[39;49m\u001B[38;5;28;43;01mFalse\u001B[39;49;00m\u001B[43m,\u001B[49m\n\u001B[0;32m    448\u001B[0m \u001B[43m            \u001B[49m\u001B[43mdecode_content\u001B[49m\u001B[38;5;241;43m=\u001B[39;49m\u001B[38;5;28;43;01mFalse\u001B[39;49;00m\u001B[43m,\u001B[49m\n\u001B[0;32m    449\u001B[0m \u001B[43m            \u001B[49m\u001B[43mretries\u001B[49m\u001B[38;5;241;43m=\u001B[39;49m\u001B[38;5;28;43mself\u001B[39;49m\u001B[38;5;241;43m.\u001B[39;49m\u001B[43mmax_retries\u001B[49m\u001B[43m,\u001B[49m\n\u001B[0;32m    450\u001B[0m \u001B[43m            \u001B[49m\u001B[43mtimeout\u001B[49m\u001B[38;5;241;43m=\u001B[39;49m\u001B[43mtimeout\u001B[49m\n\u001B[0;32m    451\u001B[0m \u001B[43m        \u001B[49m\u001B[43m)\u001B[49m\n\u001B[0;32m    453\u001B[0m     \u001B[38;5;66;03m# Send the request.\u001B[39;00m\n\u001B[0;32m    454\u001B[0m     \u001B[38;5;28;01melse\u001B[39;00m:\n\u001B[0;32m    455\u001B[0m         \u001B[38;5;28;01mif\u001B[39;00m \u001B[38;5;28mhasattr\u001B[39m(conn, \u001B[38;5;124m'\u001B[39m\u001B[38;5;124mproxy_pool\u001B[39m\u001B[38;5;124m'\u001B[39m):\n",
      "File \u001B[1;32mD:\\Code\\annaconda\\envs\\Env_1\\lib\\site-packages\\urllib3\\connectionpool.py:703\u001B[0m, in \u001B[0;36mHTTPConnectionPool.urlopen\u001B[1;34m(self, method, url, body, headers, retries, redirect, assert_same_host, timeout, pool_timeout, release_conn, chunked, body_pos, **response_kw)\u001B[0m\n\u001B[0;32m    700\u001B[0m     \u001B[38;5;28mself\u001B[39m\u001B[38;5;241m.\u001B[39m_prepare_proxy(conn)\n\u001B[0;32m    702\u001B[0m \u001B[38;5;66;03m# Make the request on the httplib connection object.\u001B[39;00m\n\u001B[1;32m--> 703\u001B[0m httplib_response \u001B[38;5;241m=\u001B[39m \u001B[38;5;28;43mself\u001B[39;49m\u001B[38;5;241;43m.\u001B[39;49m\u001B[43m_make_request\u001B[49m\u001B[43m(\u001B[49m\n\u001B[0;32m    704\u001B[0m \u001B[43m    \u001B[49m\u001B[43mconn\u001B[49m\u001B[43m,\u001B[49m\n\u001B[0;32m    705\u001B[0m \u001B[43m    \u001B[49m\u001B[43mmethod\u001B[49m\u001B[43m,\u001B[49m\n\u001B[0;32m    706\u001B[0m \u001B[43m    \u001B[49m\u001B[43murl\u001B[49m\u001B[43m,\u001B[49m\n\u001B[0;32m    707\u001B[0m \u001B[43m    \u001B[49m\u001B[43mtimeout\u001B[49m\u001B[38;5;241;43m=\u001B[39;49m\u001B[43mtimeout_obj\u001B[49m\u001B[43m,\u001B[49m\n\u001B[0;32m    708\u001B[0m \u001B[43m    \u001B[49m\u001B[43mbody\u001B[49m\u001B[38;5;241;43m=\u001B[39;49m\u001B[43mbody\u001B[49m\u001B[43m,\u001B[49m\n\u001B[0;32m    709\u001B[0m \u001B[43m    \u001B[49m\u001B[43mheaders\u001B[49m\u001B[38;5;241;43m=\u001B[39;49m\u001B[43mheaders\u001B[49m\u001B[43m,\u001B[49m\n\u001B[0;32m    710\u001B[0m \u001B[43m    \u001B[49m\u001B[43mchunked\u001B[49m\u001B[38;5;241;43m=\u001B[39;49m\u001B[43mchunked\u001B[49m\u001B[43m,\u001B[49m\n\u001B[0;32m    711\u001B[0m \u001B[43m\u001B[49m\u001B[43m)\u001B[49m\n\u001B[0;32m    713\u001B[0m \u001B[38;5;66;03m# If we're going to release the connection in ``finally:``, then\u001B[39;00m\n\u001B[0;32m    714\u001B[0m \u001B[38;5;66;03m# the response doesn't need to know about the connection. Otherwise\u001B[39;00m\n\u001B[0;32m    715\u001B[0m \u001B[38;5;66;03m# it will also try to release it and we'll have a double-release\u001B[39;00m\n\u001B[0;32m    716\u001B[0m \u001B[38;5;66;03m# mess.\u001B[39;00m\n\u001B[0;32m    717\u001B[0m response_conn \u001B[38;5;241m=\u001B[39m conn \u001B[38;5;28;01mif\u001B[39;00m \u001B[38;5;129;01mnot\u001B[39;00m release_conn \u001B[38;5;28;01melse\u001B[39;00m \u001B[38;5;28;01mNone\u001B[39;00m\n",
      "File \u001B[1;32mD:\\Code\\annaconda\\envs\\Env_1\\lib\\site-packages\\urllib3\\connectionpool.py:449\u001B[0m, in \u001B[0;36mHTTPConnectionPool._make_request\u001B[1;34m(self, conn, method, url, timeout, chunked, **httplib_request_kw)\u001B[0m\n\u001B[0;32m    444\u001B[0m             httplib_response \u001B[38;5;241m=\u001B[39m conn\u001B[38;5;241m.\u001B[39mgetresponse()\n\u001B[0;32m    445\u001B[0m         \u001B[38;5;28;01mexcept\u001B[39;00m \u001B[38;5;167;01mBaseException\u001B[39;00m \u001B[38;5;28;01mas\u001B[39;00m e:\n\u001B[0;32m    446\u001B[0m             \u001B[38;5;66;03m# Remove the TypeError from the exception chain in\u001B[39;00m\n\u001B[0;32m    447\u001B[0m             \u001B[38;5;66;03m# Python 3 (including for exceptions like SystemExit).\u001B[39;00m\n\u001B[0;32m    448\u001B[0m             \u001B[38;5;66;03m# Otherwise it looks like a bug in the code.\u001B[39;00m\n\u001B[1;32m--> 449\u001B[0m             \u001B[43msix\u001B[49m\u001B[38;5;241;43m.\u001B[39;49m\u001B[43mraise_from\u001B[49m\u001B[43m(\u001B[49m\u001B[43me\u001B[49m\u001B[43m,\u001B[49m\u001B[43m \u001B[49m\u001B[38;5;28;43;01mNone\u001B[39;49;00m\u001B[43m)\u001B[49m\n\u001B[0;32m    450\u001B[0m \u001B[38;5;28;01mexcept\u001B[39;00m (SocketTimeout, BaseSSLError, SocketError) \u001B[38;5;28;01mas\u001B[39;00m e:\n\u001B[0;32m    451\u001B[0m     \u001B[38;5;28mself\u001B[39m\u001B[38;5;241m.\u001B[39m_raise_timeout(err\u001B[38;5;241m=\u001B[39me, url\u001B[38;5;241m=\u001B[39murl, timeout_value\u001B[38;5;241m=\u001B[39mread_timeout)\n",
      "File \u001B[1;32m<string>:3\u001B[0m, in \u001B[0;36mraise_from\u001B[1;34m(value, from_value)\u001B[0m\n",
      "File \u001B[1;32mD:\\Code\\annaconda\\envs\\Env_1\\lib\\site-packages\\urllib3\\connectionpool.py:444\u001B[0m, in \u001B[0;36mHTTPConnectionPool._make_request\u001B[1;34m(self, conn, method, url, timeout, chunked, **httplib_request_kw)\u001B[0m\n\u001B[0;32m    441\u001B[0m \u001B[38;5;28;01mexcept\u001B[39;00m \u001B[38;5;167;01mTypeError\u001B[39;00m:\n\u001B[0;32m    442\u001B[0m     \u001B[38;5;66;03m# Python 3\u001B[39;00m\n\u001B[0;32m    443\u001B[0m     \u001B[38;5;28;01mtry\u001B[39;00m:\n\u001B[1;32m--> 444\u001B[0m         httplib_response \u001B[38;5;241m=\u001B[39m \u001B[43mconn\u001B[49m\u001B[38;5;241;43m.\u001B[39;49m\u001B[43mgetresponse\u001B[49m\u001B[43m(\u001B[49m\u001B[43m)\u001B[49m\n\u001B[0;32m    445\u001B[0m     \u001B[38;5;28;01mexcept\u001B[39;00m \u001B[38;5;167;01mBaseException\u001B[39;00m \u001B[38;5;28;01mas\u001B[39;00m e:\n\u001B[0;32m    446\u001B[0m         \u001B[38;5;66;03m# Remove the TypeError from the exception chain in\u001B[39;00m\n\u001B[0;32m    447\u001B[0m         \u001B[38;5;66;03m# Python 3 (including for exceptions like SystemExit).\u001B[39;00m\n\u001B[0;32m    448\u001B[0m         \u001B[38;5;66;03m# Otherwise it looks like a bug in the code.\u001B[39;00m\n\u001B[0;32m    449\u001B[0m         six\u001B[38;5;241m.\u001B[39mraise_from(e, \u001B[38;5;28;01mNone\u001B[39;00m)\n",
      "File \u001B[1;32mD:\\Code\\annaconda\\envs\\Env_1\\lib\\http\\client.py:1377\u001B[0m, in \u001B[0;36mHTTPConnection.getresponse\u001B[1;34m(self)\u001B[0m\n\u001B[0;32m   1375\u001B[0m \u001B[38;5;28;01mtry\u001B[39;00m:\n\u001B[0;32m   1376\u001B[0m     \u001B[38;5;28;01mtry\u001B[39;00m:\n\u001B[1;32m-> 1377\u001B[0m         \u001B[43mresponse\u001B[49m\u001B[38;5;241;43m.\u001B[39;49m\u001B[43mbegin\u001B[49m\u001B[43m(\u001B[49m\u001B[43m)\u001B[49m\n\u001B[0;32m   1378\u001B[0m     \u001B[38;5;28;01mexcept\u001B[39;00m \u001B[38;5;167;01mConnectionError\u001B[39;00m:\n\u001B[0;32m   1379\u001B[0m         \u001B[38;5;28mself\u001B[39m\u001B[38;5;241m.\u001B[39mclose()\n",
      "File \u001B[1;32mD:\\Code\\annaconda\\envs\\Env_1\\lib\\http\\client.py:320\u001B[0m, in \u001B[0;36mHTTPResponse.begin\u001B[1;34m(self)\u001B[0m\n\u001B[0;32m    318\u001B[0m \u001B[38;5;66;03m# read until we get a non-100 response\u001B[39;00m\n\u001B[0;32m    319\u001B[0m \u001B[38;5;28;01mwhile\u001B[39;00m \u001B[38;5;28;01mTrue\u001B[39;00m:\n\u001B[1;32m--> 320\u001B[0m     version, status, reason \u001B[38;5;241m=\u001B[39m \u001B[38;5;28;43mself\u001B[39;49m\u001B[38;5;241;43m.\u001B[39;49m\u001B[43m_read_status\u001B[49m\u001B[43m(\u001B[49m\u001B[43m)\u001B[49m\n\u001B[0;32m    321\u001B[0m     \u001B[38;5;28;01mif\u001B[39;00m status \u001B[38;5;241m!=\u001B[39m CONTINUE:\n\u001B[0;32m    322\u001B[0m         \u001B[38;5;28;01mbreak\u001B[39;00m\n",
      "File \u001B[1;32mD:\\Code\\annaconda\\envs\\Env_1\\lib\\http\\client.py:281\u001B[0m, in \u001B[0;36mHTTPResponse._read_status\u001B[1;34m(self)\u001B[0m\n\u001B[0;32m    280\u001B[0m \u001B[38;5;28;01mdef\u001B[39;00m \u001B[38;5;21m_read_status\u001B[39m(\u001B[38;5;28mself\u001B[39m):\n\u001B[1;32m--> 281\u001B[0m     line \u001B[38;5;241m=\u001B[39m \u001B[38;5;28mstr\u001B[39m(\u001B[38;5;28;43mself\u001B[39;49m\u001B[38;5;241;43m.\u001B[39;49m\u001B[43mfp\u001B[49m\u001B[38;5;241;43m.\u001B[39;49m\u001B[43mreadline\u001B[49m\u001B[43m(\u001B[49m\u001B[43m_MAXLINE\u001B[49m\u001B[43m \u001B[49m\u001B[38;5;241;43m+\u001B[39;49m\u001B[43m \u001B[49m\u001B[38;5;241;43m1\u001B[39;49m\u001B[43m)\u001B[49m, \u001B[38;5;124m\"\u001B[39m\u001B[38;5;124miso-8859-1\u001B[39m\u001B[38;5;124m\"\u001B[39m)\n\u001B[0;32m    282\u001B[0m     \u001B[38;5;28;01mif\u001B[39;00m \u001B[38;5;28mlen\u001B[39m(line) \u001B[38;5;241m>\u001B[39m _MAXLINE:\n\u001B[0;32m    283\u001B[0m         \u001B[38;5;28;01mraise\u001B[39;00m LineTooLong(\u001B[38;5;124m\"\u001B[39m\u001B[38;5;124mstatus line\u001B[39m\u001B[38;5;124m\"\u001B[39m)\n",
      "File \u001B[1;32mD:\\Code\\annaconda\\envs\\Env_1\\lib\\socket.py:704\u001B[0m, in \u001B[0;36mSocketIO.readinto\u001B[1;34m(self, b)\u001B[0m\n\u001B[0;32m    702\u001B[0m \u001B[38;5;28;01mwhile\u001B[39;00m \u001B[38;5;28;01mTrue\u001B[39;00m:\n\u001B[0;32m    703\u001B[0m     \u001B[38;5;28;01mtry\u001B[39;00m:\n\u001B[1;32m--> 704\u001B[0m         \u001B[38;5;28;01mreturn\u001B[39;00m \u001B[38;5;28;43mself\u001B[39;49m\u001B[38;5;241;43m.\u001B[39;49m\u001B[43m_sock\u001B[49m\u001B[38;5;241;43m.\u001B[39;49m\u001B[43mrecv_into\u001B[49m\u001B[43m(\u001B[49m\u001B[43mb\u001B[49m\u001B[43m)\u001B[49m\n\u001B[0;32m    705\u001B[0m     \u001B[38;5;28;01mexcept\u001B[39;00m timeout:\n\u001B[0;32m    706\u001B[0m         \u001B[38;5;28mself\u001B[39m\u001B[38;5;241m.\u001B[39m_timeout_occurred \u001B[38;5;241m=\u001B[39m \u001B[38;5;28;01mTrue\u001B[39;00m\n",
      "File \u001B[1;32mD:\\Code\\annaconda\\envs\\Env_1\\lib\\ssl.py:1241\u001B[0m, in \u001B[0;36mSSLSocket.recv_into\u001B[1;34m(self, buffer, nbytes, flags)\u001B[0m\n\u001B[0;32m   1237\u001B[0m     \u001B[38;5;28;01mif\u001B[39;00m flags \u001B[38;5;241m!=\u001B[39m \u001B[38;5;241m0\u001B[39m:\n\u001B[0;32m   1238\u001B[0m         \u001B[38;5;28;01mraise\u001B[39;00m \u001B[38;5;167;01mValueError\u001B[39;00m(\n\u001B[0;32m   1239\u001B[0m           \u001B[38;5;124m\"\u001B[39m\u001B[38;5;124mnon-zero flags not allowed in calls to recv_into() on \u001B[39m\u001B[38;5;132;01m%s\u001B[39;00m\u001B[38;5;124m\"\u001B[39m \u001B[38;5;241m%\u001B[39m\n\u001B[0;32m   1240\u001B[0m           \u001B[38;5;28mself\u001B[39m\u001B[38;5;241m.\u001B[39m\u001B[38;5;18m__class__\u001B[39m)\n\u001B[1;32m-> 1241\u001B[0m     \u001B[38;5;28;01mreturn\u001B[39;00m \u001B[38;5;28;43mself\u001B[39;49m\u001B[38;5;241;43m.\u001B[39;49m\u001B[43mread\u001B[49m\u001B[43m(\u001B[49m\u001B[43mnbytes\u001B[49m\u001B[43m,\u001B[49m\u001B[43m \u001B[49m\u001B[43mbuffer\u001B[49m\u001B[43m)\u001B[49m\n\u001B[0;32m   1242\u001B[0m \u001B[38;5;28;01melse\u001B[39;00m:\n\u001B[0;32m   1243\u001B[0m     \u001B[38;5;28;01mreturn\u001B[39;00m \u001B[38;5;28msuper\u001B[39m()\u001B[38;5;241m.\u001B[39mrecv_into(buffer, nbytes, flags)\n",
      "File \u001B[1;32mD:\\Code\\annaconda\\envs\\Env_1\\lib\\ssl.py:1099\u001B[0m, in \u001B[0;36mSSLSocket.read\u001B[1;34m(self, len, buffer)\u001B[0m\n\u001B[0;32m   1097\u001B[0m \u001B[38;5;28;01mtry\u001B[39;00m:\n\u001B[0;32m   1098\u001B[0m     \u001B[38;5;28;01mif\u001B[39;00m buffer \u001B[38;5;129;01mis\u001B[39;00m \u001B[38;5;129;01mnot\u001B[39;00m \u001B[38;5;28;01mNone\u001B[39;00m:\n\u001B[1;32m-> 1099\u001B[0m         \u001B[38;5;28;01mreturn\u001B[39;00m \u001B[38;5;28;43mself\u001B[39;49m\u001B[38;5;241;43m.\u001B[39;49m\u001B[43m_sslobj\u001B[49m\u001B[38;5;241;43m.\u001B[39;49m\u001B[43mread\u001B[49m\u001B[43m(\u001B[49m\u001B[38;5;28;43mlen\u001B[39;49m\u001B[43m,\u001B[49m\u001B[43m \u001B[49m\u001B[43mbuffer\u001B[49m\u001B[43m)\u001B[49m\n\u001B[0;32m   1100\u001B[0m     \u001B[38;5;28;01melse\u001B[39;00m:\n\u001B[0;32m   1101\u001B[0m         \u001B[38;5;28;01mreturn\u001B[39;00m \u001B[38;5;28mself\u001B[39m\u001B[38;5;241m.\u001B[39m_sslobj\u001B[38;5;241m.\u001B[39mread(\u001B[38;5;28mlen\u001B[39m)\n",
      "\u001B[1;31mKeyboardInterrupt\u001B[0m: "
     ]
    }
   ],
   "source": [
    "header = {\n",
    "    \"User-Agent\":r\"Mozilla/5.0 (Windows NT 10.0; Win64; x64) AppleWebKit/537.36 (KHTML, like Gecko) Chrome/100.0.4896.127 Safari/537.36 Edg/100.0.1185.50\"\n",
    "}\n",
    "req = requests.get(r\"https://movie.douban.com/chart\",\n",
    "                   headers=header, timeout=5).text.encode(\"utf-8\")\n",
    "soup_type = bs4.BeautifulSoup(req, \"html.parser\").find_all(name=\"div\", attrs={'class':'types'})[0].find_all(name='a')\n",
    "data_csv = pd.DataFrame(columns=['types', 'rating', 'rank', 'id', 'regions', 'title', 'url', 'release_date', 'actor_count', 'vote_count',\n",
    "                                    'score', 'actors', 'cover_url', 'is_watched'])\n",
    "for item_epoch, soup_type_item in enumerate(soup_type):\n",
    "    str_type = str(soup_type_item['href'])[str(soup_type_item['href']).index('type=') + 5:]\n",
    "    str_type = str_type[:str_type.index(\"&\")]\n",
    "    get_moviesLink_by_type(str(soup_type_item.string), str_type, header, data_csv, item_epoch, len(soup_type))"
   ],
   "metadata": {
    "collapsed": false,
    "pycharm": {
     "name": "#%%\n"
    }
   }
  },
  {
   "cell_type": "code",
   "execution_count": 2,
   "outputs": [
    {
     "ename": "NameError",
     "evalue": "name 'data_csv' is not defined",
     "output_type": "error",
     "traceback": [
      "\u001B[1;31m---------------------------------------------------------------------------\u001B[0m",
      "\u001B[1;31mNameError\u001B[0m                                 Traceback (most recent call last)",
      "Input \u001B[1;32mIn [2]\u001B[0m, in \u001B[0;36m<cell line: 1>\u001B[1;34m()\u001B[0m\n\u001B[1;32m----> 1\u001B[0m \u001B[43mdata_csv\u001B[49m\u001B[38;5;241m.\u001B[39mto_csv(\u001B[38;5;124m\"\u001B[39m\u001B[38;5;124mD:\u001B[39m\u001B[38;5;124m\\\u001B[39m\u001B[38;5;124medge\u001B[39m\u001B[38;5;124m\\\u001B[39m\u001B[38;5;124mdata_movies.csv\u001B[39m\u001B[38;5;124m\"\u001B[39m, index\u001B[38;5;241m=\u001B[39m\u001B[38;5;28;01mFalse\u001B[39;00m)\n\u001B[0;32m      2\u001B[0m data_csv\n",
      "\u001B[1;31mNameError\u001B[0m: name 'data_csv' is not defined"
     ]
    }
   ],
   "source": [
    "data_csv.to_csv(\"./data_movies.csv\", index=False)\n",
    "data_csv"
   ],
   "metadata": {
    "collapsed": false,
    "pycharm": {
     "name": "#%%\n"
    }
   }
  },
  {
   "cell_type": "markdown",
   "source": [
    "####  去重"
   ],
   "metadata": {
    "collapsed": false
   }
  },
  {
   "cell_type": "code",
   "execution_count": 3,
   "outputs": [
    {
     "name": "stdout",
     "output_type": "stream",
     "text": [
      "23422\n",
      "22385\n",
      "23422\n",
      "23422\n"
     ]
    },
    {
     "data": {
      "text/plain": "                            types         rating  rank        id  \\\n0                    ['犯罪', '剧情']  ['9.7', '50']     1   1292052   \n1              ['剧情', '爱情', '同性']  ['9.6', '50']     2   1291546   \n2        ['剧情', '喜剧', '爱情', '战争']  ['9.6', '50']     3   1292063   \n3              ['剧情', '历史', '战争']  ['9.6', '50']     4   1295124   \n4              ['剧情', '犯罪', '悬疑']  ['9.6', '50']     5   1296141   \n...                           ...            ...   ...       ...   \n23417        ['黑色电影', '犯罪', '惊悚']  ['7.3', '40']    79   1302943   \n23418  ['犯罪', '剧情', '黑色电影', '恐怖']  ['7.3', '40']    80   2033530   \n23419        ['动画', '恐怖', '黑色电影']  ['7.3', '40']    81  26877383   \n23420              ['黑色电影', '惊悚']  ['7.2', '40']    82   1293416   \n23421        ['剧情', '黑色电影', '惊悚']  ['7.2', '35']    83   1292892   \n\n                regions              title  \\\n0                ['美国']             肖申克的救赎   \n1      ['中国大陆', '中国香港']               霸王别姬   \n2               ['意大利']               美丽人生   \n3                ['美国']             辛德勒的名单   \n4                ['美国']               控方证人   \n...                 ...                ...   \n23417            ['美国']               合约杀手   \n23418            ['美国']               涨潮小屋   \n23419            ['日本']  成人童话系列1 令人恐怖的格林童话   \n23420            ['美国']               逃狱雪冤   \n23421            ['美国']               爱到天堂   \n\n                                              url release_date  actor_count  \\\n0       https://movie.douban.com/subject/1292052/   1994-09-10           25   \n1       https://movie.douban.com/subject/1291546/   1993-07-26           26   \n2       https://movie.douban.com/subject/1292063/   2020-01-03           29   \n3       https://movie.douban.com/subject/1295124/   1993-11-30           47   \n4       https://movie.douban.com/subject/1296141/   1957-12-17           51   \n...                                           ...          ...          ...   \n23417   https://movie.douban.com/subject/1302943/   1942-05-13            5   \n23418   https://movie.douban.com/subject/2033530/   1950-03-25           24   \n23419  https://movie.douban.com/subject/26877383/   2000-06-21            0   \n23420   https://movie.douban.com/subject/1293416/   1947-09-27            2   \n23421   https://movie.douban.com/subject/1292892/   1945-12-20            7   \n\n       vote_count  score                                             actors  \\\n0         2604521    9.7  ['蒂姆·罗宾斯', '摩根·弗里曼', '鲍勃·冈顿', '威廉姆·赛德勒', '克兰西·...   \n1         1934038    9.6  ['张国荣', '张丰毅', '巩俐', '葛优', '英达', '蒋雯丽', '吴大维',...   \n2         1202892    9.6  ['罗伯托·贝尼尼', '尼可莱塔·布拉斯基', '乔治·坎塔里尼', '朱斯蒂诺·杜拉诺'...   \n3         1003257    9.6  ['连姆·尼森', '本·金斯利', '拉尔夫·费因斯', '卡罗琳·古多尔', '乔纳森·...   \n4          453853    9.6  ['泰隆·鲍华', '玛琳·黛德丽', '查尔斯·劳顿', '爱尔莎·兰切斯特', '约翰·...   \n...           ...    ...                                                ...   \n23417         479    7.3  ['维罗妮卡·莱克', '罗伯特·普雷斯顿', '拉尔德·克雷加', '艾伦·拉德', '塔...   \n23418         458    7.3  ['路易斯·海沃德', '李·鲍曼', '简·维亚特', '多萝西·帕特里克', '安·休梅...   \n23419         367    7.3                                                 []   \n23420         607    7.2                               ['亨弗莱·鲍嘉', '劳伦·白考尔']   \n23421         455    7.2  ['吉恩·蒂尔尼', '柯纳·王尔德', '珍妮·克雷恩', '玛丽·菲利普斯', '雷·柯...   \n\n                                               cover_url  is_watched  \n0      https://img2.doubanio.com/view/photo/s_ratio_p...       False  \n1      https://img3.doubanio.com/view/photo/s_ratio_p...       False  \n2      https://img2.doubanio.com/view/photo/s_ratio_p...       False  \n3      https://img2.doubanio.com/view/photo/s_ratio_p...       False  \n4      https://img1.doubanio.com/view/photo/s_ratio_p...       False  \n...                                                  ...         ...  \n23417  https://img9.doubanio.com/view/photo/s_ratio_p...       False  \n23418  https://img1.doubanio.com/view/photo/s_ratio_p...       False  \n23419  https://img2.doubanio.com/view/photo/s_ratio_p...       False  \n23420  https://img9.doubanio.com/view/photo/s_ratio_p...       False  \n23421  https://img2.doubanio.com/view/photo/s_ratio_p...       False  \n\n[23422 rows x 14 columns]",
      "text/html": "<div>\n<style scoped>\n    .dataframe tbody tr th:only-of-type {\n        vertical-align: middle;\n    }\n\n    .dataframe tbody tr th {\n        vertical-align: top;\n    }\n\n    .dataframe thead th {\n        text-align: right;\n    }\n</style>\n<table border=\"1\" class=\"dataframe\">\n  <thead>\n    <tr style=\"text-align: right;\">\n      <th></th>\n      <th>types</th>\n      <th>rating</th>\n      <th>rank</th>\n      <th>id</th>\n      <th>regions</th>\n      <th>title</th>\n      <th>url</th>\n      <th>release_date</th>\n      <th>actor_count</th>\n      <th>vote_count</th>\n      <th>score</th>\n      <th>actors</th>\n      <th>cover_url</th>\n      <th>is_watched</th>\n    </tr>\n  </thead>\n  <tbody>\n    <tr>\n      <th>0</th>\n      <td>['犯罪', '剧情']</td>\n      <td>['9.7', '50']</td>\n      <td>1</td>\n      <td>1292052</td>\n      <td>['美国']</td>\n      <td>肖申克的救赎</td>\n      <td>https://movie.douban.com/subject/1292052/</td>\n      <td>1994-09-10</td>\n      <td>25</td>\n      <td>2604521</td>\n      <td>9.7</td>\n      <td>['蒂姆·罗宾斯', '摩根·弗里曼', '鲍勃·冈顿', '威廉姆·赛德勒', '克兰西·...</td>\n      <td>https://img2.doubanio.com/view/photo/s_ratio_p...</td>\n      <td>False</td>\n    </tr>\n    <tr>\n      <th>1</th>\n      <td>['剧情', '爱情', '同性']</td>\n      <td>['9.6', '50']</td>\n      <td>2</td>\n      <td>1291546</td>\n      <td>['中国大陆', '中国香港']</td>\n      <td>霸王别姬</td>\n      <td>https://movie.douban.com/subject/1291546/</td>\n      <td>1993-07-26</td>\n      <td>26</td>\n      <td>1934038</td>\n      <td>9.6</td>\n      <td>['张国荣', '张丰毅', '巩俐', '葛优', '英达', '蒋雯丽', '吴大维',...</td>\n      <td>https://img3.doubanio.com/view/photo/s_ratio_p...</td>\n      <td>False</td>\n    </tr>\n    <tr>\n      <th>2</th>\n      <td>['剧情', '喜剧', '爱情', '战争']</td>\n      <td>['9.6', '50']</td>\n      <td>3</td>\n      <td>1292063</td>\n      <td>['意大利']</td>\n      <td>美丽人生</td>\n      <td>https://movie.douban.com/subject/1292063/</td>\n      <td>2020-01-03</td>\n      <td>29</td>\n      <td>1202892</td>\n      <td>9.6</td>\n      <td>['罗伯托·贝尼尼', '尼可莱塔·布拉斯基', '乔治·坎塔里尼', '朱斯蒂诺·杜拉诺'...</td>\n      <td>https://img2.doubanio.com/view/photo/s_ratio_p...</td>\n      <td>False</td>\n    </tr>\n    <tr>\n      <th>3</th>\n      <td>['剧情', '历史', '战争']</td>\n      <td>['9.6', '50']</td>\n      <td>4</td>\n      <td>1295124</td>\n      <td>['美国']</td>\n      <td>辛德勒的名单</td>\n      <td>https://movie.douban.com/subject/1295124/</td>\n      <td>1993-11-30</td>\n      <td>47</td>\n      <td>1003257</td>\n      <td>9.6</td>\n      <td>['连姆·尼森', '本·金斯利', '拉尔夫·费因斯', '卡罗琳·古多尔', '乔纳森·...</td>\n      <td>https://img2.doubanio.com/view/photo/s_ratio_p...</td>\n      <td>False</td>\n    </tr>\n    <tr>\n      <th>4</th>\n      <td>['剧情', '犯罪', '悬疑']</td>\n      <td>['9.6', '50']</td>\n      <td>5</td>\n      <td>1296141</td>\n      <td>['美国']</td>\n      <td>控方证人</td>\n      <td>https://movie.douban.com/subject/1296141/</td>\n      <td>1957-12-17</td>\n      <td>51</td>\n      <td>453853</td>\n      <td>9.6</td>\n      <td>['泰隆·鲍华', '玛琳·黛德丽', '查尔斯·劳顿', '爱尔莎·兰切斯特', '约翰·...</td>\n      <td>https://img1.doubanio.com/view/photo/s_ratio_p...</td>\n      <td>False</td>\n    </tr>\n    <tr>\n      <th>...</th>\n      <td>...</td>\n      <td>...</td>\n      <td>...</td>\n      <td>...</td>\n      <td>...</td>\n      <td>...</td>\n      <td>...</td>\n      <td>...</td>\n      <td>...</td>\n      <td>...</td>\n      <td>...</td>\n      <td>...</td>\n      <td>...</td>\n      <td>...</td>\n    </tr>\n    <tr>\n      <th>23417</th>\n      <td>['黑色电影', '犯罪', '惊悚']</td>\n      <td>['7.3', '40']</td>\n      <td>79</td>\n      <td>1302943</td>\n      <td>['美国']</td>\n      <td>合约杀手</td>\n      <td>https://movie.douban.com/subject/1302943/</td>\n      <td>1942-05-13</td>\n      <td>5</td>\n      <td>479</td>\n      <td>7.3</td>\n      <td>['维罗妮卡·莱克', '罗伯特·普雷斯顿', '拉尔德·克雷加', '艾伦·拉德', '塔...</td>\n      <td>https://img9.doubanio.com/view/photo/s_ratio_p...</td>\n      <td>False</td>\n    </tr>\n    <tr>\n      <th>23418</th>\n      <td>['犯罪', '剧情', '黑色电影', '恐怖']</td>\n      <td>['7.3', '40']</td>\n      <td>80</td>\n      <td>2033530</td>\n      <td>['美国']</td>\n      <td>涨潮小屋</td>\n      <td>https://movie.douban.com/subject/2033530/</td>\n      <td>1950-03-25</td>\n      <td>24</td>\n      <td>458</td>\n      <td>7.3</td>\n      <td>['路易斯·海沃德', '李·鲍曼', '简·维亚特', '多萝西·帕特里克', '安·休梅...</td>\n      <td>https://img1.doubanio.com/view/photo/s_ratio_p...</td>\n      <td>False</td>\n    </tr>\n    <tr>\n      <th>23419</th>\n      <td>['动画', '恐怖', '黑色电影']</td>\n      <td>['7.3', '40']</td>\n      <td>81</td>\n      <td>26877383</td>\n      <td>['日本']</td>\n      <td>成人童话系列1 令人恐怖的格林童话</td>\n      <td>https://movie.douban.com/subject/26877383/</td>\n      <td>2000-06-21</td>\n      <td>0</td>\n      <td>367</td>\n      <td>7.3</td>\n      <td>[]</td>\n      <td>https://img2.doubanio.com/view/photo/s_ratio_p...</td>\n      <td>False</td>\n    </tr>\n    <tr>\n      <th>23420</th>\n      <td>['黑色电影', '惊悚']</td>\n      <td>['7.2', '40']</td>\n      <td>82</td>\n      <td>1293416</td>\n      <td>['美国']</td>\n      <td>逃狱雪冤</td>\n      <td>https://movie.douban.com/subject/1293416/</td>\n      <td>1947-09-27</td>\n      <td>2</td>\n      <td>607</td>\n      <td>7.2</td>\n      <td>['亨弗莱·鲍嘉', '劳伦·白考尔']</td>\n      <td>https://img9.doubanio.com/view/photo/s_ratio_p...</td>\n      <td>False</td>\n    </tr>\n    <tr>\n      <th>23421</th>\n      <td>['剧情', '黑色电影', '惊悚']</td>\n      <td>['7.2', '35']</td>\n      <td>83</td>\n      <td>1292892</td>\n      <td>['美国']</td>\n      <td>爱到天堂</td>\n      <td>https://movie.douban.com/subject/1292892/</td>\n      <td>1945-12-20</td>\n      <td>7</td>\n      <td>455</td>\n      <td>7.2</td>\n      <td>['吉恩·蒂尔尼', '柯纳·王尔德', '珍妮·克雷恩', '玛丽·菲利普斯', '雷·柯...</td>\n      <td>https://img2.doubanio.com/view/photo/s_ratio_p...</td>\n      <td>False</td>\n    </tr>\n  </tbody>\n</table>\n<p>23422 rows × 14 columns</p>\n</div>"
     },
     "execution_count": 3,
     "metadata": {},
     "output_type": "execute_result"
    }
   ],
   "source": [
    "data_csv = pd.read_csv(\"./data_movies.csv\")\n",
    "data_csv = data_csv.loc[data_csv['id'].astype(str).drop_duplicates().index]\n",
    "print(len(data_csv.url.unique()))\n",
    "print(len(data_csv.title.unique()))\n",
    "print(len(data_csv.id.unique()))\n",
    "print(len(data_csv))\n",
    "data_csv.index = range(len(data_csv))\n",
    "data_csv.to_csv(\"./data_movies_noRepeat.csv\", index=False)\n",
    "data_csv"
   ],
   "metadata": {
    "collapsed": false,
    "pycharm": {
     "name": "#%%\n"
    }
   }
  },
  {
   "cell_type": "markdown",
   "source": [
    "#### 爬取详情页面（失败）"
   ],
   "metadata": {
    "collapsed": false
   }
  },
  {
   "cell_type": "code",
   "execution_count": 5,
   "outputs": [
    {
     "data": {
      "text/plain": "                            types         rating  rank        id  \\\n0                    ['犯罪', '剧情']  ['9.7', '50']     1   1292052   \n1              ['剧情', '爱情', '同性']  ['9.6', '50']     2   1291546   \n2        ['剧情', '喜剧', '爱情', '战争']  ['9.6', '50']     3   1292063   \n3              ['剧情', '历史', '战争']  ['9.6', '50']     4   1295124   \n4              ['剧情', '犯罪', '悬疑']  ['9.6', '50']     5   1296141   \n...                           ...            ...   ...       ...   \n23417        ['黑色电影', '犯罪', '惊悚']  ['7.3', '40']    79   1302943   \n23418  ['犯罪', '剧情', '黑色电影', '恐怖']  ['7.3', '40']    80   2033530   \n23419        ['动画', '恐怖', '黑色电影']  ['7.3', '40']    81  26877383   \n23420              ['黑色电影', '惊悚']  ['7.2', '40']    82   1293416   \n23421        ['剧情', '黑色电影', '惊悚']  ['7.2', '35']    83   1292892   \n\n                regions              title  \\\n0                ['美国']             肖申克的救赎   \n1      ['中国大陆', '中国香港']               霸王别姬   \n2               ['意大利']               美丽人生   \n3                ['美国']             辛德勒的名单   \n4                ['美国']               控方证人   \n...                 ...                ...   \n23417            ['美国']               合约杀手   \n23418            ['美国']               涨潮小屋   \n23419            ['日本']  成人童话系列1 令人恐怖的格林童话   \n23420            ['美国']               逃狱雪冤   \n23421            ['美国']               爱到天堂   \n\n                                              url release_date  actor_count  \\\n0       https://movie.douban.com/subject/1292052/   1994-09-10           25   \n1       https://movie.douban.com/subject/1291546/   1993-07-26           26   \n2       https://movie.douban.com/subject/1292063/   2020-01-03           29   \n3       https://movie.douban.com/subject/1295124/   1993-11-30           47   \n4       https://movie.douban.com/subject/1296141/   1957-12-17           51   \n...                                           ...          ...          ...   \n23417   https://movie.douban.com/subject/1302943/   1942-05-13            5   \n23418   https://movie.douban.com/subject/2033530/   1950-03-25           24   \n23419  https://movie.douban.com/subject/26877383/   2000-06-21            0   \n23420   https://movie.douban.com/subject/1293416/   1947-09-27            2   \n23421   https://movie.douban.com/subject/1292892/   1945-12-20            7   \n\n       vote_count  score                                             actors  \\\n0         2604521    9.7  ['蒂姆·罗宾斯', '摩根·弗里曼', '鲍勃·冈顿', '威廉姆·赛德勒', '克兰西·...   \n1         1934038    9.6  ['张国荣', '张丰毅', '巩俐', '葛优', '英达', '蒋雯丽', '吴大维',...   \n2         1202892    9.6  ['罗伯托·贝尼尼', '尼可莱塔·布拉斯基', '乔治·坎塔里尼', '朱斯蒂诺·杜拉诺'...   \n3         1003257    9.6  ['连姆·尼森', '本·金斯利', '拉尔夫·费因斯', '卡罗琳·古多尔', '乔纳森·...   \n4          453853    9.6  ['泰隆·鲍华', '玛琳·黛德丽', '查尔斯·劳顿', '爱尔莎·兰切斯特', '约翰·...   \n...           ...    ...                                                ...   \n23417         479    7.3  ['维罗妮卡·莱克', '罗伯特·普雷斯顿', '拉尔德·克雷加', '艾伦·拉德', '塔...   \n23418         458    7.3  ['路易斯·海沃德', '李·鲍曼', '简·维亚特', '多萝西·帕特里克', '安·休梅...   \n23419         367    7.3                                                 []   \n23420         607    7.2                               ['亨弗莱·鲍嘉', '劳伦·白考尔']   \n23421         455    7.2  ['吉恩·蒂尔尼', '柯纳·王尔德', '珍妮·克雷恩', '玛丽·菲利普斯', '雷·柯...   \n\n                                               cover_url  is_watched  \\\n0      https://img2.doubanio.com/view/photo/s_ratio_p...       False   \n1      https://img3.doubanio.com/view/photo/s_ratio_p...       False   \n2      https://img2.doubanio.com/view/photo/s_ratio_p...       False   \n3      https://img2.doubanio.com/view/photo/s_ratio_p...       False   \n4      https://img1.doubanio.com/view/photo/s_ratio_p...       False   \n...                                                  ...         ...   \n23417  https://img9.doubanio.com/view/photo/s_ratio_p...       False   \n23418  https://img1.doubanio.com/view/photo/s_ratio_p...       False   \n23419  https://img2.doubanio.com/view/photo/s_ratio_p...       False   \n23420  https://img9.doubanio.com/view/photo/s_ratio_p...       False   \n23421  https://img2.doubanio.com/view/photo/s_ratio_p...       False   \n\n                                                  author  \\\n0             弗兰克·德拉邦特 Frank Darabont/斯蒂芬·金 Stephen King   \n1                       芦苇 Wei Lu/李碧华 Lilian Lee Pik-Wah   \n2                                                    NaN   \n3        托马斯·肯尼利 Thomas Keneally/斯蒂文·泽里安 Steven Zaillian   \n4      阿加莎·克里斯蒂 Agatha Christie/比利·怀尔德 Billy Wilder/哈...   \n...                                                  ...   \n23417                                                NaN   \n23418                                                NaN   \n23419                                                NaN   \n23420                                                NaN   \n23421                                                NaN   \n\n                         director  \n0         弗兰克·德拉邦特 Frank Darabont  \n1                  陈凯歌 Kaige Chen  \n2                             NaN  \n3      史蒂文·斯皮尔伯格 Steven Spielberg  \n4             比利·怀尔德 Billy Wilder  \n...                           ...  \n23417                         NaN  \n23418                         NaN  \n23419                         NaN  \n23420                         NaN  \n23421                         NaN  \n\n[23422 rows x 16 columns]",
      "text/html": "<div>\n<style scoped>\n    .dataframe tbody tr th:only-of-type {\n        vertical-align: middle;\n    }\n\n    .dataframe tbody tr th {\n        vertical-align: top;\n    }\n\n    .dataframe thead th {\n        text-align: right;\n    }\n</style>\n<table border=\"1\" class=\"dataframe\">\n  <thead>\n    <tr style=\"text-align: right;\">\n      <th></th>\n      <th>types</th>\n      <th>rating</th>\n      <th>rank</th>\n      <th>id</th>\n      <th>regions</th>\n      <th>title</th>\n      <th>url</th>\n      <th>release_date</th>\n      <th>actor_count</th>\n      <th>vote_count</th>\n      <th>score</th>\n      <th>actors</th>\n      <th>cover_url</th>\n      <th>is_watched</th>\n      <th>author</th>\n      <th>director</th>\n    </tr>\n  </thead>\n  <tbody>\n    <tr>\n      <th>0</th>\n      <td>['犯罪', '剧情']</td>\n      <td>['9.7', '50']</td>\n      <td>1</td>\n      <td>1292052</td>\n      <td>['美国']</td>\n      <td>肖申克的救赎</td>\n      <td>https://movie.douban.com/subject/1292052/</td>\n      <td>1994-09-10</td>\n      <td>25</td>\n      <td>2604521</td>\n      <td>9.7</td>\n      <td>['蒂姆·罗宾斯', '摩根·弗里曼', '鲍勃·冈顿', '威廉姆·赛德勒', '克兰西·...</td>\n      <td>https://img2.doubanio.com/view/photo/s_ratio_p...</td>\n      <td>False</td>\n      <td>弗兰克·德拉邦特 Frank Darabont/斯蒂芬·金 Stephen King</td>\n      <td>弗兰克·德拉邦特 Frank Darabont</td>\n    </tr>\n    <tr>\n      <th>1</th>\n      <td>['剧情', '爱情', '同性']</td>\n      <td>['9.6', '50']</td>\n      <td>2</td>\n      <td>1291546</td>\n      <td>['中国大陆', '中国香港']</td>\n      <td>霸王别姬</td>\n      <td>https://movie.douban.com/subject/1291546/</td>\n      <td>1993-07-26</td>\n      <td>26</td>\n      <td>1934038</td>\n      <td>9.6</td>\n      <td>['张国荣', '张丰毅', '巩俐', '葛优', '英达', '蒋雯丽', '吴大维',...</td>\n      <td>https://img3.doubanio.com/view/photo/s_ratio_p...</td>\n      <td>False</td>\n      <td>芦苇 Wei Lu/李碧华 Lilian Lee Pik-Wah</td>\n      <td>陈凯歌 Kaige Chen</td>\n    </tr>\n    <tr>\n      <th>2</th>\n      <td>['剧情', '喜剧', '爱情', '战争']</td>\n      <td>['9.6', '50']</td>\n      <td>3</td>\n      <td>1292063</td>\n      <td>['意大利']</td>\n      <td>美丽人生</td>\n      <td>https://movie.douban.com/subject/1292063/</td>\n      <td>2020-01-03</td>\n      <td>29</td>\n      <td>1202892</td>\n      <td>9.6</td>\n      <td>['罗伯托·贝尼尼', '尼可莱塔·布拉斯基', '乔治·坎塔里尼', '朱斯蒂诺·杜拉诺'...</td>\n      <td>https://img2.doubanio.com/view/photo/s_ratio_p...</td>\n      <td>False</td>\n      <td>NaN</td>\n      <td>NaN</td>\n    </tr>\n    <tr>\n      <th>3</th>\n      <td>['剧情', '历史', '战争']</td>\n      <td>['9.6', '50']</td>\n      <td>4</td>\n      <td>1295124</td>\n      <td>['美国']</td>\n      <td>辛德勒的名单</td>\n      <td>https://movie.douban.com/subject/1295124/</td>\n      <td>1993-11-30</td>\n      <td>47</td>\n      <td>1003257</td>\n      <td>9.6</td>\n      <td>['连姆·尼森', '本·金斯利', '拉尔夫·费因斯', '卡罗琳·古多尔', '乔纳森·...</td>\n      <td>https://img2.doubanio.com/view/photo/s_ratio_p...</td>\n      <td>False</td>\n      <td>托马斯·肯尼利 Thomas Keneally/斯蒂文·泽里安 Steven Zaillian</td>\n      <td>史蒂文·斯皮尔伯格 Steven Spielberg</td>\n    </tr>\n    <tr>\n      <th>4</th>\n      <td>['剧情', '犯罪', '悬疑']</td>\n      <td>['9.6', '50']</td>\n      <td>5</td>\n      <td>1296141</td>\n      <td>['美国']</td>\n      <td>控方证人</td>\n      <td>https://movie.douban.com/subject/1296141/</td>\n      <td>1957-12-17</td>\n      <td>51</td>\n      <td>453853</td>\n      <td>9.6</td>\n      <td>['泰隆·鲍华', '玛琳·黛德丽', '查尔斯·劳顿', '爱尔莎·兰切斯特', '约翰·...</td>\n      <td>https://img1.doubanio.com/view/photo/s_ratio_p...</td>\n      <td>False</td>\n      <td>阿加莎·克里斯蒂 Agatha Christie/比利·怀尔德 Billy Wilder/哈...</td>\n      <td>比利·怀尔德 Billy Wilder</td>\n    </tr>\n    <tr>\n      <th>...</th>\n      <td>...</td>\n      <td>...</td>\n      <td>...</td>\n      <td>...</td>\n      <td>...</td>\n      <td>...</td>\n      <td>...</td>\n      <td>...</td>\n      <td>...</td>\n      <td>...</td>\n      <td>...</td>\n      <td>...</td>\n      <td>...</td>\n      <td>...</td>\n      <td>...</td>\n      <td>...</td>\n    </tr>\n    <tr>\n      <th>23417</th>\n      <td>['黑色电影', '犯罪', '惊悚']</td>\n      <td>['7.3', '40']</td>\n      <td>79</td>\n      <td>1302943</td>\n      <td>['美国']</td>\n      <td>合约杀手</td>\n      <td>https://movie.douban.com/subject/1302943/</td>\n      <td>1942-05-13</td>\n      <td>5</td>\n      <td>479</td>\n      <td>7.3</td>\n      <td>['维罗妮卡·莱克', '罗伯特·普雷斯顿', '拉尔德·克雷加', '艾伦·拉德', '塔...</td>\n      <td>https://img9.doubanio.com/view/photo/s_ratio_p...</td>\n      <td>False</td>\n      <td>NaN</td>\n      <td>NaN</td>\n    </tr>\n    <tr>\n      <th>23418</th>\n      <td>['犯罪', '剧情', '黑色电影', '恐怖']</td>\n      <td>['7.3', '40']</td>\n      <td>80</td>\n      <td>2033530</td>\n      <td>['美国']</td>\n      <td>涨潮小屋</td>\n      <td>https://movie.douban.com/subject/2033530/</td>\n      <td>1950-03-25</td>\n      <td>24</td>\n      <td>458</td>\n      <td>7.3</td>\n      <td>['路易斯·海沃德', '李·鲍曼', '简·维亚特', '多萝西·帕特里克', '安·休梅...</td>\n      <td>https://img1.doubanio.com/view/photo/s_ratio_p...</td>\n      <td>False</td>\n      <td>NaN</td>\n      <td>NaN</td>\n    </tr>\n    <tr>\n      <th>23419</th>\n      <td>['动画', '恐怖', '黑色电影']</td>\n      <td>['7.3', '40']</td>\n      <td>81</td>\n      <td>26877383</td>\n      <td>['日本']</td>\n      <td>成人童话系列1 令人恐怖的格林童话</td>\n      <td>https://movie.douban.com/subject/26877383/</td>\n      <td>2000-06-21</td>\n      <td>0</td>\n      <td>367</td>\n      <td>7.3</td>\n      <td>[]</td>\n      <td>https://img2.doubanio.com/view/photo/s_ratio_p...</td>\n      <td>False</td>\n      <td>NaN</td>\n      <td>NaN</td>\n    </tr>\n    <tr>\n      <th>23420</th>\n      <td>['黑色电影', '惊悚']</td>\n      <td>['7.2', '40']</td>\n      <td>82</td>\n      <td>1293416</td>\n      <td>['美国']</td>\n      <td>逃狱雪冤</td>\n      <td>https://movie.douban.com/subject/1293416/</td>\n      <td>1947-09-27</td>\n      <td>2</td>\n      <td>607</td>\n      <td>7.2</td>\n      <td>['亨弗莱·鲍嘉', '劳伦·白考尔']</td>\n      <td>https://img9.doubanio.com/view/photo/s_ratio_p...</td>\n      <td>False</td>\n      <td>NaN</td>\n      <td>NaN</td>\n    </tr>\n    <tr>\n      <th>23421</th>\n      <td>['剧情', '黑色电影', '惊悚']</td>\n      <td>['7.2', '35']</td>\n      <td>83</td>\n      <td>1292892</td>\n      <td>['美国']</td>\n      <td>爱到天堂</td>\n      <td>https://movie.douban.com/subject/1292892/</td>\n      <td>1945-12-20</td>\n      <td>7</td>\n      <td>455</td>\n      <td>7.2</td>\n      <td>['吉恩·蒂尔尼', '柯纳·王尔德', '珍妮·克雷恩', '玛丽·菲利普斯', '雷·柯...</td>\n      <td>https://img2.doubanio.com/view/photo/s_ratio_p...</td>\n      <td>False</td>\n      <td>NaN</td>\n      <td>NaN</td>\n    </tr>\n  </tbody>\n</table>\n<p>23422 rows × 16 columns</p>\n</div>"
     },
     "execution_count": 5,
     "metadata": {},
     "output_type": "execute_result"
    }
   ],
   "source": [
    "data_csv = pd.read_csv(\"D:\\edge\\data_movies.csv\")\n",
    "data_csv"
   ],
   "metadata": {
    "collapsed": false,
    "pycharm": {
     "name": "#%%\n"
    }
   }
  },
  {
   "cell_type": "code",
   "execution_count": null,
   "outputs": [],
   "source": [
    "us = [\"Mozilla/5.0 (Windows NT 10.0; Win64; x64) AppleWebKit/537.36 (KHTML, like Gecko) Chrome/100.0.4896.127 Safari/537.36 Edg/100.0.1185.50\",\n",
    "      'Mozilla/5.0 (Windows NT 10.0; Win64; x64) AppleWebKit/537.36 (KHTML, like Gecko) Chrome/100.0.4896.127 Safari/537.36',\n",
    "      'Mozilla/5.0 (Windows NT 10.0; Win64; x64) AppleWebKit/537.36 (KHTML, like Gecko) Chrome/100.0.4896.127 Safari/537.36',\n",
    "      'Mozilla/5.0 (Windows NT 10.0; Win64; x64) AppleWebKit/537.36 (KHTML, like Gecko) Chrome/100.0.4896.127 Safari/537.36 Edg/100.0.1185.50']\n",
    "\n",
    "proxy_list = [{\"https\": \"171.35.163.80:9999\"}, {'https': '182.34.36.242:9999'}, {\"https\": \"210.22.176.146:32153\"}, {\"https\": \"171.13.137.81:9999\"},\n",
    "              {\"https\": \"27.43.187.171:9999\"}, {\"https\": \"27.159.167.154:9999\"}, {\"https\": \"171.35.166.35:9999\"}, {\"https\": \"60.205.229.126:80\"},\n",
    "              {\"https\": \"27.204.87.254:9999\"}, {\"https\": \"218.91.94.202:9999\"}, {\"https\": \"110.86.137.213:9999\"}, {\"https\": \"218.91.94.130:9999\"}]\n",
    "headers = { \"User-Agent\":random.choice(us) }\n",
    "with tqdm(total=len(data_csv), postfix=dict) as pbar:\n",
    "    for item in range(len(data_csv)):\n",
    "        try:\n",
    "            soup_detail = bs4.BeautifulSoup(requests.get(data_csv.loc[item, 'url'],\n",
    "                                                         headers=headers, timeout=15,\n",
    "                                                         proxies=random.choice(proxy_list)).text.encode(\"utf-8\"),\n",
    "                                            \"html.parser\").find(name='script', attrs={'type':\"application/ld+json\"})\n",
    "            json_detail = json.loads(soup_detail.string)\n",
    "            author = ''\n",
    "            for item_author in json_detail['author']:\n",
    "                author = author + '/' + item_author['name']\n",
    "            data_csv.loc[item, 'author'] = copy.copy(author[1:])\n",
    "            director = ''\n",
    "            for item_director in json_detail['director']:\n",
    "                director = director + '/' + item_director['name']\n",
    "            data_csv.loc[item, 'director'] = copy.copy(director[1:])\n",
    "            pbar.set_postfix(**{'director: ': copy.copy(director[1:]), 'author': copy.copy(author[1:])})\n",
    "            pbar.update(1)\n",
    "        except Exception as e:\n",
    "            print(e.args)\n",
    "            pbar.update(1)\n",
    "        break"
   ],
   "metadata": {
    "collapsed": false,
    "pycharm": {
     "name": "#%%\n"
    }
   }
  },
  {
   "cell_type": "markdown",
   "source": [
    "#### 添加导演信息"
   ],
   "metadata": {
    "collapsed": false
   }
  },
  {
   "cell_type": "code",
   "execution_count": null,
   "outputs": [],
   "source": [
    "data_csv_noRepeat = pd.read_csv(\"./data_movies_noRepeat.csv\")\n",
    "us = [\"Mozilla/5.0 (Windows NT 10.0; Win64; x64) AppleWebKit/537.36 (KHTML, like Gecko) Chrome/100.0.4896.127 Safari/537.36 Edg/100.0.1185.50\",\n",
    "      'Mozilla/5.0 (Windows NT 10.0; Win64; x64) AppleWebKit/537.36 (KHTML, like Gecko) Chrome/100.0.4896.127 Safari/537.36',\n",
    "      'Mozilla/5.0 (Windows NT 10.0; Win64; x64) AppleWebKit/537.36 (KHTML, like Gecko) Chrome/100.0.4896.127 Safari/537.36',\n",
    "      'Mozilla/5.0 (Windows NT 10.0; Win64; x64) AppleWebKit/537.36 (KHTML, like Gecko) Chrome/100.0.4896.127 Safari/537.36 Edg/100.0.1185.50']\n",
    "type_list = ['%E5%89%A7%E6%83%85','%E5%96%9C%E5%89%A7','%E5%8A%A8%E4%BD%9C',\n",
    "              '%E7%88%B1%E6%83%85','%E7%A7%91%E5%B9%BB','%E5%8A%A8%E7%94%BB',\n",
    "              '%E6%82%AC%E7%96%91','%E6%83%8A%E6%82%9A','%E6%81%90%E6%80%96',\n",
    "              '%E7%8A%AF%E7%BD%AA','%E5%90%8C%E6%80%A7','%E9%9F%B3%E4%B9%90',\n",
    "              '%E6%AD%8C%E8%88%9E','%E4%BC%A0%E8%AE%B0','%E5%8E%86%E5%8F%B2',\n",
    "              '%E6%88%98%E4%BA%89','%E8%A5%BF%E9%83%A8','%E5%A5%87%E5%B9%BB',\n",
    "              '%E5%86%92%E9%99%A9','%E7%81%BE%E9%9A%BE','%E6%AD%A6%E4%BE%A0',\n",
    "              '%E6%83%85%E8%89%B2']\n",
    "proxy_list = [{'https': '10.3.4.9:49300'}, {'https': '10.3.4.9:63112'}]\n",
    "headers = { \"User-Agent\":random.choice(us)}\n",
    "movies = 0\n",
    "with tqdm(total=len(type_list) * 320 * 20, postfix=dict) as pbar:\n",
    "    for item_type in type_list:\n",
    "        for item_start in range(320):\n",
    "            try:\n",
    "                requests.adapters.DEFAULT_RETRIES = 5 # 增加重连次数\n",
    "                s = requests.session()\n",
    "                s.keep_alive = False # 关闭多余连接\n",
    "                url = 'https://movie.douban.com/j/new_search_subjects?sort=S&range=0,10&tags=%E7%94%B5%E5%BD%B1&start={}&genres={}'.format(item_start * 20, item_type)\n",
    "                req = json.loads(requests.get(url, headers=headers, timeout=50, proxies=random.choice(proxy_list)).text)\n",
    "                for req_item in req['data']:\n",
    "                    if len(data_csv_noRepeat.loc[data_csv_noRepeat['url'] == req_item['url']]) != 0:\n",
    "                        try:\n",
    "                            data_csv_noRepeat.loc[data_csv_noRepeat['url'] == req_item['url'], 'directors'] = str(req_item['directors'])\n",
    "                        except Exception as e:\n",
    "                            print(str(req_item['directors']))\n",
    "                            print(data_csv_noRepeat.loc[data_csv_noRepeat['url'] == req_item['url'], 'directors'])\n",
    "                        movies += 1\n",
    "                    pbar.update(1)\n",
    "                    pbar.set_postfix(**{'movies_num': movies})\n",
    "            except Exception as E:\n",
    "                print(req)"
   ],
   "metadata": {
    "collapsed": false,
    "pycharm": {
     "name": "#%%\n"
    }
   }
  },
  {
   "cell_type": "markdown",
   "source": [
    "#### 通过百度百科爬取更多信息"
   ],
   "metadata": {
    "collapsed": false
   }
  },
  {
   "cell_type": "code",
   "execution_count": 54,
   "outputs": [],
   "source": [
    "def no_sup(soup):\n",
    "    [s.extract() for s in soup.find_all(\"sup\")]\n",
    "    [s.extract() for s in soup.find_all(\"a\", {'class':'sup-anchor'})]\n",
    "    return soup"
   ],
   "metadata": {
    "collapsed": false,
    "pycharm": {
     "name": "#%%\n"
    }
   }
  },
  {
   "cell_type": "code",
   "execution_count": 89,
   "outputs": [],
   "source": [
    "def get_item(soup):\n",
    "    result = []\n",
    "    for item in soup:\n",
    "        if str(item.string).replace(\"\\n\", '') != '' and str(item.string).replace(\"\\n\", '') != '、' \\\n",
    "                and str(item.string).replace(\"\\n\", '') is not None:\n",
    "            result.append(str(item.string).replace(\"\\n\", '').replace('，', ''))\n",
    "            return result if len(result) > 1 else result[0]\n",
    "        else:\n",
    "            return None"
   ],
   "metadata": {
    "collapsed": false,
    "pycharm": {
     "name": "#%%\n"
    }
   }
  },
  {
   "cell_type": "code",
   "execution_count": 97,
   "outputs": [
    {
     "name": "stderr",
     "output_type": "stream",
     "text": [
      "  0%|          | 105/23422 [01:05<4:01:09,  1.61it/s, j=0, move_num=95]\n"
     ]
    },
    {
     "ename": "KeyboardInterrupt",
     "evalue": "",
     "output_type": "error",
     "traceback": [
      "\u001B[0;31m---------------------------------------------------------------------------\u001B[0m",
      "\u001B[0;31mKeyboardInterrupt\u001B[0m                         Traceback (most recent call last)",
      "Input \u001B[0;32mIn [97]\u001B[0m, in \u001B[0;36m<cell line: 9>\u001B[0;34m()\u001B[0m\n\u001B[1;32m     14\u001B[0m s\u001B[38;5;241m.\u001B[39mkeep_alive \u001B[38;5;241m=\u001B[39m \u001B[38;5;28;01mFalse\u001B[39;00m \u001B[38;5;66;03m# 关闭多余连接\u001B[39;00m\n\u001B[1;32m     15\u001B[0m url \u001B[38;5;241m=\u001B[39m \u001B[38;5;124m'\u001B[39m\u001B[38;5;124mhttps://baike.baidu.com/item/\u001B[39m\u001B[38;5;132;01m{}\u001B[39;00m\u001B[38;5;124m'\u001B[39m\u001B[38;5;241m.\u001B[39mformat(data_csv_noRepeat\u001B[38;5;241m.\u001B[39mloc[item, \u001B[38;5;124m'\u001B[39m\u001B[38;5;124mtitle\u001B[39m\u001B[38;5;124m'\u001B[39m])\n\u001B[0;32m---> 16\u001B[0m req \u001B[38;5;241m=\u001B[39m \u001B[43mrequests\u001B[49m\u001B[38;5;241;43m.\u001B[39;49m\u001B[43mget\u001B[49m\u001B[43m(\u001B[49m\u001B[43murl\u001B[49m\u001B[43m,\u001B[49m\u001B[43m \u001B[49m\u001B[43mheaders\u001B[49m\u001B[38;5;241;43m=\u001B[39;49m\u001B[43mheaders\u001B[49m\u001B[43m,\u001B[49m\u001B[43m \u001B[49m\u001B[43mtimeout\u001B[49m\u001B[38;5;241;43m=\u001B[39;49m\u001B[38;5;241;43m5\u001B[39;49m\u001B[43m)\u001B[49m\u001B[38;5;241m.\u001B[39mtext\n\u001B[1;32m     17\u001B[0m soup_detail \u001B[38;5;241m=\u001B[39m bs4\u001B[38;5;241m.\u001B[39mBeautifulSoup(req, \u001B[38;5;124m\"\u001B[39m\u001B[38;5;124mhtml.parser\u001B[39m\u001B[38;5;124m\"\u001B[39m)\u001B[38;5;241m.\u001B[39mfind_all(name\u001B[38;5;241m=\u001B[39m\u001B[38;5;124m'\u001B[39m\u001B[38;5;124mdiv\u001B[39m\u001B[38;5;124m'\u001B[39m,\n\u001B[1;32m     18\u001B[0m                                                              attrs\u001B[38;5;241m=\u001B[39m{\u001B[38;5;124m'\u001B[39m\u001B[38;5;124mclass\u001B[39m\u001B[38;5;124m'\u001B[39m:\u001B[38;5;124m'\u001B[39m\u001B[38;5;124mbasic-info J-basic-info \u001B[39m\u001B[38;5;124m'\u001B[39m\n\u001B[1;32m     19\u001B[0m                                                                             \u001B[38;5;124m'\u001B[39m\u001B[38;5;124mcmn-clearfix\u001B[39m\u001B[38;5;124m'\u001B[39m})[\u001B[38;5;241m0\u001B[39m]\n\u001B[1;32m     20\u001B[0m soup_detail_name \u001B[38;5;241m=\u001B[39m soup_detail\u001B[38;5;241m.\u001B[39mfind_all(name\u001B[38;5;241m=\u001B[39m\u001B[38;5;124m'\u001B[39m\u001B[38;5;124mdt\u001B[39m\u001B[38;5;124m'\u001B[39m, attrs\u001B[38;5;241m=\u001B[39m{\u001B[38;5;124m'\u001B[39m\u001B[38;5;124mclass\u001B[39m\u001B[38;5;124m'\u001B[39m:\u001B[38;5;124m'\u001B[39m\u001B[38;5;124mbasicInfo-item name\u001B[39m\u001B[38;5;124m'\u001B[39m})\n",
      "File \u001B[0;32m~/opt/anaconda3/lib/python3.9/site-packages/requests/api.py:75\u001B[0m, in \u001B[0;36mget\u001B[0;34m(url, params, **kwargs)\u001B[0m\n\u001B[1;32m     64\u001B[0m \u001B[38;5;28;01mdef\u001B[39;00m \u001B[38;5;21mget\u001B[39m(url, params\u001B[38;5;241m=\u001B[39m\u001B[38;5;28;01mNone\u001B[39;00m, \u001B[38;5;241m*\u001B[39m\u001B[38;5;241m*\u001B[39mkwargs):\n\u001B[1;32m     65\u001B[0m     \u001B[38;5;124mr\u001B[39m\u001B[38;5;124;03m\"\"\"Sends a GET request.\u001B[39;00m\n\u001B[1;32m     66\u001B[0m \n\u001B[1;32m     67\u001B[0m \u001B[38;5;124;03m    :param url: URL for the new :class:`Request` object.\u001B[39;00m\n\u001B[0;32m   (...)\u001B[0m\n\u001B[1;32m     72\u001B[0m \u001B[38;5;124;03m    :rtype: requests.Response\u001B[39;00m\n\u001B[1;32m     73\u001B[0m \u001B[38;5;124;03m    \"\"\"\u001B[39;00m\n\u001B[0;32m---> 75\u001B[0m     \u001B[38;5;28;01mreturn\u001B[39;00m \u001B[43mrequest\u001B[49m\u001B[43m(\u001B[49m\u001B[38;5;124;43m'\u001B[39;49m\u001B[38;5;124;43mget\u001B[39;49m\u001B[38;5;124;43m'\u001B[39;49m\u001B[43m,\u001B[49m\u001B[43m \u001B[49m\u001B[43murl\u001B[49m\u001B[43m,\u001B[49m\u001B[43m \u001B[49m\u001B[43mparams\u001B[49m\u001B[38;5;241;43m=\u001B[39;49m\u001B[43mparams\u001B[49m\u001B[43m,\u001B[49m\u001B[43m \u001B[49m\u001B[38;5;241;43m*\u001B[39;49m\u001B[38;5;241;43m*\u001B[39;49m\u001B[43mkwargs\u001B[49m\u001B[43m)\u001B[49m\n",
      "File \u001B[0;32m~/opt/anaconda3/lib/python3.9/site-packages/requests/api.py:61\u001B[0m, in \u001B[0;36mrequest\u001B[0;34m(method, url, **kwargs)\u001B[0m\n\u001B[1;32m     57\u001B[0m \u001B[38;5;66;03m# By using the 'with' statement we are sure the session is closed, thus we\u001B[39;00m\n\u001B[1;32m     58\u001B[0m \u001B[38;5;66;03m# avoid leaving sockets open which can trigger a ResourceWarning in some\u001B[39;00m\n\u001B[1;32m     59\u001B[0m \u001B[38;5;66;03m# cases, and look like a memory leak in others.\u001B[39;00m\n\u001B[1;32m     60\u001B[0m \u001B[38;5;28;01mwith\u001B[39;00m sessions\u001B[38;5;241m.\u001B[39mSession() \u001B[38;5;28;01mas\u001B[39;00m session:\n\u001B[0;32m---> 61\u001B[0m     \u001B[38;5;28;01mreturn\u001B[39;00m \u001B[43msession\u001B[49m\u001B[38;5;241;43m.\u001B[39;49m\u001B[43mrequest\u001B[49m\u001B[43m(\u001B[49m\u001B[43mmethod\u001B[49m\u001B[38;5;241;43m=\u001B[39;49m\u001B[43mmethod\u001B[49m\u001B[43m,\u001B[49m\u001B[43m \u001B[49m\u001B[43murl\u001B[49m\u001B[38;5;241;43m=\u001B[39;49m\u001B[43murl\u001B[49m\u001B[43m,\u001B[49m\u001B[43m \u001B[49m\u001B[38;5;241;43m*\u001B[39;49m\u001B[38;5;241;43m*\u001B[39;49m\u001B[43mkwargs\u001B[49m\u001B[43m)\u001B[49m\n",
      "File \u001B[0;32m~/opt/anaconda3/lib/python3.9/site-packages/requests/sessions.py:529\u001B[0m, in \u001B[0;36mSession.request\u001B[0;34m(self, method, url, params, data, headers, cookies, files, auth, timeout, allow_redirects, proxies, hooks, stream, verify, cert, json)\u001B[0m\n\u001B[1;32m    524\u001B[0m send_kwargs \u001B[38;5;241m=\u001B[39m {\n\u001B[1;32m    525\u001B[0m     \u001B[38;5;124m'\u001B[39m\u001B[38;5;124mtimeout\u001B[39m\u001B[38;5;124m'\u001B[39m: timeout,\n\u001B[1;32m    526\u001B[0m     \u001B[38;5;124m'\u001B[39m\u001B[38;5;124mallow_redirects\u001B[39m\u001B[38;5;124m'\u001B[39m: allow_redirects,\n\u001B[1;32m    527\u001B[0m }\n\u001B[1;32m    528\u001B[0m send_kwargs\u001B[38;5;241m.\u001B[39mupdate(settings)\n\u001B[0;32m--> 529\u001B[0m resp \u001B[38;5;241m=\u001B[39m \u001B[38;5;28;43mself\u001B[39;49m\u001B[38;5;241;43m.\u001B[39;49m\u001B[43msend\u001B[49m\u001B[43m(\u001B[49m\u001B[43mprep\u001B[49m\u001B[43m,\u001B[49m\u001B[43m \u001B[49m\u001B[38;5;241;43m*\u001B[39;49m\u001B[38;5;241;43m*\u001B[39;49m\u001B[43msend_kwargs\u001B[49m\u001B[43m)\u001B[49m\n\u001B[1;32m    531\u001B[0m \u001B[38;5;28;01mreturn\u001B[39;00m resp\n",
      "File \u001B[0;32m~/opt/anaconda3/lib/python3.9/site-packages/requests/sessions.py:667\u001B[0m, in \u001B[0;36mSession.send\u001B[0;34m(self, request, **kwargs)\u001B[0m\n\u001B[1;32m    664\u001B[0m \u001B[38;5;28;01mif\u001B[39;00m allow_redirects:\n\u001B[1;32m    665\u001B[0m     \u001B[38;5;66;03m# Redirect resolving generator.\u001B[39;00m\n\u001B[1;32m    666\u001B[0m     gen \u001B[38;5;241m=\u001B[39m \u001B[38;5;28mself\u001B[39m\u001B[38;5;241m.\u001B[39mresolve_redirects(r, request, \u001B[38;5;241m*\u001B[39m\u001B[38;5;241m*\u001B[39mkwargs)\n\u001B[0;32m--> 667\u001B[0m     history \u001B[38;5;241m=\u001B[39m [resp \u001B[38;5;28;01mfor\u001B[39;00m resp \u001B[38;5;129;01min\u001B[39;00m gen]\n\u001B[1;32m    668\u001B[0m \u001B[38;5;28;01melse\u001B[39;00m:\n\u001B[1;32m    669\u001B[0m     history \u001B[38;5;241m=\u001B[39m []\n",
      "File \u001B[0;32m~/opt/anaconda3/lib/python3.9/site-packages/requests/sessions.py:667\u001B[0m, in \u001B[0;36m<listcomp>\u001B[0;34m(.0)\u001B[0m\n\u001B[1;32m    664\u001B[0m \u001B[38;5;28;01mif\u001B[39;00m allow_redirects:\n\u001B[1;32m    665\u001B[0m     \u001B[38;5;66;03m# Redirect resolving generator.\u001B[39;00m\n\u001B[1;32m    666\u001B[0m     gen \u001B[38;5;241m=\u001B[39m \u001B[38;5;28mself\u001B[39m\u001B[38;5;241m.\u001B[39mresolve_redirects(r, request, \u001B[38;5;241m*\u001B[39m\u001B[38;5;241m*\u001B[39mkwargs)\n\u001B[0;32m--> 667\u001B[0m     history \u001B[38;5;241m=\u001B[39m [resp \u001B[38;5;28;01mfor\u001B[39;00m resp \u001B[38;5;129;01min\u001B[39;00m gen]\n\u001B[1;32m    668\u001B[0m \u001B[38;5;28;01melse\u001B[39;00m:\n\u001B[1;32m    669\u001B[0m     history \u001B[38;5;241m=\u001B[39m []\n",
      "File \u001B[0;32m~/opt/anaconda3/lib/python3.9/site-packages/requests/sessions.py:237\u001B[0m, in \u001B[0;36mSessionRedirectMixin.resolve_redirects\u001B[0;34m(self, resp, req, stream, timeout, verify, cert, proxies, yield_requests, **adapter_kwargs)\u001B[0m\n\u001B[1;32m    234\u001B[0m     \u001B[38;5;28;01myield\u001B[39;00m req\n\u001B[1;32m    235\u001B[0m \u001B[38;5;28;01melse\u001B[39;00m:\n\u001B[0;32m--> 237\u001B[0m     resp \u001B[38;5;241m=\u001B[39m \u001B[38;5;28;43mself\u001B[39;49m\u001B[38;5;241;43m.\u001B[39;49m\u001B[43msend\u001B[49m\u001B[43m(\u001B[49m\n\u001B[1;32m    238\u001B[0m \u001B[43m        \u001B[49m\u001B[43mreq\u001B[49m\u001B[43m,\u001B[49m\n\u001B[1;32m    239\u001B[0m \u001B[43m        \u001B[49m\u001B[43mstream\u001B[49m\u001B[38;5;241;43m=\u001B[39;49m\u001B[43mstream\u001B[49m\u001B[43m,\u001B[49m\n\u001B[1;32m    240\u001B[0m \u001B[43m        \u001B[49m\u001B[43mtimeout\u001B[49m\u001B[38;5;241;43m=\u001B[39;49m\u001B[43mtimeout\u001B[49m\u001B[43m,\u001B[49m\n\u001B[1;32m    241\u001B[0m \u001B[43m        \u001B[49m\u001B[43mverify\u001B[49m\u001B[38;5;241;43m=\u001B[39;49m\u001B[43mverify\u001B[49m\u001B[43m,\u001B[49m\n\u001B[1;32m    242\u001B[0m \u001B[43m        \u001B[49m\u001B[43mcert\u001B[49m\u001B[38;5;241;43m=\u001B[39;49m\u001B[43mcert\u001B[49m\u001B[43m,\u001B[49m\n\u001B[1;32m    243\u001B[0m \u001B[43m        \u001B[49m\u001B[43mproxies\u001B[49m\u001B[38;5;241;43m=\u001B[39;49m\u001B[43mproxies\u001B[49m\u001B[43m,\u001B[49m\n\u001B[1;32m    244\u001B[0m \u001B[43m        \u001B[49m\u001B[43mallow_redirects\u001B[49m\u001B[38;5;241;43m=\u001B[39;49m\u001B[38;5;28;43;01mFalse\u001B[39;49;00m\u001B[43m,\u001B[49m\n\u001B[1;32m    245\u001B[0m \u001B[43m        \u001B[49m\u001B[38;5;241;43m*\u001B[39;49m\u001B[38;5;241;43m*\u001B[39;49m\u001B[43madapter_kwargs\u001B[49m\n\u001B[1;32m    246\u001B[0m \u001B[43m    \u001B[49m\u001B[43m)\u001B[49m\n\u001B[1;32m    248\u001B[0m     extract_cookies_to_jar(\u001B[38;5;28mself\u001B[39m\u001B[38;5;241m.\u001B[39mcookies, prepared_request, resp\u001B[38;5;241m.\u001B[39mraw)\n\u001B[1;32m    250\u001B[0m     \u001B[38;5;66;03m# extract redirect url, if any, for the next loop\u001B[39;00m\n",
      "File \u001B[0;32m~/opt/anaconda3/lib/python3.9/site-packages/requests/sessions.py:687\u001B[0m, in \u001B[0;36mSession.send\u001B[0;34m(self, request, **kwargs)\u001B[0m\n\u001B[1;32m    684\u001B[0m         \u001B[38;5;28;01mpass\u001B[39;00m\n\u001B[1;32m    686\u001B[0m \u001B[38;5;28;01mif\u001B[39;00m \u001B[38;5;129;01mnot\u001B[39;00m stream:\n\u001B[0;32m--> 687\u001B[0m     \u001B[43mr\u001B[49m\u001B[38;5;241;43m.\u001B[39;49m\u001B[43mcontent\u001B[49m\n\u001B[1;32m    689\u001B[0m \u001B[38;5;28;01mreturn\u001B[39;00m r\n",
      "File \u001B[0;32m~/opt/anaconda3/lib/python3.9/site-packages/requests/models.py:838\u001B[0m, in \u001B[0;36mResponse.content\u001B[0;34m(self)\u001B[0m\n\u001B[1;32m    836\u001B[0m         \u001B[38;5;28mself\u001B[39m\u001B[38;5;241m.\u001B[39m_content \u001B[38;5;241m=\u001B[39m \u001B[38;5;28;01mNone\u001B[39;00m\n\u001B[1;32m    837\u001B[0m     \u001B[38;5;28;01melse\u001B[39;00m:\n\u001B[0;32m--> 838\u001B[0m         \u001B[38;5;28mself\u001B[39m\u001B[38;5;241m.\u001B[39m_content \u001B[38;5;241m=\u001B[39m \u001B[38;5;124;43mb\u001B[39;49m\u001B[38;5;124;43m'\u001B[39;49m\u001B[38;5;124;43m'\u001B[39;49m\u001B[38;5;241;43m.\u001B[39;49m\u001B[43mjoin\u001B[49m\u001B[43m(\u001B[49m\u001B[38;5;28;43mself\u001B[39;49m\u001B[38;5;241;43m.\u001B[39;49m\u001B[43miter_content\u001B[49m\u001B[43m(\u001B[49m\u001B[43mCONTENT_CHUNK_SIZE\u001B[49m\u001B[43m)\u001B[49m\u001B[43m)\u001B[49m \u001B[38;5;129;01mor\u001B[39;00m \u001B[38;5;124mb\u001B[39m\u001B[38;5;124m'\u001B[39m\u001B[38;5;124m'\u001B[39m\n\u001B[1;32m    840\u001B[0m \u001B[38;5;28mself\u001B[39m\u001B[38;5;241m.\u001B[39m_content_consumed \u001B[38;5;241m=\u001B[39m \u001B[38;5;28;01mTrue\u001B[39;00m\n\u001B[1;32m    841\u001B[0m \u001B[38;5;66;03m# don't need to release the connection; that's been handled by urllib3\u001B[39;00m\n\u001B[1;32m    842\u001B[0m \u001B[38;5;66;03m# since we exhausted the data.\u001B[39;00m\n",
      "File \u001B[0;32m~/opt/anaconda3/lib/python3.9/site-packages/requests/models.py:760\u001B[0m, in \u001B[0;36mResponse.iter_content.<locals>.generate\u001B[0;34m()\u001B[0m\n\u001B[1;32m    758\u001B[0m \u001B[38;5;28;01mif\u001B[39;00m \u001B[38;5;28mhasattr\u001B[39m(\u001B[38;5;28mself\u001B[39m\u001B[38;5;241m.\u001B[39mraw, \u001B[38;5;124m'\u001B[39m\u001B[38;5;124mstream\u001B[39m\u001B[38;5;124m'\u001B[39m):\n\u001B[1;32m    759\u001B[0m     \u001B[38;5;28;01mtry\u001B[39;00m:\n\u001B[0;32m--> 760\u001B[0m         \u001B[38;5;28;01mfor\u001B[39;00m chunk \u001B[38;5;129;01min\u001B[39;00m \u001B[38;5;28mself\u001B[39m\u001B[38;5;241m.\u001B[39mraw\u001B[38;5;241m.\u001B[39mstream(chunk_size, decode_content\u001B[38;5;241m=\u001B[39m\u001B[38;5;28;01mTrue\u001B[39;00m):\n\u001B[1;32m    761\u001B[0m             \u001B[38;5;28;01myield\u001B[39;00m chunk\n\u001B[1;32m    762\u001B[0m     \u001B[38;5;28;01mexcept\u001B[39;00m ProtocolError \u001B[38;5;28;01mas\u001B[39;00m e:\n",
      "File \u001B[0;32m~/opt/anaconda3/lib/python3.9/site-packages/urllib3/response.py:572\u001B[0m, in \u001B[0;36mHTTPResponse.stream\u001B[0;34m(self, amt, decode_content)\u001B[0m\n\u001B[1;32m    556\u001B[0m \u001B[38;5;124;03m\"\"\"\u001B[39;00m\n\u001B[1;32m    557\u001B[0m \u001B[38;5;124;03mA generator wrapper for the read() method. A call will block until\u001B[39;00m\n\u001B[1;32m    558\u001B[0m \u001B[38;5;124;03m``amt`` bytes have been read from the connection or until the\u001B[39;00m\n\u001B[0;32m   (...)\u001B[0m\n\u001B[1;32m    569\u001B[0m \u001B[38;5;124;03m    'content-encoding' header.\u001B[39;00m\n\u001B[1;32m    570\u001B[0m \u001B[38;5;124;03m\"\"\"\u001B[39;00m\n\u001B[1;32m    571\u001B[0m \u001B[38;5;28;01mif\u001B[39;00m \u001B[38;5;28mself\u001B[39m\u001B[38;5;241m.\u001B[39mchunked \u001B[38;5;129;01mand\u001B[39;00m \u001B[38;5;28mself\u001B[39m\u001B[38;5;241m.\u001B[39msupports_chunked_reads():\n\u001B[0;32m--> 572\u001B[0m     \u001B[38;5;28;01mfor\u001B[39;00m line \u001B[38;5;129;01min\u001B[39;00m \u001B[38;5;28mself\u001B[39m\u001B[38;5;241m.\u001B[39mread_chunked(amt, decode_content\u001B[38;5;241m=\u001B[39mdecode_content):\n\u001B[1;32m    573\u001B[0m         \u001B[38;5;28;01myield\u001B[39;00m line\n\u001B[1;32m    574\u001B[0m \u001B[38;5;28;01melse\u001B[39;00m:\n",
      "File \u001B[0;32m~/opt/anaconda3/lib/python3.9/site-packages/urllib3/response.py:767\u001B[0m, in \u001B[0;36mHTTPResponse.read_chunked\u001B[0;34m(self, amt, decode_content)\u001B[0m\n\u001B[1;32m    765\u001B[0m \u001B[38;5;28;01mif\u001B[39;00m \u001B[38;5;28mself\u001B[39m\u001B[38;5;241m.\u001B[39mchunk_left \u001B[38;5;241m==\u001B[39m \u001B[38;5;241m0\u001B[39m:\n\u001B[1;32m    766\u001B[0m     \u001B[38;5;28;01mbreak\u001B[39;00m\n\u001B[0;32m--> 767\u001B[0m chunk \u001B[38;5;241m=\u001B[39m \u001B[38;5;28;43mself\u001B[39;49m\u001B[38;5;241;43m.\u001B[39;49m\u001B[43m_handle_chunk\u001B[49m\u001B[43m(\u001B[49m\u001B[43mamt\u001B[49m\u001B[43m)\u001B[49m\n\u001B[1;32m    768\u001B[0m decoded \u001B[38;5;241m=\u001B[39m \u001B[38;5;28mself\u001B[39m\u001B[38;5;241m.\u001B[39m_decode(\n\u001B[1;32m    769\u001B[0m     chunk, decode_content\u001B[38;5;241m=\u001B[39mdecode_content, flush_decoder\u001B[38;5;241m=\u001B[39m\u001B[38;5;28;01mFalse\u001B[39;00m\n\u001B[1;32m    770\u001B[0m )\n\u001B[1;32m    771\u001B[0m \u001B[38;5;28;01mif\u001B[39;00m decoded:\n",
      "File \u001B[0;32m~/opt/anaconda3/lib/python3.9/site-packages/urllib3/response.py:711\u001B[0m, in \u001B[0;36mHTTPResponse._handle_chunk\u001B[0;34m(self, amt)\u001B[0m\n\u001B[1;32m    709\u001B[0m     \u001B[38;5;28mself\u001B[39m\u001B[38;5;241m.\u001B[39mchunk_left \u001B[38;5;241m=\u001B[39m \u001B[38;5;28;01mNone\u001B[39;00m\n\u001B[1;32m    710\u001B[0m \u001B[38;5;28;01melif\u001B[39;00m amt \u001B[38;5;241m<\u001B[39m \u001B[38;5;28mself\u001B[39m\u001B[38;5;241m.\u001B[39mchunk_left:\n\u001B[0;32m--> 711\u001B[0m     value \u001B[38;5;241m=\u001B[39m \u001B[38;5;28;43mself\u001B[39;49m\u001B[38;5;241;43m.\u001B[39;49m\u001B[43m_fp\u001B[49m\u001B[38;5;241;43m.\u001B[39;49m\u001B[43m_safe_read\u001B[49m\u001B[43m(\u001B[49m\u001B[43mamt\u001B[49m\u001B[43m)\u001B[49m\n\u001B[1;32m    712\u001B[0m     \u001B[38;5;28mself\u001B[39m\u001B[38;5;241m.\u001B[39mchunk_left \u001B[38;5;241m=\u001B[39m \u001B[38;5;28mself\u001B[39m\u001B[38;5;241m.\u001B[39mchunk_left \u001B[38;5;241m-\u001B[39m amt\n\u001B[1;32m    713\u001B[0m     returned_chunk \u001B[38;5;241m=\u001B[39m value\n",
      "File \u001B[0;32m~/opt/anaconda3/lib/python3.9/http/client.py:626\u001B[0m, in \u001B[0;36mHTTPResponse._safe_read\u001B[0;34m(self, amt)\u001B[0m\n\u001B[1;32m    624\u001B[0m s \u001B[38;5;241m=\u001B[39m []\n\u001B[1;32m    625\u001B[0m \u001B[38;5;28;01mwhile\u001B[39;00m amt \u001B[38;5;241m>\u001B[39m \u001B[38;5;241m0\u001B[39m:\n\u001B[0;32m--> 626\u001B[0m     chunk \u001B[38;5;241m=\u001B[39m \u001B[38;5;28;43mself\u001B[39;49m\u001B[38;5;241;43m.\u001B[39;49m\u001B[43mfp\u001B[49m\u001B[38;5;241;43m.\u001B[39;49m\u001B[43mread\u001B[49m\u001B[43m(\u001B[49m\u001B[38;5;28;43mmin\u001B[39;49m\u001B[43m(\u001B[49m\u001B[43mamt\u001B[49m\u001B[43m,\u001B[49m\u001B[43m \u001B[49m\u001B[43mMAXAMOUNT\u001B[49m\u001B[43m)\u001B[49m\u001B[43m)\u001B[49m\n\u001B[1;32m    627\u001B[0m     \u001B[38;5;28;01mif\u001B[39;00m \u001B[38;5;129;01mnot\u001B[39;00m chunk:\n\u001B[1;32m    628\u001B[0m         \u001B[38;5;28;01mraise\u001B[39;00m IncompleteRead(\u001B[38;5;124mb\u001B[39m\u001B[38;5;124m'\u001B[39m\u001B[38;5;124m'\u001B[39m\u001B[38;5;241m.\u001B[39mjoin(s), amt)\n",
      "File \u001B[0;32m~/opt/anaconda3/lib/python3.9/socket.py:704\u001B[0m, in \u001B[0;36mSocketIO.readinto\u001B[0;34m(self, b)\u001B[0m\n\u001B[1;32m    702\u001B[0m \u001B[38;5;28;01mwhile\u001B[39;00m \u001B[38;5;28;01mTrue\u001B[39;00m:\n\u001B[1;32m    703\u001B[0m     \u001B[38;5;28;01mtry\u001B[39;00m:\n\u001B[0;32m--> 704\u001B[0m         \u001B[38;5;28;01mreturn\u001B[39;00m \u001B[38;5;28;43mself\u001B[39;49m\u001B[38;5;241;43m.\u001B[39;49m\u001B[43m_sock\u001B[49m\u001B[38;5;241;43m.\u001B[39;49m\u001B[43mrecv_into\u001B[49m\u001B[43m(\u001B[49m\u001B[43mb\u001B[49m\u001B[43m)\u001B[49m\n\u001B[1;32m    705\u001B[0m     \u001B[38;5;28;01mexcept\u001B[39;00m timeout:\n\u001B[1;32m    706\u001B[0m         \u001B[38;5;28mself\u001B[39m\u001B[38;5;241m.\u001B[39m_timeout_occurred \u001B[38;5;241m=\u001B[39m \u001B[38;5;28;01mTrue\u001B[39;00m\n",
      "File \u001B[0;32m~/opt/anaconda3/lib/python3.9/ssl.py:1241\u001B[0m, in \u001B[0;36mSSLSocket.recv_into\u001B[0;34m(self, buffer, nbytes, flags)\u001B[0m\n\u001B[1;32m   1237\u001B[0m     \u001B[38;5;28;01mif\u001B[39;00m flags \u001B[38;5;241m!=\u001B[39m \u001B[38;5;241m0\u001B[39m:\n\u001B[1;32m   1238\u001B[0m         \u001B[38;5;28;01mraise\u001B[39;00m \u001B[38;5;167;01mValueError\u001B[39;00m(\n\u001B[1;32m   1239\u001B[0m           \u001B[38;5;124m\"\u001B[39m\u001B[38;5;124mnon-zero flags not allowed in calls to recv_into() on \u001B[39m\u001B[38;5;132;01m%s\u001B[39;00m\u001B[38;5;124m\"\u001B[39m \u001B[38;5;241m%\u001B[39m\n\u001B[1;32m   1240\u001B[0m           \u001B[38;5;28mself\u001B[39m\u001B[38;5;241m.\u001B[39m\u001B[38;5;18m__class__\u001B[39m)\n\u001B[0;32m-> 1241\u001B[0m     \u001B[38;5;28;01mreturn\u001B[39;00m \u001B[38;5;28;43mself\u001B[39;49m\u001B[38;5;241;43m.\u001B[39;49m\u001B[43mread\u001B[49m\u001B[43m(\u001B[49m\u001B[43mnbytes\u001B[49m\u001B[43m,\u001B[49m\u001B[43m \u001B[49m\u001B[43mbuffer\u001B[49m\u001B[43m)\u001B[49m\n\u001B[1;32m   1242\u001B[0m \u001B[38;5;28;01melse\u001B[39;00m:\n\u001B[1;32m   1243\u001B[0m     \u001B[38;5;28;01mreturn\u001B[39;00m \u001B[38;5;28msuper\u001B[39m()\u001B[38;5;241m.\u001B[39mrecv_into(buffer, nbytes, flags)\n",
      "File \u001B[0;32m~/opt/anaconda3/lib/python3.9/ssl.py:1099\u001B[0m, in \u001B[0;36mSSLSocket.read\u001B[0;34m(self, len, buffer)\u001B[0m\n\u001B[1;32m   1097\u001B[0m \u001B[38;5;28;01mtry\u001B[39;00m:\n\u001B[1;32m   1098\u001B[0m     \u001B[38;5;28;01mif\u001B[39;00m buffer \u001B[38;5;129;01mis\u001B[39;00m \u001B[38;5;129;01mnot\u001B[39;00m \u001B[38;5;28;01mNone\u001B[39;00m:\n\u001B[0;32m-> 1099\u001B[0m         \u001B[38;5;28;01mreturn\u001B[39;00m \u001B[38;5;28;43mself\u001B[39;49m\u001B[38;5;241;43m.\u001B[39;49m\u001B[43m_sslobj\u001B[49m\u001B[38;5;241;43m.\u001B[39;49m\u001B[43mread\u001B[49m\u001B[43m(\u001B[49m\u001B[38;5;28;43mlen\u001B[39;49m\u001B[43m,\u001B[49m\u001B[43m \u001B[49m\u001B[43mbuffer\u001B[49m\u001B[43m)\u001B[49m\n\u001B[1;32m   1100\u001B[0m     \u001B[38;5;28;01melse\u001B[39;00m:\n\u001B[1;32m   1101\u001B[0m         \u001B[38;5;28;01mreturn\u001B[39;00m \u001B[38;5;28mself\u001B[39m\u001B[38;5;241m.\u001B[39m_sslobj\u001B[38;5;241m.\u001B[39mread(\u001B[38;5;28mlen\u001B[39m)\n",
      "\u001B[0;31mKeyboardInterrupt\u001B[0m: "
     ]
    }
   ],
   "source": [
    "data_csv_noRepeat = pd.read_csv(\"./data_movies_noRepeat.csv\")\n",
    "us = [\"Mozilla/5.0 (Windows NT 10.0; Win64; x64) AppleWebKit/537.36 (KHTML, like Gecko) Chrome/100.0.4896.127 \"\n",
    "      \"Safari/537.36 Edg/100.0.1185.50\",\n",
    "      'Mozilla/5.0 (Windows NT 10.0; Win64; x64) AppleWebKit/537.36 (KHTML, like Gecko) Chrome/100.0.4896.127 Safari/537.36',\n",
    "      'Mozilla/5.0 (Windows NT 10.0; Win64; x64) AppleWebKit/537.36 (KHTML, like Gecko) Chrome/100.0.4896.127 Safari/537.36',\n",
    "      'Mozilla/5.0 (Windows NT 10.0; Win64; x64) AppleWebKit/537.36 (KHTML, like Gecko) Chrome/100.0.4896.127 Safari/537.36 Edg/100.0.1185.50']\n",
    "headers = { \"User-Agent\":random.choice(us)}\n",
    "movies = 0\n",
    "with tqdm(total=len(data_csv_noRepeat), postfix=dict) as pbar:\n",
    "    for item in range(len(data_csv_noRepeat)):\n",
    "        try:\n",
    "            requests.adapters.DEFAULT_RETRIES = 5 # 增加重连次数\n",
    "            s = requests.session()\n",
    "            s.keep_alive = False # 关闭多余连接\n",
    "            url = 'https://baike.baidu.com/item/{}'.format(data_csv_noRepeat.loc[item, 'title'])\n",
    "            req = requests.get(url, headers=headers, timeout=5).text\n",
    "            soup_detail = bs4.BeautifulSoup(req, \"html.parser\").find_all(name='div',\n",
    "                                                                         attrs={'class':'basic-info J-basic-info '\n",
    "                                                                                        'cmn-clearfix'})[0]\n",
    "            soup_detail_name = soup_detail.find_all(name='dt', attrs={'class':'basicInfo-item name'})\n",
    "            soup_detail_value = soup_detail.find_all(name='dd', attrs={'class':'basicInfo-item value'})\n",
    "            if len(soup_detail_value) == len(soup_detail_name):\n",
    "                for item_detail in range(len(soup_detail_value)):\n",
    "                    j = 0\n",
    "                    name_str = str(soup_detail_name[item_detail].string).replace(u'\\xa0', '')\n",
    "                    soup_detail_value[item_detail] = no_sup(soup_detail_value[item_detail])\n",
    "                    value_detail = soup_detail_value[item_detail].string if \\\n",
    "                            soup_detail_value[item_detail].string is not None else \\\n",
    "                                get_item(soup_detail_value[item_detail].children)\n",
    "                    if name_str == '出品公司' and value_detail is not None:\n",
    "                        data_csv_noRepeat.loc[item, '出品公司'] = \\\n",
    "                            str(value_detail).replace(\"\\n\", '').replace('，', '')\n",
    "                        j += 1\n",
    "                    if name_str == '导演' and value_detail is not None:\n",
    "                        data_csv_noRepeat.loc[item, '导演'] = str(value_detail).replace(\"\\n\", '').replace('，', '')\n",
    "                        j += 1\n",
    "                    if name_str == '编剧' and value_detail is not None:\n",
    "                        data_csv_noRepeat.loc[item, '编剧'] = str(value_detail).replace(\"\\n\", '').replace('，', '')\n",
    "                        j += 1\n",
    "                    if name_str == '制片人' and value_detail is not None:\n",
    "                        data_csv_noRepeat.loc[item, '制片人'] = str(value_detail).replace(\"\\n\", '').replace('，', '')\n",
    "                        j += 1\n",
    "                    if name_str == '片长' and value_detail is not None:\n",
    "                        data_csv_noRepeat.loc[item, '片长'] = str(value_detail).replace(\"\\n\", '').replace('，', '')\n",
    "                        j += 1\n",
    "                    if name_str == '票房' and value_detail is not None:\n",
    "                        data_csv_noRepeat.loc[item, '票房'] = str(value_detail).replace(\"\\n\", '').replace('，', '')\n",
    "                        j += 1\n",
    "                    if j == 6:\n",
    "                        continue\n",
    "                movies += 1\n",
    "        except Exception as e:\n",
    "            pass\n",
    "        pbar.update(1)\n",
    "        pbar.set_postfix(**{'move_num':movies, 'j':j})\n",
    "data_csv_noRepeat.to_csv('./data_csv_noRepeat_new.csv')"
   ],
   "metadata": {
    "collapsed": false,
    "pycharm": {
     "name": "#%%\n"
    }
   }
  },
  {
   "cell_type": "code",
   "execution_count": 98,
   "outputs": [
    {
     "data": {
      "text/plain": "                            types         rating  rank        id  \\\n0                    ['犯罪', '剧情']  ['9.7', '50']     1   1292052   \n1              ['剧情', '爱情', '同性']  ['9.6', '50']     2   1291546   \n2        ['剧情', '喜剧', '爱情', '战争']  ['9.6', '50']     3   1292063   \n3              ['剧情', '历史', '战争']  ['9.6', '50']     4   1295124   \n4              ['剧情', '犯罪', '悬疑']  ['9.6', '50']     5   1296141   \n...                           ...            ...   ...       ...   \n23417        ['黑色电影', '犯罪', '惊悚']  ['7.3', '40']    79   1302943   \n23418  ['犯罪', '剧情', '黑色电影', '恐怖']  ['7.3', '40']    80   2033530   \n23419        ['动画', '恐怖', '黑色电影']  ['7.3', '40']    81  26877383   \n23420              ['黑色电影', '惊悚']  ['7.2', '40']    82   1293416   \n23421        ['剧情', '黑色电影', '惊悚']  ['7.2', '35']    83   1292892   \n\n                regions              title  \\\n0                ['美国']             肖申克的救赎   \n1      ['中国大陆', '中国香港']               霸王别姬   \n2               ['意大利']               美丽人生   \n3                ['美国']             辛德勒的名单   \n4                ['美国']               控方证人   \n...                 ...                ...   \n23417            ['美国']               合约杀手   \n23418            ['美国']               涨潮小屋   \n23419            ['日本']  成人童话系列1 令人恐怖的格林童话   \n23420            ['美国']               逃狱雪冤   \n23421            ['美国']               爱到天堂   \n\n                                              url release_date  actor_count  \\\n0       https://movie.douban.com/subject/1292052/   1994-09-10           25   \n1       https://movie.douban.com/subject/1291546/   1993-07-26           26   \n2       https://movie.douban.com/subject/1292063/   2020-01-03           29   \n3       https://movie.douban.com/subject/1295124/   1993-11-30           47   \n4       https://movie.douban.com/subject/1296141/   1957-12-17           51   \n...                                           ...          ...          ...   \n23417   https://movie.douban.com/subject/1302943/   1942-05-13            5   \n23418   https://movie.douban.com/subject/2033530/   1950-03-25           24   \n23419  https://movie.douban.com/subject/26877383/   2000-06-21            0   \n23420   https://movie.douban.com/subject/1293416/   1947-09-27            2   \n23421   https://movie.douban.com/subject/1292892/   1945-12-20            7   \n\n       vote_count  score                                             actors  \\\n0         2604521    9.7  ['蒂姆·罗宾斯', '摩根·弗里曼', '鲍勃·冈顿', '威廉姆·赛德勒', '克兰西·...   \n1         1934038    9.6  ['张国荣', '张丰毅', '巩俐', '葛优', '英达', '蒋雯丽', '吴大维',...   \n2         1202892    9.6  ['罗伯托·贝尼尼', '尼可莱塔·布拉斯基', '乔治·坎塔里尼', '朱斯蒂诺·杜拉诺'...   \n3         1003257    9.6  ['连姆·尼森', '本·金斯利', '拉尔夫·费因斯', '卡罗琳·古多尔', '乔纳森·...   \n4          453853    9.6  ['泰隆·鲍华', '玛琳·黛德丽', '查尔斯·劳顿', '爱尔莎·兰切斯特', '约翰·...   \n...           ...    ...                                                ...   \n23417         479    7.3  ['维罗妮卡·莱克', '罗伯特·普雷斯顿', '拉尔德·克雷加', '艾伦·拉德', '塔...   \n23418         458    7.3  ['路易斯·海沃德', '李·鲍曼', '简·维亚特', '多萝西·帕特里克', '安·休梅...   \n23419         367    7.3                                                 []   \n23420         607    7.2                               ['亨弗莱·鲍嘉', '劳伦·白考尔']   \n23421         455    7.2  ['吉恩·蒂尔尼', '柯纳·王尔德', '珍妮·克雷恩', '玛丽·菲利普斯', '雷·柯...   \n\n                                               cover_url  is_watched  \\\n0      https://img2.doubanio.com/view/photo/s_ratio_p...       False   \n1      https://img3.doubanio.com/view/photo/s_ratio_p...       False   \n2      https://img2.doubanio.com/view/photo/s_ratio_p...       False   \n3      https://img2.doubanio.com/view/photo/s_ratio_p...       False   \n4      https://img1.doubanio.com/view/photo/s_ratio_p...       False   \n...                                                  ...         ...   \n23417  https://img9.doubanio.com/view/photo/s_ratio_p...       False   \n23418  https://img1.doubanio.com/view/photo/s_ratio_p...       False   \n23419  https://img2.doubanio.com/view/photo/s_ratio_p...       False   \n23420  https://img9.doubanio.com/view/photo/s_ratio_p...       False   \n23421  https://img2.doubanio.com/view/photo/s_ratio_p...       False   \n\n                      编剧      片长          票房                          出品公司  \\\n0               弗兰克·德拉邦特  142 分钟    5830 万美元                           NaN   \n1                    NaN  171 分钟         NaN                  汤臣（香港）电影有限公司   \n2      温琴佐·切拉米 / 罗伯托·贝尼尼  116 分钟         NaN                           NaN   \n3                斯蒂文·泽里安  195 分钟  约 3.21 亿美元                        环球影业公司   \n4                    NaN   116分钟        1000  Edward Small Productions（美国）   \n...                  ...     ...         ...                           ...   \n23417                NaN     NaN         NaN                           NaN   \n23418                NaN     NaN         NaN                           NaN   \n23419                NaN     NaN         NaN                           NaN   \n23420                NaN     NaN         NaN                           NaN   \n23421                NaN     NaN         NaN                           NaN   \n\n              导演      制片人  \n0            NaN      NaN  \n1            NaN      NaN  \n2        罗伯托·贝尼尼      NaN  \n3      史蒂文·斯皮尔伯格  布兰克·鲁斯蒂  \n4            NaN  阿瑟·霍恩布洛  \n...          ...      ...  \n23417        NaN      NaN  \n23418        NaN      NaN  \n23419        NaN      NaN  \n23420        NaN      NaN  \n23421        NaN      NaN  \n\n[23422 rows x 20 columns]",
      "text/html": "<div>\n<style scoped>\n    .dataframe tbody tr th:only-of-type {\n        vertical-align: middle;\n    }\n\n    .dataframe tbody tr th {\n        vertical-align: top;\n    }\n\n    .dataframe thead th {\n        text-align: right;\n    }\n</style>\n<table border=\"1\" class=\"dataframe\">\n  <thead>\n    <tr style=\"text-align: right;\">\n      <th></th>\n      <th>types</th>\n      <th>rating</th>\n      <th>rank</th>\n      <th>id</th>\n      <th>regions</th>\n      <th>title</th>\n      <th>url</th>\n      <th>release_date</th>\n      <th>actor_count</th>\n      <th>vote_count</th>\n      <th>score</th>\n      <th>actors</th>\n      <th>cover_url</th>\n      <th>is_watched</th>\n      <th>编剧</th>\n      <th>片长</th>\n      <th>票房</th>\n      <th>出品公司</th>\n      <th>导演</th>\n      <th>制片人</th>\n    </tr>\n  </thead>\n  <tbody>\n    <tr>\n      <th>0</th>\n      <td>['犯罪', '剧情']</td>\n      <td>['9.7', '50']</td>\n      <td>1</td>\n      <td>1292052</td>\n      <td>['美国']</td>\n      <td>肖申克的救赎</td>\n      <td>https://movie.douban.com/subject/1292052/</td>\n      <td>1994-09-10</td>\n      <td>25</td>\n      <td>2604521</td>\n      <td>9.7</td>\n      <td>['蒂姆·罗宾斯', '摩根·弗里曼', '鲍勃·冈顿', '威廉姆·赛德勒', '克兰西·...</td>\n      <td>https://img2.doubanio.com/view/photo/s_ratio_p...</td>\n      <td>False</td>\n      <td>弗兰克·德拉邦特</td>\n      <td>142 分钟</td>\n      <td>5830 万美元</td>\n      <td>NaN</td>\n      <td>NaN</td>\n      <td>NaN</td>\n    </tr>\n    <tr>\n      <th>1</th>\n      <td>['剧情', '爱情', '同性']</td>\n      <td>['9.6', '50']</td>\n      <td>2</td>\n      <td>1291546</td>\n      <td>['中国大陆', '中国香港']</td>\n      <td>霸王别姬</td>\n      <td>https://movie.douban.com/subject/1291546/</td>\n      <td>1993-07-26</td>\n      <td>26</td>\n      <td>1934038</td>\n      <td>9.6</td>\n      <td>['张国荣', '张丰毅', '巩俐', '葛优', '英达', '蒋雯丽', '吴大维',...</td>\n      <td>https://img3.doubanio.com/view/photo/s_ratio_p...</td>\n      <td>False</td>\n      <td>NaN</td>\n      <td>171 分钟</td>\n      <td>NaN</td>\n      <td>汤臣（香港）电影有限公司</td>\n      <td>NaN</td>\n      <td>NaN</td>\n    </tr>\n    <tr>\n      <th>2</th>\n      <td>['剧情', '喜剧', '爱情', '战争']</td>\n      <td>['9.6', '50']</td>\n      <td>3</td>\n      <td>1292063</td>\n      <td>['意大利']</td>\n      <td>美丽人生</td>\n      <td>https://movie.douban.com/subject/1292063/</td>\n      <td>2020-01-03</td>\n      <td>29</td>\n      <td>1202892</td>\n      <td>9.6</td>\n      <td>['罗伯托·贝尼尼', '尼可莱塔·布拉斯基', '乔治·坎塔里尼', '朱斯蒂诺·杜拉诺'...</td>\n      <td>https://img2.doubanio.com/view/photo/s_ratio_p...</td>\n      <td>False</td>\n      <td>温琴佐·切拉米 / 罗伯托·贝尼尼</td>\n      <td>116 分钟</td>\n      <td>NaN</td>\n      <td>NaN</td>\n      <td>罗伯托·贝尼尼</td>\n      <td>NaN</td>\n    </tr>\n    <tr>\n      <th>3</th>\n      <td>['剧情', '历史', '战争']</td>\n      <td>['9.6', '50']</td>\n      <td>4</td>\n      <td>1295124</td>\n      <td>['美国']</td>\n      <td>辛德勒的名单</td>\n      <td>https://movie.douban.com/subject/1295124/</td>\n      <td>1993-11-30</td>\n      <td>47</td>\n      <td>1003257</td>\n      <td>9.6</td>\n      <td>['连姆·尼森', '本·金斯利', '拉尔夫·费因斯', '卡罗琳·古多尔', '乔纳森·...</td>\n      <td>https://img2.doubanio.com/view/photo/s_ratio_p...</td>\n      <td>False</td>\n      <td>斯蒂文·泽里安</td>\n      <td>195 分钟</td>\n      <td>约 3.21 亿美元</td>\n      <td>环球影业公司</td>\n      <td>史蒂文·斯皮尔伯格</td>\n      <td>布兰克·鲁斯蒂</td>\n    </tr>\n    <tr>\n      <th>4</th>\n      <td>['剧情', '犯罪', '悬疑']</td>\n      <td>['9.6', '50']</td>\n      <td>5</td>\n      <td>1296141</td>\n      <td>['美国']</td>\n      <td>控方证人</td>\n      <td>https://movie.douban.com/subject/1296141/</td>\n      <td>1957-12-17</td>\n      <td>51</td>\n      <td>453853</td>\n      <td>9.6</td>\n      <td>['泰隆·鲍华', '玛琳·黛德丽', '查尔斯·劳顿', '爱尔莎·兰切斯特', '约翰·...</td>\n      <td>https://img1.doubanio.com/view/photo/s_ratio_p...</td>\n      <td>False</td>\n      <td>NaN</td>\n      <td>116分钟</td>\n      <td>1000</td>\n      <td>Edward Small Productions（美国）</td>\n      <td>NaN</td>\n      <td>阿瑟·霍恩布洛</td>\n    </tr>\n    <tr>\n      <th>...</th>\n      <td>...</td>\n      <td>...</td>\n      <td>...</td>\n      <td>...</td>\n      <td>...</td>\n      <td>...</td>\n      <td>...</td>\n      <td>...</td>\n      <td>...</td>\n      <td>...</td>\n      <td>...</td>\n      <td>...</td>\n      <td>...</td>\n      <td>...</td>\n      <td>...</td>\n      <td>...</td>\n      <td>...</td>\n      <td>...</td>\n      <td>...</td>\n      <td>...</td>\n    </tr>\n    <tr>\n      <th>23417</th>\n      <td>['黑色电影', '犯罪', '惊悚']</td>\n      <td>['7.3', '40']</td>\n      <td>79</td>\n      <td>1302943</td>\n      <td>['美国']</td>\n      <td>合约杀手</td>\n      <td>https://movie.douban.com/subject/1302943/</td>\n      <td>1942-05-13</td>\n      <td>5</td>\n      <td>479</td>\n      <td>7.3</td>\n      <td>['维罗妮卡·莱克', '罗伯特·普雷斯顿', '拉尔德·克雷加', '艾伦·拉德', '塔...</td>\n      <td>https://img9.doubanio.com/view/photo/s_ratio_p...</td>\n      <td>False</td>\n      <td>NaN</td>\n      <td>NaN</td>\n      <td>NaN</td>\n      <td>NaN</td>\n      <td>NaN</td>\n      <td>NaN</td>\n    </tr>\n    <tr>\n      <th>23418</th>\n      <td>['犯罪', '剧情', '黑色电影', '恐怖']</td>\n      <td>['7.3', '40']</td>\n      <td>80</td>\n      <td>2033530</td>\n      <td>['美国']</td>\n      <td>涨潮小屋</td>\n      <td>https://movie.douban.com/subject/2033530/</td>\n      <td>1950-03-25</td>\n      <td>24</td>\n      <td>458</td>\n      <td>7.3</td>\n      <td>['路易斯·海沃德', '李·鲍曼', '简·维亚特', '多萝西·帕特里克', '安·休梅...</td>\n      <td>https://img1.doubanio.com/view/photo/s_ratio_p...</td>\n      <td>False</td>\n      <td>NaN</td>\n      <td>NaN</td>\n      <td>NaN</td>\n      <td>NaN</td>\n      <td>NaN</td>\n      <td>NaN</td>\n    </tr>\n    <tr>\n      <th>23419</th>\n      <td>['动画', '恐怖', '黑色电影']</td>\n      <td>['7.3', '40']</td>\n      <td>81</td>\n      <td>26877383</td>\n      <td>['日本']</td>\n      <td>成人童话系列1 令人恐怖的格林童话</td>\n      <td>https://movie.douban.com/subject/26877383/</td>\n      <td>2000-06-21</td>\n      <td>0</td>\n      <td>367</td>\n      <td>7.3</td>\n      <td>[]</td>\n      <td>https://img2.doubanio.com/view/photo/s_ratio_p...</td>\n      <td>False</td>\n      <td>NaN</td>\n      <td>NaN</td>\n      <td>NaN</td>\n      <td>NaN</td>\n      <td>NaN</td>\n      <td>NaN</td>\n    </tr>\n    <tr>\n      <th>23420</th>\n      <td>['黑色电影', '惊悚']</td>\n      <td>['7.2', '40']</td>\n      <td>82</td>\n      <td>1293416</td>\n      <td>['美国']</td>\n      <td>逃狱雪冤</td>\n      <td>https://movie.douban.com/subject/1293416/</td>\n      <td>1947-09-27</td>\n      <td>2</td>\n      <td>607</td>\n      <td>7.2</td>\n      <td>['亨弗莱·鲍嘉', '劳伦·白考尔']</td>\n      <td>https://img9.doubanio.com/view/photo/s_ratio_p...</td>\n      <td>False</td>\n      <td>NaN</td>\n      <td>NaN</td>\n      <td>NaN</td>\n      <td>NaN</td>\n      <td>NaN</td>\n      <td>NaN</td>\n    </tr>\n    <tr>\n      <th>23421</th>\n      <td>['剧情', '黑色电影', '惊悚']</td>\n      <td>['7.2', '35']</td>\n      <td>83</td>\n      <td>1292892</td>\n      <td>['美国']</td>\n      <td>爱到天堂</td>\n      <td>https://movie.douban.com/subject/1292892/</td>\n      <td>1945-12-20</td>\n      <td>7</td>\n      <td>455</td>\n      <td>7.2</td>\n      <td>['吉恩·蒂尔尼', '柯纳·王尔德', '珍妮·克雷恩', '玛丽·菲利普斯', '雷·柯...</td>\n      <td>https://img2.doubanio.com/view/photo/s_ratio_p...</td>\n      <td>False</td>\n      <td>NaN</td>\n      <td>NaN</td>\n      <td>NaN</td>\n      <td>NaN</td>\n      <td>NaN</td>\n      <td>NaN</td>\n    </tr>\n  </tbody>\n</table>\n<p>23422 rows × 20 columns</p>\n</div>"
     },
     "execution_count": 98,
     "metadata": {},
     "output_type": "execute_result"
    }
   ],
   "source": [
    "data_csv_noRepeat"
   ],
   "metadata": {
    "collapsed": false,
    "pycharm": {
     "name": "#%%\n"
    }
   }
  },
  {
   "cell_type": "markdown",
   "source": [],
   "metadata": {
    "collapsed": false
   }
  },
  {
   "cell_type": "markdown",
   "source": [
    "#### 通过盗版网站爬取信息"
   ],
   "metadata": {
    "collapsed": false
   }
  },
  {
   "cell_type": "code",
   "execution_count": 20,
   "outputs": [],
   "source": [
    "def get_cookie(url):\n",
    "    # 声明一个CookieJar对象实例来保存cookie\n",
    "    cookie = cookiejar.CookieJar()\n",
    "    # 利用urllib.request库的HTTPCookieProcessor对象来创建cookie处理器,也就CookieHandler\n",
    "    handler=request.HTTPCookieProcessor(cookie)\n",
    "    # 通过CookieHandler创建opener\n",
    "    opener = request.build_opener(handler)\n",
    "    # 此处的open方法打开网页\n",
    "    response = opener.open(url)\n",
    "    # 打印cookie信息\n",
    "    for item in cookie:\n",
    "        Name = item.name\n",
    "        Value = item.value\n",
    "        # print(Name,Value)\n",
    "        return Value"
   ],
   "metadata": {
    "collapsed": false,
    "pycharm": {
     "name": "#%%\n"
    }
   }
  },
  {
   "cell_type": "code",
   "execution_count": 29,
   "outputs": [
    {
     "name": "stdout",
     "output_type": "stream",
     "text": [
      "<!DOCTYPE html>\n",
      "<html lang=\"zh-cn\">\n",
      "<head>\n",
      "<meta content=\"text/html; charset=utf-8\" http-equiv=\"Content-Type\"/>\n",
      "<meta content=\"width=device-width\" name=\"viewport\"/>\n",
      "<title>跳转提示</title>\n",
      "<style type=\"text/css\">\r\n",
      "*{ padding: 0; margin: 0; }\r\n",
      "body{ background: #fff; font-family: '微软雅黑'; color: #333; font-size: 16px; }\r\n",
      ".system-message{ padding: 24px 48px; }\r\n",
      ".system-message h1{ font-size: 100px; font-weight: normal; line-height: 120px; margin-bottom: 12px; }\r\n",
      ".system-message .jump{ padding-top: 10px}\r\n",
      ".system-message .jump a{ color: #333;}\r\n",
      ".system-message .success,.system-message .error{ line-height: 1.8em; font-size: 36px }\r\n",
      ".system-message .detail{ font-size: 12px; line-height: 20px; margin-top: 12px; display:none}\r\n",
      "</style>\n",
      "</head>\n",
      "<body>\n",
      "<div class=\"system-message\">\n",
      "<p class=\"error\">无权访问此页面，请登录！</p>\n",
      "<p class=\"detail\"></p>\n",
      "<p class=\"jump\">\r\n",
      "页面自动 <a href=\"/user/login/\" id=\"href\">跳转</a> 等待时间： <b id=\"wait\">3</b>\n",
      "</p>\n",
      "</div>\n",
      "<script type=\"text/javascript\">\r\n",
      "(function(){\r\n",
      "var wait = document.getElementById('wait'),href = document.getElementById('href').href;\r\n",
      "var interval = setInterval(function(){\r\n",
      "\tvar time = --wait.innerHTML;\r\n",
      "\tif(time <= 0) {\r\n",
      "\t\tlocation.href = href;\r\n",
      "\t\tclearInterval(interval);\r\n",
      "\t};\r\n",
      "}, 1000);\r\n",
      "})();\r\n",
      "</script>\n",
      "</body>\n",
      "</html>\n"
     ]
    }
   ],
   "source": [
    "\n",
    "\n",
    "data_csv_noRepeat = pd.read_csv(\"./data_movies_noRepeat.csv\")\n",
    "us = [\"Mozilla/5.0 (Windows NT 10.0; Win64; x64) AppleWebKit/537.36 (KHTML, like Gecko) Chrome/100.0.4896.127 \"\n",
    "      \"Safari/537.36 Edg/100.0.1185.50\",\n",
    "      'Mozilla/5.0 (Windows NT 10.0; Win64; x64) AppleWebKit/537.36 (KHTML, like Gecko) Chrome/100.0.4896.127 Safari/537.36',\n",
    "      'Mozilla/5.0 (Windows NT 10.0; Win64; x64) AppleWebKit/537.36 (KHTML, like Gecko) Chrome/100.0.4896.127 Safari/537.36',\n",
    "      'Mozilla/5.0 (Windows NT 10.0; Win64; x64) AppleWebKit/537.36 (KHTML, like Gecko) Chrome/100.0.4896.127 Safari/537.36 Edg/100.0.1185.50']\n",
    "\n",
    "headers = { \"User-Agent\":\"Mozilla/5.0 (Macintosh; Intel Mac OS X 10_15_7) AppleWebKit/537.36 (KHTML, like Gecko) Chrome/100.0.4896.127 Safari/537.36\", 'cookie': '''PHPSESSID=4g5qom1ldfhkrqehsvjtivatfh; 6688_2359_120.228.2.45=1; 6688_2557_120.228.2.45=1; 6688_2581_120.228.2.45=1; 6688_2519_120.228.2.45=1; 6688_2602_120.228.2.45=1; 6688_2604_120.228.2.45=1; vrg_sc=1429993fc09e02be48ad9333730d834b; captcha_text=%E8%96%AA%2C%E5%8F%89%2C%E5%9E%82; BT_auth=93ecxylMO4UQ61SSjY5bnKjfZ5keLvMLZP53fIer4wApgqvZwezpg6XlCK4H5Zmz_GpNdBwSaRQxfg487WGPVJQTAGg3xzNdoYGWH2O0eNHhBukVXQ1sP_qK6w2apL7oTaaorWW3YrnjaejETeL6CEBaFN8x_W7AR-2isjL-Jx39jfcG; BT_cookietime=0b7dVaqyhKn8NKzTVpLMK4Q0shAvAmssN_aW8A79s3bU67cLoC7Q; beitouviews_6688=h3rryELJLqRfsP88aE7l9h8HfAE3zxlkHthSJDJMtpkObBxut%252BWVdpT45TsDqbplIZjHKSK2dZN6YsFDtO3mZzjn5qQE3KbNlZ%252BbJ5648s2baTqAYM98dWMuXV8NR8ZI1QDf6FxEOUZi%252F5jb0%252FlPeB8Wuw3B80zhrPN%252Fr9ATNvvJYGBFPK0Q%252FMcu4J7ZLstPfTaG0mnYsvaKH0%252FRwuRRlCCUTOUYuQRPYbcNYWW1nS4%252F%252BZitVAm4tXNJEyw4SQmc0VYAnY%252FYtNSyOVeL0q0UFf7jB5sK7nZKKOR30ALVoz0TYcABk2IFmOUTpHfxinq2w8M1GXPCU1Tppp20Vs49wYQjkEbZ6B4FkQUPVTd3Ft1JaniOLOAss%252B6xBdXfB3dqhsjLoHNWFXGVoU8L%252F2CowohXAjJR487Li1Z8Xef%252FMp4n0QBp9M%252FjlR8TViyQZ8x17coH9Tj%252FQxZHoMCYZD5K2z3QtU40NemUidisvJgJaJCv7skmGUO8p7ETqxEI1rG6WPKXynoiO%252BteOeGtfOiPAtZNigv39wMGBlIIp%252BwaK%252BpBaacb7LOmSt%252BrOKqMz14mbASzCmj2jhCkUSHiQ%252Fy6JgTXpGMuk1toUbQmmOH4LNrfh7Q5GZqzp26aEuySFxUAfBd%252FSnTkIfUGvjwx1eMB%252Fyq9Q5aTgWCY%252FcoxGbY%252BixE%253D''',\n",
    "            'content-type': 'application/x-www-form-urlencoded; charset=UTF-8',\n",
    "            'x-requested-with': 'XMLHttpRequest',\n",
    "            'sec-fetch-site': 'same-origin',\n",
    "            'origin': 'https://www.btnull.re',\n",
    "            'referer': 'https://www.btnull.re/mv/----score--.html',\n",
    "            'sec-ch-ua-platform': \"macOS\",\n",
    "            'sec-fetch-dest': 'empty',\n",
    "            'sec-fetch-mode': 'cors'}\n",
    "movies = 0\n",
    "baseUrl = 'https://www.btnull.re'\n",
    "req = bs4.BeautifulSoup(requests.post(baseUrl, headers=headers).text.encode('utf-8'))\n",
    "print(req)\n"
   ],
   "metadata": {
    "collapsed": false,
    "pycharm": {
     "name": "#%%\n"
    }
   }
  }
 ],
 "metadata": {
  "kernelspec": {
   "display_name": "Python 3",
   "language": "python",
   "name": "python3"
  },
  "language_info": {
   "codemirror_mode": {
    "name": "ipython",
    "version": 2
   },
   "file_extension": ".py",
   "mimetype": "text/x-python",
   "name": "python",
   "nbconvert_exporter": "python",
   "pygments_lexer": "ipython2",
   "version": "2.7.6"
  }
 },
 "nbformat": 4,
 "nbformat_minor": 0
}