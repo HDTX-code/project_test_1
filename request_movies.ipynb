{
 "cells": [
  {
   "cell_type": "markdown",
   "source": [
    "#### Get Movies Type"
   ],
   "metadata": {
    "collapsed": false
   }
  },
  {
   "cell_type": "code",
   "execution_count": 14,
   "metadata": {
    "collapsed": true
   },
   "outputs": [],
   "source": [
    "import requests\n",
    "import bs4\n",
    "import pandas as pd\n",
    "import json\n",
    "from tqdm import tqdm"
   ]
  },
  {
   "cell_type": "code",
   "execution_count": 18,
   "outputs": [],
   "source": [
    "def get_moviesLink_by_type(Type, types_num, header, data_csv, item_epoch, max_epoch):\n",
    "    print(Type)\n",
    "    # header = {\n",
    "    # 'User-Agent':r'Mozilla/5.0 (Windows NT 10.0; Win64; x64) AppleWebKit/537.36 (KHTML, like Gecko) Chrome/100.0.4896.127 Safari/537.36'}\n",
    "    with tqdm(total=400, desc=f'Epoch {item_epoch}/{max_epoch}') as pbar:\n",
    "        for item in range(20):\n",
    "            type_url = 'https://movie.douban.com/j/chart/top_list?type={}&interval_id=100%3A90&action=&start={}&limit={}'.format(types_num, item*20, 20)\n",
    "            req = json.loads(requests.get(type_url, headers=header, timeout=50).text)\n",
    "            for detail_item in req:\n",
    "                data_csv.loc[len(data_csv)] = detail_item\n",
    "                pbar.update(1)"
   ],
   "metadata": {
    "collapsed": false,
    "pycharm": {
     "name": "#%%\n"
    }
   }
  },
  {
   "cell_type": "code",
   "execution_count": 19,
   "outputs": [
    {
     "name": "stdout",
     "output_type": "stream",
     "text": [
      "剧情\n"
     ]
    },
    {
     "name": "stderr",
     "output_type": "stream",
     "text": [
      "Epoch 0/29: 100%|██████████| 400/400 [00:47<00:00,  8.46it/s]\n"
     ]
    },
    {
     "name": "stdout",
     "output_type": "stream",
     "text": [
      "喜剧\n"
     ]
    },
    {
     "name": "stderr",
     "output_type": "stream",
     "text": [
      "Epoch 1/29: 100%|██████████| 400/400 [00:23<00:00, 16.90it/s]\n"
     ]
    },
    {
     "name": "stdout",
     "output_type": "stream",
     "text": [
      "动作\n"
     ]
    },
    {
     "name": "stderr",
     "output_type": "stream",
     "text": [
      "Epoch 2/29:  88%|████████▊ | 354/400 [00:24<00:03, 14.65it/s]\n"
     ]
    },
    {
     "name": "stdout",
     "output_type": "stream",
     "text": [
      "爱情\n"
     ]
    },
    {
     "name": "stderr",
     "output_type": "stream",
     "text": [
      "Epoch 3/29: 100%|██████████| 400/400 [00:23<00:00, 16.80it/s]\n"
     ]
    },
    {
     "name": "stdout",
     "output_type": "stream",
     "text": [
      "科幻\n"
     ]
    },
    {
     "name": "stderr",
     "output_type": "stream",
     "text": [
      "Epoch 4/29:  40%|████      | 161/400 [00:12<00:18, 13.18it/s]\n"
     ]
    },
    {
     "name": "stdout",
     "output_type": "stream",
     "text": [
      "动画\n"
     ]
    },
    {
     "name": "stderr",
     "output_type": "stream",
     "text": [
      "Epoch 5/29:  33%|███▎      | 132/400 [00:14<00:28,  9.32it/s]\n"
     ]
    },
    {
     "name": "stdout",
     "output_type": "stream",
     "text": [
      "悬疑\n"
     ]
    },
    {
     "name": "stderr",
     "output_type": "stream",
     "text": [
      "Epoch 6/29:  55%|█████▌    | 221/400 [00:47<00:38,  4.70it/s]\n"
     ]
    },
    {
     "name": "stdout",
     "output_type": "stream",
     "text": [
      "惊悚\n"
     ]
    },
    {
     "name": "stderr",
     "output_type": "stream",
     "text": [
      "Epoch 7/29:  84%|████████▍ | 337/400 [00:21<00:04, 15.39it/s]\n"
     ]
    },
    {
     "name": "stdout",
     "output_type": "stream",
     "text": [
      "恐怖\n"
     ]
    },
    {
     "name": "stderr",
     "output_type": "stream",
     "text": [
      "Epoch 8/29:  64%|██████▍   | 257/400 [00:18<00:10, 13.86it/s]\n"
     ]
    },
    {
     "name": "stdout",
     "output_type": "stream",
     "text": [
      "纪录片\n"
     ]
    },
    {
     "name": "stderr",
     "output_type": "stream",
     "text": [
      "Epoch 9/29:  48%|████▊     | 191/400 [00:11<00:12, 17.13it/s]\n"
     ]
    },
    {
     "name": "stdout",
     "output_type": "stream",
     "text": [
      "短片\n"
     ]
    },
    {
     "name": "stderr",
     "output_type": "stream",
     "text": [
      "Epoch 10/29:  70%|███████   | 280/400 [00:14<00:06, 19.85it/s]\n"
     ]
    },
    {
     "name": "stdout",
     "output_type": "stream",
     "text": [
      "情色\n"
     ]
    },
    {
     "name": "stderr",
     "output_type": "stream",
     "text": [
      "Epoch 11/29:  19%|█▉        | 77/400 [00:07<00:30, 10.65it/s]\n"
     ]
    },
    {
     "name": "stdout",
     "output_type": "stream",
     "text": [
      "同性\n"
     ]
    },
    {
     "name": "stderr",
     "output_type": "stream",
     "text": [
      "Epoch 12/29:  27%|██▋       | 109/400 [00:10<00:27, 10.72it/s]\n"
     ]
    },
    {
     "name": "stdout",
     "output_type": "stream",
     "text": [
      "音乐\n"
     ]
    },
    {
     "name": "stderr",
     "output_type": "stream",
     "text": [
      "Epoch 13/29:  17%|█▋        | 67/400 [00:08<00:40,  8.22it/s]\n"
     ]
    },
    {
     "name": "stdout",
     "output_type": "stream",
     "text": [
      "歌舞\n"
     ]
    },
    {
     "name": "stderr",
     "output_type": "stream",
     "text": [
      "Epoch 14/29:  12%|█▏        | 49/400 [00:07<00:57,  6.14it/s]\n"
     ]
    },
    {
     "name": "stdout",
     "output_type": "stream",
     "text": [
      "家庭\n"
     ]
    },
    {
     "name": "stderr",
     "output_type": "stream",
     "text": [
      "Epoch 15/29:  37%|███▋      | 149/400 [00:11<00:18, 13.47it/s]\n"
     ]
    },
    {
     "name": "stdout",
     "output_type": "stream",
     "text": [
      "儿童\n"
     ]
    },
    {
     "name": "stderr",
     "output_type": "stream",
     "text": [
      "Epoch 16/29:   7%|▋         | 28/400 [00:06<01:29,  4.15it/s]\n"
     ]
    },
    {
     "name": "stdout",
     "output_type": "stream",
     "text": [
      "传记\n"
     ]
    },
    {
     "name": "stderr",
     "output_type": "stream",
     "text": [
      "Epoch 17/29:  27%|██▋       | 108/400 [00:10<00:27, 10.74it/s]\n"
     ]
    },
    {
     "name": "stdout",
     "output_type": "stream",
     "text": [
      "历史\n"
     ]
    },
    {
     "name": "stderr",
     "output_type": "stream",
     "text": [
      "Epoch 18/29:  28%|██▊       | 112/400 [00:10<00:27, 10.64it/s]\n"
     ]
    },
    {
     "name": "stdout",
     "output_type": "stream",
     "text": [
      "战争\n"
     ]
    },
    {
     "name": "stderr",
     "output_type": "stream",
     "text": [
      "Epoch 19/29:  26%|██▋       | 106/400 [00:09<00:27, 10.66it/s]\n"
     ]
    },
    {
     "name": "stdout",
     "output_type": "stream",
     "text": [
      "犯罪\n"
     ]
    },
    {
     "name": "stderr",
     "output_type": "stream",
     "text": [
      "Epoch 20/29:  80%|████████  | 322/400 [00:18<00:04, 17.52it/s]\n"
     ]
    },
    {
     "name": "stdout",
     "output_type": "stream",
     "text": [
      "西部\n"
     ]
    },
    {
     "name": "stderr",
     "output_type": "stream",
     "text": [
      "Epoch 21/29:   6%|▋         | 25/400 [00:05<01:17,  4.84it/s]\n"
     ]
    },
    {
     "name": "stdout",
     "output_type": "stream",
     "text": [
      "奇幻\n"
     ]
    },
    {
     "name": "stderr",
     "output_type": "stream",
     "text": [
      "Epoch 22/29:  48%|████▊     | 191/400 [00:13<00:15, 13.65it/s]\n"
     ]
    },
    {
     "name": "stdout",
     "output_type": "stream",
     "text": [
      "冒险\n"
     ]
    },
    {
     "name": "stderr",
     "output_type": "stream",
     "text": [
      "Epoch 23/29:  54%|█████▍    | 215/400 [00:13<00:11, 15.76it/s]\n"
     ]
    },
    {
     "name": "stdout",
     "output_type": "stream",
     "text": [
      "灾难\n"
     ]
    },
    {
     "name": "stderr",
     "output_type": "stream",
     "text": [
      "Epoch 24/29:   4%|▍         | 18/400 [00:05<01:57,  3.24it/s]\n"
     ]
    },
    {
     "name": "stdout",
     "output_type": "stream",
     "text": [
      "武侠\n"
     ]
    },
    {
     "name": "stderr",
     "output_type": "stream",
     "text": [
      "Epoch 25/29:  10%|▉         | 39/400 [00:05<00:52,  6.84it/s]\n"
     ]
    },
    {
     "name": "stdout",
     "output_type": "stream",
     "text": [
      "古装\n"
     ]
    },
    {
     "name": "stderr",
     "output_type": "stream",
     "text": [
      "Epoch 26/29:  18%|█▊        | 71/400 [00:07<00:35,  9.29it/s]\n"
     ]
    },
    {
     "name": "stdout",
     "output_type": "stream",
     "text": [
      "运动\n"
     ]
    },
    {
     "name": "stderr",
     "output_type": "stream",
     "text": [
      "Epoch 27/29:  11%|█         | 44/400 [00:06<00:56,  6.30it/s]\n"
     ]
    },
    {
     "name": "stdout",
     "output_type": "stream",
     "text": [
      "黑色电影\n"
     ]
    },
    {
     "name": "stderr",
     "output_type": "stream",
     "text": [
      "Epoch 28/29:   3%|▎         | 11/400 [00:04<02:56,  2.20it/s]\n"
     ]
    }
   ],
   "source": [
    "header = {\n",
    "    \"User-Agent\":r\"Mozilla/5.0 (Windows NT 10.0; Win64; x64) AppleWebKit/537.36 (KHTML, like Gecko) Chrome/100.0.4896.127 Safari/537.36\"\n",
    "}\n",
    "req = requests.get(r\"https://movie.douban.com/chart\",\n",
    "                   headers=header, timeout=5).text.encode(\"utf-8\")\n",
    "soup_type = bs4.BeautifulSoup(req, \"html.parser\").find_all(name=\"div\", attrs={'class':'types'})[0].find_all(name='a')\n",
    "data_csv = pd.DataFrame(columns=['types', 'rating', 'rank', 'id', 'regions', 'title', 'url', 'release_date', 'actor_count', 'vote_count',\n",
    "                                    'score', 'actors', 'cover_url', 'is_watched'])\n",
    "for item, soup_type_item in enumerate(soup_type):\n",
    "    str_type = str(soup_type_item['href'])[str(soup_type_item['href']).index('type=') + 5:]\n",
    "    str_type = str_type[:str_type.index(\"&\")]\n",
    "    get_moviesLink_by_type(str(soup_type_item.string), str_type, header, data_csv, item, len(soup_type))"
   ],
   "metadata": {
    "collapsed": false,
    "pycharm": {
     "name": "#%%\n"
    }
   }
  },
  {
   "cell_type": "code",
   "execution_count": 21,
   "outputs": [
    {
     "data": {
      "text/plain": "                       types     rating  rank       id       regions  \\\n0                   [犯罪, 剧情]  [9.7, 50]     1  1292052          [美国]   \n1               [剧情, 爱情, 同性]  [9.6, 50]     2  1291546  [中国大陆, 中国香港]   \n2           [剧情, 喜剧, 爱情, 战争]  [9.6, 50]     3  1292063         [意大利]   \n3               [剧情, 历史, 战争]  [9.6, 50]     4  1295124          [美国]   \n4               [剧情, 犯罪, 悬疑]  [9.6, 50]     5  1296141          [美国]   \n...                      ...        ...   ...      ...           ...   \n4869      [剧情, 犯罪, 惊悚, 黑色电影]  [8.3, 45]     7  1293381          [德国]   \n4870      [剧情, 犯罪, 惊悚, 黑色电影]  [8.3, 45]     8  1394342          [法国]   \n4871  [犯罪, 悬疑, 惊悚, 运动, 黑色电影]  [8.3, 45]     9  1305032      [英国, 美国]   \n4872      [剧情, 犯罪, 惊悚, 黑色电影]  [8.3, 45]    10  1301216          [美国]   \n4873      [剧情, 犯罪, 惊悚, 黑色电影]  [8.3, 45]    11  1294978          [美国]   \n\n         title                                        url release_date  \\\n0       肖申克的救赎  https://movie.douban.com/subject/1292052/   1994-09-10   \n1         霸王别姬  https://movie.douban.com/subject/1291546/   1993-07-26   \n2         美丽人生  https://movie.douban.com/subject/1292063/   2020-01-03   \n3       辛德勒的名单  https://movie.douban.com/subject/1295124/   1993-11-30   \n4         控方证人  https://movie.douban.com/subject/1296141/   1957-12-17   \n...        ...                                        ...          ...   \n4869     M就是凶手  https://movie.douban.com/subject/1293381/   1931-05-11   \n4870  通往绞刑架的电梯  https://movie.douban.com/subject/1394342/   1958-01-29   \n4871      四海本色  https://movie.douban.com/subject/1305032/         1950   \n4872     歼匪喋血战  https://movie.douban.com/subject/1301216/   1949-09-02   \n4873       私枭血  https://movie.douban.com/subject/1294978/   1939-10-23   \n\n      actor_count  vote_count score  \\\n0              25     2604462   9.7   \n1              26     1934005   9.6   \n2              29     1202865   9.6   \n3              47     1003232   9.6   \n4              51      453833   9.6   \n...           ...         ...   ...   \n4869           16       26294   8.3   \n4870           22        7768   8.3   \n4871           36        3038   8.3   \n4872           57        1692   8.3   \n4873           12        1028   8.3   \n\n                                                 actors  \\\n0     [蒂姆·罗宾斯, 摩根·弗里曼, 鲍勃·冈顿, 威廉姆·赛德勒, 克兰西·布朗, 吉尔·贝罗...   \n1     [张国荣, 张丰毅, 巩俐, 葛优, 英达, 蒋雯丽, 吴大维, 吕齐, 雷汉, 尹治, 马...   \n2     [罗伯托·贝尼尼, 尼可莱塔·布拉斯基, 乔治·坎塔里尼, 朱斯蒂诺·杜拉诺, 赛尔乔·比尼...   \n3     [连姆·尼森, 本·金斯利, 拉尔夫·费因斯, 卡罗琳·古多尔, 乔纳森·萨加尔, 艾伯丝·...   \n4     [泰隆·鲍华, 玛琳·黛德丽, 查尔斯·劳顿, 爱尔莎·兰切斯特, 约翰·威廉姆斯, 亨利·...   \n...                                                 ...   \n4869  [彼得·洛, 艾伦·维德曼, 因格·兰德特, 奥托·维尔尼克, 弗朗茨·斯坦, 厄恩斯特·斯...   \n4870  [让娜·莫罗, 莫里斯·罗内, 乔吉斯·伯乔利, 约里·贝尔坦, 让·瓦尔, 埃尔加·安德森...   \n4871  [理查德·威德马克, 吉恩·蒂尔尼, 乔姬·韦瑟斯, 休·马洛威, 弗朗西斯·L·沙利文, ...   \n4872  [詹姆斯·卡格尼, 弗吉尼亚·梅奥, 艾德蒙·奥布莱恩, 玛格丽特·威彻利, 史蒂夫·柯臣,...   \n4873  [詹姆斯·卡格尼, 普瑞丝西拉·兰恩, 亨弗莱·鲍嘉, 格拉黛丝·乔治, 杰弗瑞·林恩, 弗...   \n\n                                              cover_url  is_watched  \n0     https://img2.doubanio.com/view/photo/s_ratio_p...       False  \n1     https://img3.doubanio.com/view/photo/s_ratio_p...       False  \n2     https://img2.doubanio.com/view/photo/s_ratio_p...       False  \n3     https://img2.doubanio.com/view/photo/s_ratio_p...       False  \n4     https://img1.doubanio.com/view/photo/s_ratio_p...       False  \n...                                                 ...         ...  \n4869  https://img3.doubanio.com/view/photo/s_ratio_p...       False  \n4870  https://img2.doubanio.com/view/photo/s_ratio_p...       False  \n4871  https://img3.doubanio.com/view/photo/s_ratio_p...       False  \n4872  https://img3.doubanio.com/view/photo/s_ratio_p...       False  \n4873  https://img1.doubanio.com/view/photo/s_ratio_p...       False  \n\n[4874 rows x 14 columns]",
      "text/html": "<div>\n<style scoped>\n    .dataframe tbody tr th:only-of-type {\n        vertical-align: middle;\n    }\n\n    .dataframe tbody tr th {\n        vertical-align: top;\n    }\n\n    .dataframe thead th {\n        text-align: right;\n    }\n</style>\n<table border=\"1\" class=\"dataframe\">\n  <thead>\n    <tr style=\"text-align: right;\">\n      <th></th>\n      <th>types</th>\n      <th>rating</th>\n      <th>rank</th>\n      <th>id</th>\n      <th>regions</th>\n      <th>title</th>\n      <th>url</th>\n      <th>release_date</th>\n      <th>actor_count</th>\n      <th>vote_count</th>\n      <th>score</th>\n      <th>actors</th>\n      <th>cover_url</th>\n      <th>is_watched</th>\n    </tr>\n  </thead>\n  <tbody>\n    <tr>\n      <th>0</th>\n      <td>[犯罪, 剧情]</td>\n      <td>[9.7, 50]</td>\n      <td>1</td>\n      <td>1292052</td>\n      <td>[美国]</td>\n      <td>肖申克的救赎</td>\n      <td>https://movie.douban.com/subject/1292052/</td>\n      <td>1994-09-10</td>\n      <td>25</td>\n      <td>2604462</td>\n      <td>9.7</td>\n      <td>[蒂姆·罗宾斯, 摩根·弗里曼, 鲍勃·冈顿, 威廉姆·赛德勒, 克兰西·布朗, 吉尔·贝罗...</td>\n      <td>https://img2.doubanio.com/view/photo/s_ratio_p...</td>\n      <td>False</td>\n    </tr>\n    <tr>\n      <th>1</th>\n      <td>[剧情, 爱情, 同性]</td>\n      <td>[9.6, 50]</td>\n      <td>2</td>\n      <td>1291546</td>\n      <td>[中国大陆, 中国香港]</td>\n      <td>霸王别姬</td>\n      <td>https://movie.douban.com/subject/1291546/</td>\n      <td>1993-07-26</td>\n      <td>26</td>\n      <td>1934005</td>\n      <td>9.6</td>\n      <td>[张国荣, 张丰毅, 巩俐, 葛优, 英达, 蒋雯丽, 吴大维, 吕齐, 雷汉, 尹治, 马...</td>\n      <td>https://img3.doubanio.com/view/photo/s_ratio_p...</td>\n      <td>False</td>\n    </tr>\n    <tr>\n      <th>2</th>\n      <td>[剧情, 喜剧, 爱情, 战争]</td>\n      <td>[9.6, 50]</td>\n      <td>3</td>\n      <td>1292063</td>\n      <td>[意大利]</td>\n      <td>美丽人生</td>\n      <td>https://movie.douban.com/subject/1292063/</td>\n      <td>2020-01-03</td>\n      <td>29</td>\n      <td>1202865</td>\n      <td>9.6</td>\n      <td>[罗伯托·贝尼尼, 尼可莱塔·布拉斯基, 乔治·坎塔里尼, 朱斯蒂诺·杜拉诺, 赛尔乔·比尼...</td>\n      <td>https://img2.doubanio.com/view/photo/s_ratio_p...</td>\n      <td>False</td>\n    </tr>\n    <tr>\n      <th>3</th>\n      <td>[剧情, 历史, 战争]</td>\n      <td>[9.6, 50]</td>\n      <td>4</td>\n      <td>1295124</td>\n      <td>[美国]</td>\n      <td>辛德勒的名单</td>\n      <td>https://movie.douban.com/subject/1295124/</td>\n      <td>1993-11-30</td>\n      <td>47</td>\n      <td>1003232</td>\n      <td>9.6</td>\n      <td>[连姆·尼森, 本·金斯利, 拉尔夫·费因斯, 卡罗琳·古多尔, 乔纳森·萨加尔, 艾伯丝·...</td>\n      <td>https://img2.doubanio.com/view/photo/s_ratio_p...</td>\n      <td>False</td>\n    </tr>\n    <tr>\n      <th>4</th>\n      <td>[剧情, 犯罪, 悬疑]</td>\n      <td>[9.6, 50]</td>\n      <td>5</td>\n      <td>1296141</td>\n      <td>[美国]</td>\n      <td>控方证人</td>\n      <td>https://movie.douban.com/subject/1296141/</td>\n      <td>1957-12-17</td>\n      <td>51</td>\n      <td>453833</td>\n      <td>9.6</td>\n      <td>[泰隆·鲍华, 玛琳·黛德丽, 查尔斯·劳顿, 爱尔莎·兰切斯特, 约翰·威廉姆斯, 亨利·...</td>\n      <td>https://img1.doubanio.com/view/photo/s_ratio_p...</td>\n      <td>False</td>\n    </tr>\n    <tr>\n      <th>...</th>\n      <td>...</td>\n      <td>...</td>\n      <td>...</td>\n      <td>...</td>\n      <td>...</td>\n      <td>...</td>\n      <td>...</td>\n      <td>...</td>\n      <td>...</td>\n      <td>...</td>\n      <td>...</td>\n      <td>...</td>\n      <td>...</td>\n      <td>...</td>\n    </tr>\n    <tr>\n      <th>4869</th>\n      <td>[剧情, 犯罪, 惊悚, 黑色电影]</td>\n      <td>[8.3, 45]</td>\n      <td>7</td>\n      <td>1293381</td>\n      <td>[德国]</td>\n      <td>M就是凶手</td>\n      <td>https://movie.douban.com/subject/1293381/</td>\n      <td>1931-05-11</td>\n      <td>16</td>\n      <td>26294</td>\n      <td>8.3</td>\n      <td>[彼得·洛, 艾伦·维德曼, 因格·兰德特, 奥托·维尔尼克, 弗朗茨·斯坦, 厄恩斯特·斯...</td>\n      <td>https://img3.doubanio.com/view/photo/s_ratio_p...</td>\n      <td>False</td>\n    </tr>\n    <tr>\n      <th>4870</th>\n      <td>[剧情, 犯罪, 惊悚, 黑色电影]</td>\n      <td>[8.3, 45]</td>\n      <td>8</td>\n      <td>1394342</td>\n      <td>[法国]</td>\n      <td>通往绞刑架的电梯</td>\n      <td>https://movie.douban.com/subject/1394342/</td>\n      <td>1958-01-29</td>\n      <td>22</td>\n      <td>7768</td>\n      <td>8.3</td>\n      <td>[让娜·莫罗, 莫里斯·罗内, 乔吉斯·伯乔利, 约里·贝尔坦, 让·瓦尔, 埃尔加·安德森...</td>\n      <td>https://img2.doubanio.com/view/photo/s_ratio_p...</td>\n      <td>False</td>\n    </tr>\n    <tr>\n      <th>4871</th>\n      <td>[犯罪, 悬疑, 惊悚, 运动, 黑色电影]</td>\n      <td>[8.3, 45]</td>\n      <td>9</td>\n      <td>1305032</td>\n      <td>[英国, 美国]</td>\n      <td>四海本色</td>\n      <td>https://movie.douban.com/subject/1305032/</td>\n      <td>1950</td>\n      <td>36</td>\n      <td>3038</td>\n      <td>8.3</td>\n      <td>[理查德·威德马克, 吉恩·蒂尔尼, 乔姬·韦瑟斯, 休·马洛威, 弗朗西斯·L·沙利文, ...</td>\n      <td>https://img3.doubanio.com/view/photo/s_ratio_p...</td>\n      <td>False</td>\n    </tr>\n    <tr>\n      <th>4872</th>\n      <td>[剧情, 犯罪, 惊悚, 黑色电影]</td>\n      <td>[8.3, 45]</td>\n      <td>10</td>\n      <td>1301216</td>\n      <td>[美国]</td>\n      <td>歼匪喋血战</td>\n      <td>https://movie.douban.com/subject/1301216/</td>\n      <td>1949-09-02</td>\n      <td>57</td>\n      <td>1692</td>\n      <td>8.3</td>\n      <td>[詹姆斯·卡格尼, 弗吉尼亚·梅奥, 艾德蒙·奥布莱恩, 玛格丽特·威彻利, 史蒂夫·柯臣,...</td>\n      <td>https://img3.doubanio.com/view/photo/s_ratio_p...</td>\n      <td>False</td>\n    </tr>\n    <tr>\n      <th>4873</th>\n      <td>[剧情, 犯罪, 惊悚, 黑色电影]</td>\n      <td>[8.3, 45]</td>\n      <td>11</td>\n      <td>1294978</td>\n      <td>[美国]</td>\n      <td>私枭血</td>\n      <td>https://movie.douban.com/subject/1294978/</td>\n      <td>1939-10-23</td>\n      <td>12</td>\n      <td>1028</td>\n      <td>8.3</td>\n      <td>[詹姆斯·卡格尼, 普瑞丝西拉·兰恩, 亨弗莱·鲍嘉, 格拉黛丝·乔治, 杰弗瑞·林恩, 弗...</td>\n      <td>https://img1.doubanio.com/view/photo/s_ratio_p...</td>\n      <td>False</td>\n    </tr>\n  </tbody>\n</table>\n<p>4874 rows × 14 columns</p>\n</div>"
     },
     "execution_count": 21,
     "metadata": {},
     "output_type": "execute_result"
    }
   ],
   "source": [
    "data_csv.to_csv(\"./data_movies.csv\", index=False)\n",
    "data_csv"
   ],
   "metadata": {
    "collapsed": false,
    "pycharm": {
     "name": "#%%\n"
    }
   }
  },
  {
   "cell_type": "markdown",
   "source": [
    "####  去重"
   ],
   "metadata": {
    "collapsed": false
   }
  },
  {
   "cell_type": "code",
   "execution_count": 41,
   "outputs": [
    {
     "data": {
      "text/plain": "              rank            id  actor_count    vote_count        score\ncount  4874.000000  4.874000e+03  4874.000000  4.874000e+03  4874.000000\nmean    130.894748  6.207524e+06    17.987279  1.526274e+05     8.586500\nstd     101.076158  9.503686e+06    14.669498  2.906308e+05     0.464701\nmin       1.000000  1.291543e+06     0.000000  3.020000e+02     7.200000\n25%      46.000000  1.298420e+06     7.000000  3.692000e+03     8.300000\n50%     106.000000  1.422607e+06    15.000000  2.592150e+04     8.600000\n75%     197.000000  4.179012e+06    25.000000  1.596698e+05     8.900000\nmax     400.000000  3.569191e+07   112.000000  2.604467e+06     9.700000",
      "text/html": "<div>\n<style scoped>\n    .dataframe tbody tr th:only-of-type {\n        vertical-align: middle;\n    }\n\n    .dataframe tbody tr th {\n        vertical-align: top;\n    }\n\n    .dataframe thead th {\n        text-align: right;\n    }\n</style>\n<table border=\"1\" class=\"dataframe\">\n  <thead>\n    <tr style=\"text-align: right;\">\n      <th></th>\n      <th>rank</th>\n      <th>id</th>\n      <th>actor_count</th>\n      <th>vote_count</th>\n      <th>score</th>\n    </tr>\n  </thead>\n  <tbody>\n    <tr>\n      <th>count</th>\n      <td>4874.000000</td>\n      <td>4.874000e+03</td>\n      <td>4874.000000</td>\n      <td>4.874000e+03</td>\n      <td>4874.000000</td>\n    </tr>\n    <tr>\n      <th>mean</th>\n      <td>130.894748</td>\n      <td>6.207524e+06</td>\n      <td>17.987279</td>\n      <td>1.526274e+05</td>\n      <td>8.586500</td>\n    </tr>\n    <tr>\n      <th>std</th>\n      <td>101.076158</td>\n      <td>9.503686e+06</td>\n      <td>14.669498</td>\n      <td>2.906308e+05</td>\n      <td>0.464701</td>\n    </tr>\n    <tr>\n      <th>min</th>\n      <td>1.000000</td>\n      <td>1.291543e+06</td>\n      <td>0.000000</td>\n      <td>3.020000e+02</td>\n      <td>7.200000</td>\n    </tr>\n    <tr>\n      <th>25%</th>\n      <td>46.000000</td>\n      <td>1.298420e+06</td>\n      <td>7.000000</td>\n      <td>3.692000e+03</td>\n      <td>8.300000</td>\n    </tr>\n    <tr>\n      <th>50%</th>\n      <td>106.000000</td>\n      <td>1.422607e+06</td>\n      <td>15.000000</td>\n      <td>2.592150e+04</td>\n      <td>8.600000</td>\n    </tr>\n    <tr>\n      <th>75%</th>\n      <td>197.000000</td>\n      <td>4.179012e+06</td>\n      <td>25.000000</td>\n      <td>1.596698e+05</td>\n      <td>8.900000</td>\n    </tr>\n    <tr>\n      <th>max</th>\n      <td>400.000000</td>\n      <td>3.569191e+07</td>\n      <td>112.000000</td>\n      <td>2.604467e+06</td>\n      <td>9.700000</td>\n    </tr>\n  </tbody>\n</table>\n</div>"
     },
     "execution_count": 41,
     "metadata": {},
     "output_type": "execute_result"
    }
   ],
   "source": [
    "data_csv = pd.read_csv(\"./data_movies.csv\")\n",
    "data_csv.describe()"
   ],
   "metadata": {
    "collapsed": false,
    "pycharm": {
     "name": "#%%\n"
    }
   }
  },
  {
   "cell_type": "code",
   "execution_count": 44,
   "outputs": [
    {
     "name": "stdout",
     "output_type": "stream",
     "text": [
      "3016\n",
      "2967\n",
      "3016\n",
      "3016\n"
     ]
    }
   ],
   "source": [
    "data_csv = data_csv.loc[data_csv['id'].astype(str).drop_duplicates().index]\n",
    "print(len(data_csv.url.unique()))\n",
    "print(len(data_csv.title.unique()))\n",
    "print(len(data_csv.id.unique()))\n",
    "print(len(data_csv))"
   ],
   "metadata": {
    "collapsed": false,
    "pycharm": {
     "name": "#%%\n"
    }
   }
  }
 ],
 "metadata": {
  "kernelspec": {
   "display_name": "Python 3",
   "language": "python",
   "name": "python3"
  },
  "language_info": {
   "codemirror_mode": {
    "name": "ipython",
    "version": 2
   },
   "file_extension": ".py",
   "mimetype": "text/x-python",
   "name": "python",
   "nbconvert_exporter": "python",
   "pygments_lexer": "ipython2",
   "version": "2.7.6"
  }
 },
 "nbformat": 4,
 "nbformat_minor": 0
}