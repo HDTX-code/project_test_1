{
 "cells": [
  {
   "cell_type": "markdown",
   "source": [
    "#### Get Movies Type"
   ],
   "metadata": {
    "collapsed": false
   }
  },
  {
   "cell_type": "code",
   "execution_count": 2,
   "metadata": {
    "collapsed": true
   },
   "outputs": [],
   "source": [
    "import requests\n",
    "import bs4\n",
    "import pandas as pd\n",
    "import json\n",
    "from tqdm import tqdm\n",
    "import copy\n",
    "import random"
   ]
  },
  {
   "cell_type": "code",
   "execution_count": 3,
   "outputs": [],
   "source": [
    "def get_moviesLink_by_type(Type, types_num, header, data_csv, item_epoch, max_epoch):\n",
    "    print(Type)\n",
    "    # header = {\n",
    "    # 'User-Agent':r'Mozilla/5.0 (Windows NT 10.0; Win64; x64) AppleWebKit/537.36 (KHTML, like Gecko) Chrome/100.0.4896.127 Safari/537.36'}\n",
    "    with tqdm(total=400 * 16, desc=f'Epoch {item_epoch + 1}/{max_epoch}') as pbar:\n",
    "        for range_item in range(16):\n",
    "            for item_start in range(20):\n",
    "                type_url = 'https://movie.douban.com/j/chart/top_list?type={}&interval_id={}%3A{}&action=&start={}&limit=20'.\\\n",
    "                    format(types_num, 100 - range_item*5, 90 - range_item*5, item_start*20)\n",
    "                req = json.loads(requests.get(type_url, headers=header, timeout=50).text)\n",
    "                for detail_item in req:\n",
    "                    data_csv.loc[len(data_csv)] = detail_item\n",
    "                    pbar.update(1)"
   ],
   "metadata": {
    "collapsed": false,
    "pycharm": {
     "name": "#%%\n"
    }
   }
  },
  {
   "cell_type": "code",
   "execution_count": 11,
   "outputs": [
    {
     "name": "stdout",
     "output_type": "stream",
     "text": [
      "剧情\n"
     ]
    },
    {
     "name": "stderr",
     "output_type": "stream",
     "text": [
      "Epoch 0/29:   1%|▏         | 80/6400 [00:06<08:27, 12.45it/s] \n"
     ]
    },
    {
     "ename": "KeyboardInterrupt",
     "evalue": "",
     "output_type": "error",
     "traceback": [
      "\u001B[1;31m---------------------------------------------------------------------------\u001B[0m",
      "\u001B[1;31mKeyboardInterrupt\u001B[0m                         Traceback (most recent call last)",
      "Input \u001B[1;32mIn [11]\u001B[0m, in \u001B[0;36m<cell line: 9>\u001B[1;34m()\u001B[0m\n\u001B[0;32m     10\u001B[0m str_type \u001B[38;5;241m=\u001B[39m \u001B[38;5;28mstr\u001B[39m(soup_type_item[\u001B[38;5;124m'\u001B[39m\u001B[38;5;124mhref\u001B[39m\u001B[38;5;124m'\u001B[39m])[\u001B[38;5;28mstr\u001B[39m(soup_type_item[\u001B[38;5;124m'\u001B[39m\u001B[38;5;124mhref\u001B[39m\u001B[38;5;124m'\u001B[39m])\u001B[38;5;241m.\u001B[39mindex(\u001B[38;5;124m'\u001B[39m\u001B[38;5;124mtype=\u001B[39m\u001B[38;5;124m'\u001B[39m) \u001B[38;5;241m+\u001B[39m \u001B[38;5;241m5\u001B[39m:]\n\u001B[0;32m     11\u001B[0m str_type \u001B[38;5;241m=\u001B[39m str_type[:str_type\u001B[38;5;241m.\u001B[39mindex(\u001B[38;5;124m\"\u001B[39m\u001B[38;5;124m&\u001B[39m\u001B[38;5;124m\"\u001B[39m)]\n\u001B[1;32m---> 12\u001B[0m \u001B[43mget_moviesLink_by_type\u001B[49m\u001B[43m(\u001B[49m\u001B[38;5;28;43mstr\u001B[39;49m\u001B[43m(\u001B[49m\u001B[43msoup_type_item\u001B[49m\u001B[38;5;241;43m.\u001B[39;49m\u001B[43mstring\u001B[49m\u001B[43m)\u001B[49m\u001B[43m,\u001B[49m\u001B[43m \u001B[49m\u001B[43mstr_type\u001B[49m\u001B[43m,\u001B[49m\u001B[43m \u001B[49m\u001B[43mheader\u001B[49m\u001B[43m,\u001B[49m\u001B[43m \u001B[49m\u001B[43mdata_csv\u001B[49m\u001B[43m,\u001B[49m\u001B[43m \u001B[49m\u001B[43mitem_epoch\u001B[49m\u001B[43m,\u001B[49m\u001B[43m \u001B[49m\u001B[38;5;28;43mlen\u001B[39;49m\u001B[43m(\u001B[49m\u001B[43msoup_type\u001B[49m\u001B[43m)\u001B[49m\u001B[43m)\u001B[49m\n",
      "Input \u001B[1;32mIn [3]\u001B[0m, in \u001B[0;36mget_moviesLink_by_type\u001B[1;34m(Type, types_num, header, data_csv, item_epoch, max_epoch)\u001B[0m\n\u001B[0;32m      7\u001B[0m \u001B[38;5;28;01mfor\u001B[39;00m item \u001B[38;5;129;01min\u001B[39;00m \u001B[38;5;28mrange\u001B[39m(\u001B[38;5;241m20\u001B[39m):\n\u001B[0;32m      8\u001B[0m     type_url \u001B[38;5;241m=\u001B[39m \u001B[38;5;124m'\u001B[39m\u001B[38;5;124mhttps://movie.douban.com/j/chart/top_list?type=\u001B[39m\u001B[38;5;132;01m{}\u001B[39;00m\u001B[38;5;124m&interval_id=\u001B[39m\u001B[38;5;132;01m{}\u001B[39;00m\u001B[38;5;124m%\u001B[39m\u001B[38;5;124m3A\u001B[39m\u001B[38;5;132;01m{}\u001B[39;00m\u001B[38;5;124m&action=&start=\u001B[39m\u001B[38;5;132;01m{}\u001B[39;00m\u001B[38;5;124m&limit=20\u001B[39m\u001B[38;5;124m'\u001B[39m\u001B[38;5;241m.\u001B[39m\\\n\u001B[0;32m      9\u001B[0m         \u001B[38;5;28mformat\u001B[39m(types_num, \u001B[38;5;241m100\u001B[39m \u001B[38;5;241m-\u001B[39m range_item\u001B[38;5;241m*\u001B[39m\u001B[38;5;241m5\u001B[39m, \u001B[38;5;241m90\u001B[39m \u001B[38;5;241m-\u001B[39m range_item\u001B[38;5;241m*\u001B[39m\u001B[38;5;241m5\u001B[39m, item\u001B[38;5;241m*\u001B[39m\u001B[38;5;241m20\u001B[39m)\n\u001B[1;32m---> 10\u001B[0m     req \u001B[38;5;241m=\u001B[39m json\u001B[38;5;241m.\u001B[39mloads(\u001B[43mrequests\u001B[49m\u001B[38;5;241;43m.\u001B[39;49m\u001B[43mget\u001B[49m\u001B[43m(\u001B[49m\u001B[43mtype_url\u001B[49m\u001B[43m,\u001B[49m\u001B[43m \u001B[49m\u001B[43mheaders\u001B[49m\u001B[38;5;241;43m=\u001B[39;49m\u001B[43mheader\u001B[49m\u001B[43m,\u001B[49m\u001B[43m \u001B[49m\u001B[43mtimeout\u001B[49m\u001B[38;5;241;43m=\u001B[39;49m\u001B[38;5;241;43m50\u001B[39;49m\u001B[43m)\u001B[49m\u001B[38;5;241m.\u001B[39mtext)\n\u001B[0;32m     11\u001B[0m     \u001B[38;5;28;01mfor\u001B[39;00m detail_item \u001B[38;5;129;01min\u001B[39;00m req:\n\u001B[0;32m     12\u001B[0m         data_csv\u001B[38;5;241m.\u001B[39mloc[\u001B[38;5;28mlen\u001B[39m(data_csv)] \u001B[38;5;241m=\u001B[39m detail_item\n",
      "File \u001B[1;32mD:\\Code\\annaconda\\envs\\Env_1\\lib\\site-packages\\requests\\api.py:75\u001B[0m, in \u001B[0;36mget\u001B[1;34m(url, params, **kwargs)\u001B[0m\n\u001B[0;32m     64\u001B[0m \u001B[38;5;28;01mdef\u001B[39;00m \u001B[38;5;21mget\u001B[39m(url, params\u001B[38;5;241m=\u001B[39m\u001B[38;5;28;01mNone\u001B[39;00m, \u001B[38;5;241m*\u001B[39m\u001B[38;5;241m*\u001B[39mkwargs):\n\u001B[0;32m     65\u001B[0m     \u001B[38;5;124mr\u001B[39m\u001B[38;5;124;03m\"\"\"Sends a GET request.\u001B[39;00m\n\u001B[0;32m     66\u001B[0m \n\u001B[0;32m     67\u001B[0m \u001B[38;5;124;03m    :param url: URL for the new :class:`Request` object.\u001B[39;00m\n\u001B[1;32m   (...)\u001B[0m\n\u001B[0;32m     72\u001B[0m \u001B[38;5;124;03m    :rtype: requests.Response\u001B[39;00m\n\u001B[0;32m     73\u001B[0m \u001B[38;5;124;03m    \"\"\"\u001B[39;00m\n\u001B[1;32m---> 75\u001B[0m     \u001B[38;5;28;01mreturn\u001B[39;00m request(\u001B[38;5;124m'\u001B[39m\u001B[38;5;124mget\u001B[39m\u001B[38;5;124m'\u001B[39m, url, params\u001B[38;5;241m=\u001B[39mparams, \u001B[38;5;241m*\u001B[39m\u001B[38;5;241m*\u001B[39mkwargs)\n",
      "File \u001B[1;32mD:\\Code\\annaconda\\envs\\Env_1\\lib\\site-packages\\requests\\api.py:61\u001B[0m, in \u001B[0;36mrequest\u001B[1;34m(method, url, **kwargs)\u001B[0m\n\u001B[0;32m     57\u001B[0m \u001B[38;5;66;03m# By using the 'with' statement we are sure the session is closed, thus we\u001B[39;00m\n\u001B[0;32m     58\u001B[0m \u001B[38;5;66;03m# avoid leaving sockets open which can trigger a ResourceWarning in some\u001B[39;00m\n\u001B[0;32m     59\u001B[0m \u001B[38;5;66;03m# cases, and look like a memory leak in others.\u001B[39;00m\n\u001B[0;32m     60\u001B[0m \u001B[38;5;28;01mwith\u001B[39;00m sessions\u001B[38;5;241m.\u001B[39mSession() \u001B[38;5;28;01mas\u001B[39;00m session:\n\u001B[1;32m---> 61\u001B[0m     \u001B[38;5;28;01mreturn\u001B[39;00m session\u001B[38;5;241m.\u001B[39mrequest(method\u001B[38;5;241m=\u001B[39mmethod, url\u001B[38;5;241m=\u001B[39murl, \u001B[38;5;241m*\u001B[39m\u001B[38;5;241m*\u001B[39mkwargs)\n",
      "File \u001B[1;32mD:\\Code\\annaconda\\envs\\Env_1\\lib\\site-packages\\requests\\sessions.py:529\u001B[0m, in \u001B[0;36mSession.request\u001B[1;34m(self, method, url, params, data, headers, cookies, files, auth, timeout, allow_redirects, proxies, hooks, stream, verify, cert, json)\u001B[0m\n\u001B[0;32m    524\u001B[0m send_kwargs \u001B[38;5;241m=\u001B[39m {\n\u001B[0;32m    525\u001B[0m     \u001B[38;5;124m'\u001B[39m\u001B[38;5;124mtimeout\u001B[39m\u001B[38;5;124m'\u001B[39m: timeout,\n\u001B[0;32m    526\u001B[0m     \u001B[38;5;124m'\u001B[39m\u001B[38;5;124mallow_redirects\u001B[39m\u001B[38;5;124m'\u001B[39m: allow_redirects,\n\u001B[0;32m    527\u001B[0m }\n\u001B[0;32m    528\u001B[0m send_kwargs\u001B[38;5;241m.\u001B[39mupdate(settings)\n\u001B[1;32m--> 529\u001B[0m resp \u001B[38;5;241m=\u001B[39m \u001B[38;5;28mself\u001B[39m\u001B[38;5;241m.\u001B[39msend(prep, \u001B[38;5;241m*\u001B[39m\u001B[38;5;241m*\u001B[39msend_kwargs)\n\u001B[0;32m    531\u001B[0m \u001B[38;5;28;01mreturn\u001B[39;00m resp\n",
      "File \u001B[1;32mD:\\Code\\annaconda\\envs\\Env_1\\lib\\site-packages\\requests\\sessions.py:645\u001B[0m, in \u001B[0;36mSession.send\u001B[1;34m(self, request, **kwargs)\u001B[0m\n\u001B[0;32m    642\u001B[0m start \u001B[38;5;241m=\u001B[39m preferred_clock()\n\u001B[0;32m    644\u001B[0m \u001B[38;5;66;03m# Send the request\u001B[39;00m\n\u001B[1;32m--> 645\u001B[0m r \u001B[38;5;241m=\u001B[39m adapter\u001B[38;5;241m.\u001B[39msend(request, \u001B[38;5;241m*\u001B[39m\u001B[38;5;241m*\u001B[39mkwargs)\n\u001B[0;32m    647\u001B[0m \u001B[38;5;66;03m# Total elapsed time of the request (approximately)\u001B[39;00m\n\u001B[0;32m    648\u001B[0m elapsed \u001B[38;5;241m=\u001B[39m preferred_clock() \u001B[38;5;241m-\u001B[39m start\n",
      "File \u001B[1;32mD:\\Code\\annaconda\\envs\\Env_1\\lib\\site-packages\\requests\\adapters.py:440\u001B[0m, in \u001B[0;36mHTTPAdapter.send\u001B[1;34m(self, request, stream, timeout, verify, cert, proxies)\u001B[0m\n\u001B[0;32m    438\u001B[0m \u001B[38;5;28;01mtry\u001B[39;00m:\n\u001B[0;32m    439\u001B[0m     \u001B[38;5;28;01mif\u001B[39;00m \u001B[38;5;129;01mnot\u001B[39;00m chunked:\n\u001B[1;32m--> 440\u001B[0m         resp \u001B[38;5;241m=\u001B[39m \u001B[43mconn\u001B[49m\u001B[38;5;241;43m.\u001B[39;49m\u001B[43murlopen\u001B[49m\u001B[43m(\u001B[49m\n\u001B[0;32m    441\u001B[0m \u001B[43m            \u001B[49m\u001B[43mmethod\u001B[49m\u001B[38;5;241;43m=\u001B[39;49m\u001B[43mrequest\u001B[49m\u001B[38;5;241;43m.\u001B[39;49m\u001B[43mmethod\u001B[49m\u001B[43m,\u001B[49m\n\u001B[0;32m    442\u001B[0m \u001B[43m            \u001B[49m\u001B[43murl\u001B[49m\u001B[38;5;241;43m=\u001B[39;49m\u001B[43murl\u001B[49m\u001B[43m,\u001B[49m\n\u001B[0;32m    443\u001B[0m \u001B[43m            \u001B[49m\u001B[43mbody\u001B[49m\u001B[38;5;241;43m=\u001B[39;49m\u001B[43mrequest\u001B[49m\u001B[38;5;241;43m.\u001B[39;49m\u001B[43mbody\u001B[49m\u001B[43m,\u001B[49m\n\u001B[0;32m    444\u001B[0m \u001B[43m            \u001B[49m\u001B[43mheaders\u001B[49m\u001B[38;5;241;43m=\u001B[39;49m\u001B[43mrequest\u001B[49m\u001B[38;5;241;43m.\u001B[39;49m\u001B[43mheaders\u001B[49m\u001B[43m,\u001B[49m\n\u001B[0;32m    445\u001B[0m \u001B[43m            \u001B[49m\u001B[43mredirect\u001B[49m\u001B[38;5;241;43m=\u001B[39;49m\u001B[38;5;28;43;01mFalse\u001B[39;49;00m\u001B[43m,\u001B[49m\n\u001B[0;32m    446\u001B[0m \u001B[43m            \u001B[49m\u001B[43massert_same_host\u001B[49m\u001B[38;5;241;43m=\u001B[39;49m\u001B[38;5;28;43;01mFalse\u001B[39;49;00m\u001B[43m,\u001B[49m\n\u001B[0;32m    447\u001B[0m \u001B[43m            \u001B[49m\u001B[43mpreload_content\u001B[49m\u001B[38;5;241;43m=\u001B[39;49m\u001B[38;5;28;43;01mFalse\u001B[39;49;00m\u001B[43m,\u001B[49m\n\u001B[0;32m    448\u001B[0m \u001B[43m            \u001B[49m\u001B[43mdecode_content\u001B[49m\u001B[38;5;241;43m=\u001B[39;49m\u001B[38;5;28;43;01mFalse\u001B[39;49;00m\u001B[43m,\u001B[49m\n\u001B[0;32m    449\u001B[0m \u001B[43m            \u001B[49m\u001B[43mretries\u001B[49m\u001B[38;5;241;43m=\u001B[39;49m\u001B[38;5;28;43mself\u001B[39;49m\u001B[38;5;241;43m.\u001B[39;49m\u001B[43mmax_retries\u001B[49m\u001B[43m,\u001B[49m\n\u001B[0;32m    450\u001B[0m \u001B[43m            \u001B[49m\u001B[43mtimeout\u001B[49m\u001B[38;5;241;43m=\u001B[39;49m\u001B[43mtimeout\u001B[49m\n\u001B[0;32m    451\u001B[0m \u001B[43m        \u001B[49m\u001B[43m)\u001B[49m\n\u001B[0;32m    453\u001B[0m     \u001B[38;5;66;03m# Send the request.\u001B[39;00m\n\u001B[0;32m    454\u001B[0m     \u001B[38;5;28;01melse\u001B[39;00m:\n\u001B[0;32m    455\u001B[0m         \u001B[38;5;28;01mif\u001B[39;00m \u001B[38;5;28mhasattr\u001B[39m(conn, \u001B[38;5;124m'\u001B[39m\u001B[38;5;124mproxy_pool\u001B[39m\u001B[38;5;124m'\u001B[39m):\n",
      "File \u001B[1;32mD:\\Code\\annaconda\\envs\\Env_1\\lib\\site-packages\\urllib3\\connectionpool.py:703\u001B[0m, in \u001B[0;36mHTTPConnectionPool.urlopen\u001B[1;34m(self, method, url, body, headers, retries, redirect, assert_same_host, timeout, pool_timeout, release_conn, chunked, body_pos, **response_kw)\u001B[0m\n\u001B[0;32m    700\u001B[0m     \u001B[38;5;28mself\u001B[39m\u001B[38;5;241m.\u001B[39m_prepare_proxy(conn)\n\u001B[0;32m    702\u001B[0m \u001B[38;5;66;03m# Make the request on the httplib connection object.\u001B[39;00m\n\u001B[1;32m--> 703\u001B[0m httplib_response \u001B[38;5;241m=\u001B[39m \u001B[38;5;28;43mself\u001B[39;49m\u001B[38;5;241;43m.\u001B[39;49m\u001B[43m_make_request\u001B[49m\u001B[43m(\u001B[49m\n\u001B[0;32m    704\u001B[0m \u001B[43m    \u001B[49m\u001B[43mconn\u001B[49m\u001B[43m,\u001B[49m\n\u001B[0;32m    705\u001B[0m \u001B[43m    \u001B[49m\u001B[43mmethod\u001B[49m\u001B[43m,\u001B[49m\n\u001B[0;32m    706\u001B[0m \u001B[43m    \u001B[49m\u001B[43murl\u001B[49m\u001B[43m,\u001B[49m\n\u001B[0;32m    707\u001B[0m \u001B[43m    \u001B[49m\u001B[43mtimeout\u001B[49m\u001B[38;5;241;43m=\u001B[39;49m\u001B[43mtimeout_obj\u001B[49m\u001B[43m,\u001B[49m\n\u001B[0;32m    708\u001B[0m \u001B[43m    \u001B[49m\u001B[43mbody\u001B[49m\u001B[38;5;241;43m=\u001B[39;49m\u001B[43mbody\u001B[49m\u001B[43m,\u001B[49m\n\u001B[0;32m    709\u001B[0m \u001B[43m    \u001B[49m\u001B[43mheaders\u001B[49m\u001B[38;5;241;43m=\u001B[39;49m\u001B[43mheaders\u001B[49m\u001B[43m,\u001B[49m\n\u001B[0;32m    710\u001B[0m \u001B[43m    \u001B[49m\u001B[43mchunked\u001B[49m\u001B[38;5;241;43m=\u001B[39;49m\u001B[43mchunked\u001B[49m\u001B[43m,\u001B[49m\n\u001B[0;32m    711\u001B[0m \u001B[43m\u001B[49m\u001B[43m)\u001B[49m\n\u001B[0;32m    713\u001B[0m \u001B[38;5;66;03m# If we're going to release the connection in ``finally:``, then\u001B[39;00m\n\u001B[0;32m    714\u001B[0m \u001B[38;5;66;03m# the response doesn't need to know about the connection. Otherwise\u001B[39;00m\n\u001B[0;32m    715\u001B[0m \u001B[38;5;66;03m# it will also try to release it and we'll have a double-release\u001B[39;00m\n\u001B[0;32m    716\u001B[0m \u001B[38;5;66;03m# mess.\u001B[39;00m\n\u001B[0;32m    717\u001B[0m response_conn \u001B[38;5;241m=\u001B[39m conn \u001B[38;5;28;01mif\u001B[39;00m \u001B[38;5;129;01mnot\u001B[39;00m release_conn \u001B[38;5;28;01melse\u001B[39;00m \u001B[38;5;28;01mNone\u001B[39;00m\n",
      "File \u001B[1;32mD:\\Code\\annaconda\\envs\\Env_1\\lib\\site-packages\\urllib3\\connectionpool.py:449\u001B[0m, in \u001B[0;36mHTTPConnectionPool._make_request\u001B[1;34m(self, conn, method, url, timeout, chunked, **httplib_request_kw)\u001B[0m\n\u001B[0;32m    444\u001B[0m             httplib_response \u001B[38;5;241m=\u001B[39m conn\u001B[38;5;241m.\u001B[39mgetresponse()\n\u001B[0;32m    445\u001B[0m         \u001B[38;5;28;01mexcept\u001B[39;00m \u001B[38;5;167;01mBaseException\u001B[39;00m \u001B[38;5;28;01mas\u001B[39;00m e:\n\u001B[0;32m    446\u001B[0m             \u001B[38;5;66;03m# Remove the TypeError from the exception chain in\u001B[39;00m\n\u001B[0;32m    447\u001B[0m             \u001B[38;5;66;03m# Python 3 (including for exceptions like SystemExit).\u001B[39;00m\n\u001B[0;32m    448\u001B[0m             \u001B[38;5;66;03m# Otherwise it looks like a bug in the code.\u001B[39;00m\n\u001B[1;32m--> 449\u001B[0m             \u001B[43msix\u001B[49m\u001B[38;5;241;43m.\u001B[39;49m\u001B[43mraise_from\u001B[49m\u001B[43m(\u001B[49m\u001B[43me\u001B[49m\u001B[43m,\u001B[49m\u001B[43m \u001B[49m\u001B[38;5;28;43;01mNone\u001B[39;49;00m\u001B[43m)\u001B[49m\n\u001B[0;32m    450\u001B[0m \u001B[38;5;28;01mexcept\u001B[39;00m (SocketTimeout, BaseSSLError, SocketError) \u001B[38;5;28;01mas\u001B[39;00m e:\n\u001B[0;32m    451\u001B[0m     \u001B[38;5;28mself\u001B[39m\u001B[38;5;241m.\u001B[39m_raise_timeout(err\u001B[38;5;241m=\u001B[39me, url\u001B[38;5;241m=\u001B[39murl, timeout_value\u001B[38;5;241m=\u001B[39mread_timeout)\n",
      "File \u001B[1;32m<string>:3\u001B[0m, in \u001B[0;36mraise_from\u001B[1;34m(value, from_value)\u001B[0m\n",
      "File \u001B[1;32mD:\\Code\\annaconda\\envs\\Env_1\\lib\\site-packages\\urllib3\\connectionpool.py:444\u001B[0m, in \u001B[0;36mHTTPConnectionPool._make_request\u001B[1;34m(self, conn, method, url, timeout, chunked, **httplib_request_kw)\u001B[0m\n\u001B[0;32m    441\u001B[0m \u001B[38;5;28;01mexcept\u001B[39;00m \u001B[38;5;167;01mTypeError\u001B[39;00m:\n\u001B[0;32m    442\u001B[0m     \u001B[38;5;66;03m# Python 3\u001B[39;00m\n\u001B[0;32m    443\u001B[0m     \u001B[38;5;28;01mtry\u001B[39;00m:\n\u001B[1;32m--> 444\u001B[0m         httplib_response \u001B[38;5;241m=\u001B[39m \u001B[43mconn\u001B[49m\u001B[38;5;241;43m.\u001B[39;49m\u001B[43mgetresponse\u001B[49m\u001B[43m(\u001B[49m\u001B[43m)\u001B[49m\n\u001B[0;32m    445\u001B[0m     \u001B[38;5;28;01mexcept\u001B[39;00m \u001B[38;5;167;01mBaseException\u001B[39;00m \u001B[38;5;28;01mas\u001B[39;00m e:\n\u001B[0;32m    446\u001B[0m         \u001B[38;5;66;03m# Remove the TypeError from the exception chain in\u001B[39;00m\n\u001B[0;32m    447\u001B[0m         \u001B[38;5;66;03m# Python 3 (including for exceptions like SystemExit).\u001B[39;00m\n\u001B[0;32m    448\u001B[0m         \u001B[38;5;66;03m# Otherwise it looks like a bug in the code.\u001B[39;00m\n\u001B[0;32m    449\u001B[0m         six\u001B[38;5;241m.\u001B[39mraise_from(e, \u001B[38;5;28;01mNone\u001B[39;00m)\n",
      "File \u001B[1;32mD:\\Code\\annaconda\\envs\\Env_1\\lib\\http\\client.py:1377\u001B[0m, in \u001B[0;36mHTTPConnection.getresponse\u001B[1;34m(self)\u001B[0m\n\u001B[0;32m   1375\u001B[0m \u001B[38;5;28;01mtry\u001B[39;00m:\n\u001B[0;32m   1376\u001B[0m     \u001B[38;5;28;01mtry\u001B[39;00m:\n\u001B[1;32m-> 1377\u001B[0m         \u001B[43mresponse\u001B[49m\u001B[38;5;241;43m.\u001B[39;49m\u001B[43mbegin\u001B[49m\u001B[43m(\u001B[49m\u001B[43m)\u001B[49m\n\u001B[0;32m   1378\u001B[0m     \u001B[38;5;28;01mexcept\u001B[39;00m \u001B[38;5;167;01mConnectionError\u001B[39;00m:\n\u001B[0;32m   1379\u001B[0m         \u001B[38;5;28mself\u001B[39m\u001B[38;5;241m.\u001B[39mclose()\n",
      "File \u001B[1;32mD:\\Code\\annaconda\\envs\\Env_1\\lib\\http\\client.py:320\u001B[0m, in \u001B[0;36mHTTPResponse.begin\u001B[1;34m(self)\u001B[0m\n\u001B[0;32m    318\u001B[0m \u001B[38;5;66;03m# read until we get a non-100 response\u001B[39;00m\n\u001B[0;32m    319\u001B[0m \u001B[38;5;28;01mwhile\u001B[39;00m \u001B[38;5;28;01mTrue\u001B[39;00m:\n\u001B[1;32m--> 320\u001B[0m     version, status, reason \u001B[38;5;241m=\u001B[39m \u001B[38;5;28;43mself\u001B[39;49m\u001B[38;5;241;43m.\u001B[39;49m\u001B[43m_read_status\u001B[49m\u001B[43m(\u001B[49m\u001B[43m)\u001B[49m\n\u001B[0;32m    321\u001B[0m     \u001B[38;5;28;01mif\u001B[39;00m status \u001B[38;5;241m!=\u001B[39m CONTINUE:\n\u001B[0;32m    322\u001B[0m         \u001B[38;5;28;01mbreak\u001B[39;00m\n",
      "File \u001B[1;32mD:\\Code\\annaconda\\envs\\Env_1\\lib\\http\\client.py:281\u001B[0m, in \u001B[0;36mHTTPResponse._read_status\u001B[1;34m(self)\u001B[0m\n\u001B[0;32m    280\u001B[0m \u001B[38;5;28;01mdef\u001B[39;00m \u001B[38;5;21m_read_status\u001B[39m(\u001B[38;5;28mself\u001B[39m):\n\u001B[1;32m--> 281\u001B[0m     line \u001B[38;5;241m=\u001B[39m \u001B[38;5;28mstr\u001B[39m(\u001B[38;5;28;43mself\u001B[39;49m\u001B[38;5;241;43m.\u001B[39;49m\u001B[43mfp\u001B[49m\u001B[38;5;241;43m.\u001B[39;49m\u001B[43mreadline\u001B[49m\u001B[43m(\u001B[49m\u001B[43m_MAXLINE\u001B[49m\u001B[43m \u001B[49m\u001B[38;5;241;43m+\u001B[39;49m\u001B[43m \u001B[49m\u001B[38;5;241;43m1\u001B[39;49m\u001B[43m)\u001B[49m, \u001B[38;5;124m\"\u001B[39m\u001B[38;5;124miso-8859-1\u001B[39m\u001B[38;5;124m\"\u001B[39m)\n\u001B[0;32m    282\u001B[0m     \u001B[38;5;28;01mif\u001B[39;00m \u001B[38;5;28mlen\u001B[39m(line) \u001B[38;5;241m>\u001B[39m _MAXLINE:\n\u001B[0;32m    283\u001B[0m         \u001B[38;5;28;01mraise\u001B[39;00m LineTooLong(\u001B[38;5;124m\"\u001B[39m\u001B[38;5;124mstatus line\u001B[39m\u001B[38;5;124m\"\u001B[39m)\n",
      "File \u001B[1;32mD:\\Code\\annaconda\\envs\\Env_1\\lib\\socket.py:704\u001B[0m, in \u001B[0;36mSocketIO.readinto\u001B[1;34m(self, b)\u001B[0m\n\u001B[0;32m    702\u001B[0m \u001B[38;5;28;01mwhile\u001B[39;00m \u001B[38;5;28;01mTrue\u001B[39;00m:\n\u001B[0;32m    703\u001B[0m     \u001B[38;5;28;01mtry\u001B[39;00m:\n\u001B[1;32m--> 704\u001B[0m         \u001B[38;5;28;01mreturn\u001B[39;00m \u001B[38;5;28;43mself\u001B[39;49m\u001B[38;5;241;43m.\u001B[39;49m\u001B[43m_sock\u001B[49m\u001B[38;5;241;43m.\u001B[39;49m\u001B[43mrecv_into\u001B[49m\u001B[43m(\u001B[49m\u001B[43mb\u001B[49m\u001B[43m)\u001B[49m\n\u001B[0;32m    705\u001B[0m     \u001B[38;5;28;01mexcept\u001B[39;00m timeout:\n\u001B[0;32m    706\u001B[0m         \u001B[38;5;28mself\u001B[39m\u001B[38;5;241m.\u001B[39m_timeout_occurred \u001B[38;5;241m=\u001B[39m \u001B[38;5;28;01mTrue\u001B[39;00m\n",
      "File \u001B[1;32mD:\\Code\\annaconda\\envs\\Env_1\\lib\\ssl.py:1241\u001B[0m, in \u001B[0;36mSSLSocket.recv_into\u001B[1;34m(self, buffer, nbytes, flags)\u001B[0m\n\u001B[0;32m   1237\u001B[0m     \u001B[38;5;28;01mif\u001B[39;00m flags \u001B[38;5;241m!=\u001B[39m \u001B[38;5;241m0\u001B[39m:\n\u001B[0;32m   1238\u001B[0m         \u001B[38;5;28;01mraise\u001B[39;00m \u001B[38;5;167;01mValueError\u001B[39;00m(\n\u001B[0;32m   1239\u001B[0m           \u001B[38;5;124m\"\u001B[39m\u001B[38;5;124mnon-zero flags not allowed in calls to recv_into() on \u001B[39m\u001B[38;5;132;01m%s\u001B[39;00m\u001B[38;5;124m\"\u001B[39m \u001B[38;5;241m%\u001B[39m\n\u001B[0;32m   1240\u001B[0m           \u001B[38;5;28mself\u001B[39m\u001B[38;5;241m.\u001B[39m\u001B[38;5;18m__class__\u001B[39m)\n\u001B[1;32m-> 1241\u001B[0m     \u001B[38;5;28;01mreturn\u001B[39;00m \u001B[38;5;28;43mself\u001B[39;49m\u001B[38;5;241;43m.\u001B[39;49m\u001B[43mread\u001B[49m\u001B[43m(\u001B[49m\u001B[43mnbytes\u001B[49m\u001B[43m,\u001B[49m\u001B[43m \u001B[49m\u001B[43mbuffer\u001B[49m\u001B[43m)\u001B[49m\n\u001B[0;32m   1242\u001B[0m \u001B[38;5;28;01melse\u001B[39;00m:\n\u001B[0;32m   1243\u001B[0m     \u001B[38;5;28;01mreturn\u001B[39;00m \u001B[38;5;28msuper\u001B[39m()\u001B[38;5;241m.\u001B[39mrecv_into(buffer, nbytes, flags)\n",
      "File \u001B[1;32mD:\\Code\\annaconda\\envs\\Env_1\\lib\\ssl.py:1099\u001B[0m, in \u001B[0;36mSSLSocket.read\u001B[1;34m(self, len, buffer)\u001B[0m\n\u001B[0;32m   1097\u001B[0m \u001B[38;5;28;01mtry\u001B[39;00m:\n\u001B[0;32m   1098\u001B[0m     \u001B[38;5;28;01mif\u001B[39;00m buffer \u001B[38;5;129;01mis\u001B[39;00m \u001B[38;5;129;01mnot\u001B[39;00m \u001B[38;5;28;01mNone\u001B[39;00m:\n\u001B[1;32m-> 1099\u001B[0m         \u001B[38;5;28;01mreturn\u001B[39;00m \u001B[38;5;28;43mself\u001B[39;49m\u001B[38;5;241;43m.\u001B[39;49m\u001B[43m_sslobj\u001B[49m\u001B[38;5;241;43m.\u001B[39;49m\u001B[43mread\u001B[49m\u001B[43m(\u001B[49m\u001B[38;5;28;43mlen\u001B[39;49m\u001B[43m,\u001B[49m\u001B[43m \u001B[49m\u001B[43mbuffer\u001B[49m\u001B[43m)\u001B[49m\n\u001B[0;32m   1100\u001B[0m     \u001B[38;5;28;01melse\u001B[39;00m:\n\u001B[0;32m   1101\u001B[0m         \u001B[38;5;28;01mreturn\u001B[39;00m \u001B[38;5;28mself\u001B[39m\u001B[38;5;241m.\u001B[39m_sslobj\u001B[38;5;241m.\u001B[39mread(\u001B[38;5;28mlen\u001B[39m)\n",
      "\u001B[1;31mKeyboardInterrupt\u001B[0m: "
     ]
    }
   ],
   "source": [
    "header = {\n",
    "    \"User-Agent\":r\"Mozilla/5.0 (Windows NT 10.0; Win64; x64) AppleWebKit/537.36 (KHTML, like Gecko) Chrome/100.0.4896.127 Safari/537.36 Edg/100.0.1185.50\"\n",
    "}\n",
    "req = requests.get(r\"https://movie.douban.com/chart\",\n",
    "                   headers=header, timeout=5).text.encode(\"utf-8\")\n",
    "soup_type = bs4.BeautifulSoup(req, \"html.parser\").find_all(name=\"div\", attrs={'class':'types'})[0].find_all(name='a')\n",
    "data_csv = pd.DataFrame(columns=['types', 'rating', 'rank', 'id', 'regions', 'title', 'url', 'release_date', 'actor_count', 'vote_count',\n",
    "                                    'score', 'actors', 'cover_url', 'is_watched'])\n",
    "for item_epoch, soup_type_item in enumerate(soup_type):\n",
    "    str_type = str(soup_type_item['href'])[str(soup_type_item['href']).index('type=') + 5:]\n",
    "    str_type = str_type[:str_type.index(\"&\")]\n",
    "    get_moviesLink_by_type(str(soup_type_item.string), str_type, header, data_csv, item_epoch, len(soup_type))"
   ],
   "metadata": {
    "collapsed": false,
    "pycharm": {
     "name": "#%%\n"
    }
   }
  },
  {
   "cell_type": "code",
   "execution_count": 2,
   "outputs": [
    {
     "ename": "NameError",
     "evalue": "name 'data_csv' is not defined",
     "output_type": "error",
     "traceback": [
      "\u001B[1;31m---------------------------------------------------------------------------\u001B[0m",
      "\u001B[1;31mNameError\u001B[0m                                 Traceback (most recent call last)",
      "Input \u001B[1;32mIn [2]\u001B[0m, in \u001B[0;36m<cell line: 1>\u001B[1;34m()\u001B[0m\n\u001B[1;32m----> 1\u001B[0m \u001B[43mdata_csv\u001B[49m\u001B[38;5;241m.\u001B[39mto_csv(\u001B[38;5;124m\"\u001B[39m\u001B[38;5;124mD:\u001B[39m\u001B[38;5;124m\\\u001B[39m\u001B[38;5;124medge\u001B[39m\u001B[38;5;124m\\\u001B[39m\u001B[38;5;124mdata_movies.csv\u001B[39m\u001B[38;5;124m\"\u001B[39m, index\u001B[38;5;241m=\u001B[39m\u001B[38;5;28;01mFalse\u001B[39;00m)\n\u001B[0;32m      2\u001B[0m data_csv\n",
      "\u001B[1;31mNameError\u001B[0m: name 'data_csv' is not defined"
     ]
    }
   ],
   "source": [
    "data_csv.to_csv(\"./data_movies.csv\", index=False)\n",
    "data_csv"
   ],
   "metadata": {
    "collapsed": false,
    "pycharm": {
     "name": "#%%\n"
    }
   }
  },
  {
   "cell_type": "markdown",
   "source": [
    "####  去重"
   ],
   "metadata": {
    "collapsed": false
   }
  },
  {
   "cell_type": "code",
   "execution_count": 3,
   "outputs": [
    {
     "name": "stdout",
     "output_type": "stream",
     "text": [
      "23422\n",
      "22385\n",
      "23422\n",
      "23422\n"
     ]
    },
    {
     "data": {
      "text/plain": "                            types         rating  rank        id  \\\n0                    ['犯罪', '剧情']  ['9.7', '50']     1   1292052   \n1              ['剧情', '爱情', '同性']  ['9.6', '50']     2   1291546   \n2        ['剧情', '喜剧', '爱情', '战争']  ['9.6', '50']     3   1292063   \n3              ['剧情', '历史', '战争']  ['9.6', '50']     4   1295124   \n4              ['剧情', '犯罪', '悬疑']  ['9.6', '50']     5   1296141   \n...                           ...            ...   ...       ...   \n23417        ['黑色电影', '犯罪', '惊悚']  ['7.3', '40']    79   1302943   \n23418  ['犯罪', '剧情', '黑色电影', '恐怖']  ['7.3', '40']    80   2033530   \n23419        ['动画', '恐怖', '黑色电影']  ['7.3', '40']    81  26877383   \n23420              ['黑色电影', '惊悚']  ['7.2', '40']    82   1293416   \n23421        ['剧情', '黑色电影', '惊悚']  ['7.2', '35']    83   1292892   \n\n                regions              title  \\\n0                ['美国']             肖申克的救赎   \n1      ['中国大陆', '中国香港']               霸王别姬   \n2               ['意大利']               美丽人生   \n3                ['美国']             辛德勒的名单   \n4                ['美国']               控方证人   \n...                 ...                ...   \n23417            ['美国']               合约杀手   \n23418            ['美国']               涨潮小屋   \n23419            ['日本']  成人童话系列1 令人恐怖的格林童话   \n23420            ['美国']               逃狱雪冤   \n23421            ['美国']               爱到天堂   \n\n                                              url release_date  actor_count  \\\n0       https://movie.douban.com/subject/1292052/   1994-09-10           25   \n1       https://movie.douban.com/subject/1291546/   1993-07-26           26   \n2       https://movie.douban.com/subject/1292063/   2020-01-03           29   \n3       https://movie.douban.com/subject/1295124/   1993-11-30           47   \n4       https://movie.douban.com/subject/1296141/   1957-12-17           51   \n...                                           ...          ...          ...   \n23417   https://movie.douban.com/subject/1302943/   1942-05-13            5   \n23418   https://movie.douban.com/subject/2033530/   1950-03-25           24   \n23419  https://movie.douban.com/subject/26877383/   2000-06-21            0   \n23420   https://movie.douban.com/subject/1293416/   1947-09-27            2   \n23421   https://movie.douban.com/subject/1292892/   1945-12-20            7   \n\n       vote_count  score                                             actors  \\\n0         2604521    9.7  ['蒂姆·罗宾斯', '摩根·弗里曼', '鲍勃·冈顿', '威廉姆·赛德勒', '克兰西·...   \n1         1934038    9.6  ['张国荣', '张丰毅', '巩俐', '葛优', '英达', '蒋雯丽', '吴大维',...   \n2         1202892    9.6  ['罗伯托·贝尼尼', '尼可莱塔·布拉斯基', '乔治·坎塔里尼', '朱斯蒂诺·杜拉诺'...   \n3         1003257    9.6  ['连姆·尼森', '本·金斯利', '拉尔夫·费因斯', '卡罗琳·古多尔', '乔纳森·...   \n4          453853    9.6  ['泰隆·鲍华', '玛琳·黛德丽', '查尔斯·劳顿', '爱尔莎·兰切斯特', '约翰·...   \n...           ...    ...                                                ...   \n23417         479    7.3  ['维罗妮卡·莱克', '罗伯特·普雷斯顿', '拉尔德·克雷加', '艾伦·拉德', '塔...   \n23418         458    7.3  ['路易斯·海沃德', '李·鲍曼', '简·维亚特', '多萝西·帕特里克', '安·休梅...   \n23419         367    7.3                                                 []   \n23420         607    7.2                               ['亨弗莱·鲍嘉', '劳伦·白考尔']   \n23421         455    7.2  ['吉恩·蒂尔尼', '柯纳·王尔德', '珍妮·克雷恩', '玛丽·菲利普斯', '雷·柯...   \n\n                                               cover_url  is_watched  \n0      https://img2.doubanio.com/view/photo/s_ratio_p...       False  \n1      https://img3.doubanio.com/view/photo/s_ratio_p...       False  \n2      https://img2.doubanio.com/view/photo/s_ratio_p...       False  \n3      https://img2.doubanio.com/view/photo/s_ratio_p...       False  \n4      https://img1.doubanio.com/view/photo/s_ratio_p...       False  \n...                                                  ...         ...  \n23417  https://img9.doubanio.com/view/photo/s_ratio_p...       False  \n23418  https://img1.doubanio.com/view/photo/s_ratio_p...       False  \n23419  https://img2.doubanio.com/view/photo/s_ratio_p...       False  \n23420  https://img9.doubanio.com/view/photo/s_ratio_p...       False  \n23421  https://img2.doubanio.com/view/photo/s_ratio_p...       False  \n\n[23422 rows x 14 columns]",
      "text/html": "<div>\n<style scoped>\n    .dataframe tbody tr th:only-of-type {\n        vertical-align: middle;\n    }\n\n    .dataframe tbody tr th {\n        vertical-align: top;\n    }\n\n    .dataframe thead th {\n        text-align: right;\n    }\n</style>\n<table border=\"1\" class=\"dataframe\">\n  <thead>\n    <tr style=\"text-align: right;\">\n      <th></th>\n      <th>types</th>\n      <th>rating</th>\n      <th>rank</th>\n      <th>id</th>\n      <th>regions</th>\n      <th>title</th>\n      <th>url</th>\n      <th>release_date</th>\n      <th>actor_count</th>\n      <th>vote_count</th>\n      <th>score</th>\n      <th>actors</th>\n      <th>cover_url</th>\n      <th>is_watched</th>\n    </tr>\n  </thead>\n  <tbody>\n    <tr>\n      <th>0</th>\n      <td>['犯罪', '剧情']</td>\n      <td>['9.7', '50']</td>\n      <td>1</td>\n      <td>1292052</td>\n      <td>['美国']</td>\n      <td>肖申克的救赎</td>\n      <td>https://movie.douban.com/subject/1292052/</td>\n      <td>1994-09-10</td>\n      <td>25</td>\n      <td>2604521</td>\n      <td>9.7</td>\n      <td>['蒂姆·罗宾斯', '摩根·弗里曼', '鲍勃·冈顿', '威廉姆·赛德勒', '克兰西·...</td>\n      <td>https://img2.doubanio.com/view/photo/s_ratio_p...</td>\n      <td>False</td>\n    </tr>\n    <tr>\n      <th>1</th>\n      <td>['剧情', '爱情', '同性']</td>\n      <td>['9.6', '50']</td>\n      <td>2</td>\n      <td>1291546</td>\n      <td>['中国大陆', '中国香港']</td>\n      <td>霸王别姬</td>\n      <td>https://movie.douban.com/subject/1291546/</td>\n      <td>1993-07-26</td>\n      <td>26</td>\n      <td>1934038</td>\n      <td>9.6</td>\n      <td>['张国荣', '张丰毅', '巩俐', '葛优', '英达', '蒋雯丽', '吴大维',...</td>\n      <td>https://img3.doubanio.com/view/photo/s_ratio_p...</td>\n      <td>False</td>\n    </tr>\n    <tr>\n      <th>2</th>\n      <td>['剧情', '喜剧', '爱情', '战争']</td>\n      <td>['9.6', '50']</td>\n      <td>3</td>\n      <td>1292063</td>\n      <td>['意大利']</td>\n      <td>美丽人生</td>\n      <td>https://movie.douban.com/subject/1292063/</td>\n      <td>2020-01-03</td>\n      <td>29</td>\n      <td>1202892</td>\n      <td>9.6</td>\n      <td>['罗伯托·贝尼尼', '尼可莱塔·布拉斯基', '乔治·坎塔里尼', '朱斯蒂诺·杜拉诺'...</td>\n      <td>https://img2.doubanio.com/view/photo/s_ratio_p...</td>\n      <td>False</td>\n    </tr>\n    <tr>\n      <th>3</th>\n      <td>['剧情', '历史', '战争']</td>\n      <td>['9.6', '50']</td>\n      <td>4</td>\n      <td>1295124</td>\n      <td>['美国']</td>\n      <td>辛德勒的名单</td>\n      <td>https://movie.douban.com/subject/1295124/</td>\n      <td>1993-11-30</td>\n      <td>47</td>\n      <td>1003257</td>\n      <td>9.6</td>\n      <td>['连姆·尼森', '本·金斯利', '拉尔夫·费因斯', '卡罗琳·古多尔', '乔纳森·...</td>\n      <td>https://img2.doubanio.com/view/photo/s_ratio_p...</td>\n      <td>False</td>\n    </tr>\n    <tr>\n      <th>4</th>\n      <td>['剧情', '犯罪', '悬疑']</td>\n      <td>['9.6', '50']</td>\n      <td>5</td>\n      <td>1296141</td>\n      <td>['美国']</td>\n      <td>控方证人</td>\n      <td>https://movie.douban.com/subject/1296141/</td>\n      <td>1957-12-17</td>\n      <td>51</td>\n      <td>453853</td>\n      <td>9.6</td>\n      <td>['泰隆·鲍华', '玛琳·黛德丽', '查尔斯·劳顿', '爱尔莎·兰切斯特', '约翰·...</td>\n      <td>https://img1.doubanio.com/view/photo/s_ratio_p...</td>\n      <td>False</td>\n    </tr>\n    <tr>\n      <th>...</th>\n      <td>...</td>\n      <td>...</td>\n      <td>...</td>\n      <td>...</td>\n      <td>...</td>\n      <td>...</td>\n      <td>...</td>\n      <td>...</td>\n      <td>...</td>\n      <td>...</td>\n      <td>...</td>\n      <td>...</td>\n      <td>...</td>\n      <td>...</td>\n    </tr>\n    <tr>\n      <th>23417</th>\n      <td>['黑色电影', '犯罪', '惊悚']</td>\n      <td>['7.3', '40']</td>\n      <td>79</td>\n      <td>1302943</td>\n      <td>['美国']</td>\n      <td>合约杀手</td>\n      <td>https://movie.douban.com/subject/1302943/</td>\n      <td>1942-05-13</td>\n      <td>5</td>\n      <td>479</td>\n      <td>7.3</td>\n      <td>['维罗妮卡·莱克', '罗伯特·普雷斯顿', '拉尔德·克雷加', '艾伦·拉德', '塔...</td>\n      <td>https://img9.doubanio.com/view/photo/s_ratio_p...</td>\n      <td>False</td>\n    </tr>\n    <tr>\n      <th>23418</th>\n      <td>['犯罪', '剧情', '黑色电影', '恐怖']</td>\n      <td>['7.3', '40']</td>\n      <td>80</td>\n      <td>2033530</td>\n      <td>['美国']</td>\n      <td>涨潮小屋</td>\n      <td>https://movie.douban.com/subject/2033530/</td>\n      <td>1950-03-25</td>\n      <td>24</td>\n      <td>458</td>\n      <td>7.3</td>\n      <td>['路易斯·海沃德', '李·鲍曼', '简·维亚特', '多萝西·帕特里克', '安·休梅...</td>\n      <td>https://img1.doubanio.com/view/photo/s_ratio_p...</td>\n      <td>False</td>\n    </tr>\n    <tr>\n      <th>23419</th>\n      <td>['动画', '恐怖', '黑色电影']</td>\n      <td>['7.3', '40']</td>\n      <td>81</td>\n      <td>26877383</td>\n      <td>['日本']</td>\n      <td>成人童话系列1 令人恐怖的格林童话</td>\n      <td>https://movie.douban.com/subject/26877383/</td>\n      <td>2000-06-21</td>\n      <td>0</td>\n      <td>367</td>\n      <td>7.3</td>\n      <td>[]</td>\n      <td>https://img2.doubanio.com/view/photo/s_ratio_p...</td>\n      <td>False</td>\n    </tr>\n    <tr>\n      <th>23420</th>\n      <td>['黑色电影', '惊悚']</td>\n      <td>['7.2', '40']</td>\n      <td>82</td>\n      <td>1293416</td>\n      <td>['美国']</td>\n      <td>逃狱雪冤</td>\n      <td>https://movie.douban.com/subject/1293416/</td>\n      <td>1947-09-27</td>\n      <td>2</td>\n      <td>607</td>\n      <td>7.2</td>\n      <td>['亨弗莱·鲍嘉', '劳伦·白考尔']</td>\n      <td>https://img9.doubanio.com/view/photo/s_ratio_p...</td>\n      <td>False</td>\n    </tr>\n    <tr>\n      <th>23421</th>\n      <td>['剧情', '黑色电影', '惊悚']</td>\n      <td>['7.2', '35']</td>\n      <td>83</td>\n      <td>1292892</td>\n      <td>['美国']</td>\n      <td>爱到天堂</td>\n      <td>https://movie.douban.com/subject/1292892/</td>\n      <td>1945-12-20</td>\n      <td>7</td>\n      <td>455</td>\n      <td>7.2</td>\n      <td>['吉恩·蒂尔尼', '柯纳·王尔德', '珍妮·克雷恩', '玛丽·菲利普斯', '雷·柯...</td>\n      <td>https://img2.doubanio.com/view/photo/s_ratio_p...</td>\n      <td>False</td>\n    </tr>\n  </tbody>\n</table>\n<p>23422 rows × 14 columns</p>\n</div>"
     },
     "execution_count": 3,
     "metadata": {},
     "output_type": "execute_result"
    }
   ],
   "source": [
    "data_csv = pd.read_csv(\"./data_movies.csv\")\n",
    "data_csv = data_csv.loc[data_csv['id'].astype(str).drop_duplicates().index]\n",
    "print(len(data_csv.url.unique()))\n",
    "print(len(data_csv.title.unique()))\n",
    "print(len(data_csv.id.unique()))\n",
    "print(len(data_csv))\n",
    "data_csv.index = range(len(data_csv))\n",
    "data_csv.to_csv(\"./data_movies_noRepeat.csv\", index=False)\n",
    "data_csv"
   ],
   "metadata": {
    "collapsed": false,
    "pycharm": {
     "name": "#%%\n"
    }
   }
  },
  {
   "cell_type": "markdown",
   "source": [
    "#### 爬取详情页面（失败）"
   ],
   "metadata": {
    "collapsed": false
   }
  },
  {
   "cell_type": "code",
   "execution_count": 5,
   "outputs": [
    {
     "data": {
      "text/plain": "                            types         rating  rank        id  \\\n0                    ['犯罪', '剧情']  ['9.7', '50']     1   1292052   \n1              ['剧情', '爱情', '同性']  ['9.6', '50']     2   1291546   \n2        ['剧情', '喜剧', '爱情', '战争']  ['9.6', '50']     3   1292063   \n3              ['剧情', '历史', '战争']  ['9.6', '50']     4   1295124   \n4              ['剧情', '犯罪', '悬疑']  ['9.6', '50']     5   1296141   \n...                           ...            ...   ...       ...   \n23417        ['黑色电影', '犯罪', '惊悚']  ['7.3', '40']    79   1302943   \n23418  ['犯罪', '剧情', '黑色电影', '恐怖']  ['7.3', '40']    80   2033530   \n23419        ['动画', '恐怖', '黑色电影']  ['7.3', '40']    81  26877383   \n23420              ['黑色电影', '惊悚']  ['7.2', '40']    82   1293416   \n23421        ['剧情', '黑色电影', '惊悚']  ['7.2', '35']    83   1292892   \n\n                regions              title  \\\n0                ['美国']             肖申克的救赎   \n1      ['中国大陆', '中国香港']               霸王别姬   \n2               ['意大利']               美丽人生   \n3                ['美国']             辛德勒的名单   \n4                ['美国']               控方证人   \n...                 ...                ...   \n23417            ['美国']               合约杀手   \n23418            ['美国']               涨潮小屋   \n23419            ['日本']  成人童话系列1 令人恐怖的格林童话   \n23420            ['美国']               逃狱雪冤   \n23421            ['美国']               爱到天堂   \n\n                                              url release_date  actor_count  \\\n0       https://movie.douban.com/subject/1292052/   1994-09-10           25   \n1       https://movie.douban.com/subject/1291546/   1993-07-26           26   \n2       https://movie.douban.com/subject/1292063/   2020-01-03           29   \n3       https://movie.douban.com/subject/1295124/   1993-11-30           47   \n4       https://movie.douban.com/subject/1296141/   1957-12-17           51   \n...                                           ...          ...          ...   \n23417   https://movie.douban.com/subject/1302943/   1942-05-13            5   \n23418   https://movie.douban.com/subject/2033530/   1950-03-25           24   \n23419  https://movie.douban.com/subject/26877383/   2000-06-21            0   \n23420   https://movie.douban.com/subject/1293416/   1947-09-27            2   \n23421   https://movie.douban.com/subject/1292892/   1945-12-20            7   \n\n       vote_count  score                                             actors  \\\n0         2604521    9.7  ['蒂姆·罗宾斯', '摩根·弗里曼', '鲍勃·冈顿', '威廉姆·赛德勒', '克兰西·...   \n1         1934038    9.6  ['张国荣', '张丰毅', '巩俐', '葛优', '英达', '蒋雯丽', '吴大维',...   \n2         1202892    9.6  ['罗伯托·贝尼尼', '尼可莱塔·布拉斯基', '乔治·坎塔里尼', '朱斯蒂诺·杜拉诺'...   \n3         1003257    9.6  ['连姆·尼森', '本·金斯利', '拉尔夫·费因斯', '卡罗琳·古多尔', '乔纳森·...   \n4          453853    9.6  ['泰隆·鲍华', '玛琳·黛德丽', '查尔斯·劳顿', '爱尔莎·兰切斯特', '约翰·...   \n...           ...    ...                                                ...   \n23417         479    7.3  ['维罗妮卡·莱克', '罗伯特·普雷斯顿', '拉尔德·克雷加', '艾伦·拉德', '塔...   \n23418         458    7.3  ['路易斯·海沃德', '李·鲍曼', '简·维亚特', '多萝西·帕特里克', '安·休梅...   \n23419         367    7.3                                                 []   \n23420         607    7.2                               ['亨弗莱·鲍嘉', '劳伦·白考尔']   \n23421         455    7.2  ['吉恩·蒂尔尼', '柯纳·王尔德', '珍妮·克雷恩', '玛丽·菲利普斯', '雷·柯...   \n\n                                               cover_url  is_watched  \\\n0      https://img2.doubanio.com/view/photo/s_ratio_p...       False   \n1      https://img3.doubanio.com/view/photo/s_ratio_p...       False   \n2      https://img2.doubanio.com/view/photo/s_ratio_p...       False   \n3      https://img2.doubanio.com/view/photo/s_ratio_p...       False   \n4      https://img1.doubanio.com/view/photo/s_ratio_p...       False   \n...                                                  ...         ...   \n23417  https://img9.doubanio.com/view/photo/s_ratio_p...       False   \n23418  https://img1.doubanio.com/view/photo/s_ratio_p...       False   \n23419  https://img2.doubanio.com/view/photo/s_ratio_p...       False   \n23420  https://img9.doubanio.com/view/photo/s_ratio_p...       False   \n23421  https://img2.doubanio.com/view/photo/s_ratio_p...       False   \n\n                                                  author  \\\n0             弗兰克·德拉邦特 Frank Darabont/斯蒂芬·金 Stephen King   \n1                       芦苇 Wei Lu/李碧华 Lilian Lee Pik-Wah   \n2                                                    NaN   \n3        托马斯·肯尼利 Thomas Keneally/斯蒂文·泽里安 Steven Zaillian   \n4      阿加莎·克里斯蒂 Agatha Christie/比利·怀尔德 Billy Wilder/哈...   \n...                                                  ...   \n23417                                                NaN   \n23418                                                NaN   \n23419                                                NaN   \n23420                                                NaN   \n23421                                                NaN   \n\n                         director  \n0         弗兰克·德拉邦特 Frank Darabont  \n1                  陈凯歌 Kaige Chen  \n2                             NaN  \n3      史蒂文·斯皮尔伯格 Steven Spielberg  \n4             比利·怀尔德 Billy Wilder  \n...                           ...  \n23417                         NaN  \n23418                         NaN  \n23419                         NaN  \n23420                         NaN  \n23421                         NaN  \n\n[23422 rows x 16 columns]",
      "text/html": "<div>\n<style scoped>\n    .dataframe tbody tr th:only-of-type {\n        vertical-align: middle;\n    }\n\n    .dataframe tbody tr th {\n        vertical-align: top;\n    }\n\n    .dataframe thead th {\n        text-align: right;\n    }\n</style>\n<table border=\"1\" class=\"dataframe\">\n  <thead>\n    <tr style=\"text-align: right;\">\n      <th></th>\n      <th>types</th>\n      <th>rating</th>\n      <th>rank</th>\n      <th>id</th>\n      <th>regions</th>\n      <th>title</th>\n      <th>url</th>\n      <th>release_date</th>\n      <th>actor_count</th>\n      <th>vote_count</th>\n      <th>score</th>\n      <th>actors</th>\n      <th>cover_url</th>\n      <th>is_watched</th>\n      <th>author</th>\n      <th>director</th>\n    </tr>\n  </thead>\n  <tbody>\n    <tr>\n      <th>0</th>\n      <td>['犯罪', '剧情']</td>\n      <td>['9.7', '50']</td>\n      <td>1</td>\n      <td>1292052</td>\n      <td>['美国']</td>\n      <td>肖申克的救赎</td>\n      <td>https://movie.douban.com/subject/1292052/</td>\n      <td>1994-09-10</td>\n      <td>25</td>\n      <td>2604521</td>\n      <td>9.7</td>\n      <td>['蒂姆·罗宾斯', '摩根·弗里曼', '鲍勃·冈顿', '威廉姆·赛德勒', '克兰西·...</td>\n      <td>https://img2.doubanio.com/view/photo/s_ratio_p...</td>\n      <td>False</td>\n      <td>弗兰克·德拉邦特 Frank Darabont/斯蒂芬·金 Stephen King</td>\n      <td>弗兰克·德拉邦特 Frank Darabont</td>\n    </tr>\n    <tr>\n      <th>1</th>\n      <td>['剧情', '爱情', '同性']</td>\n      <td>['9.6', '50']</td>\n      <td>2</td>\n      <td>1291546</td>\n      <td>['中国大陆', '中国香港']</td>\n      <td>霸王别姬</td>\n      <td>https://movie.douban.com/subject/1291546/</td>\n      <td>1993-07-26</td>\n      <td>26</td>\n      <td>1934038</td>\n      <td>9.6</td>\n      <td>['张国荣', '张丰毅', '巩俐', '葛优', '英达', '蒋雯丽', '吴大维',...</td>\n      <td>https://img3.doubanio.com/view/photo/s_ratio_p...</td>\n      <td>False</td>\n      <td>芦苇 Wei Lu/李碧华 Lilian Lee Pik-Wah</td>\n      <td>陈凯歌 Kaige Chen</td>\n    </tr>\n    <tr>\n      <th>2</th>\n      <td>['剧情', '喜剧', '爱情', '战争']</td>\n      <td>['9.6', '50']</td>\n      <td>3</td>\n      <td>1292063</td>\n      <td>['意大利']</td>\n      <td>美丽人生</td>\n      <td>https://movie.douban.com/subject/1292063/</td>\n      <td>2020-01-03</td>\n      <td>29</td>\n      <td>1202892</td>\n      <td>9.6</td>\n      <td>['罗伯托·贝尼尼', '尼可莱塔·布拉斯基', '乔治·坎塔里尼', '朱斯蒂诺·杜拉诺'...</td>\n      <td>https://img2.doubanio.com/view/photo/s_ratio_p...</td>\n      <td>False</td>\n      <td>NaN</td>\n      <td>NaN</td>\n    </tr>\n    <tr>\n      <th>3</th>\n      <td>['剧情', '历史', '战争']</td>\n      <td>['9.6', '50']</td>\n      <td>4</td>\n      <td>1295124</td>\n      <td>['美国']</td>\n      <td>辛德勒的名单</td>\n      <td>https://movie.douban.com/subject/1295124/</td>\n      <td>1993-11-30</td>\n      <td>47</td>\n      <td>1003257</td>\n      <td>9.6</td>\n      <td>['连姆·尼森', '本·金斯利', '拉尔夫·费因斯', '卡罗琳·古多尔', '乔纳森·...</td>\n      <td>https://img2.doubanio.com/view/photo/s_ratio_p...</td>\n      <td>False</td>\n      <td>托马斯·肯尼利 Thomas Keneally/斯蒂文·泽里安 Steven Zaillian</td>\n      <td>史蒂文·斯皮尔伯格 Steven Spielberg</td>\n    </tr>\n    <tr>\n      <th>4</th>\n      <td>['剧情', '犯罪', '悬疑']</td>\n      <td>['9.6', '50']</td>\n      <td>5</td>\n      <td>1296141</td>\n      <td>['美国']</td>\n      <td>控方证人</td>\n      <td>https://movie.douban.com/subject/1296141/</td>\n      <td>1957-12-17</td>\n      <td>51</td>\n      <td>453853</td>\n      <td>9.6</td>\n      <td>['泰隆·鲍华', '玛琳·黛德丽', '查尔斯·劳顿', '爱尔莎·兰切斯特', '约翰·...</td>\n      <td>https://img1.doubanio.com/view/photo/s_ratio_p...</td>\n      <td>False</td>\n      <td>阿加莎·克里斯蒂 Agatha Christie/比利·怀尔德 Billy Wilder/哈...</td>\n      <td>比利·怀尔德 Billy Wilder</td>\n    </tr>\n    <tr>\n      <th>...</th>\n      <td>...</td>\n      <td>...</td>\n      <td>...</td>\n      <td>...</td>\n      <td>...</td>\n      <td>...</td>\n      <td>...</td>\n      <td>...</td>\n      <td>...</td>\n      <td>...</td>\n      <td>...</td>\n      <td>...</td>\n      <td>...</td>\n      <td>...</td>\n      <td>...</td>\n      <td>...</td>\n    </tr>\n    <tr>\n      <th>23417</th>\n      <td>['黑色电影', '犯罪', '惊悚']</td>\n      <td>['7.3', '40']</td>\n      <td>79</td>\n      <td>1302943</td>\n      <td>['美国']</td>\n      <td>合约杀手</td>\n      <td>https://movie.douban.com/subject/1302943/</td>\n      <td>1942-05-13</td>\n      <td>5</td>\n      <td>479</td>\n      <td>7.3</td>\n      <td>['维罗妮卡·莱克', '罗伯特·普雷斯顿', '拉尔德·克雷加', '艾伦·拉德', '塔...</td>\n      <td>https://img9.doubanio.com/view/photo/s_ratio_p...</td>\n      <td>False</td>\n      <td>NaN</td>\n      <td>NaN</td>\n    </tr>\n    <tr>\n      <th>23418</th>\n      <td>['犯罪', '剧情', '黑色电影', '恐怖']</td>\n      <td>['7.3', '40']</td>\n      <td>80</td>\n      <td>2033530</td>\n      <td>['美国']</td>\n      <td>涨潮小屋</td>\n      <td>https://movie.douban.com/subject/2033530/</td>\n      <td>1950-03-25</td>\n      <td>24</td>\n      <td>458</td>\n      <td>7.3</td>\n      <td>['路易斯·海沃德', '李·鲍曼', '简·维亚特', '多萝西·帕特里克', '安·休梅...</td>\n      <td>https://img1.doubanio.com/view/photo/s_ratio_p...</td>\n      <td>False</td>\n      <td>NaN</td>\n      <td>NaN</td>\n    </tr>\n    <tr>\n      <th>23419</th>\n      <td>['动画', '恐怖', '黑色电影']</td>\n      <td>['7.3', '40']</td>\n      <td>81</td>\n      <td>26877383</td>\n      <td>['日本']</td>\n      <td>成人童话系列1 令人恐怖的格林童话</td>\n      <td>https://movie.douban.com/subject/26877383/</td>\n      <td>2000-06-21</td>\n      <td>0</td>\n      <td>367</td>\n      <td>7.3</td>\n      <td>[]</td>\n      <td>https://img2.doubanio.com/view/photo/s_ratio_p...</td>\n      <td>False</td>\n      <td>NaN</td>\n      <td>NaN</td>\n    </tr>\n    <tr>\n      <th>23420</th>\n      <td>['黑色电影', '惊悚']</td>\n      <td>['7.2', '40']</td>\n      <td>82</td>\n      <td>1293416</td>\n      <td>['美国']</td>\n      <td>逃狱雪冤</td>\n      <td>https://movie.douban.com/subject/1293416/</td>\n      <td>1947-09-27</td>\n      <td>2</td>\n      <td>607</td>\n      <td>7.2</td>\n      <td>['亨弗莱·鲍嘉', '劳伦·白考尔']</td>\n      <td>https://img9.doubanio.com/view/photo/s_ratio_p...</td>\n      <td>False</td>\n      <td>NaN</td>\n      <td>NaN</td>\n    </tr>\n    <tr>\n      <th>23421</th>\n      <td>['剧情', '黑色电影', '惊悚']</td>\n      <td>['7.2', '35']</td>\n      <td>83</td>\n      <td>1292892</td>\n      <td>['美国']</td>\n      <td>爱到天堂</td>\n      <td>https://movie.douban.com/subject/1292892/</td>\n      <td>1945-12-20</td>\n      <td>7</td>\n      <td>455</td>\n      <td>7.2</td>\n      <td>['吉恩·蒂尔尼', '柯纳·王尔德', '珍妮·克雷恩', '玛丽·菲利普斯', '雷·柯...</td>\n      <td>https://img2.doubanio.com/view/photo/s_ratio_p...</td>\n      <td>False</td>\n      <td>NaN</td>\n      <td>NaN</td>\n    </tr>\n  </tbody>\n</table>\n<p>23422 rows × 16 columns</p>\n</div>"
     },
     "execution_count": 5,
     "metadata": {},
     "output_type": "execute_result"
    }
   ],
   "source": [
    "data_csv = pd.read_csv(\"D:\\edge\\data_movies.csv\")\n",
    "data_csv"
   ],
   "metadata": {
    "collapsed": false,
    "pycharm": {
     "name": "#%%\n"
    }
   }
  },
  {
   "cell_type": "code",
   "execution_count": null,
   "outputs": [],
   "source": [
    "us = [\"Mozilla/5.0 (Windows NT 10.0; Win64; x64) AppleWebKit/537.36 (KHTML, like Gecko) Chrome/100.0.4896.127 Safari/537.36 Edg/100.0.1185.50\",\n",
    "      'Mozilla/5.0 (Windows NT 10.0; Win64; x64) AppleWebKit/537.36 (KHTML, like Gecko) Chrome/100.0.4896.127 Safari/537.36',\n",
    "      'Mozilla/5.0 (Windows NT 10.0; Win64; x64) AppleWebKit/537.36 (KHTML, like Gecko) Chrome/100.0.4896.127 Safari/537.36',\n",
    "      'Mozilla/5.0 (Windows NT 10.0; Win64; x64) AppleWebKit/537.36 (KHTML, like Gecko) Chrome/100.0.4896.127 Safari/537.36 Edg/100.0.1185.50']\n",
    "\n",
    "proxy_list = [{\"https\": \"171.35.163.80:9999\"}, {'https': '182.34.36.242:9999'}, {\"https\": \"210.22.176.146:32153\"}, {\"https\": \"171.13.137.81:9999\"},\n",
    "              {\"https\": \"27.43.187.171:9999\"}, {\"https\": \"27.159.167.154:9999\"}, {\"https\": \"171.35.166.35:9999\"}, {\"https\": \"60.205.229.126:80\"},\n",
    "              {\"https\": \"27.204.87.254:9999\"}, {\"https\": \"218.91.94.202:9999\"}, {\"https\": \"110.86.137.213:9999\"}, {\"https\": \"218.91.94.130:9999\"}]\n",
    "headers = { \"User-Agent\":random.choice(us) }\n",
    "with tqdm(total=len(data_csv), postfix=dict) as pbar:\n",
    "    for item in range(len(data_csv)):\n",
    "        try:\n",
    "            soup_detail = bs4.BeautifulSoup(requests.get(data_csv.loc[item, 'url'],\n",
    "                                                         headers=headers, timeout=15,\n",
    "                                                         proxies=random.choice(proxy_list)).text.encode(\"utf-8\"),\n",
    "                                            \"html.parser\").find(name='script', attrs={'type':\"application/ld+json\"})\n",
    "            json_detail = json.loads(soup_detail.string)\n",
    "            author = ''\n",
    "            for item_author in json_detail['author']:\n",
    "                author = author + '/' + item_author['name']\n",
    "            data_csv.loc[item, 'author'] = copy.copy(author[1:])\n",
    "            director = ''\n",
    "            for item_director in json_detail['director']:\n",
    "                director = director + '/' + item_director['name']\n",
    "            data_csv.loc[item, 'director'] = copy.copy(director[1:])\n",
    "            pbar.set_postfix(**{'director: ': copy.copy(director[1:]), 'author': copy.copy(author[1:])})\n",
    "            pbar.update(1)\n",
    "        except Exception as e:\n",
    "            print(e.args)\n",
    "            pbar.update(1)\n",
    "        break"
   ],
   "metadata": {
    "collapsed": false,
    "pycharm": {
     "name": "#%%\n",
     "is_executing": true
    }
   }
  },
  {
   "cell_type": "markdown",
   "source": [
    "#### 添加导演信息"
   ],
   "metadata": {
    "collapsed": false
   }
  },
  {
   "cell_type": "code",
   "execution_count": null,
   "outputs": [
    {
     "name": "stdout",
     "output_type": "stream",
     "text": [
      "{'msg': '检测到有异常请求从您的IP发出，请登录再试!', 'r': 1}\n",
      "{'msg': '检测到有异常请求从您的IP发出，请登录再试!', 'r': 1}\n",
      "{'msg': '检测到有异常请求从您的IP发出，请登录再试!', 'r': 1}\n",
      "{'msg': '检测到有异常请求从您的IP发出，请登录再试!', 'r': 1}\n",
      "{'msg': '检测到有异常请求从您的IP发出，请登录再试!', 'r': 1}\n",
      "{'msg': '检测到有异常请求从您的IP发出，请登录再试!', 'r': 1}\n",
      "{'msg': '检测到有异常请求从您的IP发出，请登录再试!', 'r': 1}\n",
      "{'msg': '检测到有异常请求从您的IP发出，请登录再试!', 'r': 1}\n",
      "{'msg': '检测到有异常请求从您的IP发出，请登录再试!', 'r': 1}\n",
      "{'msg': '检测到有异常请求从您的IP发出，请登录再试!', 'r': 1}\n",
      "{'msg': '检测到有异常请求从您的IP发出，请登录再试!', 'r': 1}\n",
      "{'msg': '检测到有异常请求从您的IP发出，请登录再试!', 'r': 1}\n"
     ]
    },
    {
     "name": "stderr",
     "output_type": "stream",
     "text": [
      "  0%|          | 0/140800 [00:50<?, ?it/s<class 'dict'>]\n"
     ]
    },
    {
     "ename": "KeyboardInterrupt",
     "evalue": "",
     "output_type": "error",
     "traceback": [
      "\u001B[1;31m---------------------------------------------------------------------------\u001B[0m",
      "\u001B[1;31mConnectionRefusedError\u001B[0m                    Traceback (most recent call last)",
      "File \u001B[1;32mD:\\Code\\annaconda\\envs\\Env_1\\lib\\site-packages\\urllib3\\util\\connection.py:85\u001B[0m, in \u001B[0;36mcreate_connection\u001B[1;34m(address, timeout, source_address, socket_options)\u001B[0m\n\u001B[0;32m     84\u001B[0m     sock\u001B[38;5;241m.\u001B[39mbind(source_address)\n\u001B[1;32m---> 85\u001B[0m \u001B[43msock\u001B[49m\u001B[38;5;241;43m.\u001B[39;49m\u001B[43mconnect\u001B[49m\u001B[43m(\u001B[49m\u001B[43msa\u001B[49m\u001B[43m)\u001B[49m\n\u001B[0;32m     86\u001B[0m \u001B[38;5;28;01mreturn\u001B[39;00m sock\n",
      "\u001B[1;31mConnectionRefusedError\u001B[0m: [WinError 10061] 由于目标计算机积极拒绝，无法连接。",
      "\nDuring handling of the above exception, another exception occurred:\n",
      "\u001B[1;31mKeyboardInterrupt\u001B[0m                         Traceback (most recent call last)",
      "Input \u001B[1;32mIn [27]\u001B[0m, in \u001B[0;36m<cell line: 17>\u001B[1;34m()\u001B[0m\n\u001B[0;32m     20\u001B[0m \u001B[38;5;28;01mtry\u001B[39;00m:\n\u001B[0;32m     21\u001B[0m     url \u001B[38;5;241m=\u001B[39m \u001B[38;5;124m'\u001B[39m\u001B[38;5;124mhttps://movie.douban.com/j/new_search_subjects?sort=S&range=0,10&tags=\u001B[39m\u001B[38;5;132;01m%E\u001B[39;00m\u001B[38;5;124m7\u001B[39m\u001B[38;5;132;01m%94%\u001B[39;00m\u001B[38;5;124mB5\u001B[39m\u001B[38;5;132;01m%E\u001B[39;00m\u001B[38;5;124m5\u001B[39m\u001B[38;5;124m%\u001B[39m\u001B[38;5;124mBD\u001B[39m\u001B[38;5;124m%\u001B[39m\u001B[38;5;124mB1&start=\u001B[39m\u001B[38;5;132;01m{}\u001B[39;00m\u001B[38;5;124m&genres=\u001B[39m\u001B[38;5;132;01m{}\u001B[39;00m\u001B[38;5;124m'\u001B[39m\u001B[38;5;241m.\u001B[39mformat(item_start \u001B[38;5;241m*\u001B[39m \u001B[38;5;241m20\u001B[39m, item_type)\n\u001B[1;32m---> 22\u001B[0m     req \u001B[38;5;241m=\u001B[39m json\u001B[38;5;241m.\u001B[39mloads(\u001B[43mrequests\u001B[49m\u001B[38;5;241;43m.\u001B[39;49m\u001B[43mget\u001B[49m\u001B[43m(\u001B[49m\u001B[43murl\u001B[49m\u001B[43m,\u001B[49m\u001B[43m \u001B[49m\u001B[43mheaders\u001B[49m\u001B[38;5;241;43m=\u001B[39;49m\u001B[43mheaders\u001B[49m\u001B[43m,\u001B[49m\u001B[43m \u001B[49m\u001B[43mtimeout\u001B[49m\u001B[38;5;241;43m=\u001B[39;49m\u001B[38;5;241;43m50\u001B[39;49m\u001B[43m,\u001B[49m\u001B[43m \u001B[49m\u001B[43mproxies\u001B[49m\u001B[38;5;241;43m=\u001B[39;49m\u001B[43mrandom\u001B[49m\u001B[38;5;241;43m.\u001B[39;49m\u001B[43mchoice\u001B[49m\u001B[43m(\u001B[49m\u001B[43mproxy_list\u001B[49m\u001B[43m)\u001B[49m\u001B[43m)\u001B[49m\u001B[38;5;241m.\u001B[39mtext)\n\u001B[0;32m     23\u001B[0m     \u001B[38;5;28;01mfor\u001B[39;00m req_item \u001B[38;5;129;01min\u001B[39;00m req[\u001B[38;5;124m'\u001B[39m\u001B[38;5;124mdata\u001B[39m\u001B[38;5;124m'\u001B[39m]:\n\u001B[0;32m     24\u001B[0m         \u001B[38;5;28;01mif\u001B[39;00m \u001B[38;5;28mlen\u001B[39m(data_csv_noRepeat\u001B[38;5;241m.\u001B[39mloc[data_csv_noRepeat[\u001B[38;5;124m'\u001B[39m\u001B[38;5;124murl\u001B[39m\u001B[38;5;124m'\u001B[39m] \u001B[38;5;241m==\u001B[39m req_item[\u001B[38;5;124m'\u001B[39m\u001B[38;5;124murl\u001B[39m\u001B[38;5;124m'\u001B[39m]]) \u001B[38;5;241m!=\u001B[39m \u001B[38;5;241m0\u001B[39m:\n",
      "File \u001B[1;32mD:\\Code\\annaconda\\envs\\Env_1\\lib\\site-packages\\requests\\api.py:75\u001B[0m, in \u001B[0;36mget\u001B[1;34m(url, params, **kwargs)\u001B[0m\n\u001B[0;32m     64\u001B[0m \u001B[38;5;28;01mdef\u001B[39;00m \u001B[38;5;21mget\u001B[39m(url, params\u001B[38;5;241m=\u001B[39m\u001B[38;5;28;01mNone\u001B[39;00m, \u001B[38;5;241m*\u001B[39m\u001B[38;5;241m*\u001B[39mkwargs):\n\u001B[0;32m     65\u001B[0m     \u001B[38;5;124mr\u001B[39m\u001B[38;5;124;03m\"\"\"Sends a GET request.\u001B[39;00m\n\u001B[0;32m     66\u001B[0m \n\u001B[0;32m     67\u001B[0m \u001B[38;5;124;03m    :param url: URL for the new :class:`Request` object.\u001B[39;00m\n\u001B[1;32m   (...)\u001B[0m\n\u001B[0;32m     72\u001B[0m \u001B[38;5;124;03m    :rtype: requests.Response\u001B[39;00m\n\u001B[0;32m     73\u001B[0m \u001B[38;5;124;03m    \"\"\"\u001B[39;00m\n\u001B[1;32m---> 75\u001B[0m     \u001B[38;5;28;01mreturn\u001B[39;00m request(\u001B[38;5;124m'\u001B[39m\u001B[38;5;124mget\u001B[39m\u001B[38;5;124m'\u001B[39m, url, params\u001B[38;5;241m=\u001B[39mparams, \u001B[38;5;241m*\u001B[39m\u001B[38;5;241m*\u001B[39mkwargs)\n",
      "File \u001B[1;32mD:\\Code\\annaconda\\envs\\Env_1\\lib\\site-packages\\requests\\api.py:61\u001B[0m, in \u001B[0;36mrequest\u001B[1;34m(method, url, **kwargs)\u001B[0m\n\u001B[0;32m     57\u001B[0m \u001B[38;5;66;03m# By using the 'with' statement we are sure the session is closed, thus we\u001B[39;00m\n\u001B[0;32m     58\u001B[0m \u001B[38;5;66;03m# avoid leaving sockets open which can trigger a ResourceWarning in some\u001B[39;00m\n\u001B[0;32m     59\u001B[0m \u001B[38;5;66;03m# cases, and look like a memory leak in others.\u001B[39;00m\n\u001B[0;32m     60\u001B[0m \u001B[38;5;28;01mwith\u001B[39;00m sessions\u001B[38;5;241m.\u001B[39mSession() \u001B[38;5;28;01mas\u001B[39;00m session:\n\u001B[1;32m---> 61\u001B[0m     \u001B[38;5;28;01mreturn\u001B[39;00m session\u001B[38;5;241m.\u001B[39mrequest(method\u001B[38;5;241m=\u001B[39mmethod, url\u001B[38;5;241m=\u001B[39murl, \u001B[38;5;241m*\u001B[39m\u001B[38;5;241m*\u001B[39mkwargs)\n",
      "File \u001B[1;32mD:\\Code\\annaconda\\envs\\Env_1\\lib\\site-packages\\requests\\sessions.py:529\u001B[0m, in \u001B[0;36mSession.request\u001B[1;34m(self, method, url, params, data, headers, cookies, files, auth, timeout, allow_redirects, proxies, hooks, stream, verify, cert, json)\u001B[0m\n\u001B[0;32m    524\u001B[0m send_kwargs \u001B[38;5;241m=\u001B[39m {\n\u001B[0;32m    525\u001B[0m     \u001B[38;5;124m'\u001B[39m\u001B[38;5;124mtimeout\u001B[39m\u001B[38;5;124m'\u001B[39m: timeout,\n\u001B[0;32m    526\u001B[0m     \u001B[38;5;124m'\u001B[39m\u001B[38;5;124mallow_redirects\u001B[39m\u001B[38;5;124m'\u001B[39m: allow_redirects,\n\u001B[0;32m    527\u001B[0m }\n\u001B[0;32m    528\u001B[0m send_kwargs\u001B[38;5;241m.\u001B[39mupdate(settings)\n\u001B[1;32m--> 529\u001B[0m resp \u001B[38;5;241m=\u001B[39m \u001B[38;5;28mself\u001B[39m\u001B[38;5;241m.\u001B[39msend(prep, \u001B[38;5;241m*\u001B[39m\u001B[38;5;241m*\u001B[39msend_kwargs)\n\u001B[0;32m    531\u001B[0m \u001B[38;5;28;01mreturn\u001B[39;00m resp\n",
      "File \u001B[1;32mD:\\Code\\annaconda\\envs\\Env_1\\lib\\site-packages\\requests\\sessions.py:645\u001B[0m, in \u001B[0;36mSession.send\u001B[1;34m(self, request, **kwargs)\u001B[0m\n\u001B[0;32m    642\u001B[0m start \u001B[38;5;241m=\u001B[39m preferred_clock()\n\u001B[0;32m    644\u001B[0m \u001B[38;5;66;03m# Send the request\u001B[39;00m\n\u001B[1;32m--> 645\u001B[0m r \u001B[38;5;241m=\u001B[39m adapter\u001B[38;5;241m.\u001B[39msend(request, \u001B[38;5;241m*\u001B[39m\u001B[38;5;241m*\u001B[39mkwargs)\n\u001B[0;32m    647\u001B[0m \u001B[38;5;66;03m# Total elapsed time of the request (approximately)\u001B[39;00m\n\u001B[0;32m    648\u001B[0m elapsed \u001B[38;5;241m=\u001B[39m preferred_clock() \u001B[38;5;241m-\u001B[39m start\n",
      "File \u001B[1;32mD:\\Code\\annaconda\\envs\\Env_1\\lib\\site-packages\\requests\\adapters.py:440\u001B[0m, in \u001B[0;36mHTTPAdapter.send\u001B[1;34m(self, request, stream, timeout, verify, cert, proxies)\u001B[0m\n\u001B[0;32m    438\u001B[0m \u001B[38;5;28;01mtry\u001B[39;00m:\n\u001B[0;32m    439\u001B[0m     \u001B[38;5;28;01mif\u001B[39;00m \u001B[38;5;129;01mnot\u001B[39;00m chunked:\n\u001B[1;32m--> 440\u001B[0m         resp \u001B[38;5;241m=\u001B[39m \u001B[43mconn\u001B[49m\u001B[38;5;241;43m.\u001B[39;49m\u001B[43murlopen\u001B[49m\u001B[43m(\u001B[49m\n\u001B[0;32m    441\u001B[0m \u001B[43m            \u001B[49m\u001B[43mmethod\u001B[49m\u001B[38;5;241;43m=\u001B[39;49m\u001B[43mrequest\u001B[49m\u001B[38;5;241;43m.\u001B[39;49m\u001B[43mmethod\u001B[49m\u001B[43m,\u001B[49m\n\u001B[0;32m    442\u001B[0m \u001B[43m            \u001B[49m\u001B[43murl\u001B[49m\u001B[38;5;241;43m=\u001B[39;49m\u001B[43murl\u001B[49m\u001B[43m,\u001B[49m\n\u001B[0;32m    443\u001B[0m \u001B[43m            \u001B[49m\u001B[43mbody\u001B[49m\u001B[38;5;241;43m=\u001B[39;49m\u001B[43mrequest\u001B[49m\u001B[38;5;241;43m.\u001B[39;49m\u001B[43mbody\u001B[49m\u001B[43m,\u001B[49m\n\u001B[0;32m    444\u001B[0m \u001B[43m            \u001B[49m\u001B[43mheaders\u001B[49m\u001B[38;5;241;43m=\u001B[39;49m\u001B[43mrequest\u001B[49m\u001B[38;5;241;43m.\u001B[39;49m\u001B[43mheaders\u001B[49m\u001B[43m,\u001B[49m\n\u001B[0;32m    445\u001B[0m \u001B[43m            \u001B[49m\u001B[43mredirect\u001B[49m\u001B[38;5;241;43m=\u001B[39;49m\u001B[38;5;28;43;01mFalse\u001B[39;49;00m\u001B[43m,\u001B[49m\n\u001B[0;32m    446\u001B[0m \u001B[43m            \u001B[49m\u001B[43massert_same_host\u001B[49m\u001B[38;5;241;43m=\u001B[39;49m\u001B[38;5;28;43;01mFalse\u001B[39;49;00m\u001B[43m,\u001B[49m\n\u001B[0;32m    447\u001B[0m \u001B[43m            \u001B[49m\u001B[43mpreload_content\u001B[49m\u001B[38;5;241;43m=\u001B[39;49m\u001B[38;5;28;43;01mFalse\u001B[39;49;00m\u001B[43m,\u001B[49m\n\u001B[0;32m    448\u001B[0m \u001B[43m            \u001B[49m\u001B[43mdecode_content\u001B[49m\u001B[38;5;241;43m=\u001B[39;49m\u001B[38;5;28;43;01mFalse\u001B[39;49;00m\u001B[43m,\u001B[49m\n\u001B[0;32m    449\u001B[0m \u001B[43m            \u001B[49m\u001B[43mretries\u001B[49m\u001B[38;5;241;43m=\u001B[39;49m\u001B[38;5;28;43mself\u001B[39;49m\u001B[38;5;241;43m.\u001B[39;49m\u001B[43mmax_retries\u001B[49m\u001B[43m,\u001B[49m\n\u001B[0;32m    450\u001B[0m \u001B[43m            \u001B[49m\u001B[43mtimeout\u001B[49m\u001B[38;5;241;43m=\u001B[39;49m\u001B[43mtimeout\u001B[49m\n\u001B[0;32m    451\u001B[0m \u001B[43m        \u001B[49m\u001B[43m)\u001B[49m\n\u001B[0;32m    453\u001B[0m     \u001B[38;5;66;03m# Send the request.\u001B[39;00m\n\u001B[0;32m    454\u001B[0m     \u001B[38;5;28;01melse\u001B[39;00m:\n\u001B[0;32m    455\u001B[0m         \u001B[38;5;28;01mif\u001B[39;00m \u001B[38;5;28mhasattr\u001B[39m(conn, \u001B[38;5;124m'\u001B[39m\u001B[38;5;124mproxy_pool\u001B[39m\u001B[38;5;124m'\u001B[39m):\n",
      "File \u001B[1;32mD:\\Code\\annaconda\\envs\\Env_1\\lib\\site-packages\\urllib3\\connectionpool.py:700\u001B[0m, in \u001B[0;36mHTTPConnectionPool.urlopen\u001B[1;34m(self, method, url, body, headers, retries, redirect, assert_same_host, timeout, pool_timeout, release_conn, chunked, body_pos, **response_kw)\u001B[0m\n\u001B[0;32m    696\u001B[0m is_new_proxy_conn \u001B[38;5;241m=\u001B[39m \u001B[38;5;28mself\u001B[39m\u001B[38;5;241m.\u001B[39mproxy \u001B[38;5;129;01mis\u001B[39;00m \u001B[38;5;129;01mnot\u001B[39;00m \u001B[38;5;28;01mNone\u001B[39;00m \u001B[38;5;129;01mand\u001B[39;00m \u001B[38;5;129;01mnot\u001B[39;00m \u001B[38;5;28mgetattr\u001B[39m(\n\u001B[0;32m    697\u001B[0m     conn, \u001B[38;5;124m\"\u001B[39m\u001B[38;5;124msock\u001B[39m\u001B[38;5;124m\"\u001B[39m, \u001B[38;5;28;01mNone\u001B[39;00m\n\u001B[0;32m    698\u001B[0m )\n\u001B[0;32m    699\u001B[0m \u001B[38;5;28;01mif\u001B[39;00m is_new_proxy_conn \u001B[38;5;129;01mand\u001B[39;00m http_tunnel_required:\n\u001B[1;32m--> 700\u001B[0m     \u001B[38;5;28;43mself\u001B[39;49m\u001B[38;5;241;43m.\u001B[39;49m\u001B[43m_prepare_proxy\u001B[49m\u001B[43m(\u001B[49m\u001B[43mconn\u001B[49m\u001B[43m)\u001B[49m\n\u001B[0;32m    702\u001B[0m \u001B[38;5;66;03m# Make the request on the httplib connection object.\u001B[39;00m\n\u001B[0;32m    703\u001B[0m httplib_response \u001B[38;5;241m=\u001B[39m \u001B[38;5;28mself\u001B[39m\u001B[38;5;241m.\u001B[39m_make_request(\n\u001B[0;32m    704\u001B[0m     conn,\n\u001B[0;32m    705\u001B[0m     method,\n\u001B[1;32m   (...)\u001B[0m\n\u001B[0;32m    710\u001B[0m     chunked\u001B[38;5;241m=\u001B[39mchunked,\n\u001B[0;32m    711\u001B[0m )\n",
      "File \u001B[1;32mD:\\Code\\annaconda\\envs\\Env_1\\lib\\site-packages\\urllib3\\connectionpool.py:994\u001B[0m, in \u001B[0;36mHTTPSConnectionPool._prepare_proxy\u001B[1;34m(self, conn)\u001B[0m\n\u001B[0;32m    991\u001B[0m \u001B[38;5;28;01mif\u001B[39;00m \u001B[38;5;28mself\u001B[39m\u001B[38;5;241m.\u001B[39mproxy\u001B[38;5;241m.\u001B[39mscheme \u001B[38;5;241m==\u001B[39m \u001B[38;5;124m\"\u001B[39m\u001B[38;5;124mhttps\u001B[39m\u001B[38;5;124m\"\u001B[39m:\n\u001B[0;32m    992\u001B[0m     conn\u001B[38;5;241m.\u001B[39mtls_in_tls_required \u001B[38;5;241m=\u001B[39m \u001B[38;5;28;01mTrue\u001B[39;00m\n\u001B[1;32m--> 994\u001B[0m \u001B[43mconn\u001B[49m\u001B[38;5;241;43m.\u001B[39;49m\u001B[43mconnect\u001B[49m\u001B[43m(\u001B[49m\u001B[43m)\u001B[49m\n",
      "File \u001B[1;32mD:\\Code\\annaconda\\envs\\Env_1\\lib\\site-packages\\urllib3\\connection.py:358\u001B[0m, in \u001B[0;36mHTTPSConnection.connect\u001B[1;34m(self)\u001B[0m\n\u001B[0;32m    356\u001B[0m \u001B[38;5;28;01mdef\u001B[39;00m \u001B[38;5;21mconnect\u001B[39m(\u001B[38;5;28mself\u001B[39m):\n\u001B[0;32m    357\u001B[0m     \u001B[38;5;66;03m# Add certificate verification\u001B[39;00m\n\u001B[1;32m--> 358\u001B[0m     \u001B[38;5;28mself\u001B[39m\u001B[38;5;241m.\u001B[39msock \u001B[38;5;241m=\u001B[39m conn \u001B[38;5;241m=\u001B[39m \u001B[38;5;28;43mself\u001B[39;49m\u001B[38;5;241;43m.\u001B[39;49m\u001B[43m_new_conn\u001B[49m\u001B[43m(\u001B[49m\u001B[43m)\u001B[49m\n\u001B[0;32m    359\u001B[0m     hostname \u001B[38;5;241m=\u001B[39m \u001B[38;5;28mself\u001B[39m\u001B[38;5;241m.\u001B[39mhost\n\u001B[0;32m    360\u001B[0m     tls_in_tls \u001B[38;5;241m=\u001B[39m \u001B[38;5;28;01mFalse\u001B[39;00m\n",
      "File \u001B[1;32mD:\\Code\\annaconda\\envs\\Env_1\\lib\\site-packages\\urllib3\\connection.py:174\u001B[0m, in \u001B[0;36mHTTPConnection._new_conn\u001B[1;34m(self)\u001B[0m\n\u001B[0;32m    171\u001B[0m     extra_kw[\u001B[38;5;124m\"\u001B[39m\u001B[38;5;124msocket_options\u001B[39m\u001B[38;5;124m\"\u001B[39m] \u001B[38;5;241m=\u001B[39m \u001B[38;5;28mself\u001B[39m\u001B[38;5;241m.\u001B[39msocket_options\n\u001B[0;32m    173\u001B[0m \u001B[38;5;28;01mtry\u001B[39;00m:\n\u001B[1;32m--> 174\u001B[0m     conn \u001B[38;5;241m=\u001B[39m connection\u001B[38;5;241m.\u001B[39mcreate_connection(\n\u001B[0;32m    175\u001B[0m         (\u001B[38;5;28mself\u001B[39m\u001B[38;5;241m.\u001B[39m_dns_host, \u001B[38;5;28mself\u001B[39m\u001B[38;5;241m.\u001B[39mport), \u001B[38;5;28mself\u001B[39m\u001B[38;5;241m.\u001B[39mtimeout, \u001B[38;5;241m*\u001B[39m\u001B[38;5;241m*\u001B[39mextra_kw\n\u001B[0;32m    176\u001B[0m     )\n\u001B[0;32m    178\u001B[0m \u001B[38;5;28;01mexcept\u001B[39;00m SocketTimeout:\n\u001B[0;32m    179\u001B[0m     \u001B[38;5;28;01mraise\u001B[39;00m ConnectTimeoutError(\n\u001B[0;32m    180\u001B[0m         \u001B[38;5;28mself\u001B[39m,\n\u001B[0;32m    181\u001B[0m         \u001B[38;5;124m\"\u001B[39m\u001B[38;5;124mConnection to \u001B[39m\u001B[38;5;132;01m%s\u001B[39;00m\u001B[38;5;124m timed out. (connect timeout=\u001B[39m\u001B[38;5;132;01m%s\u001B[39;00m\u001B[38;5;124m)\u001B[39m\u001B[38;5;124m\"\u001B[39m\n\u001B[0;32m    182\u001B[0m         \u001B[38;5;241m%\u001B[39m (\u001B[38;5;28mself\u001B[39m\u001B[38;5;241m.\u001B[39mhost, \u001B[38;5;28mself\u001B[39m\u001B[38;5;241m.\u001B[39mtimeout),\n\u001B[0;32m    183\u001B[0m     )\n",
      "File \u001B[1;32mD:\\Code\\annaconda\\envs\\Env_1\\lib\\site-packages\\urllib3\\util\\connection.py:85\u001B[0m, in \u001B[0;36mcreate_connection\u001B[1;34m(address, timeout, source_address, socket_options)\u001B[0m\n\u001B[0;32m     83\u001B[0m     \u001B[38;5;28;01mif\u001B[39;00m source_address:\n\u001B[0;32m     84\u001B[0m         sock\u001B[38;5;241m.\u001B[39mbind(source_address)\n\u001B[1;32m---> 85\u001B[0m     \u001B[43msock\u001B[49m\u001B[38;5;241;43m.\u001B[39;49m\u001B[43mconnect\u001B[49m\u001B[43m(\u001B[49m\u001B[43msa\u001B[49m\u001B[43m)\u001B[49m\n\u001B[0;32m     86\u001B[0m     \u001B[38;5;28;01mreturn\u001B[39;00m sock\n\u001B[0;32m     88\u001B[0m \u001B[38;5;28;01mexcept\u001B[39;00m socket\u001B[38;5;241m.\u001B[39merror \u001B[38;5;28;01mas\u001B[39;00m e:\n",
      "\u001B[1;31mKeyboardInterrupt\u001B[0m: "
     ]
    }
   ],
   "source": [
    "data_csv_noRepeat = pd.read_csv(\"./data_movies_noRepeat.csv\")\n",
    "us = [\"Mozilla/5.0 (Windows NT 10.0; Win64; x64) AppleWebKit/537.36 (KHTML, like Gecko) Chrome/100.0.4896.127 Safari/537.36 Edg/100.0.1185.50\",\n",
    "      'Mozilla/5.0 (Windows NT 10.0; Win64; x64) AppleWebKit/537.36 (KHTML, like Gecko) Chrome/100.0.4896.127 Safari/537.36',\n",
    "      'Mozilla/5.0 (Windows NT 10.0; Win64; x64) AppleWebKit/537.36 (KHTML, like Gecko) Chrome/100.0.4896.127 Safari/537.36',\n",
    "      'Mozilla/5.0 (Windows NT 10.0; Win64; x64) AppleWebKit/537.36 (KHTML, like Gecko) Chrome/100.0.4896.127 Safari/537.36 Edg/100.0.1185.50']\n",
    "type_list = ['%E5%89%A7%E6%83%85','%E5%96%9C%E5%89%A7','%E5%8A%A8%E4%BD%9C',\n",
    "              '%E7%88%B1%E6%83%85','%E7%A7%91%E5%B9%BB','%E5%8A%A8%E7%94%BB',\n",
    "              '%E6%82%AC%E7%96%91','%E6%83%8A%E6%82%9A','%E6%81%90%E6%80%96',\n",
    "              '%E7%8A%AF%E7%BD%AA','%E5%90%8C%E6%80%A7','%E9%9F%B3%E4%B9%90',\n",
    "              '%E6%AD%8C%E8%88%9E','%E4%BC%A0%E8%AE%B0','%E5%8E%86%E5%8F%B2',\n",
    "              '%E6%88%98%E4%BA%89','%E8%A5%BF%E9%83%A8','%E5%A5%87%E5%B9%BB',\n",
    "              '%E5%86%92%E9%99%A9','%E7%81%BE%E9%9A%BE','%E6%AD%A6%E4%BE%A0',\n",
    "              '%E6%83%85%E8%89%B2']\n",
    "proxy_list = [{'https': '10.3.4.9:49300'}, {'https': '10.3.4.9:63112'}]\n",
    "headers = { \"User-Agent\":random.choice(us)}\n",
    "movies = 0\n",
    "with tqdm(total=len(type_list) * 320 * 20, postfix=dict) as pbar:\n",
    "    for item_type in type_list:\n",
    "        for item_start in range(320):\n",
    "            try:\n",
    "                requests.adapters.DEFAULT_RETRIES = 5 # 增加重连次数\n",
    "                s = requests.session()\n",
    "                s.keep_alive = False # 关闭多余连接\n",
    "                url = 'https://movie.douban.com/j/new_search_subjects?sort=S&range=0,10&tags=%E7%94%B5%E5%BD%B1&start={}&genres={}'.format(item_start * 20, item_type)\n",
    "                req = json.loads(requests.get(url, headers=headers, timeout=50, proxies=random.choice(proxy_list)).text)\n",
    "                for req_item in req['data']:\n",
    "                    if len(data_csv_noRepeat.loc[data_csv_noRepeat['url'] == req_item['url']]) != 0:\n",
    "                        try:\n",
    "                            data_csv_noRepeat.loc[data_csv_noRepeat['url'] == req_item['url'], 'directors'] = str(req_item['directors'])\n",
    "                        except Exception as e:\n",
    "                            print(str(req_item['directors']))\n",
    "                            print(data_csv_noRepeat.loc[data_csv_noRepeat['url'] == req_item['url'], 'directors'])\n",
    "                        movies += 1\n",
    "                    pbar.update(1)\n",
    "                    pbar.set_postfix(**{'movies_num': movies})\n",
    "            except Exception as E:\n",
    "                print(req)\n",
    "\n"
   ],
   "metadata": {
    "collapsed": false,
    "pycharm": {
     "name": "#%%\n"
    }
   }
  }
 ],
 "metadata": {
  "kernelspec": {
   "display_name": "Python 3",
   "language": "python",
   "name": "python3"
  },
  "language_info": {
   "codemirror_mode": {
    "name": "ipython",
    "version": 2
   },
   "file_extension": ".py",
   "mimetype": "text/x-python",
   "name": "python",
   "nbconvert_exporter": "python",
   "pygments_lexer": "ipython2",
   "version": "2.7.6"
  }
 },
 "nbformat": 4,
 "nbformat_minor": 0
}