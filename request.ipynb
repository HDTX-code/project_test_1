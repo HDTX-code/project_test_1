{
 "cells": [
  {
   "cell_type": "markdown",
   "source": [
    "## 爬虫豆瓣图书TOP250作业"
   ],
   "metadata": {
    "collapsed": false
   }
  },
  {
   "cell_type": "markdown",
   "source": [
    "#### 爬取数据并且保存"
   ],
   "metadata": {
    "collapsed": false
   }
  },
  {
   "cell_type": "code",
   "execution_count": 1,
   "metadata": {
    "collapsed": true
   },
   "outputs": [],
   "source": [
    "import requests\n",
    "import bs4\n",
    "import pandas as pd"
   ]
  },
  {
   "cell_type": "code",
   "execution_count": 2,
   "outputs": [],
   "source": [
    "def get_name(name_list):\n",
    "    name = ''\n",
    "    for item in name_list:\n",
    "        name = name + str(item)\n",
    "    if name.find('[') != -1 and name.find(']') != -1:\n",
    "        country = name[name.index('[') + 1:name.index(']')]\n",
    "        name = name[name.index(']') + 1:].replace(\"著\", \"\").replace(\" \", \"\")\n",
    "    else:\n",
    "        country = '中'\n",
    "    return name, country"
   ],
   "metadata": {
    "collapsed": false,
    "pycharm": {
     "name": "#%%\n"
    }
   }
  },
  {
   "cell_type": "code",
   "execution_count": 3,
   "outputs": [],
   "source": [
    "def search(req, i, result):\n",
    "    soup = bs4.BeautifulSoup(req, \"html.parser\").find_all(name=\"tr\", attrs={'class':'item'})\n",
    "    for item, soup_item in enumerate(soup):\n",
    "        # print(str(soup_item.find(name=\"div\", attrs={'class':'pl2'}).select(\"body a\"))\\\n",
    "        #     .replace(\" \", '').replace(\"\\n\", ''))\n",
    "        result.loc[i*25 + item, '书名'] = str(str(soup_item.find(name=\"div\", attrs={'class':'pl2'})\n",
    "                                                .select(\"body a\")[0]['title'])).replace(\" \", '').replace(\"\\n\", '')\n",
    "        result.loc[i*25 + item, '链接'] = str(soup_item.select(\"body a\")[1][\"href\"])\n",
    "        result.loc[i*25 + item, '是否可试读'] = \\\n",
    "            str(soup_item.select(\"body img\")[1]['title']) if len(soup_item.select(\"body img\")) >= 2 else \"不可试读\"\n",
    "        result.loc[i*25 + item, '价格'] = \\\n",
    "            str(soup_item.find(name=\"p\", attrs={'class':'pl'}).string).split(\"/\")[-1].replace(\"元\", '')\n",
    "        result.loc[i*25 + item, '出版时间'] = \\\n",
    "            str(soup_item.find(name=\"p\", attrs={'class':'pl'}).string).split(\"/\")[-2]\n",
    "        result.loc[i*25 + item, '出版社'] = \\\n",
    "            str(soup_item.find(name=\"p\", attrs={'class':'pl'}).string).split(\"/\")[-3]\n",
    "        name, country = get_name(str(soup_item.find(name=\"p\", attrs={'class':'pl'}).string).split(\"/\")[:-3])\n",
    "        result.loc[i*25 + item, '作者'] = name\n",
    "        result.loc[i*25 + item, '作者国籍'] = country\n",
    "        result.loc[i*25 + item, '评价'] = str(soup_item.find(name=\"span\", attrs={'class':'inq'}).string) if \\\n",
    "            soup_item.find(name=\"span\", attrs={'class':'inq'}) is not None else '无热评'\n",
    "        result.loc[i*25 + item, '评价人数'] = \\\n",
    "            str(soup_item.find(name=\"span\", attrs={'class':'pl'}).string)\\\n",
    "                .replace(\" \", '').replace(\"\\n\", '').replace(\"人评价)\", '').replace(\"(\", '')\n",
    "        result.loc[i*25 + item, '别名'] = \\\n",
    "            '无别名' if soup_item.find(name=\"span\", attrs={'style': \"font-size:12px;\"}) is None \\\n",
    "                else str(soup_item.find(name=\"span\", attrs={'style': \"font-size:12px;\"})\n",
    "                    .string).replace(\":\", '')\n",
    "    return result"
   ],
   "metadata": {
    "collapsed": false,
    "pycharm": {
     "name": "#%%\n"
    }
   }
  },
  {
   "cell_type": "code",
   "execution_count": 4,
   "outputs": [],
   "source": [
    "# 根据url获取数据\n",
    "def req(url, i, result):\n",
    "    header = {\n",
    "        'User-Agent': r'Mozilla/5.0 (Macintosh; Intel Mac OS X 10_15_7) AppleWebKit/537.36 (KHTML, like Gecko) Chrome/100.0.4896.127 Safari/537.36'\n",
    "    }\n",
    "    req = requests.get(url, headers=header, timeout=5).text.encode(\"utf-8\")\n",
    "    result = search(req, i, result)\n",
    "    return result\n",
    "    # try:\n",
    "    #     req = requests.get(url, headers=header, timeout=5).text.encode(\"utf-8\")\n",
    "    #     search(req, i, result)\n",
    "    # except Exception as e:\n",
    "    #     print(\"except\", e)"
   ],
   "metadata": {
    "collapsed": false,
    "pycharm": {
     "name": "#%%\n"
    }
   }
  },
  {
   "cell_type": "code",
   "execution_count": 5,
   "outputs": [],
   "source": [
    "def get_req():\n",
    "    baseurl = \"https://book.douban.com/top250?\"\n",
    "    result = pd.DataFrame(columns=['书名', '别名', '作者', '作者国籍', '出版社',\n",
    "                                   '出版时间', '价格', '评价', '评价人数', '是否可试读', '链接'])\n",
    "    # 获取数据\n",
    "    for i in range(10):\n",
    "        url = baseurl + 'start=' + str(i*25)\n",
    "        result = req(url, i, result)\n",
    "    return result"
   ],
   "metadata": {
    "collapsed": false,
    "pycharm": {
     "name": "#%%\n"
    }
   }
  },
  {
   "cell_type": "code",
   "execution_count": 6,
   "outputs": [
    {
     "data": {
      "text/plain": "           书名                                                 别名  \\\n0         红楼梦                                                无别名   \n1          活着                                                无别名   \n2        1984                               Nineteen Eighty-Four   \n3        百年孤独                               Cien años de soledad   \n4        三体全集                                           地球往事三部曲    \n..        ...                                                ...   \n245   显微镜下的大明                                                无别名   \n246   给青年诗人的信                                            雅众·文学馆    \n247   佐贺的超级阿嬷                                                无别名   \n248  人类的群星闪耀时  Sternstunden der Menschheit Vierzehn historisc...   \n249     长袜子皮皮                                                无别名   \n\n               作者  作者国籍          出版社        出版时间       价格              评价  \\\n0             曹雪芹     清     人民文学出版社     1996-12     59.70    都云作者痴，谁解其中味？   \n1             余华      中       作家出版社    2012-8-1     20.00         生的苦难与伟大   \n2       乔治·奥威尔刘绍铭     英   北京十月文艺出版社    2010-4-1     28.00  栗树荫下，我出卖你，你出卖我   \n3      加西亚·马尔克斯范晔  哥伦比亚      南海出版公司      2011-6     39.50     魔幻现实主义文学代表作   \n4            刘慈欣      中       重庆出版社    2012-1-1    168.00         地球往事三部曲   \n..            ...   ...          ...         ...      ...             ...   \n245          马伯庸      中     湖南文艺出版社      2019-1     52.00             无热评   \n246     里尔克冯至雅众文化     奥     云南人民出版社     2015-12     29.00             无热评   \n247       岛田洋七陈宝莲     日      南海出版公司      2007-3     20.00   乐观的外婆却总有神奇的办法   \n248    斯蒂芬·茨威格舒昌善     奥   广西师范大学出版社      2004-8     18.00    十四个影响人类文明的瞬间   \n249  阿斯特丽德·林格伦李之义    瑞典   中国少年儿童出版社      1999-3     17.80             无热评   \n\n       评价人数 是否可试读                                         链接  \n0    366932   可试读   https://book.douban.com/subject/1007305/  \n1    682644   可试读   https://book.douban.com/subject/4913064/  \n2    235328  不可试读   https://book.douban.com/subject/4820710/  \n3    371052  不可试读   https://book.douban.com/subject/6082808/  \n4    130113  不可试读   https://book.douban.com/subject/6518605/  \n..      ...   ...                                        ...  \n245   24287  不可试读  https://book.douban.com/subject/30414743/  \n246   10870   可试读  https://book.douban.com/subject/26685994/  \n247   22844   可试读   https://book.douban.com/subject/2008284/  \n248   28141  不可试读   https://book.douban.com/subject/1083762/  \n249   12168  不可试读   https://book.douban.com/subject/1004088/  \n\n[250 rows x 11 columns]",
      "text/html": "<div>\n<style scoped>\n    .dataframe tbody tr th:only-of-type {\n        vertical-align: middle;\n    }\n\n    .dataframe tbody tr th {\n        vertical-align: top;\n    }\n\n    .dataframe thead th {\n        text-align: right;\n    }\n</style>\n<table border=\"1\" class=\"dataframe\">\n  <thead>\n    <tr style=\"text-align: right;\">\n      <th></th>\n      <th>书名</th>\n      <th>别名</th>\n      <th>作者</th>\n      <th>作者国籍</th>\n      <th>出版社</th>\n      <th>出版时间</th>\n      <th>价格</th>\n      <th>评价</th>\n      <th>评价人数</th>\n      <th>是否可试读</th>\n      <th>链接</th>\n    </tr>\n  </thead>\n  <tbody>\n    <tr>\n      <th>0</th>\n      <td>红楼梦</td>\n      <td>无别名</td>\n      <td>曹雪芹</td>\n      <td>清</td>\n      <td>人民文学出版社</td>\n      <td>1996-12</td>\n      <td>59.70</td>\n      <td>都云作者痴，谁解其中味？</td>\n      <td>366932</td>\n      <td>可试读</td>\n      <td>https://book.douban.com/subject/1007305/</td>\n    </tr>\n    <tr>\n      <th>1</th>\n      <td>活着</td>\n      <td>无别名</td>\n      <td>余华</td>\n      <td>中</td>\n      <td>作家出版社</td>\n      <td>2012-8-1</td>\n      <td>20.00</td>\n      <td>生的苦难与伟大</td>\n      <td>682644</td>\n      <td>可试读</td>\n      <td>https://book.douban.com/subject/4913064/</td>\n    </tr>\n    <tr>\n      <th>2</th>\n      <td>1984</td>\n      <td>Nineteen Eighty-Four</td>\n      <td>乔治·奥威尔刘绍铭</td>\n      <td>英</td>\n      <td>北京十月文艺出版社</td>\n      <td>2010-4-1</td>\n      <td>28.00</td>\n      <td>栗树荫下，我出卖你，你出卖我</td>\n      <td>235328</td>\n      <td>不可试读</td>\n      <td>https://book.douban.com/subject/4820710/</td>\n    </tr>\n    <tr>\n      <th>3</th>\n      <td>百年孤独</td>\n      <td>Cien años de soledad</td>\n      <td>加西亚·马尔克斯范晔</td>\n      <td>哥伦比亚</td>\n      <td>南海出版公司</td>\n      <td>2011-6</td>\n      <td>39.50</td>\n      <td>魔幻现实主义文学代表作</td>\n      <td>371052</td>\n      <td>不可试读</td>\n      <td>https://book.douban.com/subject/6082808/</td>\n    </tr>\n    <tr>\n      <th>4</th>\n      <td>三体全集</td>\n      <td>地球往事三部曲</td>\n      <td>刘慈欣</td>\n      <td>中</td>\n      <td>重庆出版社</td>\n      <td>2012-1-1</td>\n      <td>168.00</td>\n      <td>地球往事三部曲</td>\n      <td>130113</td>\n      <td>不可试读</td>\n      <td>https://book.douban.com/subject/6518605/</td>\n    </tr>\n    <tr>\n      <th>...</th>\n      <td>...</td>\n      <td>...</td>\n      <td>...</td>\n      <td>...</td>\n      <td>...</td>\n      <td>...</td>\n      <td>...</td>\n      <td>...</td>\n      <td>...</td>\n      <td>...</td>\n      <td>...</td>\n    </tr>\n    <tr>\n      <th>245</th>\n      <td>显微镜下的大明</td>\n      <td>无别名</td>\n      <td>马伯庸</td>\n      <td>中</td>\n      <td>湖南文艺出版社</td>\n      <td>2019-1</td>\n      <td>52.00</td>\n      <td>无热评</td>\n      <td>24287</td>\n      <td>不可试读</td>\n      <td>https://book.douban.com/subject/30414743/</td>\n    </tr>\n    <tr>\n      <th>246</th>\n      <td>给青年诗人的信</td>\n      <td>雅众·文学馆</td>\n      <td>里尔克冯至雅众文化</td>\n      <td>奥</td>\n      <td>云南人民出版社</td>\n      <td>2015-12</td>\n      <td>29.00</td>\n      <td>无热评</td>\n      <td>10870</td>\n      <td>可试读</td>\n      <td>https://book.douban.com/subject/26685994/</td>\n    </tr>\n    <tr>\n      <th>247</th>\n      <td>佐贺的超级阿嬷</td>\n      <td>无别名</td>\n      <td>岛田洋七陈宝莲</td>\n      <td>日</td>\n      <td>南海出版公司</td>\n      <td>2007-3</td>\n      <td>20.00</td>\n      <td>乐观的外婆却总有神奇的办法</td>\n      <td>22844</td>\n      <td>可试读</td>\n      <td>https://book.douban.com/subject/2008284/</td>\n    </tr>\n    <tr>\n      <th>248</th>\n      <td>人类的群星闪耀时</td>\n      <td>Sternstunden der Menschheit Vierzehn historisc...</td>\n      <td>斯蒂芬·茨威格舒昌善</td>\n      <td>奥</td>\n      <td>广西师范大学出版社</td>\n      <td>2004-8</td>\n      <td>18.00</td>\n      <td>十四个影响人类文明的瞬间</td>\n      <td>28141</td>\n      <td>不可试读</td>\n      <td>https://book.douban.com/subject/1083762/</td>\n    </tr>\n    <tr>\n      <th>249</th>\n      <td>长袜子皮皮</td>\n      <td>无别名</td>\n      <td>阿斯特丽德·林格伦李之义</td>\n      <td>瑞典</td>\n      <td>中国少年儿童出版社</td>\n      <td>1999-3</td>\n      <td>17.80</td>\n      <td>无热评</td>\n      <td>12168</td>\n      <td>不可试读</td>\n      <td>https://book.douban.com/subject/1004088/</td>\n    </tr>\n  </tbody>\n</table>\n<p>250 rows × 11 columns</p>\n</div>"
     },
     "execution_count": 6,
     "metadata": {},
     "output_type": "execute_result"
    }
   ],
   "source": [
    "result = get_req()\n",
    "result"
   ],
   "metadata": {
    "collapsed": false,
    "pycharm": {
     "name": "#%%\n"
    }
   }
  },
  {
   "cell_type": "code",
   "execution_count": 7,
   "outputs": [],
   "source": [
    "result.to_csv('./data.csv', index=False)"
   ],
   "metadata": {
    "collapsed": false,
    "pycharm": {
     "name": "#%%\n"
    }
   }
  },
  {
   "cell_type": "markdown",
   "source": [
    "#### 分析"
   ],
   "metadata": {
    "collapsed": false
   }
  },
  {
   "cell_type": "code",
   "execution_count": 2,
   "outputs": [],
   "source": [
    "# 导入库\n",
    "import plotly.graph_objs as go\n",
    "from plotly.offline import init_notebook_mode, iplot"
   ],
   "metadata": {
    "collapsed": false,
    "pycharm": {
     "name": "#%%\n"
    }
   }
  },
  {
   "cell_type": "code",
   "execution_count": 3,
   "outputs": [
    {
     "data": {
      "text/plain": "           书名                                                 别名  \\\n0         红楼梦                                                无别名   \n1          活着                                                无别名   \n2        1984                               Nineteen Eighty-Four   \n3        百年孤独                               Cien años de soledad   \n4        三体全集                                           地球往事三部曲    \n..        ...                                                ...   \n245   显微镜下的大明                                                无别名   \n246   给青年诗人的信                                            雅众·文学馆    \n247   佐贺的超级阿嬷                                                无别名   \n248  人类的群星闪耀时  Sternstunden der Menschheit Vierzehn historisc...   \n249     长袜子皮皮                                                无别名   \n\n               作者  作者国籍          出版社        出版时间       价格              评价  \\\n0             曹雪芹     清     人民文学出版社     1996-12     59.70    都云作者痴，谁解其中味？   \n1             余华      中       作家出版社    2012-8-1     20.00         生的苦难与伟大   \n2       乔治·奥威尔刘绍铭     英   北京十月文艺出版社    2010-4-1     28.00  栗树荫下，我出卖你，你出卖我   \n3      加西亚·马尔克斯范晔  哥伦比亚      南海出版公司      2011-6     39.50     魔幻现实主义文学代表作   \n4            刘慈欣      中       重庆出版社    2012-1-1    168.00         地球往事三部曲   \n..            ...   ...          ...         ...      ...             ...   \n245          马伯庸      中     湖南文艺出版社      2019-1     52.00             无热评   \n246     里尔克冯至雅众文化     奥     云南人民出版社     2015-12     29.00             无热评   \n247       岛田洋七陈宝莲     日      南海出版公司      2007-3     20.00   乐观的外婆却总有神奇的办法   \n248    斯蒂芬·茨威格舒昌善     奥   广西师范大学出版社      2004-8     18.00    十四个影响人类文明的瞬间   \n249  阿斯特丽德·林格伦李之义    瑞典   中国少年儿童出版社      1999-3     17.80             无热评   \n\n       评价人数 是否可试读                                         链接  \n0    366932   可试读   https://book.douban.com/subject/1007305/  \n1    682644   可试读   https://book.douban.com/subject/4913064/  \n2    235328  不可试读   https://book.douban.com/subject/4820710/  \n3    371052  不可试读   https://book.douban.com/subject/6082808/  \n4    130113  不可试读   https://book.douban.com/subject/6518605/  \n..      ...   ...                                        ...  \n245   24287  不可试读  https://book.douban.com/subject/30414743/  \n246   10870   可试读  https://book.douban.com/subject/26685994/  \n247   22844   可试读   https://book.douban.com/subject/2008284/  \n248   28141  不可试读   https://book.douban.com/subject/1083762/  \n249   12168  不可试读   https://book.douban.com/subject/1004088/  \n\n[250 rows x 11 columns]",
      "text/html": "<div>\n<style scoped>\n    .dataframe tbody tr th:only-of-type {\n        vertical-align: middle;\n    }\n\n    .dataframe tbody tr th {\n        vertical-align: top;\n    }\n\n    .dataframe thead th {\n        text-align: right;\n    }\n</style>\n<table border=\"1\" class=\"dataframe\">\n  <thead>\n    <tr style=\"text-align: right;\">\n      <th></th>\n      <th>书名</th>\n      <th>别名</th>\n      <th>作者</th>\n      <th>作者国籍</th>\n      <th>出版社</th>\n      <th>出版时间</th>\n      <th>价格</th>\n      <th>评价</th>\n      <th>评价人数</th>\n      <th>是否可试读</th>\n      <th>链接</th>\n    </tr>\n  </thead>\n  <tbody>\n    <tr>\n      <th>0</th>\n      <td>红楼梦</td>\n      <td>无别名</td>\n      <td>曹雪芹</td>\n      <td>清</td>\n      <td>人民文学出版社</td>\n      <td>1996-12</td>\n      <td>59.70</td>\n      <td>都云作者痴，谁解其中味？</td>\n      <td>366932</td>\n      <td>可试读</td>\n      <td>https://book.douban.com/subject/1007305/</td>\n    </tr>\n    <tr>\n      <th>1</th>\n      <td>活着</td>\n      <td>无别名</td>\n      <td>余华</td>\n      <td>中</td>\n      <td>作家出版社</td>\n      <td>2012-8-1</td>\n      <td>20.00</td>\n      <td>生的苦难与伟大</td>\n      <td>682644</td>\n      <td>可试读</td>\n      <td>https://book.douban.com/subject/4913064/</td>\n    </tr>\n    <tr>\n      <th>2</th>\n      <td>1984</td>\n      <td>Nineteen Eighty-Four</td>\n      <td>乔治·奥威尔刘绍铭</td>\n      <td>英</td>\n      <td>北京十月文艺出版社</td>\n      <td>2010-4-1</td>\n      <td>28.00</td>\n      <td>栗树荫下，我出卖你，你出卖我</td>\n      <td>235328</td>\n      <td>不可试读</td>\n      <td>https://book.douban.com/subject/4820710/</td>\n    </tr>\n    <tr>\n      <th>3</th>\n      <td>百年孤独</td>\n      <td>Cien años de soledad</td>\n      <td>加西亚·马尔克斯范晔</td>\n      <td>哥伦比亚</td>\n      <td>南海出版公司</td>\n      <td>2011-6</td>\n      <td>39.50</td>\n      <td>魔幻现实主义文学代表作</td>\n      <td>371052</td>\n      <td>不可试读</td>\n      <td>https://book.douban.com/subject/6082808/</td>\n    </tr>\n    <tr>\n      <th>4</th>\n      <td>三体全集</td>\n      <td>地球往事三部曲</td>\n      <td>刘慈欣</td>\n      <td>中</td>\n      <td>重庆出版社</td>\n      <td>2012-1-1</td>\n      <td>168.00</td>\n      <td>地球往事三部曲</td>\n      <td>130113</td>\n      <td>不可试读</td>\n      <td>https://book.douban.com/subject/6518605/</td>\n    </tr>\n    <tr>\n      <th>...</th>\n      <td>...</td>\n      <td>...</td>\n      <td>...</td>\n      <td>...</td>\n      <td>...</td>\n      <td>...</td>\n      <td>...</td>\n      <td>...</td>\n      <td>...</td>\n      <td>...</td>\n      <td>...</td>\n    </tr>\n    <tr>\n      <th>245</th>\n      <td>显微镜下的大明</td>\n      <td>无别名</td>\n      <td>马伯庸</td>\n      <td>中</td>\n      <td>湖南文艺出版社</td>\n      <td>2019-1</td>\n      <td>52.00</td>\n      <td>无热评</td>\n      <td>24287</td>\n      <td>不可试读</td>\n      <td>https://book.douban.com/subject/30414743/</td>\n    </tr>\n    <tr>\n      <th>246</th>\n      <td>给青年诗人的信</td>\n      <td>雅众·文学馆</td>\n      <td>里尔克冯至雅众文化</td>\n      <td>奥</td>\n      <td>云南人民出版社</td>\n      <td>2015-12</td>\n      <td>29.00</td>\n      <td>无热评</td>\n      <td>10870</td>\n      <td>可试读</td>\n      <td>https://book.douban.com/subject/26685994/</td>\n    </tr>\n    <tr>\n      <th>247</th>\n      <td>佐贺的超级阿嬷</td>\n      <td>无别名</td>\n      <td>岛田洋七陈宝莲</td>\n      <td>日</td>\n      <td>南海出版公司</td>\n      <td>2007-3</td>\n      <td>20.00</td>\n      <td>乐观的外婆却总有神奇的办法</td>\n      <td>22844</td>\n      <td>可试读</td>\n      <td>https://book.douban.com/subject/2008284/</td>\n    </tr>\n    <tr>\n      <th>248</th>\n      <td>人类的群星闪耀时</td>\n      <td>Sternstunden der Menschheit Vierzehn historisc...</td>\n      <td>斯蒂芬·茨威格舒昌善</td>\n      <td>奥</td>\n      <td>广西师范大学出版社</td>\n      <td>2004-8</td>\n      <td>18.00</td>\n      <td>十四个影响人类文明的瞬间</td>\n      <td>28141</td>\n      <td>不可试读</td>\n      <td>https://book.douban.com/subject/1083762/</td>\n    </tr>\n    <tr>\n      <th>249</th>\n      <td>长袜子皮皮</td>\n      <td>无别名</td>\n      <td>阿斯特丽德·林格伦李之义</td>\n      <td>瑞典</td>\n      <td>中国少年儿童出版社</td>\n      <td>1999-3</td>\n      <td>17.80</td>\n      <td>无热评</td>\n      <td>12168</td>\n      <td>不可试读</td>\n      <td>https://book.douban.com/subject/1004088/</td>\n    </tr>\n  </tbody>\n</table>\n<p>250 rows × 11 columns</p>\n</div>"
     },
     "execution_count": 3,
     "metadata": {},
     "output_type": "execute_result"
    }
   ],
   "source": [
    "data_csv = pd.read_csv('./data.csv')\n",
    "data_csv"
   ],
   "metadata": {
    "collapsed": false,
    "pycharm": {
     "name": "#%%\n"
    }
   }
  },
  {
   "cell_type": "code",
   "execution_count": 25,
   "outputs": [
    {
     "data": {
      "application/vnd.plotly.v1+json": {
       "data": [
        {
         "domain": {
          "x": [
           0,
           0.5
          ]
         },
         "hole": 0.3,
         "hoverinfo": "label+percent",
         "labels": [
          "中",
          "美",
          "英",
          "日",
          "意",
          "法",
          "奥",
          "德",
          "哥伦比亚",
          "俄",
          "明",
          "白俄",
          "古希腊",
          "瑞典",
          "南非",
          "清",
          "澳",
          "苏",
          "加拿大",
          "德国",
          "挪",
          "葡",
          "阿根廷",
          "印",
          "以色列",
          "美国",
          "日本"
         ],
         "name": "Number Of",
         "values": [
          124,
          35,
          23,
          18,
          8,
          6,
          5,
          4,
          3,
          3,
          2,
          2,
          2,
          2,
          1,
          1,
          1,
          1,
          1,
          1,
          1,
          1,
          1,
          1,
          1,
          1,
          1
         ],
         "type": "pie"
        }
       ],
       "layout": {
        "height": 600,
        "template": {
         "data": {
          "barpolar": [
           {
            "marker": {
             "line": {
              "color": "#E5ECF6",
              "width": 0.5
             },
             "pattern": {
              "fillmode": "overlay",
              "size": 10,
              "solidity": 0.2
             }
            },
            "type": "barpolar"
           }
          ],
          "bar": [
           {
            "error_x": {
             "color": "#2a3f5f"
            },
            "error_y": {
             "color": "#2a3f5f"
            },
            "marker": {
             "line": {
              "color": "#E5ECF6",
              "width": 0.5
             },
             "pattern": {
              "fillmode": "overlay",
              "size": 10,
              "solidity": 0.2
             }
            },
            "type": "bar"
           }
          ],
          "carpet": [
           {
            "aaxis": {
             "endlinecolor": "#2a3f5f",
             "gridcolor": "white",
             "linecolor": "white",
             "minorgridcolor": "white",
             "startlinecolor": "#2a3f5f"
            },
            "baxis": {
             "endlinecolor": "#2a3f5f",
             "gridcolor": "white",
             "linecolor": "white",
             "minorgridcolor": "white",
             "startlinecolor": "#2a3f5f"
            },
            "type": "carpet"
           }
          ],
          "choropleth": [
           {
            "colorbar": {
             "outlinewidth": 0,
             "ticks": ""
            },
            "type": "choropleth"
           }
          ],
          "contourcarpet": [
           {
            "colorbar": {
             "outlinewidth": 0,
             "ticks": ""
            },
            "type": "contourcarpet"
           }
          ],
          "contour": [
           {
            "colorbar": {
             "outlinewidth": 0,
             "ticks": ""
            },
            "colorscale": [
             [
              0.0,
              "#0d0887"
             ],
             [
              0.1111111111111111,
              "#46039f"
             ],
             [
              0.2222222222222222,
              "#7201a8"
             ],
             [
              0.3333333333333333,
              "#9c179e"
             ],
             [
              0.4444444444444444,
              "#bd3786"
             ],
             [
              0.5555555555555556,
              "#d8576b"
             ],
             [
              0.6666666666666666,
              "#ed7953"
             ],
             [
              0.7777777777777778,
              "#fb9f3a"
             ],
             [
              0.8888888888888888,
              "#fdca26"
             ],
             [
              1.0,
              "#f0f921"
             ]
            ],
            "type": "contour"
           }
          ],
          "heatmapgl": [
           {
            "colorbar": {
             "outlinewidth": 0,
             "ticks": ""
            },
            "colorscale": [
             [
              0.0,
              "#0d0887"
             ],
             [
              0.1111111111111111,
              "#46039f"
             ],
             [
              0.2222222222222222,
              "#7201a8"
             ],
             [
              0.3333333333333333,
              "#9c179e"
             ],
             [
              0.4444444444444444,
              "#bd3786"
             ],
             [
              0.5555555555555556,
              "#d8576b"
             ],
             [
              0.6666666666666666,
              "#ed7953"
             ],
             [
              0.7777777777777778,
              "#fb9f3a"
             ],
             [
              0.8888888888888888,
              "#fdca26"
             ],
             [
              1.0,
              "#f0f921"
             ]
            ],
            "type": "heatmapgl"
           }
          ],
          "heatmap": [
           {
            "colorbar": {
             "outlinewidth": 0,
             "ticks": ""
            },
            "colorscale": [
             [
              0.0,
              "#0d0887"
             ],
             [
              0.1111111111111111,
              "#46039f"
             ],
             [
              0.2222222222222222,
              "#7201a8"
             ],
             [
              0.3333333333333333,
              "#9c179e"
             ],
             [
              0.4444444444444444,
              "#bd3786"
             ],
             [
              0.5555555555555556,
              "#d8576b"
             ],
             [
              0.6666666666666666,
              "#ed7953"
             ],
             [
              0.7777777777777778,
              "#fb9f3a"
             ],
             [
              0.8888888888888888,
              "#fdca26"
             ],
             [
              1.0,
              "#f0f921"
             ]
            ],
            "type": "heatmap"
           }
          ],
          "histogram2dcontour": [
           {
            "colorbar": {
             "outlinewidth": 0,
             "ticks": ""
            },
            "colorscale": [
             [
              0.0,
              "#0d0887"
             ],
             [
              0.1111111111111111,
              "#46039f"
             ],
             [
              0.2222222222222222,
              "#7201a8"
             ],
             [
              0.3333333333333333,
              "#9c179e"
             ],
             [
              0.4444444444444444,
              "#bd3786"
             ],
             [
              0.5555555555555556,
              "#d8576b"
             ],
             [
              0.6666666666666666,
              "#ed7953"
             ],
             [
              0.7777777777777778,
              "#fb9f3a"
             ],
             [
              0.8888888888888888,
              "#fdca26"
             ],
             [
              1.0,
              "#f0f921"
             ]
            ],
            "type": "histogram2dcontour"
           }
          ],
          "histogram2d": [
           {
            "colorbar": {
             "outlinewidth": 0,
             "ticks": ""
            },
            "colorscale": [
             [
              0.0,
              "#0d0887"
             ],
             [
              0.1111111111111111,
              "#46039f"
             ],
             [
              0.2222222222222222,
              "#7201a8"
             ],
             [
              0.3333333333333333,
              "#9c179e"
             ],
             [
              0.4444444444444444,
              "#bd3786"
             ],
             [
              0.5555555555555556,
              "#d8576b"
             ],
             [
              0.6666666666666666,
              "#ed7953"
             ],
             [
              0.7777777777777778,
              "#fb9f3a"
             ],
             [
              0.8888888888888888,
              "#fdca26"
             ],
             [
              1.0,
              "#f0f921"
             ]
            ],
            "type": "histogram2d"
           }
          ],
          "histogram": [
           {
            "marker": {
             "pattern": {
              "fillmode": "overlay",
              "size": 10,
              "solidity": 0.2
             }
            },
            "type": "histogram"
           }
          ],
          "mesh3d": [
           {
            "colorbar": {
             "outlinewidth": 0,
             "ticks": ""
            },
            "type": "mesh3d"
           }
          ],
          "parcoords": [
           {
            "line": {
             "colorbar": {
              "outlinewidth": 0,
              "ticks": ""
             }
            },
            "type": "parcoords"
           }
          ],
          "pie": [
           {
            "automargin": true,
            "type": "pie"
           }
          ],
          "scatter3d": [
           {
            "line": {
             "colorbar": {
              "outlinewidth": 0,
              "ticks": ""
             }
            },
            "marker": {
             "colorbar": {
              "outlinewidth": 0,
              "ticks": ""
             }
            },
            "type": "scatter3d"
           }
          ],
          "scattercarpet": [
           {
            "marker": {
             "colorbar": {
              "outlinewidth": 0,
              "ticks": ""
             }
            },
            "type": "scattercarpet"
           }
          ],
          "scattergeo": [
           {
            "marker": {
             "colorbar": {
              "outlinewidth": 0,
              "ticks": ""
             }
            },
            "type": "scattergeo"
           }
          ],
          "scattergl": [
           {
            "marker": {
             "colorbar": {
              "outlinewidth": 0,
              "ticks": ""
             }
            },
            "type": "scattergl"
           }
          ],
          "scattermapbox": [
           {
            "marker": {
             "colorbar": {
              "outlinewidth": 0,
              "ticks": ""
             }
            },
            "type": "scattermapbox"
           }
          ],
          "scatterpolargl": [
           {
            "marker": {
             "colorbar": {
              "outlinewidth": 0,
              "ticks": ""
             }
            },
            "type": "scatterpolargl"
           }
          ],
          "scatterpolar": [
           {
            "marker": {
             "colorbar": {
              "outlinewidth": 0,
              "ticks": ""
             }
            },
            "type": "scatterpolar"
           }
          ],
          "scatter": [
           {
            "fillpattern": {
             "fillmode": "overlay",
             "size": 10,
             "solidity": 0.2
            },
            "type": "scatter"
           }
          ],
          "scatterternary": [
           {
            "marker": {
             "colorbar": {
              "outlinewidth": 0,
              "ticks": ""
             }
            },
            "type": "scatterternary"
           }
          ],
          "surface": [
           {
            "colorbar": {
             "outlinewidth": 0,
             "ticks": ""
            },
            "colorscale": [
             [
              0.0,
              "#0d0887"
             ],
             [
              0.1111111111111111,
              "#46039f"
             ],
             [
              0.2222222222222222,
              "#7201a8"
             ],
             [
              0.3333333333333333,
              "#9c179e"
             ],
             [
              0.4444444444444444,
              "#bd3786"
             ],
             [
              0.5555555555555556,
              "#d8576b"
             ],
             [
              0.6666666666666666,
              "#ed7953"
             ],
             [
              0.7777777777777778,
              "#fb9f3a"
             ],
             [
              0.8888888888888888,
              "#fdca26"
             ],
             [
              1.0,
              "#f0f921"
             ]
            ],
            "type": "surface"
           }
          ],
          "table": [
           {
            "cells": {
             "fill": {
              "color": "#EBF0F8"
             },
             "line": {
              "color": "white"
             }
            },
            "header": {
             "fill": {
              "color": "#C8D4E3"
             },
             "line": {
              "color": "white"
             }
            },
            "type": "table"
           }
          ]
         },
         "layout": {
          "annotationdefaults": {
           "arrowcolor": "#2a3f5f",
           "arrowhead": 0,
           "arrowwidth": 1
          },
          "autotypenumbers": "strict",
          "coloraxis": {
           "colorbar": {
            "outlinewidth": 0,
            "ticks": ""
           }
          },
          "colorscale": {
           "diverging": [
            [
             0,
             "#8e0152"
            ],
            [
             0.1,
             "#c51b7d"
            ],
            [
             0.2,
             "#de77ae"
            ],
            [
             0.3,
             "#f1b6da"
            ],
            [
             0.4,
             "#fde0ef"
            ],
            [
             0.5,
             "#f7f7f7"
            ],
            [
             0.6,
             "#e6f5d0"
            ],
            [
             0.7,
             "#b8e186"
            ],
            [
             0.8,
             "#7fbc41"
            ],
            [
             0.9,
             "#4d9221"
            ],
            [
             1,
             "#276419"
            ]
           ],
           "sequential": [
            [
             0.0,
             "#0d0887"
            ],
            [
             0.1111111111111111,
             "#46039f"
            ],
            [
             0.2222222222222222,
             "#7201a8"
            ],
            [
             0.3333333333333333,
             "#9c179e"
            ],
            [
             0.4444444444444444,
             "#bd3786"
            ],
            [
             0.5555555555555556,
             "#d8576b"
            ],
            [
             0.6666666666666666,
             "#ed7953"
            ],
            [
             0.7777777777777778,
             "#fb9f3a"
            ],
            [
             0.8888888888888888,
             "#fdca26"
            ],
            [
             1.0,
             "#f0f921"
            ]
           ],
           "sequentialminus": [
            [
             0.0,
             "#0d0887"
            ],
            [
             0.1111111111111111,
             "#46039f"
            ],
            [
             0.2222222222222222,
             "#7201a8"
            ],
            [
             0.3333333333333333,
             "#9c179e"
            ],
            [
             0.4444444444444444,
             "#bd3786"
            ],
            [
             0.5555555555555556,
             "#d8576b"
            ],
            [
             0.6666666666666666,
             "#ed7953"
            ],
            [
             0.7777777777777778,
             "#fb9f3a"
            ],
            [
             0.8888888888888888,
             "#fdca26"
            ],
            [
             1.0,
             "#f0f921"
            ]
           ]
          },
          "colorway": [
           "#636efa",
           "#EF553B",
           "#00cc96",
           "#ab63fa",
           "#FFA15A",
           "#19d3f3",
           "#FF6692",
           "#B6E880",
           "#FF97FF",
           "#FECB52"
          ],
          "font": {
           "color": "#2a3f5f"
          },
          "geo": {
           "bgcolor": "white",
           "lakecolor": "white",
           "landcolor": "#E5ECF6",
           "showlakes": true,
           "showland": true,
           "subunitcolor": "white"
          },
          "hoverlabel": {
           "align": "left"
          },
          "hovermode": "closest",
          "mapbox": {
           "style": "light"
          },
          "paper_bgcolor": "white",
          "plot_bgcolor": "#E5ECF6",
          "polar": {
           "angularaxis": {
            "gridcolor": "white",
            "linecolor": "white",
            "ticks": ""
           },
           "bgcolor": "#E5ECF6",
           "radialaxis": {
            "gridcolor": "white",
            "linecolor": "white",
            "ticks": ""
           }
          },
          "scene": {
           "xaxis": {
            "backgroundcolor": "#E5ECF6",
            "gridcolor": "white",
            "gridwidth": 2,
            "linecolor": "white",
            "showbackground": true,
            "ticks": "",
            "zerolinecolor": "white"
           },
           "yaxis": {
            "backgroundcolor": "#E5ECF6",
            "gridcolor": "white",
            "gridwidth": 2,
            "linecolor": "white",
            "showbackground": true,
            "ticks": "",
            "zerolinecolor": "white"
           },
           "zaxis": {
            "backgroundcolor": "#E5ECF6",
            "gridcolor": "white",
            "gridwidth": 2,
            "linecolor": "white",
            "showbackground": true,
            "ticks": "",
            "zerolinecolor": "white"
           }
          },
          "shapedefaults": {
           "line": {
            "color": "#2a3f5f"
           }
          },
          "ternary": {
           "aaxis": {
            "gridcolor": "white",
            "linecolor": "white",
            "ticks": ""
           },
           "baxis": {
            "gridcolor": "white",
            "linecolor": "white",
            "ticks": ""
           },
           "bgcolor": "#E5ECF6",
           "caxis": {
            "gridcolor": "white",
            "linecolor": "white",
            "ticks": ""
           }
          },
          "title": {
           "x": 0.05
          },
          "xaxis": {
           "automargin": true,
           "gridcolor": "white",
           "linecolor": "white",
           "ticks": "",
           "title": {
            "standoff": 15
           },
           "zerolinecolor": "white",
           "zerolinewidth": 2
          },
          "yaxis": {
           "automargin": true,
           "gridcolor": "white",
           "linecolor": "white",
           "ticks": "",
           "title": {
            "standoff": 15
           },
           "zerolinecolor": "white",
           "zerolinewidth": 2
          }
         }
        },
        "title": {
         "text": "作者国家分布"
        },
        "width": 800
       },
       "config": {
        "showLink": false,
        "linkText": "Export to plot.ly",
        "plotlyServerURL": "https://plot.ly"
       }
      },
      "text/html": "<div>                            <div id=\"3f488a10-6335-419f-88b0-bf143503ab9e\" class=\"plotly-graph-div\" style=\"height:600px; width:800px;\"></div>            <script type=\"text/javascript\">                require([\"plotly\"], function(Plotly) {                    window.PLOTLYENV=window.PLOTLYENV || {};                                    if (document.getElementById(\"3f488a10-6335-419f-88b0-bf143503ab9e\")) {                    Plotly.newPlot(                        \"3f488a10-6335-419f-88b0-bf143503ab9e\",                        [{\"domain\":{\"x\":[0,0.5]},\"hole\":0.3,\"hoverinfo\":\"label+percent\",\"labels\":[\"\\u4e2d\",\"\\u7f8e\",\"\\u82f1\",\"\\u65e5\",\"\\u610f\",\"\\u6cd5\",\"\\u5965\",\"\\u5fb7\",\"\\u54e5\\u4f26\\u6bd4\\u4e9a\",\"\\u4fc4\",\"\\u660e\",\"\\u767d\\u4fc4\",\"\\u53e4\\u5e0c\\u814a\",\"\\u745e\\u5178\",\"\\u5357\\u975e\",\"\\u6e05\",\"\\u6fb3\",\"\\u82cf\",\"\\u52a0\\u62ff\\u5927\",\"\\u5fb7\\u56fd\",\"\\u632a\",\"\\u8461\",\"\\u963f\\u6839\\u5ef7\",\"\\u5370\",\"\\u4ee5\\u8272\\u5217\",\"\\u7f8e\\u56fd\",\"\\u65e5\\u672c\"],\"name\":\"Number Of\",\"values\":[124,35,23,18,8,6,5,4,3,3,2,2,2,2,1,1,1,1,1,1,1,1,1,1,1,1,1],\"type\":\"pie\"}],                        {\"height\":600,\"template\":{\"data\":{\"barpolar\":[{\"marker\":{\"line\":{\"color\":\"#E5ECF6\",\"width\":0.5},\"pattern\":{\"fillmode\":\"overlay\",\"size\":10,\"solidity\":0.2}},\"type\":\"barpolar\"}],\"bar\":[{\"error_x\":{\"color\":\"#2a3f5f\"},\"error_y\":{\"color\":\"#2a3f5f\"},\"marker\":{\"line\":{\"color\":\"#E5ECF6\",\"width\":0.5},\"pattern\":{\"fillmode\":\"overlay\",\"size\":10,\"solidity\":0.2}},\"type\":\"bar\"}],\"carpet\":[{\"aaxis\":{\"endlinecolor\":\"#2a3f5f\",\"gridcolor\":\"white\",\"linecolor\":\"white\",\"minorgridcolor\":\"white\",\"startlinecolor\":\"#2a3f5f\"},\"baxis\":{\"endlinecolor\":\"#2a3f5f\",\"gridcolor\":\"white\",\"linecolor\":\"white\",\"minorgridcolor\":\"white\",\"startlinecolor\":\"#2a3f5f\"},\"type\":\"carpet\"}],\"choropleth\":[{\"colorbar\":{\"outlinewidth\":0,\"ticks\":\"\"},\"type\":\"choropleth\"}],\"contourcarpet\":[{\"colorbar\":{\"outlinewidth\":0,\"ticks\":\"\"},\"type\":\"contourcarpet\"}],\"contour\":[{\"colorbar\":{\"outlinewidth\":0,\"ticks\":\"\"},\"colorscale\":[[0.0,\"#0d0887\"],[0.1111111111111111,\"#46039f\"],[0.2222222222222222,\"#7201a8\"],[0.3333333333333333,\"#9c179e\"],[0.4444444444444444,\"#bd3786\"],[0.5555555555555556,\"#d8576b\"],[0.6666666666666666,\"#ed7953\"],[0.7777777777777778,\"#fb9f3a\"],[0.8888888888888888,\"#fdca26\"],[1.0,\"#f0f921\"]],\"type\":\"contour\"}],\"heatmapgl\":[{\"colorbar\":{\"outlinewidth\":0,\"ticks\":\"\"},\"colorscale\":[[0.0,\"#0d0887\"],[0.1111111111111111,\"#46039f\"],[0.2222222222222222,\"#7201a8\"],[0.3333333333333333,\"#9c179e\"],[0.4444444444444444,\"#bd3786\"],[0.5555555555555556,\"#d8576b\"],[0.6666666666666666,\"#ed7953\"],[0.7777777777777778,\"#fb9f3a\"],[0.8888888888888888,\"#fdca26\"],[1.0,\"#f0f921\"]],\"type\":\"heatmapgl\"}],\"heatmap\":[{\"colorbar\":{\"outlinewidth\":0,\"ticks\":\"\"},\"colorscale\":[[0.0,\"#0d0887\"],[0.1111111111111111,\"#46039f\"],[0.2222222222222222,\"#7201a8\"],[0.3333333333333333,\"#9c179e\"],[0.4444444444444444,\"#bd3786\"],[0.5555555555555556,\"#d8576b\"],[0.6666666666666666,\"#ed7953\"],[0.7777777777777778,\"#fb9f3a\"],[0.8888888888888888,\"#fdca26\"],[1.0,\"#f0f921\"]],\"type\":\"heatmap\"}],\"histogram2dcontour\":[{\"colorbar\":{\"outlinewidth\":0,\"ticks\":\"\"},\"colorscale\":[[0.0,\"#0d0887\"],[0.1111111111111111,\"#46039f\"],[0.2222222222222222,\"#7201a8\"],[0.3333333333333333,\"#9c179e\"],[0.4444444444444444,\"#bd3786\"],[0.5555555555555556,\"#d8576b\"],[0.6666666666666666,\"#ed7953\"],[0.7777777777777778,\"#fb9f3a\"],[0.8888888888888888,\"#fdca26\"],[1.0,\"#f0f921\"]],\"type\":\"histogram2dcontour\"}],\"histogram2d\":[{\"colorbar\":{\"outlinewidth\":0,\"ticks\":\"\"},\"colorscale\":[[0.0,\"#0d0887\"],[0.1111111111111111,\"#46039f\"],[0.2222222222222222,\"#7201a8\"],[0.3333333333333333,\"#9c179e\"],[0.4444444444444444,\"#bd3786\"],[0.5555555555555556,\"#d8576b\"],[0.6666666666666666,\"#ed7953\"],[0.7777777777777778,\"#fb9f3a\"],[0.8888888888888888,\"#fdca26\"],[1.0,\"#f0f921\"]],\"type\":\"histogram2d\"}],\"histogram\":[{\"marker\":{\"pattern\":{\"fillmode\":\"overlay\",\"size\":10,\"solidity\":0.2}},\"type\":\"histogram\"}],\"mesh3d\":[{\"colorbar\":{\"outlinewidth\":0,\"ticks\":\"\"},\"type\":\"mesh3d\"}],\"parcoords\":[{\"line\":{\"colorbar\":{\"outlinewidth\":0,\"ticks\":\"\"}},\"type\":\"parcoords\"}],\"pie\":[{\"automargin\":true,\"type\":\"pie\"}],\"scatter3d\":[{\"line\":{\"colorbar\":{\"outlinewidth\":0,\"ticks\":\"\"}},\"marker\":{\"colorbar\":{\"outlinewidth\":0,\"ticks\":\"\"}},\"type\":\"scatter3d\"}],\"scattercarpet\":[{\"marker\":{\"colorbar\":{\"outlinewidth\":0,\"ticks\":\"\"}},\"type\":\"scattercarpet\"}],\"scattergeo\":[{\"marker\":{\"colorbar\":{\"outlinewidth\":0,\"ticks\":\"\"}},\"type\":\"scattergeo\"}],\"scattergl\":[{\"marker\":{\"colorbar\":{\"outlinewidth\":0,\"ticks\":\"\"}},\"type\":\"scattergl\"}],\"scattermapbox\":[{\"marker\":{\"colorbar\":{\"outlinewidth\":0,\"ticks\":\"\"}},\"type\":\"scattermapbox\"}],\"scatterpolargl\":[{\"marker\":{\"colorbar\":{\"outlinewidth\":0,\"ticks\":\"\"}},\"type\":\"scatterpolargl\"}],\"scatterpolar\":[{\"marker\":{\"colorbar\":{\"outlinewidth\":0,\"ticks\":\"\"}},\"type\":\"scatterpolar\"}],\"scatter\":[{\"fillpattern\":{\"fillmode\":\"overlay\",\"size\":10,\"solidity\":0.2},\"type\":\"scatter\"}],\"scatterternary\":[{\"marker\":{\"colorbar\":{\"outlinewidth\":0,\"ticks\":\"\"}},\"type\":\"scatterternary\"}],\"surface\":[{\"colorbar\":{\"outlinewidth\":0,\"ticks\":\"\"},\"colorscale\":[[0.0,\"#0d0887\"],[0.1111111111111111,\"#46039f\"],[0.2222222222222222,\"#7201a8\"],[0.3333333333333333,\"#9c179e\"],[0.4444444444444444,\"#bd3786\"],[0.5555555555555556,\"#d8576b\"],[0.6666666666666666,\"#ed7953\"],[0.7777777777777778,\"#fb9f3a\"],[0.8888888888888888,\"#fdca26\"],[1.0,\"#f0f921\"]],\"type\":\"surface\"}],\"table\":[{\"cells\":{\"fill\":{\"color\":\"#EBF0F8\"},\"line\":{\"color\":\"white\"}},\"header\":{\"fill\":{\"color\":\"#C8D4E3\"},\"line\":{\"color\":\"white\"}},\"type\":\"table\"}]},\"layout\":{\"annotationdefaults\":{\"arrowcolor\":\"#2a3f5f\",\"arrowhead\":0,\"arrowwidth\":1},\"autotypenumbers\":\"strict\",\"coloraxis\":{\"colorbar\":{\"outlinewidth\":0,\"ticks\":\"\"}},\"colorscale\":{\"diverging\":[[0,\"#8e0152\"],[0.1,\"#c51b7d\"],[0.2,\"#de77ae\"],[0.3,\"#f1b6da\"],[0.4,\"#fde0ef\"],[0.5,\"#f7f7f7\"],[0.6,\"#e6f5d0\"],[0.7,\"#b8e186\"],[0.8,\"#7fbc41\"],[0.9,\"#4d9221\"],[1,\"#276419\"]],\"sequential\":[[0.0,\"#0d0887\"],[0.1111111111111111,\"#46039f\"],[0.2222222222222222,\"#7201a8\"],[0.3333333333333333,\"#9c179e\"],[0.4444444444444444,\"#bd3786\"],[0.5555555555555556,\"#d8576b\"],[0.6666666666666666,\"#ed7953\"],[0.7777777777777778,\"#fb9f3a\"],[0.8888888888888888,\"#fdca26\"],[1.0,\"#f0f921\"]],\"sequentialminus\":[[0.0,\"#0d0887\"],[0.1111111111111111,\"#46039f\"],[0.2222222222222222,\"#7201a8\"],[0.3333333333333333,\"#9c179e\"],[0.4444444444444444,\"#bd3786\"],[0.5555555555555556,\"#d8576b\"],[0.6666666666666666,\"#ed7953\"],[0.7777777777777778,\"#fb9f3a\"],[0.8888888888888888,\"#fdca26\"],[1.0,\"#f0f921\"]]},\"colorway\":[\"#636efa\",\"#EF553B\",\"#00cc96\",\"#ab63fa\",\"#FFA15A\",\"#19d3f3\",\"#FF6692\",\"#B6E880\",\"#FF97FF\",\"#FECB52\"],\"font\":{\"color\":\"#2a3f5f\"},\"geo\":{\"bgcolor\":\"white\",\"lakecolor\":\"white\",\"landcolor\":\"#E5ECF6\",\"showlakes\":true,\"showland\":true,\"subunitcolor\":\"white\"},\"hoverlabel\":{\"align\":\"left\"},\"hovermode\":\"closest\",\"mapbox\":{\"style\":\"light\"},\"paper_bgcolor\":\"white\",\"plot_bgcolor\":\"#E5ECF6\",\"polar\":{\"angularaxis\":{\"gridcolor\":\"white\",\"linecolor\":\"white\",\"ticks\":\"\"},\"bgcolor\":\"#E5ECF6\",\"radialaxis\":{\"gridcolor\":\"white\",\"linecolor\":\"white\",\"ticks\":\"\"}},\"scene\":{\"xaxis\":{\"backgroundcolor\":\"#E5ECF6\",\"gridcolor\":\"white\",\"gridwidth\":2,\"linecolor\":\"white\",\"showbackground\":true,\"ticks\":\"\",\"zerolinecolor\":\"white\"},\"yaxis\":{\"backgroundcolor\":\"#E5ECF6\",\"gridcolor\":\"white\",\"gridwidth\":2,\"linecolor\":\"white\",\"showbackground\":true,\"ticks\":\"\",\"zerolinecolor\":\"white\"},\"zaxis\":{\"backgroundcolor\":\"#E5ECF6\",\"gridcolor\":\"white\",\"gridwidth\":2,\"linecolor\":\"white\",\"showbackground\":true,\"ticks\":\"\",\"zerolinecolor\":\"white\"}},\"shapedefaults\":{\"line\":{\"color\":\"#2a3f5f\"}},\"ternary\":{\"aaxis\":{\"gridcolor\":\"white\",\"linecolor\":\"white\",\"ticks\":\"\"},\"baxis\":{\"gridcolor\":\"white\",\"linecolor\":\"white\",\"ticks\":\"\"},\"bgcolor\":\"#E5ECF6\",\"caxis\":{\"gridcolor\":\"white\",\"linecolor\":\"white\",\"ticks\":\"\"}},\"title\":{\"x\":0.05},\"xaxis\":{\"automargin\":true,\"gridcolor\":\"white\",\"linecolor\":\"white\",\"ticks\":\"\",\"title\":{\"standoff\":15},\"zerolinecolor\":\"white\",\"zerolinewidth\":2},\"yaxis\":{\"automargin\":true,\"gridcolor\":\"white\",\"linecolor\":\"white\",\"ticks\":\"\",\"title\":{\"standoff\":15},\"zerolinecolor\":\"white\",\"zerolinewidth\":2}}},\"title\":{\"text\":\"\\u4f5c\\u8005\\u56fd\\u5bb6\\u5206\\u5e03\"},\"width\":800},                        {\"responsive\": true}                    ).then(function(){\n                            \nvar gd = document.getElementById('3f488a10-6335-419f-88b0-bf143503ab9e');\nvar x = new MutationObserver(function (mutations, observer) {{\n        var display = window.getComputedStyle(gd).display;\n        if (!display || display === 'none') {{\n            console.log([gd, 'removed!']);\n            Plotly.purge(gd);\n            observer.disconnect();\n        }}\n}});\n\n// Listen for the removal of the full notebook cells\nvar notebookContainer = gd.closest('#notebook-container');\nif (notebookContainer) {{\n    x.observe(notebookContainer, {childList: true});\n}}\n\n// Listen for the clearing of the current output cell\nvar outputEl = gd.closest('.output');\nif (outputEl) {{\n    x.observe(outputEl, {childList: true});\n}}\n\n                        })                };                });            </script>        </div>"
     },
     "metadata": {},
     "output_type": "display_data"
    }
   ],
   "source": [
    "data_csv_country = data_csv[\"作者国籍\"].value_counts()\n",
    "fig = {\n",
    "  \"data\": [\n",
    "    {\n",
    "      \"values\": data_csv_country.values,\n",
    "      \"labels\": data_csv_country.index,\n",
    "      \"domain\": {\"x\": [0, .5]},\n",
    "      \"name\": \"Number Of\",\n",
    "      \"hoverinfo\":\"label+percent\",\n",
    "      \"hole\": .3,\n",
    "      \"type\": \"pie\"\n",
    "    },],\n",
    "  \"layout\": {\n",
    "        \"title\":\"作者国家分布\",\n",
    "                'height':600,\n",
    "                \"width\":800\n",
    "    }\n",
    "}\n",
    "iplot(fig)"
   ],
   "metadata": {
    "collapsed": false,
    "pycharm": {
     "name": "#%%\n"
    }
   }
  },
  {
   "cell_type": "markdown",
   "source": [],
   "metadata": {
    "collapsed": false
   }
  },
  {
   "cell_type": "code",
   "execution_count": 29,
   "outputs": [
    {
     "data": {
      "application/vnd.plotly.v1+json": {
       "data": [
        {
         "marker": {
          "color": "rgba(255, 174, 255, 0.5)",
          "line": {
           "color": "rgb(0,0,0)",
           "width": 1.5
          }
         },
         "name": "citations",
         "x": [
          " 浙江人民出版社 ",
          " 中国青年出版社 ",
          " 人民邮电出版社 ",
          " 机械工业出版社 ",
          " 上海古籍出版社 ",
          " 四川科学技术出版社 ",
          " 上海三联书店 ",
          " 湖南文艺出版社 ",
          " 湖南科学技术出版社 ",
          " 天津人民出版社 ",
          " 重庆出版社 ",
          " 新星出版社 ",
          " 新世界出版社 ",
          " 花城出版社 ",
          " 作家出版社 ",
          " 江苏凤凰文艺出版社 ",
          " 商务印书馆 ",
          " 中信出版社 ",
          " 上海文艺出版社 ",
          " 中华书局 ",
          " 哈尔滨出版社 ",
          " 北京联合出版公司 ",
          " 上海人民出版社 ",
          " 广西师范大学出版社 ",
          " 北京十月文艺出版社 ",
          " 译林出版社 ",
          " 南海出版公司 ",
          " 生活·读书·新知三联书店 ",
          " 上海译文出版社 ",
          " 人民文学出版社 ",
          "其它"
         ],
         "y": [
          1,
          2,
          2,
          2,
          2,
          2,
          3,
          3,
          3,
          3,
          3,
          3,
          3,
          4,
          4,
          4,
          4,
          5,
          5,
          5,
          5,
          6,
          7,
          9,
          10,
          13,
          13,
          20,
          25,
          38,
          41
         ],
         "type": "bar"
        }
       ],
       "layout": {
        "barmode": "group",
        "template": {
         "data": {
          "barpolar": [
           {
            "marker": {
             "line": {
              "color": "#E5ECF6",
              "width": 0.5
             },
             "pattern": {
              "fillmode": "overlay",
              "size": 10,
              "solidity": 0.2
             }
            },
            "type": "barpolar"
           }
          ],
          "bar": [
           {
            "error_x": {
             "color": "#2a3f5f"
            },
            "error_y": {
             "color": "#2a3f5f"
            },
            "marker": {
             "line": {
              "color": "#E5ECF6",
              "width": 0.5
             },
             "pattern": {
              "fillmode": "overlay",
              "size": 10,
              "solidity": 0.2
             }
            },
            "type": "bar"
           }
          ],
          "carpet": [
           {
            "aaxis": {
             "endlinecolor": "#2a3f5f",
             "gridcolor": "white",
             "linecolor": "white",
             "minorgridcolor": "white",
             "startlinecolor": "#2a3f5f"
            },
            "baxis": {
             "endlinecolor": "#2a3f5f",
             "gridcolor": "white",
             "linecolor": "white",
             "minorgridcolor": "white",
             "startlinecolor": "#2a3f5f"
            },
            "type": "carpet"
           }
          ],
          "choropleth": [
           {
            "colorbar": {
             "outlinewidth": 0,
             "ticks": ""
            },
            "type": "choropleth"
           }
          ],
          "contourcarpet": [
           {
            "colorbar": {
             "outlinewidth": 0,
             "ticks": ""
            },
            "type": "contourcarpet"
           }
          ],
          "contour": [
           {
            "colorbar": {
             "outlinewidth": 0,
             "ticks": ""
            },
            "colorscale": [
             [
              0.0,
              "#0d0887"
             ],
             [
              0.1111111111111111,
              "#46039f"
             ],
             [
              0.2222222222222222,
              "#7201a8"
             ],
             [
              0.3333333333333333,
              "#9c179e"
             ],
             [
              0.4444444444444444,
              "#bd3786"
             ],
             [
              0.5555555555555556,
              "#d8576b"
             ],
             [
              0.6666666666666666,
              "#ed7953"
             ],
             [
              0.7777777777777778,
              "#fb9f3a"
             ],
             [
              0.8888888888888888,
              "#fdca26"
             ],
             [
              1.0,
              "#f0f921"
             ]
            ],
            "type": "contour"
           }
          ],
          "heatmapgl": [
           {
            "colorbar": {
             "outlinewidth": 0,
             "ticks": ""
            },
            "colorscale": [
             [
              0.0,
              "#0d0887"
             ],
             [
              0.1111111111111111,
              "#46039f"
             ],
             [
              0.2222222222222222,
              "#7201a8"
             ],
             [
              0.3333333333333333,
              "#9c179e"
             ],
             [
              0.4444444444444444,
              "#bd3786"
             ],
             [
              0.5555555555555556,
              "#d8576b"
             ],
             [
              0.6666666666666666,
              "#ed7953"
             ],
             [
              0.7777777777777778,
              "#fb9f3a"
             ],
             [
              0.8888888888888888,
              "#fdca26"
             ],
             [
              1.0,
              "#f0f921"
             ]
            ],
            "type": "heatmapgl"
           }
          ],
          "heatmap": [
           {
            "colorbar": {
             "outlinewidth": 0,
             "ticks": ""
            },
            "colorscale": [
             [
              0.0,
              "#0d0887"
             ],
             [
              0.1111111111111111,
              "#46039f"
             ],
             [
              0.2222222222222222,
              "#7201a8"
             ],
             [
              0.3333333333333333,
              "#9c179e"
             ],
             [
              0.4444444444444444,
              "#bd3786"
             ],
             [
              0.5555555555555556,
              "#d8576b"
             ],
             [
              0.6666666666666666,
              "#ed7953"
             ],
             [
              0.7777777777777778,
              "#fb9f3a"
             ],
             [
              0.8888888888888888,
              "#fdca26"
             ],
             [
              1.0,
              "#f0f921"
             ]
            ],
            "type": "heatmap"
           }
          ],
          "histogram2dcontour": [
           {
            "colorbar": {
             "outlinewidth": 0,
             "ticks": ""
            },
            "colorscale": [
             [
              0.0,
              "#0d0887"
             ],
             [
              0.1111111111111111,
              "#46039f"
             ],
             [
              0.2222222222222222,
              "#7201a8"
             ],
             [
              0.3333333333333333,
              "#9c179e"
             ],
             [
              0.4444444444444444,
              "#bd3786"
             ],
             [
              0.5555555555555556,
              "#d8576b"
             ],
             [
              0.6666666666666666,
              "#ed7953"
             ],
             [
              0.7777777777777778,
              "#fb9f3a"
             ],
             [
              0.8888888888888888,
              "#fdca26"
             ],
             [
              1.0,
              "#f0f921"
             ]
            ],
            "type": "histogram2dcontour"
           }
          ],
          "histogram2d": [
           {
            "colorbar": {
             "outlinewidth": 0,
             "ticks": ""
            },
            "colorscale": [
             [
              0.0,
              "#0d0887"
             ],
             [
              0.1111111111111111,
              "#46039f"
             ],
             [
              0.2222222222222222,
              "#7201a8"
             ],
             [
              0.3333333333333333,
              "#9c179e"
             ],
             [
              0.4444444444444444,
              "#bd3786"
             ],
             [
              0.5555555555555556,
              "#d8576b"
             ],
             [
              0.6666666666666666,
              "#ed7953"
             ],
             [
              0.7777777777777778,
              "#fb9f3a"
             ],
             [
              0.8888888888888888,
              "#fdca26"
             ],
             [
              1.0,
              "#f0f921"
             ]
            ],
            "type": "histogram2d"
           }
          ],
          "histogram": [
           {
            "marker": {
             "pattern": {
              "fillmode": "overlay",
              "size": 10,
              "solidity": 0.2
             }
            },
            "type": "histogram"
           }
          ],
          "mesh3d": [
           {
            "colorbar": {
             "outlinewidth": 0,
             "ticks": ""
            },
            "type": "mesh3d"
           }
          ],
          "parcoords": [
           {
            "line": {
             "colorbar": {
              "outlinewidth": 0,
              "ticks": ""
             }
            },
            "type": "parcoords"
           }
          ],
          "pie": [
           {
            "automargin": true,
            "type": "pie"
           }
          ],
          "scatter3d": [
           {
            "line": {
             "colorbar": {
              "outlinewidth": 0,
              "ticks": ""
             }
            },
            "marker": {
             "colorbar": {
              "outlinewidth": 0,
              "ticks": ""
             }
            },
            "type": "scatter3d"
           }
          ],
          "scattercarpet": [
           {
            "marker": {
             "colorbar": {
              "outlinewidth": 0,
              "ticks": ""
             }
            },
            "type": "scattercarpet"
           }
          ],
          "scattergeo": [
           {
            "marker": {
             "colorbar": {
              "outlinewidth": 0,
              "ticks": ""
             }
            },
            "type": "scattergeo"
           }
          ],
          "scattergl": [
           {
            "marker": {
             "colorbar": {
              "outlinewidth": 0,
              "ticks": ""
             }
            },
            "type": "scattergl"
           }
          ],
          "scattermapbox": [
           {
            "marker": {
             "colorbar": {
              "outlinewidth": 0,
              "ticks": ""
             }
            },
            "type": "scattermapbox"
           }
          ],
          "scatterpolargl": [
           {
            "marker": {
             "colorbar": {
              "outlinewidth": 0,
              "ticks": ""
             }
            },
            "type": "scatterpolargl"
           }
          ],
          "scatterpolar": [
           {
            "marker": {
             "colorbar": {
              "outlinewidth": 0,
              "ticks": ""
             }
            },
            "type": "scatterpolar"
           }
          ],
          "scatter": [
           {
            "fillpattern": {
             "fillmode": "overlay",
             "size": 10,
             "solidity": 0.2
            },
            "type": "scatter"
           }
          ],
          "scatterternary": [
           {
            "marker": {
             "colorbar": {
              "outlinewidth": 0,
              "ticks": ""
             }
            },
            "type": "scatterternary"
           }
          ],
          "surface": [
           {
            "colorbar": {
             "outlinewidth": 0,
             "ticks": ""
            },
            "colorscale": [
             [
              0.0,
              "#0d0887"
             ],
             [
              0.1111111111111111,
              "#46039f"
             ],
             [
              0.2222222222222222,
              "#7201a8"
             ],
             [
              0.3333333333333333,
              "#9c179e"
             ],
             [
              0.4444444444444444,
              "#bd3786"
             ],
             [
              0.5555555555555556,
              "#d8576b"
             ],
             [
              0.6666666666666666,
              "#ed7953"
             ],
             [
              0.7777777777777778,
              "#fb9f3a"
             ],
             [
              0.8888888888888888,
              "#fdca26"
             ],
             [
              1.0,
              "#f0f921"
             ]
            ],
            "type": "surface"
           }
          ],
          "table": [
           {
            "cells": {
             "fill": {
              "color": "#EBF0F8"
             },
             "line": {
              "color": "white"
             }
            },
            "header": {
             "fill": {
              "color": "#C8D4E3"
             },
             "line": {
              "color": "white"
             }
            },
            "type": "table"
           }
          ]
         },
         "layout": {
          "annotationdefaults": {
           "arrowcolor": "#2a3f5f",
           "arrowhead": 0,
           "arrowwidth": 1
          },
          "autotypenumbers": "strict",
          "coloraxis": {
           "colorbar": {
            "outlinewidth": 0,
            "ticks": ""
           }
          },
          "colorscale": {
           "diverging": [
            [
             0,
             "#8e0152"
            ],
            [
             0.1,
             "#c51b7d"
            ],
            [
             0.2,
             "#de77ae"
            ],
            [
             0.3,
             "#f1b6da"
            ],
            [
             0.4,
             "#fde0ef"
            ],
            [
             0.5,
             "#f7f7f7"
            ],
            [
             0.6,
             "#e6f5d0"
            ],
            [
             0.7,
             "#b8e186"
            ],
            [
             0.8,
             "#7fbc41"
            ],
            [
             0.9,
             "#4d9221"
            ],
            [
             1,
             "#276419"
            ]
           ],
           "sequential": [
            [
             0.0,
             "#0d0887"
            ],
            [
             0.1111111111111111,
             "#46039f"
            ],
            [
             0.2222222222222222,
             "#7201a8"
            ],
            [
             0.3333333333333333,
             "#9c179e"
            ],
            [
             0.4444444444444444,
             "#bd3786"
            ],
            [
             0.5555555555555556,
             "#d8576b"
            ],
            [
             0.6666666666666666,
             "#ed7953"
            ],
            [
             0.7777777777777778,
             "#fb9f3a"
            ],
            [
             0.8888888888888888,
             "#fdca26"
            ],
            [
             1.0,
             "#f0f921"
            ]
           ],
           "sequentialminus": [
            [
             0.0,
             "#0d0887"
            ],
            [
             0.1111111111111111,
             "#46039f"
            ],
            [
             0.2222222222222222,
             "#7201a8"
            ],
            [
             0.3333333333333333,
             "#9c179e"
            ],
            [
             0.4444444444444444,
             "#bd3786"
            ],
            [
             0.5555555555555556,
             "#d8576b"
            ],
            [
             0.6666666666666666,
             "#ed7953"
            ],
            [
             0.7777777777777778,
             "#fb9f3a"
            ],
            [
             0.8888888888888888,
             "#fdca26"
            ],
            [
             1.0,
             "#f0f921"
            ]
           ]
          },
          "colorway": [
           "#636efa",
           "#EF553B",
           "#00cc96",
           "#ab63fa",
           "#FFA15A",
           "#19d3f3",
           "#FF6692",
           "#B6E880",
           "#FF97FF",
           "#FECB52"
          ],
          "font": {
           "color": "#2a3f5f"
          },
          "geo": {
           "bgcolor": "white",
           "lakecolor": "white",
           "landcolor": "#E5ECF6",
           "showlakes": true,
           "showland": true,
           "subunitcolor": "white"
          },
          "hoverlabel": {
           "align": "left"
          },
          "hovermode": "closest",
          "mapbox": {
           "style": "light"
          },
          "paper_bgcolor": "white",
          "plot_bgcolor": "#E5ECF6",
          "polar": {
           "angularaxis": {
            "gridcolor": "white",
            "linecolor": "white",
            "ticks": ""
           },
           "bgcolor": "#E5ECF6",
           "radialaxis": {
            "gridcolor": "white",
            "linecolor": "white",
            "ticks": ""
           }
          },
          "scene": {
           "xaxis": {
            "backgroundcolor": "#E5ECF6",
            "gridcolor": "white",
            "gridwidth": 2,
            "linecolor": "white",
            "showbackground": true,
            "ticks": "",
            "zerolinecolor": "white"
           },
           "yaxis": {
            "backgroundcolor": "#E5ECF6",
            "gridcolor": "white",
            "gridwidth": 2,
            "linecolor": "white",
            "showbackground": true,
            "ticks": "",
            "zerolinecolor": "white"
           },
           "zaxis": {
            "backgroundcolor": "#E5ECF6",
            "gridcolor": "white",
            "gridwidth": 2,
            "linecolor": "white",
            "showbackground": true,
            "ticks": "",
            "zerolinecolor": "white"
           }
          },
          "shapedefaults": {
           "line": {
            "color": "#2a3f5f"
           }
          },
          "ternary": {
           "aaxis": {
            "gridcolor": "white",
            "linecolor": "white",
            "ticks": ""
           },
           "baxis": {
            "gridcolor": "white",
            "linecolor": "white",
            "ticks": ""
           },
           "bgcolor": "#E5ECF6",
           "caxis": {
            "gridcolor": "white",
            "linecolor": "white",
            "ticks": ""
           }
          },
          "title": {
           "x": 0.05
          },
          "xaxis": {
           "automargin": true,
           "gridcolor": "white",
           "linecolor": "white",
           "ticks": "",
           "title": {
            "standoff": 15
           },
           "zerolinecolor": "white",
           "zerolinewidth": 2
          },
          "yaxis": {
           "automargin": true,
           "gridcolor": "white",
           "linecolor": "white",
           "ticks": "",
           "title": {
            "standoff": 15
           },
           "zerolinecolor": "white",
           "zerolinewidth": 2
          }
         }
        },
        "title": {
         "text": "出版社分布"
        },
        "yaxis": {
         "ticklen": 5,
         "title": {
          "text": "图书数量"
         },
         "zeroline": false
        }
       },
       "config": {
        "showLink": false,
        "linkText": "Export to plot.ly",
        "plotlyServerURL": "https://plot.ly"
       }
      },
      "text/html": "<div>                            <div id=\"5e60add8-866e-4f43-8d54-42cbabde1ef4\" class=\"plotly-graph-div\" style=\"height:525px; width:100%;\"></div>            <script type=\"text/javascript\">                require([\"plotly\"], function(Plotly) {                    window.PLOTLYENV=window.PLOTLYENV || {};                                    if (document.getElementById(\"5e60add8-866e-4f43-8d54-42cbabde1ef4\")) {                    Plotly.newPlot(                        \"5e60add8-866e-4f43-8d54-42cbabde1ef4\",                        [{\"marker\":{\"color\":\"rgba(255, 174, 255, 0.5)\",\"line\":{\"color\":\"rgb(0,0,0)\",\"width\":1.5}},\"name\":\"citations\",\"x\":[\" \\u6d59\\u6c5f\\u4eba\\u6c11\\u51fa\\u7248\\u793e \",\" \\u4e2d\\u56fd\\u9752\\u5e74\\u51fa\\u7248\\u793e \",\" \\u4eba\\u6c11\\u90ae\\u7535\\u51fa\\u7248\\u793e \",\" \\u673a\\u68b0\\u5de5\\u4e1a\\u51fa\\u7248\\u793e \",\" \\u4e0a\\u6d77\\u53e4\\u7c4d\\u51fa\\u7248\\u793e \",\" \\u56db\\u5ddd\\u79d1\\u5b66\\u6280\\u672f\\u51fa\\u7248\\u793e \",\" \\u4e0a\\u6d77\\u4e09\\u8054\\u4e66\\u5e97 \",\" \\u6e56\\u5357\\u6587\\u827a\\u51fa\\u7248\\u793e \",\" \\u6e56\\u5357\\u79d1\\u5b66\\u6280\\u672f\\u51fa\\u7248\\u793e \",\" \\u5929\\u6d25\\u4eba\\u6c11\\u51fa\\u7248\\u793e \",\" \\u91cd\\u5e86\\u51fa\\u7248\\u793e \",\" \\u65b0\\u661f\\u51fa\\u7248\\u793e \",\" \\u65b0\\u4e16\\u754c\\u51fa\\u7248\\u793e \",\" \\u82b1\\u57ce\\u51fa\\u7248\\u793e \",\" \\u4f5c\\u5bb6\\u51fa\\u7248\\u793e \",\" \\u6c5f\\u82cf\\u51e4\\u51f0\\u6587\\u827a\\u51fa\\u7248\\u793e \",\" \\u5546\\u52a1\\u5370\\u4e66\\u9986 \",\" \\u4e2d\\u4fe1\\u51fa\\u7248\\u793e \",\" \\u4e0a\\u6d77\\u6587\\u827a\\u51fa\\u7248\\u793e \",\" \\u4e2d\\u534e\\u4e66\\u5c40 \",\" \\u54c8\\u5c14\\u6ee8\\u51fa\\u7248\\u793e \",\" \\u5317\\u4eac\\u8054\\u5408\\u51fa\\u7248\\u516c\\u53f8 \",\" \\u4e0a\\u6d77\\u4eba\\u6c11\\u51fa\\u7248\\u793e \",\" \\u5e7f\\u897f\\u5e08\\u8303\\u5927\\u5b66\\u51fa\\u7248\\u793e \",\" \\u5317\\u4eac\\u5341\\u6708\\u6587\\u827a\\u51fa\\u7248\\u793e \",\" \\u8bd1\\u6797\\u51fa\\u7248\\u793e \",\" \\u5357\\u6d77\\u51fa\\u7248\\u516c\\u53f8 \",\" \\u751f\\u6d3b\\u00b7\\u8bfb\\u4e66\\u00b7\\u65b0\\u77e5\\u4e09\\u8054\\u4e66\\u5e97 \",\" \\u4e0a\\u6d77\\u8bd1\\u6587\\u51fa\\u7248\\u793e \",\" \\u4eba\\u6c11\\u6587\\u5b66\\u51fa\\u7248\\u793e \",\"\\u5176\\u5b83\"],\"y\":[1,2,2,2,2,2,3,3,3,3,3,3,3,4,4,4,4,5,5,5,5,6,7,9,10,13,13,20,25,38,41],\"type\":\"bar\"}],                        {\"barmode\":\"group\",\"template\":{\"data\":{\"barpolar\":[{\"marker\":{\"line\":{\"color\":\"#E5ECF6\",\"width\":0.5},\"pattern\":{\"fillmode\":\"overlay\",\"size\":10,\"solidity\":0.2}},\"type\":\"barpolar\"}],\"bar\":[{\"error_x\":{\"color\":\"#2a3f5f\"},\"error_y\":{\"color\":\"#2a3f5f\"},\"marker\":{\"line\":{\"color\":\"#E5ECF6\",\"width\":0.5},\"pattern\":{\"fillmode\":\"overlay\",\"size\":10,\"solidity\":0.2}},\"type\":\"bar\"}],\"carpet\":[{\"aaxis\":{\"endlinecolor\":\"#2a3f5f\",\"gridcolor\":\"white\",\"linecolor\":\"white\",\"minorgridcolor\":\"white\",\"startlinecolor\":\"#2a3f5f\"},\"baxis\":{\"endlinecolor\":\"#2a3f5f\",\"gridcolor\":\"white\",\"linecolor\":\"white\",\"minorgridcolor\":\"white\",\"startlinecolor\":\"#2a3f5f\"},\"type\":\"carpet\"}],\"choropleth\":[{\"colorbar\":{\"outlinewidth\":0,\"ticks\":\"\"},\"type\":\"choropleth\"}],\"contourcarpet\":[{\"colorbar\":{\"outlinewidth\":0,\"ticks\":\"\"},\"type\":\"contourcarpet\"}],\"contour\":[{\"colorbar\":{\"outlinewidth\":0,\"ticks\":\"\"},\"colorscale\":[[0.0,\"#0d0887\"],[0.1111111111111111,\"#46039f\"],[0.2222222222222222,\"#7201a8\"],[0.3333333333333333,\"#9c179e\"],[0.4444444444444444,\"#bd3786\"],[0.5555555555555556,\"#d8576b\"],[0.6666666666666666,\"#ed7953\"],[0.7777777777777778,\"#fb9f3a\"],[0.8888888888888888,\"#fdca26\"],[1.0,\"#f0f921\"]],\"type\":\"contour\"}],\"heatmapgl\":[{\"colorbar\":{\"outlinewidth\":0,\"ticks\":\"\"},\"colorscale\":[[0.0,\"#0d0887\"],[0.1111111111111111,\"#46039f\"],[0.2222222222222222,\"#7201a8\"],[0.3333333333333333,\"#9c179e\"],[0.4444444444444444,\"#bd3786\"],[0.5555555555555556,\"#d8576b\"],[0.6666666666666666,\"#ed7953\"],[0.7777777777777778,\"#fb9f3a\"],[0.8888888888888888,\"#fdca26\"],[1.0,\"#f0f921\"]],\"type\":\"heatmapgl\"}],\"heatmap\":[{\"colorbar\":{\"outlinewidth\":0,\"ticks\":\"\"},\"colorscale\":[[0.0,\"#0d0887\"],[0.1111111111111111,\"#46039f\"],[0.2222222222222222,\"#7201a8\"],[0.3333333333333333,\"#9c179e\"],[0.4444444444444444,\"#bd3786\"],[0.5555555555555556,\"#d8576b\"],[0.6666666666666666,\"#ed7953\"],[0.7777777777777778,\"#fb9f3a\"],[0.8888888888888888,\"#fdca26\"],[1.0,\"#f0f921\"]],\"type\":\"heatmap\"}],\"histogram2dcontour\":[{\"colorbar\":{\"outlinewidth\":0,\"ticks\":\"\"},\"colorscale\":[[0.0,\"#0d0887\"],[0.1111111111111111,\"#46039f\"],[0.2222222222222222,\"#7201a8\"],[0.3333333333333333,\"#9c179e\"],[0.4444444444444444,\"#bd3786\"],[0.5555555555555556,\"#d8576b\"],[0.6666666666666666,\"#ed7953\"],[0.7777777777777778,\"#fb9f3a\"],[0.8888888888888888,\"#fdca26\"],[1.0,\"#f0f921\"]],\"type\":\"histogram2dcontour\"}],\"histogram2d\":[{\"colorbar\":{\"outlinewidth\":0,\"ticks\":\"\"},\"colorscale\":[[0.0,\"#0d0887\"],[0.1111111111111111,\"#46039f\"],[0.2222222222222222,\"#7201a8\"],[0.3333333333333333,\"#9c179e\"],[0.4444444444444444,\"#bd3786\"],[0.5555555555555556,\"#d8576b\"],[0.6666666666666666,\"#ed7953\"],[0.7777777777777778,\"#fb9f3a\"],[0.8888888888888888,\"#fdca26\"],[1.0,\"#f0f921\"]],\"type\":\"histogram2d\"}],\"histogram\":[{\"marker\":{\"pattern\":{\"fillmode\":\"overlay\",\"size\":10,\"solidity\":0.2}},\"type\":\"histogram\"}],\"mesh3d\":[{\"colorbar\":{\"outlinewidth\":0,\"ticks\":\"\"},\"type\":\"mesh3d\"}],\"parcoords\":[{\"line\":{\"colorbar\":{\"outlinewidth\":0,\"ticks\":\"\"}},\"type\":\"parcoords\"}],\"pie\":[{\"automargin\":true,\"type\":\"pie\"}],\"scatter3d\":[{\"line\":{\"colorbar\":{\"outlinewidth\":0,\"ticks\":\"\"}},\"marker\":{\"colorbar\":{\"outlinewidth\":0,\"ticks\":\"\"}},\"type\":\"scatter3d\"}],\"scattercarpet\":[{\"marker\":{\"colorbar\":{\"outlinewidth\":0,\"ticks\":\"\"}},\"type\":\"scattercarpet\"}],\"scattergeo\":[{\"marker\":{\"colorbar\":{\"outlinewidth\":0,\"ticks\":\"\"}},\"type\":\"scattergeo\"}],\"scattergl\":[{\"marker\":{\"colorbar\":{\"outlinewidth\":0,\"ticks\":\"\"}},\"type\":\"scattergl\"}],\"scattermapbox\":[{\"marker\":{\"colorbar\":{\"outlinewidth\":0,\"ticks\":\"\"}},\"type\":\"scattermapbox\"}],\"scatterpolargl\":[{\"marker\":{\"colorbar\":{\"outlinewidth\":0,\"ticks\":\"\"}},\"type\":\"scatterpolargl\"}],\"scatterpolar\":[{\"marker\":{\"colorbar\":{\"outlinewidth\":0,\"ticks\":\"\"}},\"type\":\"scatterpolar\"}],\"scatter\":[{\"fillpattern\":{\"fillmode\":\"overlay\",\"size\":10,\"solidity\":0.2},\"type\":\"scatter\"}],\"scatterternary\":[{\"marker\":{\"colorbar\":{\"outlinewidth\":0,\"ticks\":\"\"}},\"type\":\"scatterternary\"}],\"surface\":[{\"colorbar\":{\"outlinewidth\":0,\"ticks\":\"\"},\"colorscale\":[[0.0,\"#0d0887\"],[0.1111111111111111,\"#46039f\"],[0.2222222222222222,\"#7201a8\"],[0.3333333333333333,\"#9c179e\"],[0.4444444444444444,\"#bd3786\"],[0.5555555555555556,\"#d8576b\"],[0.6666666666666666,\"#ed7953\"],[0.7777777777777778,\"#fb9f3a\"],[0.8888888888888888,\"#fdca26\"],[1.0,\"#f0f921\"]],\"type\":\"surface\"}],\"table\":[{\"cells\":{\"fill\":{\"color\":\"#EBF0F8\"},\"line\":{\"color\":\"white\"}},\"header\":{\"fill\":{\"color\":\"#C8D4E3\"},\"line\":{\"color\":\"white\"}},\"type\":\"table\"}]},\"layout\":{\"annotationdefaults\":{\"arrowcolor\":\"#2a3f5f\",\"arrowhead\":0,\"arrowwidth\":1},\"autotypenumbers\":\"strict\",\"coloraxis\":{\"colorbar\":{\"outlinewidth\":0,\"ticks\":\"\"}},\"colorscale\":{\"diverging\":[[0,\"#8e0152\"],[0.1,\"#c51b7d\"],[0.2,\"#de77ae\"],[0.3,\"#f1b6da\"],[0.4,\"#fde0ef\"],[0.5,\"#f7f7f7\"],[0.6,\"#e6f5d0\"],[0.7,\"#b8e186\"],[0.8,\"#7fbc41\"],[0.9,\"#4d9221\"],[1,\"#276419\"]],\"sequential\":[[0.0,\"#0d0887\"],[0.1111111111111111,\"#46039f\"],[0.2222222222222222,\"#7201a8\"],[0.3333333333333333,\"#9c179e\"],[0.4444444444444444,\"#bd3786\"],[0.5555555555555556,\"#d8576b\"],[0.6666666666666666,\"#ed7953\"],[0.7777777777777778,\"#fb9f3a\"],[0.8888888888888888,\"#fdca26\"],[1.0,\"#f0f921\"]],\"sequentialminus\":[[0.0,\"#0d0887\"],[0.1111111111111111,\"#46039f\"],[0.2222222222222222,\"#7201a8\"],[0.3333333333333333,\"#9c179e\"],[0.4444444444444444,\"#bd3786\"],[0.5555555555555556,\"#d8576b\"],[0.6666666666666666,\"#ed7953\"],[0.7777777777777778,\"#fb9f3a\"],[0.8888888888888888,\"#fdca26\"],[1.0,\"#f0f921\"]]},\"colorway\":[\"#636efa\",\"#EF553B\",\"#00cc96\",\"#ab63fa\",\"#FFA15A\",\"#19d3f3\",\"#FF6692\",\"#B6E880\",\"#FF97FF\",\"#FECB52\"],\"font\":{\"color\":\"#2a3f5f\"},\"geo\":{\"bgcolor\":\"white\",\"lakecolor\":\"white\",\"landcolor\":\"#E5ECF6\",\"showlakes\":true,\"showland\":true,\"subunitcolor\":\"white\"},\"hoverlabel\":{\"align\":\"left\"},\"hovermode\":\"closest\",\"mapbox\":{\"style\":\"light\"},\"paper_bgcolor\":\"white\",\"plot_bgcolor\":\"#E5ECF6\",\"polar\":{\"angularaxis\":{\"gridcolor\":\"white\",\"linecolor\":\"white\",\"ticks\":\"\"},\"bgcolor\":\"#E5ECF6\",\"radialaxis\":{\"gridcolor\":\"white\",\"linecolor\":\"white\",\"ticks\":\"\"}},\"scene\":{\"xaxis\":{\"backgroundcolor\":\"#E5ECF6\",\"gridcolor\":\"white\",\"gridwidth\":2,\"linecolor\":\"white\",\"showbackground\":true,\"ticks\":\"\",\"zerolinecolor\":\"white\"},\"yaxis\":{\"backgroundcolor\":\"#E5ECF6\",\"gridcolor\":\"white\",\"gridwidth\":2,\"linecolor\":\"white\",\"showbackground\":true,\"ticks\":\"\",\"zerolinecolor\":\"white\"},\"zaxis\":{\"backgroundcolor\":\"#E5ECF6\",\"gridcolor\":\"white\",\"gridwidth\":2,\"linecolor\":\"white\",\"showbackground\":true,\"ticks\":\"\",\"zerolinecolor\":\"white\"}},\"shapedefaults\":{\"line\":{\"color\":\"#2a3f5f\"}},\"ternary\":{\"aaxis\":{\"gridcolor\":\"white\",\"linecolor\":\"white\",\"ticks\":\"\"},\"baxis\":{\"gridcolor\":\"white\",\"linecolor\":\"white\",\"ticks\":\"\"},\"bgcolor\":\"#E5ECF6\",\"caxis\":{\"gridcolor\":\"white\",\"linecolor\":\"white\",\"ticks\":\"\"}},\"title\":{\"x\":0.05},\"xaxis\":{\"automargin\":true,\"gridcolor\":\"white\",\"linecolor\":\"white\",\"ticks\":\"\",\"title\":{\"standoff\":15},\"zerolinecolor\":\"white\",\"zerolinewidth\":2},\"yaxis\":{\"automargin\":true,\"gridcolor\":\"white\",\"linecolor\":\"white\",\"ticks\":\"\",\"title\":{\"standoff\":15},\"zerolinecolor\":\"white\",\"zerolinewidth\":2}}},\"title\":{\"text\":\"\\u51fa\\u7248\\u793e\\u5206\\u5e03\"},\"yaxis\":{\"ticklen\":5,\"title\":{\"text\":\"\\u56fe\\u4e66\\u6570\\u91cf\"},\"zeroline\":false}},                        {\"responsive\": true}                    ).then(function(){\n                            \nvar gd = document.getElementById('5e60add8-866e-4f43-8d54-42cbabde1ef4');\nvar x = new MutationObserver(function (mutations, observer) {{\n        var display = window.getComputedStyle(gd).display;\n        if (!display || display === 'none') {{\n            console.log([gd, 'removed!']);\n            Plotly.purge(gd);\n            observer.disconnect();\n        }}\n}});\n\n// Listen for the removal of the full notebook cells\nvar notebookContainer = gd.closest('#notebook-container');\nif (notebookContainer) {{\n    x.observe(notebookContainer, {childList: true});\n}}\n\n// Listen for the clearing of the current output cell\nvar outputEl = gd.closest('.output');\nif (outputEl) {{\n    x.observe(outputEl, {childList: true});\n}}\n\n                        })                };                });            </script>        </div>"
     },
     "metadata": {},
     "output_type": "display_data"
    }
   ],
   "source": [
    "data_csv_press = data_csv[\"出版社\"].value_counts(ascending=True)[-30:]\n",
    "data_csv_press.loc['其它'] = sum(data_csv[\"出版社\"].value_counts(ascending=True)[:-30].values)\n",
    "trace1 = go.Bar(\n",
    " x = data_csv_press.index,\n",
    " y = data_csv_press,\n",
    " name = \"citations\",\n",
    " marker = dict(color = 'rgba(255, 174, 255, 0.5)',\n",
    " line=dict(color='rgb(0,0,0)',width=1.5)))\n",
    "\n",
    "data = [trace1]\n",
    "\n",
    "layout = go.Layout(barmode = \"group\", yaxis=dict(title= '图书数量',ticklen= 5,zeroline= False),\n",
    "                   title=\"出版社分布\")\n",
    "fig = go.Figure(data = data, layout = layout)\n",
    "iplot(fig)"
   ],
   "metadata": {
    "collapsed": false,
    "pycharm": {
     "name": "#%%\n"
    }
   }
  },
  {
   "cell_type": "code",
   "execution_count": 49,
   "outputs": [
    {
     "data": {
      "application/vnd.plotly.v1+json": {
       "data": [
        {
         "marker": {
          "color": [
           165.0,
           85.0
          ],
          "showscale": true,
          "size": [
           165,
           85
          ]
         },
         "mode": "markers",
         "x": [
          "不可试读",
          "可试读"
         ],
         "y": [
          165,
          85
         ],
         "type": "scatter"
        }
       ],
       "layout": {
        "height": 500,
        "template": {
         "data": {
          "barpolar": [
           {
            "marker": {
             "line": {
              "color": "#E5ECF6",
              "width": 0.5
             },
             "pattern": {
              "fillmode": "overlay",
              "size": 10,
              "solidity": 0.2
             }
            },
            "type": "barpolar"
           }
          ],
          "bar": [
           {
            "error_x": {
             "color": "#2a3f5f"
            },
            "error_y": {
             "color": "#2a3f5f"
            },
            "marker": {
             "line": {
              "color": "#E5ECF6",
              "width": 0.5
             },
             "pattern": {
              "fillmode": "overlay",
              "size": 10,
              "solidity": 0.2
             }
            },
            "type": "bar"
           }
          ],
          "carpet": [
           {
            "aaxis": {
             "endlinecolor": "#2a3f5f",
             "gridcolor": "white",
             "linecolor": "white",
             "minorgridcolor": "white",
             "startlinecolor": "#2a3f5f"
            },
            "baxis": {
             "endlinecolor": "#2a3f5f",
             "gridcolor": "white",
             "linecolor": "white",
             "minorgridcolor": "white",
             "startlinecolor": "#2a3f5f"
            },
            "type": "carpet"
           }
          ],
          "choropleth": [
           {
            "colorbar": {
             "outlinewidth": 0,
             "ticks": ""
            },
            "type": "choropleth"
           }
          ],
          "contourcarpet": [
           {
            "colorbar": {
             "outlinewidth": 0,
             "ticks": ""
            },
            "type": "contourcarpet"
           }
          ],
          "contour": [
           {
            "colorbar": {
             "outlinewidth": 0,
             "ticks": ""
            },
            "colorscale": [
             [
              0.0,
              "#0d0887"
             ],
             [
              0.1111111111111111,
              "#46039f"
             ],
             [
              0.2222222222222222,
              "#7201a8"
             ],
             [
              0.3333333333333333,
              "#9c179e"
             ],
             [
              0.4444444444444444,
              "#bd3786"
             ],
             [
              0.5555555555555556,
              "#d8576b"
             ],
             [
              0.6666666666666666,
              "#ed7953"
             ],
             [
              0.7777777777777778,
              "#fb9f3a"
             ],
             [
              0.8888888888888888,
              "#fdca26"
             ],
             [
              1.0,
              "#f0f921"
             ]
            ],
            "type": "contour"
           }
          ],
          "heatmapgl": [
           {
            "colorbar": {
             "outlinewidth": 0,
             "ticks": ""
            },
            "colorscale": [
             [
              0.0,
              "#0d0887"
             ],
             [
              0.1111111111111111,
              "#46039f"
             ],
             [
              0.2222222222222222,
              "#7201a8"
             ],
             [
              0.3333333333333333,
              "#9c179e"
             ],
             [
              0.4444444444444444,
              "#bd3786"
             ],
             [
              0.5555555555555556,
              "#d8576b"
             ],
             [
              0.6666666666666666,
              "#ed7953"
             ],
             [
              0.7777777777777778,
              "#fb9f3a"
             ],
             [
              0.8888888888888888,
              "#fdca26"
             ],
             [
              1.0,
              "#f0f921"
             ]
            ],
            "type": "heatmapgl"
           }
          ],
          "heatmap": [
           {
            "colorbar": {
             "outlinewidth": 0,
             "ticks": ""
            },
            "colorscale": [
             [
              0.0,
              "#0d0887"
             ],
             [
              0.1111111111111111,
              "#46039f"
             ],
             [
              0.2222222222222222,
              "#7201a8"
             ],
             [
              0.3333333333333333,
              "#9c179e"
             ],
             [
              0.4444444444444444,
              "#bd3786"
             ],
             [
              0.5555555555555556,
              "#d8576b"
             ],
             [
              0.6666666666666666,
              "#ed7953"
             ],
             [
              0.7777777777777778,
              "#fb9f3a"
             ],
             [
              0.8888888888888888,
              "#fdca26"
             ],
             [
              1.0,
              "#f0f921"
             ]
            ],
            "type": "heatmap"
           }
          ],
          "histogram2dcontour": [
           {
            "colorbar": {
             "outlinewidth": 0,
             "ticks": ""
            },
            "colorscale": [
             [
              0.0,
              "#0d0887"
             ],
             [
              0.1111111111111111,
              "#46039f"
             ],
             [
              0.2222222222222222,
              "#7201a8"
             ],
             [
              0.3333333333333333,
              "#9c179e"
             ],
             [
              0.4444444444444444,
              "#bd3786"
             ],
             [
              0.5555555555555556,
              "#d8576b"
             ],
             [
              0.6666666666666666,
              "#ed7953"
             ],
             [
              0.7777777777777778,
              "#fb9f3a"
             ],
             [
              0.8888888888888888,
              "#fdca26"
             ],
             [
              1.0,
              "#f0f921"
             ]
            ],
            "type": "histogram2dcontour"
           }
          ],
          "histogram2d": [
           {
            "colorbar": {
             "outlinewidth": 0,
             "ticks": ""
            },
            "colorscale": [
             [
              0.0,
              "#0d0887"
             ],
             [
              0.1111111111111111,
              "#46039f"
             ],
             [
              0.2222222222222222,
              "#7201a8"
             ],
             [
              0.3333333333333333,
              "#9c179e"
             ],
             [
              0.4444444444444444,
              "#bd3786"
             ],
             [
              0.5555555555555556,
              "#d8576b"
             ],
             [
              0.6666666666666666,
              "#ed7953"
             ],
             [
              0.7777777777777778,
              "#fb9f3a"
             ],
             [
              0.8888888888888888,
              "#fdca26"
             ],
             [
              1.0,
              "#f0f921"
             ]
            ],
            "type": "histogram2d"
           }
          ],
          "histogram": [
           {
            "marker": {
             "pattern": {
              "fillmode": "overlay",
              "size": 10,
              "solidity": 0.2
             }
            },
            "type": "histogram"
           }
          ],
          "mesh3d": [
           {
            "colorbar": {
             "outlinewidth": 0,
             "ticks": ""
            },
            "type": "mesh3d"
           }
          ],
          "parcoords": [
           {
            "line": {
             "colorbar": {
              "outlinewidth": 0,
              "ticks": ""
             }
            },
            "type": "parcoords"
           }
          ],
          "pie": [
           {
            "automargin": true,
            "type": "pie"
           }
          ],
          "scatter3d": [
           {
            "line": {
             "colorbar": {
              "outlinewidth": 0,
              "ticks": ""
             }
            },
            "marker": {
             "colorbar": {
              "outlinewidth": 0,
              "ticks": ""
             }
            },
            "type": "scatter3d"
           }
          ],
          "scattercarpet": [
           {
            "marker": {
             "colorbar": {
              "outlinewidth": 0,
              "ticks": ""
             }
            },
            "type": "scattercarpet"
           }
          ],
          "scattergeo": [
           {
            "marker": {
             "colorbar": {
              "outlinewidth": 0,
              "ticks": ""
             }
            },
            "type": "scattergeo"
           }
          ],
          "scattergl": [
           {
            "marker": {
             "colorbar": {
              "outlinewidth": 0,
              "ticks": ""
             }
            },
            "type": "scattergl"
           }
          ],
          "scattermapbox": [
           {
            "marker": {
             "colorbar": {
              "outlinewidth": 0,
              "ticks": ""
             }
            },
            "type": "scattermapbox"
           }
          ],
          "scatterpolargl": [
           {
            "marker": {
             "colorbar": {
              "outlinewidth": 0,
              "ticks": ""
             }
            },
            "type": "scatterpolargl"
           }
          ],
          "scatterpolar": [
           {
            "marker": {
             "colorbar": {
              "outlinewidth": 0,
              "ticks": ""
             }
            },
            "type": "scatterpolar"
           }
          ],
          "scatter": [
           {
            "fillpattern": {
             "fillmode": "overlay",
             "size": 10,
             "solidity": 0.2
            },
            "type": "scatter"
           }
          ],
          "scatterternary": [
           {
            "marker": {
             "colorbar": {
              "outlinewidth": 0,
              "ticks": ""
             }
            },
            "type": "scatterternary"
           }
          ],
          "surface": [
           {
            "colorbar": {
             "outlinewidth": 0,
             "ticks": ""
            },
            "colorscale": [
             [
              0.0,
              "#0d0887"
             ],
             [
              0.1111111111111111,
              "#46039f"
             ],
             [
              0.2222222222222222,
              "#7201a8"
             ],
             [
              0.3333333333333333,
              "#9c179e"
             ],
             [
              0.4444444444444444,
              "#bd3786"
             ],
             [
              0.5555555555555556,
              "#d8576b"
             ],
             [
              0.6666666666666666,
              "#ed7953"
             ],
             [
              0.7777777777777778,
              "#fb9f3a"
             ],
             [
              0.8888888888888888,
              "#fdca26"
             ],
             [
              1.0,
              "#f0f921"
             ]
            ],
            "type": "surface"
           }
          ],
          "table": [
           {
            "cells": {
             "fill": {
              "color": "#EBF0F8"
             },
             "line": {
              "color": "white"
             }
            },
            "header": {
             "fill": {
              "color": "#C8D4E3"
             },
             "line": {
              "color": "white"
             }
            },
            "type": "table"
           }
          ]
         },
         "layout": {
          "annotationdefaults": {
           "arrowcolor": "#2a3f5f",
           "arrowhead": 0,
           "arrowwidth": 1
          },
          "autotypenumbers": "strict",
          "coloraxis": {
           "colorbar": {
            "outlinewidth": 0,
            "ticks": ""
           }
          },
          "colorscale": {
           "diverging": [
            [
             0,
             "#8e0152"
            ],
            [
             0.1,
             "#c51b7d"
            ],
            [
             0.2,
             "#de77ae"
            ],
            [
             0.3,
             "#f1b6da"
            ],
            [
             0.4,
             "#fde0ef"
            ],
            [
             0.5,
             "#f7f7f7"
            ],
            [
             0.6,
             "#e6f5d0"
            ],
            [
             0.7,
             "#b8e186"
            ],
            [
             0.8,
             "#7fbc41"
            ],
            [
             0.9,
             "#4d9221"
            ],
            [
             1,
             "#276419"
            ]
           ],
           "sequential": [
            [
             0.0,
             "#0d0887"
            ],
            [
             0.1111111111111111,
             "#46039f"
            ],
            [
             0.2222222222222222,
             "#7201a8"
            ],
            [
             0.3333333333333333,
             "#9c179e"
            ],
            [
             0.4444444444444444,
             "#bd3786"
            ],
            [
             0.5555555555555556,
             "#d8576b"
            ],
            [
             0.6666666666666666,
             "#ed7953"
            ],
            [
             0.7777777777777778,
             "#fb9f3a"
            ],
            [
             0.8888888888888888,
             "#fdca26"
            ],
            [
             1.0,
             "#f0f921"
            ]
           ],
           "sequentialminus": [
            [
             0.0,
             "#0d0887"
            ],
            [
             0.1111111111111111,
             "#46039f"
            ],
            [
             0.2222222222222222,
             "#7201a8"
            ],
            [
             0.3333333333333333,
             "#9c179e"
            ],
            [
             0.4444444444444444,
             "#bd3786"
            ],
            [
             0.5555555555555556,
             "#d8576b"
            ],
            [
             0.6666666666666666,
             "#ed7953"
            ],
            [
             0.7777777777777778,
             "#fb9f3a"
            ],
            [
             0.8888888888888888,
             "#fdca26"
            ],
            [
             1.0,
             "#f0f921"
            ]
           ]
          },
          "colorway": [
           "#636efa",
           "#EF553B",
           "#00cc96",
           "#ab63fa",
           "#FFA15A",
           "#19d3f3",
           "#FF6692",
           "#B6E880",
           "#FF97FF",
           "#FECB52"
          ],
          "font": {
           "color": "#2a3f5f"
          },
          "geo": {
           "bgcolor": "white",
           "lakecolor": "white",
           "landcolor": "#E5ECF6",
           "showlakes": true,
           "showland": true,
           "subunitcolor": "white"
          },
          "hoverlabel": {
           "align": "left"
          },
          "hovermode": "closest",
          "mapbox": {
           "style": "light"
          },
          "paper_bgcolor": "white",
          "plot_bgcolor": "#E5ECF6",
          "polar": {
           "angularaxis": {
            "gridcolor": "white",
            "linecolor": "white",
            "ticks": ""
           },
           "bgcolor": "#E5ECF6",
           "radialaxis": {
            "gridcolor": "white",
            "linecolor": "white",
            "ticks": ""
           }
          },
          "scene": {
           "xaxis": {
            "backgroundcolor": "#E5ECF6",
            "gridcolor": "white",
            "gridwidth": 2,
            "linecolor": "white",
            "showbackground": true,
            "ticks": "",
            "zerolinecolor": "white"
           },
           "yaxis": {
            "backgroundcolor": "#E5ECF6",
            "gridcolor": "white",
            "gridwidth": 2,
            "linecolor": "white",
            "showbackground": true,
            "ticks": "",
            "zerolinecolor": "white"
           },
           "zaxis": {
            "backgroundcolor": "#E5ECF6",
            "gridcolor": "white",
            "gridwidth": 2,
            "linecolor": "white",
            "showbackground": true,
            "ticks": "",
            "zerolinecolor": "white"
           }
          },
          "shapedefaults": {
           "line": {
            "color": "#2a3f5f"
           }
          },
          "ternary": {
           "aaxis": {
            "gridcolor": "white",
            "linecolor": "white",
            "ticks": ""
           },
           "baxis": {
            "gridcolor": "white",
            "linecolor": "white",
            "ticks": ""
           },
           "bgcolor": "#E5ECF6",
           "caxis": {
            "gridcolor": "white",
            "linecolor": "white",
            "ticks": ""
           }
          },
          "title": {
           "x": 0.05
          },
          "xaxis": {
           "automargin": true,
           "gridcolor": "white",
           "linecolor": "white",
           "ticks": "",
           "title": {
            "standoff": 15
           },
           "zerolinecolor": "white",
           "zerolinewidth": 2
          },
          "yaxis": {
           "automargin": true,
           "gridcolor": "white",
           "linecolor": "white",
           "ticks": "",
           "title": {
            "standoff": 15
           },
           "zerolinecolor": "white",
           "zerolinewidth": 2
          }
         }
        },
        "title": {
         "text": "是否可试读"
        },
        "width": 600,
        "yaxis": {
         "ticklen": 5,
         "title": {
          "text": "图书数量"
         },
         "zeroline": false
        }
       },
       "config": {
        "showLink": false,
        "linkText": "Export to plot.ly",
        "plotlyServerURL": "https://plot.ly"
       }
      },
      "text/html": "<div>                            <div id=\"d9f8bfa9-3871-420f-9e08-40e29d127862\" class=\"plotly-graph-div\" style=\"height:500px; width:600px;\"></div>            <script type=\"text/javascript\">                require([\"plotly\"], function(Plotly) {                    window.PLOTLYENV=window.PLOTLYENV || {};                                    if (document.getElementById(\"d9f8bfa9-3871-420f-9e08-40e29d127862\")) {                    Plotly.newPlot(                        \"d9f8bfa9-3871-420f-9e08-40e29d127862\",                        [{\"marker\":{\"color\":[165.0,85.0],\"showscale\":true,\"size\":[165,85]},\"mode\":\"markers\",\"x\":[\"\\u4e0d\\u53ef\\u8bd5\\u8bfb\",\"\\u53ef\\u8bd5\\u8bfb\"],\"y\":[165,85],\"type\":\"scatter\"}],                        {\"height\":500,\"template\":{\"data\":{\"barpolar\":[{\"marker\":{\"line\":{\"color\":\"#E5ECF6\",\"width\":0.5},\"pattern\":{\"fillmode\":\"overlay\",\"size\":10,\"solidity\":0.2}},\"type\":\"barpolar\"}],\"bar\":[{\"error_x\":{\"color\":\"#2a3f5f\"},\"error_y\":{\"color\":\"#2a3f5f\"},\"marker\":{\"line\":{\"color\":\"#E5ECF6\",\"width\":0.5},\"pattern\":{\"fillmode\":\"overlay\",\"size\":10,\"solidity\":0.2}},\"type\":\"bar\"}],\"carpet\":[{\"aaxis\":{\"endlinecolor\":\"#2a3f5f\",\"gridcolor\":\"white\",\"linecolor\":\"white\",\"minorgridcolor\":\"white\",\"startlinecolor\":\"#2a3f5f\"},\"baxis\":{\"endlinecolor\":\"#2a3f5f\",\"gridcolor\":\"white\",\"linecolor\":\"white\",\"minorgridcolor\":\"white\",\"startlinecolor\":\"#2a3f5f\"},\"type\":\"carpet\"}],\"choropleth\":[{\"colorbar\":{\"outlinewidth\":0,\"ticks\":\"\"},\"type\":\"choropleth\"}],\"contourcarpet\":[{\"colorbar\":{\"outlinewidth\":0,\"ticks\":\"\"},\"type\":\"contourcarpet\"}],\"contour\":[{\"colorbar\":{\"outlinewidth\":0,\"ticks\":\"\"},\"colorscale\":[[0.0,\"#0d0887\"],[0.1111111111111111,\"#46039f\"],[0.2222222222222222,\"#7201a8\"],[0.3333333333333333,\"#9c179e\"],[0.4444444444444444,\"#bd3786\"],[0.5555555555555556,\"#d8576b\"],[0.6666666666666666,\"#ed7953\"],[0.7777777777777778,\"#fb9f3a\"],[0.8888888888888888,\"#fdca26\"],[1.0,\"#f0f921\"]],\"type\":\"contour\"}],\"heatmapgl\":[{\"colorbar\":{\"outlinewidth\":0,\"ticks\":\"\"},\"colorscale\":[[0.0,\"#0d0887\"],[0.1111111111111111,\"#46039f\"],[0.2222222222222222,\"#7201a8\"],[0.3333333333333333,\"#9c179e\"],[0.4444444444444444,\"#bd3786\"],[0.5555555555555556,\"#d8576b\"],[0.6666666666666666,\"#ed7953\"],[0.7777777777777778,\"#fb9f3a\"],[0.8888888888888888,\"#fdca26\"],[1.0,\"#f0f921\"]],\"type\":\"heatmapgl\"}],\"heatmap\":[{\"colorbar\":{\"outlinewidth\":0,\"ticks\":\"\"},\"colorscale\":[[0.0,\"#0d0887\"],[0.1111111111111111,\"#46039f\"],[0.2222222222222222,\"#7201a8\"],[0.3333333333333333,\"#9c179e\"],[0.4444444444444444,\"#bd3786\"],[0.5555555555555556,\"#d8576b\"],[0.6666666666666666,\"#ed7953\"],[0.7777777777777778,\"#fb9f3a\"],[0.8888888888888888,\"#fdca26\"],[1.0,\"#f0f921\"]],\"type\":\"heatmap\"}],\"histogram2dcontour\":[{\"colorbar\":{\"outlinewidth\":0,\"ticks\":\"\"},\"colorscale\":[[0.0,\"#0d0887\"],[0.1111111111111111,\"#46039f\"],[0.2222222222222222,\"#7201a8\"],[0.3333333333333333,\"#9c179e\"],[0.4444444444444444,\"#bd3786\"],[0.5555555555555556,\"#d8576b\"],[0.6666666666666666,\"#ed7953\"],[0.7777777777777778,\"#fb9f3a\"],[0.8888888888888888,\"#fdca26\"],[1.0,\"#f0f921\"]],\"type\":\"histogram2dcontour\"}],\"histogram2d\":[{\"colorbar\":{\"outlinewidth\":0,\"ticks\":\"\"},\"colorscale\":[[0.0,\"#0d0887\"],[0.1111111111111111,\"#46039f\"],[0.2222222222222222,\"#7201a8\"],[0.3333333333333333,\"#9c179e\"],[0.4444444444444444,\"#bd3786\"],[0.5555555555555556,\"#d8576b\"],[0.6666666666666666,\"#ed7953\"],[0.7777777777777778,\"#fb9f3a\"],[0.8888888888888888,\"#fdca26\"],[1.0,\"#f0f921\"]],\"type\":\"histogram2d\"}],\"histogram\":[{\"marker\":{\"pattern\":{\"fillmode\":\"overlay\",\"size\":10,\"solidity\":0.2}},\"type\":\"histogram\"}],\"mesh3d\":[{\"colorbar\":{\"outlinewidth\":0,\"ticks\":\"\"},\"type\":\"mesh3d\"}],\"parcoords\":[{\"line\":{\"colorbar\":{\"outlinewidth\":0,\"ticks\":\"\"}},\"type\":\"parcoords\"}],\"pie\":[{\"automargin\":true,\"type\":\"pie\"}],\"scatter3d\":[{\"line\":{\"colorbar\":{\"outlinewidth\":0,\"ticks\":\"\"}},\"marker\":{\"colorbar\":{\"outlinewidth\":0,\"ticks\":\"\"}},\"type\":\"scatter3d\"}],\"scattercarpet\":[{\"marker\":{\"colorbar\":{\"outlinewidth\":0,\"ticks\":\"\"}},\"type\":\"scattercarpet\"}],\"scattergeo\":[{\"marker\":{\"colorbar\":{\"outlinewidth\":0,\"ticks\":\"\"}},\"type\":\"scattergeo\"}],\"scattergl\":[{\"marker\":{\"colorbar\":{\"outlinewidth\":0,\"ticks\":\"\"}},\"type\":\"scattergl\"}],\"scattermapbox\":[{\"marker\":{\"colorbar\":{\"outlinewidth\":0,\"ticks\":\"\"}},\"type\":\"scattermapbox\"}],\"scatterpolargl\":[{\"marker\":{\"colorbar\":{\"outlinewidth\":0,\"ticks\":\"\"}},\"type\":\"scatterpolargl\"}],\"scatterpolar\":[{\"marker\":{\"colorbar\":{\"outlinewidth\":0,\"ticks\":\"\"}},\"type\":\"scatterpolar\"}],\"scatter\":[{\"fillpattern\":{\"fillmode\":\"overlay\",\"size\":10,\"solidity\":0.2},\"type\":\"scatter\"}],\"scatterternary\":[{\"marker\":{\"colorbar\":{\"outlinewidth\":0,\"ticks\":\"\"}},\"type\":\"scatterternary\"}],\"surface\":[{\"colorbar\":{\"outlinewidth\":0,\"ticks\":\"\"},\"colorscale\":[[0.0,\"#0d0887\"],[0.1111111111111111,\"#46039f\"],[0.2222222222222222,\"#7201a8\"],[0.3333333333333333,\"#9c179e\"],[0.4444444444444444,\"#bd3786\"],[0.5555555555555556,\"#d8576b\"],[0.6666666666666666,\"#ed7953\"],[0.7777777777777778,\"#fb9f3a\"],[0.8888888888888888,\"#fdca26\"],[1.0,\"#f0f921\"]],\"type\":\"surface\"}],\"table\":[{\"cells\":{\"fill\":{\"color\":\"#EBF0F8\"},\"line\":{\"color\":\"white\"}},\"header\":{\"fill\":{\"color\":\"#C8D4E3\"},\"line\":{\"color\":\"white\"}},\"type\":\"table\"}]},\"layout\":{\"annotationdefaults\":{\"arrowcolor\":\"#2a3f5f\",\"arrowhead\":0,\"arrowwidth\":1},\"autotypenumbers\":\"strict\",\"coloraxis\":{\"colorbar\":{\"outlinewidth\":0,\"ticks\":\"\"}},\"colorscale\":{\"diverging\":[[0,\"#8e0152\"],[0.1,\"#c51b7d\"],[0.2,\"#de77ae\"],[0.3,\"#f1b6da\"],[0.4,\"#fde0ef\"],[0.5,\"#f7f7f7\"],[0.6,\"#e6f5d0\"],[0.7,\"#b8e186\"],[0.8,\"#7fbc41\"],[0.9,\"#4d9221\"],[1,\"#276419\"]],\"sequential\":[[0.0,\"#0d0887\"],[0.1111111111111111,\"#46039f\"],[0.2222222222222222,\"#7201a8\"],[0.3333333333333333,\"#9c179e\"],[0.4444444444444444,\"#bd3786\"],[0.5555555555555556,\"#d8576b\"],[0.6666666666666666,\"#ed7953\"],[0.7777777777777778,\"#fb9f3a\"],[0.8888888888888888,\"#fdca26\"],[1.0,\"#f0f921\"]],\"sequentialminus\":[[0.0,\"#0d0887\"],[0.1111111111111111,\"#46039f\"],[0.2222222222222222,\"#7201a8\"],[0.3333333333333333,\"#9c179e\"],[0.4444444444444444,\"#bd3786\"],[0.5555555555555556,\"#d8576b\"],[0.6666666666666666,\"#ed7953\"],[0.7777777777777778,\"#fb9f3a\"],[0.8888888888888888,\"#fdca26\"],[1.0,\"#f0f921\"]]},\"colorway\":[\"#636efa\",\"#EF553B\",\"#00cc96\",\"#ab63fa\",\"#FFA15A\",\"#19d3f3\",\"#FF6692\",\"#B6E880\",\"#FF97FF\",\"#FECB52\"],\"font\":{\"color\":\"#2a3f5f\"},\"geo\":{\"bgcolor\":\"white\",\"lakecolor\":\"white\",\"landcolor\":\"#E5ECF6\",\"showlakes\":true,\"showland\":true,\"subunitcolor\":\"white\"},\"hoverlabel\":{\"align\":\"left\"},\"hovermode\":\"closest\",\"mapbox\":{\"style\":\"light\"},\"paper_bgcolor\":\"white\",\"plot_bgcolor\":\"#E5ECF6\",\"polar\":{\"angularaxis\":{\"gridcolor\":\"white\",\"linecolor\":\"white\",\"ticks\":\"\"},\"bgcolor\":\"#E5ECF6\",\"radialaxis\":{\"gridcolor\":\"white\",\"linecolor\":\"white\",\"ticks\":\"\"}},\"scene\":{\"xaxis\":{\"backgroundcolor\":\"#E5ECF6\",\"gridcolor\":\"white\",\"gridwidth\":2,\"linecolor\":\"white\",\"showbackground\":true,\"ticks\":\"\",\"zerolinecolor\":\"white\"},\"yaxis\":{\"backgroundcolor\":\"#E5ECF6\",\"gridcolor\":\"white\",\"gridwidth\":2,\"linecolor\":\"white\",\"showbackground\":true,\"ticks\":\"\",\"zerolinecolor\":\"white\"},\"zaxis\":{\"backgroundcolor\":\"#E5ECF6\",\"gridcolor\":\"white\",\"gridwidth\":2,\"linecolor\":\"white\",\"showbackground\":true,\"ticks\":\"\",\"zerolinecolor\":\"white\"}},\"shapedefaults\":{\"line\":{\"color\":\"#2a3f5f\"}},\"ternary\":{\"aaxis\":{\"gridcolor\":\"white\",\"linecolor\":\"white\",\"ticks\":\"\"},\"baxis\":{\"gridcolor\":\"white\",\"linecolor\":\"white\",\"ticks\":\"\"},\"bgcolor\":\"#E5ECF6\",\"caxis\":{\"gridcolor\":\"white\",\"linecolor\":\"white\",\"ticks\":\"\"}},\"title\":{\"x\":0.05},\"xaxis\":{\"automargin\":true,\"gridcolor\":\"white\",\"linecolor\":\"white\",\"ticks\":\"\",\"title\":{\"standoff\":15},\"zerolinecolor\":\"white\",\"zerolinewidth\":2},\"yaxis\":{\"automargin\":true,\"gridcolor\":\"white\",\"linecolor\":\"white\",\"ticks\":\"\",\"title\":{\"standoff\":15},\"zerolinecolor\":\"white\",\"zerolinewidth\":2}}},\"title\":{\"text\":\"\\u662f\\u5426\\u53ef\\u8bd5\\u8bfb\"},\"width\":600,\"yaxis\":{\"ticklen\":5,\"title\":{\"text\":\"\\u56fe\\u4e66\\u6570\\u91cf\"},\"zeroline\":false}},                        {\"responsive\": true}                    ).then(function(){\n                            \nvar gd = document.getElementById('d9f8bfa9-3871-420f-9e08-40e29d127862');\nvar x = new MutationObserver(function (mutations, observer) {{\n        var display = window.getComputedStyle(gd).display;\n        if (!display || display === 'none') {{\n            console.log([gd, 'removed!']);\n            Plotly.purge(gd);\n            observer.disconnect();\n        }}\n}});\n\n// Listen for the removal of the full notebook cells\nvar notebookContainer = gd.closest('#notebook-container');\nif (notebookContainer) {{\n    x.observe(notebookContainer, {childList: true});\n}}\n\n// Listen for the clearing of the current output cell\nvar outputEl = gd.closest('.output');\nif (outputEl) {{\n    x.observe(outputEl, {childList: true});\n}}\n\n                        })                };                });            </script>        </div>"
     },
     "metadata": {},
     "output_type": "display_data"
    }
   ],
   "source": [
    "data_csv_isRead = data_csv[\"是否可试读\"].value_counts()\n",
    "\n",
    "size = data_csv_isRead\n",
    "\n",
    "data = [\n",
    " {\n",
    " 'x':data_csv_isRead.index,\n",
    " 'y':data_csv_isRead,\n",
    " 'mode':'markers',\n",
    "  'marker':{\n",
    " 'color':[float(each) for each in data_csv_isRead],\n",
    " 'size':data_csv_isRead,\n",
    " 'showscale':True\n",
    " }\n",
    " }\n",
    "]\n",
    "layout = go.Layout(yaxis=dict(title= '图书数量',ticklen= 5,zeroline= False),\n",
    "                   xaxis=dict(),\n",
    "                   title=\"是否可试读\", height=500, width=600)\n",
    "fig = go.Figure(data = data, layout = layout)\n",
    "\n",
    "iplot(fig)"
   ],
   "metadata": {
    "collapsed": false,
    "pycharm": {
     "name": "#%%\n"
    }
   }
  },
  {
   "cell_type": "code",
   "execution_count": 60,
   "outputs": [
    {
     "data": {
      "application/vnd.plotly.v1+json": {
       "data": [
        {
         "marker": {
          "color": "rgba(128, 128, 255, 0.8)"
         },
         "mode": "markers",
         "name": "2014",
         "text": [
          "红楼梦",
          "活着",
          "1984",
          "百年孤独",
          "三体全集",
          "飘",
          "哈利·波特",
          "三国演义（全二册）",
          "房思琪的初恋乐园",
          "动物农场",
          "福尔摩斯探案全集（上中下）",
          "白夜行",
          "小王子",
          "天龙八部",
          "安徒生童话故事集",
          "撒哈拉的故事",
          "杀死一只知更鸟",
          "呐喊",
          "明朝那些事儿（1-9）",
          "沉默的大多数",
          "局外人",
          "失踪的孩子",
          "中国历代政治得失",
          "新名字的故事",
          "人类简史",
          "平凡的世界（全三部）",
          "围城",
          "笑傲江湖（全四册）",
          "乡土中国",
          "霍乱时期的爱情",
          "野草",
          "白鹿原",
          "肖申克的救赎",
          "东方快车谋杀案",
          "基督山伯爵",
          "月亮和六便士",
          "江城",
          "邓小平时代",
          "我与地坛",
          "万历十五年",
          "彷徨",
          "城南旧事",
          "追风筝的人",
          "艺术的故事",
          "卡拉马佐夫兄弟",
          "射雕英雄传",
          "刀锋",
          "罗杰疑案",
          "寻路中国",
          "朝花夕拾",
          "悉达多",
          "故事新编",
          "献给阿尔吉侬的花束",
          "许三观卖血记",
          "格林童话全集",
          "嫌疑人X的献身",
          "无人生还",
          "树上的男爵",
          "黄金时代",
          "傲慢与偏见",
          "史记（全十册）",
          "中国少年儿童百科全书（全四册）",
          "悲惨世界（上中下）",
          "历史深处的忧虑",
          "鼠疫",
          "神雕侠侣",
          "上帝掷骰子吗",
          "西游记（全二册）",
          "文学回忆录",
          "诗经",
          "永恒的终结",
          "台北人",
          "哭泣的骆驼",
          "一个叫欧维的男人决定去死",
          "灿烂千阳",
          "人间词话",
          "最好的告别",
          "窗边的小豆豆",
          "唐诗三百首",
          "浪潮之巅",
          "看见",
          "呼兰河传",
          "道德经",
          "孽子",
          "厌女",
          "美的历程",
          "爱你就像爱生命",
          "巨人的陨落",
          "我们仨",
          "海子的诗",
          "冬牧场",
          "教父",
          "人生的枷锁",
          "看不见的城市",
          "四世同堂",
          "人生的智慧",
          "斯通纳",
          "飞鸟集",
          "离开的，留下的",
          "鹿鼎记",
          "罪与罚",
          "叫魂",
          "美丽新世界",
          "梦里花落知多少",
          "金色梦乡",
          "边城",
          "陆犯焉识",
          "这些人，那些事",
          "时间简史",
          "王尔德童话",
          "你当像鸟飞往你的山",
          "秋园",
          "受戒",
          "十万个为什么",
          "小径分岔的花园",
          "昨日的世界",
          "置身事内",
          "一个陌生女人的来信",
          "失明症漫记",
          "故事",
          "刘擎西方现代思想讲义",
          "棋王·树王·孩子王",
          "國史大綱（上下）",
          "毛泽东选集第一卷",
          "绿毛水怪",
          "经济学原理（上下）",
          "苏菲的世界",
          "茶馆",
          "人间草木",
          "绝叫",
          "克莱因壶",
          "爱的艺术",
          "海的女儿",
          "面纱",
          "史蒂夫·乔布斯传",
          "万水千山走遍",
          "阿勒泰的角落",
          "德米安",
          "温柔的夜",
          "不能承受的生命之轻",
          "我的天才女友",
          "也许你该找个人聊聊",
          "我也有一个梦想",
          "霸王别姬",
          "古文观止",
          "亮剑",
          "我不知道该说什么，关于死亡还是爱情",
          "球状闪电",
          "倾城之恋",
          "我的阿勒泰",
          "海风中失落的血色馈赠",
          "桶川跟踪狂杀人事件",
          "长日将尽",
          "社会心理学",
          "1367",
          "一句顶一万句",
          "孩子你慢慢来",
          "草房子",
          "麦琪的礼物",
          "天朝的崩溃",
          "九州·缥缈录",
          "强风吹拂",
          "浮生六记",
          "情书",
          "送你一颗子弹",
          "银河系漫游指南",
          "野火集",
          "尼罗河上的惨案",
          "万物有灵且美",
          "少年凯歌",
          "半生缘",
          "安娜·卡列尼娜",
          "恶意",
          "渴望生活",
          "额尔古纳河右岸",
          "遥远的向日葵地",
          "罗生门",
          "理想国",
          "倚天屠龙记",
          "枪炮、病菌与钢铁",
          "雨季不再来",
          "一桩事先张扬的凶杀案",
          "激荡三十年",
          "你好，旧时光（上下）",
          "最好的我们",
          "亲爱的安德烈",
          "2001：太空漫游",
          "雷雨",
          "目送",
          "银河帝国：基地七部曲",
          "孙子兵法",
          "当呼吸化为空气",
          "水浒传（全二册）",
          "解忧杂货店",
          "上学记",
          "顾城的诗",
          "认识电影",
          "一千零一夜",
          "荒原狼",
          "众病之王",
          "总统是靠不住的",
          "论语",
          "你一生的故事",
          "冰与火之歌",
          "全球通史",
          "火星救援",
          "天生有罪",
          "青铜时代",
          "象棋的故事",
          "荆棘鸟",
          "从一到无穷大",
          "此生未完成",
          "繁花",
          "毛姆短篇小说精选集",
          "正见",
          "庄子",
          "中国哲学简史",
          "金锁记",
          "雕刻时光",
          "现代艺术150年",
          "规训与惩罚",
          "二手时间",
          "如彗星划过夜空",
          "步履不停",
          "黑客与画家",
          "香水",
          "骆驼祥子",
          "哈姆莱特",
          "稻草人手记",
          "民主的细节",
          "时间的秩序",
          "不存在的骑士",
          "消失的13级台阶",
          "被讨厌的勇气",
          "了不起的盖茨比",
          "夏洛的网",
          "从零开始的女性主义",
          "如父如子",
          "张爱玲文集",
          "牡丹亭",
          "会饮篇",
          "黑箱",
          "金阁寺",
          "社会契约论",
          "巨流河",
          "显微镜下的大明",
          "给青年诗人的信",
          "佐贺的超级阿嬷",
          "人类的群星闪耀时",
          "长袜子皮皮"
         ],
         "x": [
          0,
          1,
          2,
          3,
          4,
          5,
          6,
          7,
          8,
          9,
          10,
          11,
          12,
          13,
          14,
          15,
          16,
          17,
          18,
          19,
          20,
          21,
          22,
          23,
          24,
          25,
          26,
          27,
          28,
          29,
          30,
          31,
          32,
          33,
          34,
          35,
          36,
          37,
          38,
          39,
          40,
          41,
          42,
          43,
          44,
          45,
          46,
          47,
          48,
          49,
          50,
          51,
          52,
          53,
          54,
          55,
          56,
          57,
          58,
          59,
          60,
          61,
          62,
          63,
          64,
          65,
          66,
          67,
          68,
          69,
          70,
          71,
          72,
          73,
          74,
          75,
          76,
          77,
          78,
          79,
          80,
          81,
          82,
          83,
          84,
          85,
          86,
          87,
          88,
          89,
          90,
          91,
          92,
          93,
          94,
          95,
          96,
          97,
          98,
          99,
          100,
          101,
          102,
          103,
          104,
          105,
          106,
          107,
          108,
          109,
          110,
          111,
          112,
          113,
          114,
          115,
          116,
          117,
          118,
          119,
          120,
          121,
          122,
          123,
          124,
          125,
          126,
          127,
          128,
          129,
          130,
          131,
          132,
          133,
          134,
          135,
          136,
          137,
          138,
          139,
          140,
          141,
          142,
          143,
          144,
          145,
          146,
          147,
          148,
          149,
          150,
          151,
          152,
          153,
          154,
          155,
          156,
          157,
          158,
          159,
          160,
          161,
          162,
          163,
          164,
          165,
          166,
          167,
          168,
          169,
          170,
          171,
          172,
          173,
          174,
          175,
          176,
          177,
          178,
          179,
          180,
          181,
          182,
          183,
          184,
          185,
          186,
          187,
          188,
          189,
          190,
          191,
          192,
          193,
          194,
          195,
          196,
          197,
          198,
          199,
          200,
          201,
          202,
          203,
          204,
          205,
          206,
          207,
          208,
          209,
          210,
          211,
          212,
          213,
          214,
          215,
          216,
          217,
          218,
          219,
          220,
          221,
          222,
          223,
          224,
          225,
          226,
          227,
          228,
          229,
          230,
          231,
          232,
          233,
          234,
          235,
          236,
          237,
          238,
          239,
          240,
          241,
          242,
          243,
          244,
          245,
          246,
          247,
          248,
          249
         ],
         "y": [
          366932,
          682644,
          235328,
          371052,
          130113,
          191647,
          68664,
          148426,
          302595,
          130151,
          116919,
          386156,
          684171,
          120472,
          113584,
          136622,
          117948,
          132367,
          136036,
          131852,
          193233,
          58394,
          58124,
          69097,
          172112,
          295267,
          419595,
          101789,
          64225,
          241989,
          34489,
          81269,
          107401,
          122237,
          118964,
          182144,
          51082,
          47612,
          83771,
          176743,
          50228,
          132499,
          738060,
          21434,
          24184,
          76359,
          74517,
          45088,
          49915,
          127795,
          27803,
          30177,
          55889,
          99621,
          84990,
          480602,
          127913,
          41921,
          150370,
          215606,
          21532,
          13829,
          58151,
          41933,
          51733,
          92529,
          30430,
          73785,
          40366,
          24233,
          35945,
          55895,
          52900,
          51837,
          109231,
          49421,
          39916,
          189534,
          21810,
          31095,
          315300,
          73831,
          17141,
          32361,
          36002,
          25367,
          103751,
          78439,
          284785,
          41159,
          26929,
          37001,
          26481,
          27308,
          28883,
          26669,
          50816,
          60002,
          55455,
          51739,
          25918,
          24298,
          34105,
          90857,
          25608,
          209542,
          52179,
          62624,
          56644,
          20726,
          138856,
          32188,
          20179,
          15852,
          31772,
          12895,
          22436,
          130867,
          21766,
          15504,
          17594,
          17105,
          14337,
          18527,
          20657,
          19746,
          50309,
          24188,
          24607,
          41725,
          36942,
          40051,
          18331,
          62440,
          56028,
          41854,
          16770,
          27240,
          20612,
          40206,
          86787,
          20132,
          14765,
          19148,
          17137,
          26365,
          17681,
          71195,
          46935,
          23684,
          16303,
          21516,
          24334,
          23736,
          14068,
          54210,
          73962,
          39688,
          69712,
          13169,
          29867,
          18852,
          62540,
          100025,
          137093,
          20354,
          33527,
          44137,
          21070,
          9291,
          78253,
          20458,
          77470,
          10762,
          19901,
          16245,
          61551,
          30299,
          56456,
          43309,
          50075,
          35919,
          16271,
          44532,
          66520,
          116439,
          14515,
          71692,
          202951,
          11151,
          11240,
          23551,
          68736,
          715594,
          13397,
          23453,
          16994,
          53498,
          17067,
          11467,
          19543,
          19726,
          30232,
          14049,
          18405,
          16518,
          13603,
          24520,
          11098,
          49867,
          12480,
          20890,
          29320,
          11065,
          16416,
          9548,
          18235,
          57530,
          6269,
          11267,
          8799,
          19303,
          10874,
          35506,
          21559,
          18004,
          183635,
          43784,
          18505,
          73501,
          17475,
          16130,
          58261,
          89916,
          43297,
          63195,
          26268,
          22829,
          14794,
          12363,
          8199,
          17462,
          30704,
          17427,
          28880,
          24287,
          10870,
          22844,
          28141,
          12168
         ],
         "type": "scatter"
        }
       ],
       "layout": {
        "template": {
         "data": {
          "barpolar": [
           {
            "marker": {
             "line": {
              "color": "#E5ECF6",
              "width": 0.5
             },
             "pattern": {
              "fillmode": "overlay",
              "size": 10,
              "solidity": 0.2
             }
            },
            "type": "barpolar"
           }
          ],
          "bar": [
           {
            "error_x": {
             "color": "#2a3f5f"
            },
            "error_y": {
             "color": "#2a3f5f"
            },
            "marker": {
             "line": {
              "color": "#E5ECF6",
              "width": 0.5
             },
             "pattern": {
              "fillmode": "overlay",
              "size": 10,
              "solidity": 0.2
             }
            },
            "type": "bar"
           }
          ],
          "carpet": [
           {
            "aaxis": {
             "endlinecolor": "#2a3f5f",
             "gridcolor": "white",
             "linecolor": "white",
             "minorgridcolor": "white",
             "startlinecolor": "#2a3f5f"
            },
            "baxis": {
             "endlinecolor": "#2a3f5f",
             "gridcolor": "white",
             "linecolor": "white",
             "minorgridcolor": "white",
             "startlinecolor": "#2a3f5f"
            },
            "type": "carpet"
           }
          ],
          "choropleth": [
           {
            "colorbar": {
             "outlinewidth": 0,
             "ticks": ""
            },
            "type": "choropleth"
           }
          ],
          "contourcarpet": [
           {
            "colorbar": {
             "outlinewidth": 0,
             "ticks": ""
            },
            "type": "contourcarpet"
           }
          ],
          "contour": [
           {
            "colorbar": {
             "outlinewidth": 0,
             "ticks": ""
            },
            "colorscale": [
             [
              0.0,
              "#0d0887"
             ],
             [
              0.1111111111111111,
              "#46039f"
             ],
             [
              0.2222222222222222,
              "#7201a8"
             ],
             [
              0.3333333333333333,
              "#9c179e"
             ],
             [
              0.4444444444444444,
              "#bd3786"
             ],
             [
              0.5555555555555556,
              "#d8576b"
             ],
             [
              0.6666666666666666,
              "#ed7953"
             ],
             [
              0.7777777777777778,
              "#fb9f3a"
             ],
             [
              0.8888888888888888,
              "#fdca26"
             ],
             [
              1.0,
              "#f0f921"
             ]
            ],
            "type": "contour"
           }
          ],
          "heatmapgl": [
           {
            "colorbar": {
             "outlinewidth": 0,
             "ticks": ""
            },
            "colorscale": [
             [
              0.0,
              "#0d0887"
             ],
             [
              0.1111111111111111,
              "#46039f"
             ],
             [
              0.2222222222222222,
              "#7201a8"
             ],
             [
              0.3333333333333333,
              "#9c179e"
             ],
             [
              0.4444444444444444,
              "#bd3786"
             ],
             [
              0.5555555555555556,
              "#d8576b"
             ],
             [
              0.6666666666666666,
              "#ed7953"
             ],
             [
              0.7777777777777778,
              "#fb9f3a"
             ],
             [
              0.8888888888888888,
              "#fdca26"
             ],
             [
              1.0,
              "#f0f921"
             ]
            ],
            "type": "heatmapgl"
           }
          ],
          "heatmap": [
           {
            "colorbar": {
             "outlinewidth": 0,
             "ticks": ""
            },
            "colorscale": [
             [
              0.0,
              "#0d0887"
             ],
             [
              0.1111111111111111,
              "#46039f"
             ],
             [
              0.2222222222222222,
              "#7201a8"
             ],
             [
              0.3333333333333333,
              "#9c179e"
             ],
             [
              0.4444444444444444,
              "#bd3786"
             ],
             [
              0.5555555555555556,
              "#d8576b"
             ],
             [
              0.6666666666666666,
              "#ed7953"
             ],
             [
              0.7777777777777778,
              "#fb9f3a"
             ],
             [
              0.8888888888888888,
              "#fdca26"
             ],
             [
              1.0,
              "#f0f921"
             ]
            ],
            "type": "heatmap"
           }
          ],
          "histogram2dcontour": [
           {
            "colorbar": {
             "outlinewidth": 0,
             "ticks": ""
            },
            "colorscale": [
             [
              0.0,
              "#0d0887"
             ],
             [
              0.1111111111111111,
              "#46039f"
             ],
             [
              0.2222222222222222,
              "#7201a8"
             ],
             [
              0.3333333333333333,
              "#9c179e"
             ],
             [
              0.4444444444444444,
              "#bd3786"
             ],
             [
              0.5555555555555556,
              "#d8576b"
             ],
             [
              0.6666666666666666,
              "#ed7953"
             ],
             [
              0.7777777777777778,
              "#fb9f3a"
             ],
             [
              0.8888888888888888,
              "#fdca26"
             ],
             [
              1.0,
              "#f0f921"
             ]
            ],
            "type": "histogram2dcontour"
           }
          ],
          "histogram2d": [
           {
            "colorbar": {
             "outlinewidth": 0,
             "ticks": ""
            },
            "colorscale": [
             [
              0.0,
              "#0d0887"
             ],
             [
              0.1111111111111111,
              "#46039f"
             ],
             [
              0.2222222222222222,
              "#7201a8"
             ],
             [
              0.3333333333333333,
              "#9c179e"
             ],
             [
              0.4444444444444444,
              "#bd3786"
             ],
             [
              0.5555555555555556,
              "#d8576b"
             ],
             [
              0.6666666666666666,
              "#ed7953"
             ],
             [
              0.7777777777777778,
              "#fb9f3a"
             ],
             [
              0.8888888888888888,
              "#fdca26"
             ],
             [
              1.0,
              "#f0f921"
             ]
            ],
            "type": "histogram2d"
           }
          ],
          "histogram": [
           {
            "marker": {
             "pattern": {
              "fillmode": "overlay",
              "size": 10,
              "solidity": 0.2
             }
            },
            "type": "histogram"
           }
          ],
          "mesh3d": [
           {
            "colorbar": {
             "outlinewidth": 0,
             "ticks": ""
            },
            "type": "mesh3d"
           }
          ],
          "parcoords": [
           {
            "line": {
             "colorbar": {
              "outlinewidth": 0,
              "ticks": ""
             }
            },
            "type": "parcoords"
           }
          ],
          "pie": [
           {
            "automargin": true,
            "type": "pie"
           }
          ],
          "scatter3d": [
           {
            "line": {
             "colorbar": {
              "outlinewidth": 0,
              "ticks": ""
             }
            },
            "marker": {
             "colorbar": {
              "outlinewidth": 0,
              "ticks": ""
             }
            },
            "type": "scatter3d"
           }
          ],
          "scattercarpet": [
           {
            "marker": {
             "colorbar": {
              "outlinewidth": 0,
              "ticks": ""
             }
            },
            "type": "scattercarpet"
           }
          ],
          "scattergeo": [
           {
            "marker": {
             "colorbar": {
              "outlinewidth": 0,
              "ticks": ""
             }
            },
            "type": "scattergeo"
           }
          ],
          "scattergl": [
           {
            "marker": {
             "colorbar": {
              "outlinewidth": 0,
              "ticks": ""
             }
            },
            "type": "scattergl"
           }
          ],
          "scattermapbox": [
           {
            "marker": {
             "colorbar": {
              "outlinewidth": 0,
              "ticks": ""
             }
            },
            "type": "scattermapbox"
           }
          ],
          "scatterpolargl": [
           {
            "marker": {
             "colorbar": {
              "outlinewidth": 0,
              "ticks": ""
             }
            },
            "type": "scatterpolargl"
           }
          ],
          "scatterpolar": [
           {
            "marker": {
             "colorbar": {
              "outlinewidth": 0,
              "ticks": ""
             }
            },
            "type": "scatterpolar"
           }
          ],
          "scatter": [
           {
            "fillpattern": {
             "fillmode": "overlay",
             "size": 10,
             "solidity": 0.2
            },
            "type": "scatter"
           }
          ],
          "scatterternary": [
           {
            "marker": {
             "colorbar": {
              "outlinewidth": 0,
              "ticks": ""
             }
            },
            "type": "scatterternary"
           }
          ],
          "surface": [
           {
            "colorbar": {
             "outlinewidth": 0,
             "ticks": ""
            },
            "colorscale": [
             [
              0.0,
              "#0d0887"
             ],
             [
              0.1111111111111111,
              "#46039f"
             ],
             [
              0.2222222222222222,
              "#7201a8"
             ],
             [
              0.3333333333333333,
              "#9c179e"
             ],
             [
              0.4444444444444444,
              "#bd3786"
             ],
             [
              0.5555555555555556,
              "#d8576b"
             ],
             [
              0.6666666666666666,
              "#ed7953"
             ],
             [
              0.7777777777777778,
              "#fb9f3a"
             ],
             [
              0.8888888888888888,
              "#fdca26"
             ],
             [
              1.0,
              "#f0f921"
             ]
            ],
            "type": "surface"
           }
          ],
          "table": [
           {
            "cells": {
             "fill": {
              "color": "#EBF0F8"
             },
             "line": {
              "color": "white"
             }
            },
            "header": {
             "fill": {
              "color": "#C8D4E3"
             },
             "line": {
              "color": "white"
             }
            },
            "type": "table"
           }
          ]
         },
         "layout": {
          "annotationdefaults": {
           "arrowcolor": "#2a3f5f",
           "arrowhead": 0,
           "arrowwidth": 1
          },
          "autotypenumbers": "strict",
          "coloraxis": {
           "colorbar": {
            "outlinewidth": 0,
            "ticks": ""
           }
          },
          "colorscale": {
           "diverging": [
            [
             0,
             "#8e0152"
            ],
            [
             0.1,
             "#c51b7d"
            ],
            [
             0.2,
             "#de77ae"
            ],
            [
             0.3,
             "#f1b6da"
            ],
            [
             0.4,
             "#fde0ef"
            ],
            [
             0.5,
             "#f7f7f7"
            ],
            [
             0.6,
             "#e6f5d0"
            ],
            [
             0.7,
             "#b8e186"
            ],
            [
             0.8,
             "#7fbc41"
            ],
            [
             0.9,
             "#4d9221"
            ],
            [
             1,
             "#276419"
            ]
           ],
           "sequential": [
            [
             0.0,
             "#0d0887"
            ],
            [
             0.1111111111111111,
             "#46039f"
            ],
            [
             0.2222222222222222,
             "#7201a8"
            ],
            [
             0.3333333333333333,
             "#9c179e"
            ],
            [
             0.4444444444444444,
             "#bd3786"
            ],
            [
             0.5555555555555556,
             "#d8576b"
            ],
            [
             0.6666666666666666,
             "#ed7953"
            ],
            [
             0.7777777777777778,
             "#fb9f3a"
            ],
            [
             0.8888888888888888,
             "#fdca26"
            ],
            [
             1.0,
             "#f0f921"
            ]
           ],
           "sequentialminus": [
            [
             0.0,
             "#0d0887"
            ],
            [
             0.1111111111111111,
             "#46039f"
            ],
            [
             0.2222222222222222,
             "#7201a8"
            ],
            [
             0.3333333333333333,
             "#9c179e"
            ],
            [
             0.4444444444444444,
             "#bd3786"
            ],
            [
             0.5555555555555556,
             "#d8576b"
            ],
            [
             0.6666666666666666,
             "#ed7953"
            ],
            [
             0.7777777777777778,
             "#fb9f3a"
            ],
            [
             0.8888888888888888,
             "#fdca26"
            ],
            [
             1.0,
             "#f0f921"
            ]
           ]
          },
          "colorway": [
           "#636efa",
           "#EF553B",
           "#00cc96",
           "#ab63fa",
           "#FFA15A",
           "#19d3f3",
           "#FF6692",
           "#B6E880",
           "#FF97FF",
           "#FECB52"
          ],
          "font": {
           "color": "#2a3f5f"
          },
          "geo": {
           "bgcolor": "white",
           "lakecolor": "white",
           "landcolor": "#E5ECF6",
           "showlakes": true,
           "showland": true,
           "subunitcolor": "white"
          },
          "hoverlabel": {
           "align": "left"
          },
          "hovermode": "closest",
          "mapbox": {
           "style": "light"
          },
          "paper_bgcolor": "white",
          "plot_bgcolor": "#E5ECF6",
          "polar": {
           "angularaxis": {
            "gridcolor": "white",
            "linecolor": "white",
            "ticks": ""
           },
           "bgcolor": "#E5ECF6",
           "radialaxis": {
            "gridcolor": "white",
            "linecolor": "white",
            "ticks": ""
           }
          },
          "scene": {
           "xaxis": {
            "backgroundcolor": "#E5ECF6",
            "gridcolor": "white",
            "gridwidth": 2,
            "linecolor": "white",
            "showbackground": true,
            "ticks": "",
            "zerolinecolor": "white"
           },
           "yaxis": {
            "backgroundcolor": "#E5ECF6",
            "gridcolor": "white",
            "gridwidth": 2,
            "linecolor": "white",
            "showbackground": true,
            "ticks": "",
            "zerolinecolor": "white"
           },
           "zaxis": {
            "backgroundcolor": "#E5ECF6",
            "gridcolor": "white",
            "gridwidth": 2,
            "linecolor": "white",
            "showbackground": true,
            "ticks": "",
            "zerolinecolor": "white"
           }
          },
          "shapedefaults": {
           "line": {
            "color": "#2a3f5f"
           }
          },
          "ternary": {
           "aaxis": {
            "gridcolor": "white",
            "linecolor": "white",
            "ticks": ""
           },
           "baxis": {
            "gridcolor": "white",
            "linecolor": "white",
            "ticks": ""
           },
           "bgcolor": "#E5ECF6",
           "caxis": {
            "gridcolor": "white",
            "linecolor": "white",
            "ticks": ""
           }
          },
          "title": {
           "x": 0.05
          },
          "xaxis": {
           "automargin": true,
           "gridcolor": "white",
           "linecolor": "white",
           "ticks": "",
           "title": {
            "standoff": 15
           },
           "zerolinecolor": "white",
           "zerolinewidth": 2
          },
          "yaxis": {
           "automargin": true,
           "gridcolor": "white",
           "linecolor": "white",
           "ticks": "",
           "title": {
            "standoff": 15
           },
           "zerolinecolor": "white",
           "zerolinewidth": 2
          }
         }
        },
        "xaxis": {
         "ticklen": 5,
         "title": {
          "text": "书序列号"
         },
         "zeroline": false
        },
        "yaxis": {
         "ticklen": 5,
         "title": {
          "text": "评价人数"
         },
         "zeroline": false
        }
       },
       "config": {
        "showLink": false,
        "linkText": "Export to plot.ly",
        "plotlyServerURL": "https://plot.ly"
       }
      },
      "text/html": "<div>                            <div id=\"3e98385b-7696-4c54-a94a-7a3fb4ae618d\" class=\"plotly-graph-div\" style=\"height:525px; width:100%;\"></div>            <script type=\"text/javascript\">                require([\"plotly\"], function(Plotly) {                    window.PLOTLYENV=window.PLOTLYENV || {};                                    if (document.getElementById(\"3e98385b-7696-4c54-a94a-7a3fb4ae618d\")) {                    Plotly.newPlot(                        \"3e98385b-7696-4c54-a94a-7a3fb4ae618d\",                        [{\"marker\":{\"color\":\"rgba(128, 128, 255, 0.8)\"},\"mode\":\"markers\",\"name\":\"2014\",\"text\":[\"\\u7ea2\\u697c\\u68a6\",\"\\u6d3b\\u7740\",\"1984\",\"\\u767e\\u5e74\\u5b64\\u72ec\",\"\\u4e09\\u4f53\\u5168\\u96c6\",\"\\u98d8\",\"\\u54c8\\u5229\\u00b7\\u6ce2\\u7279\",\"\\u4e09\\u56fd\\u6f14\\u4e49\\uff08\\u5168\\u4e8c\\u518c\\uff09\",\"\\u623f\\u601d\\u742a\\u7684\\u521d\\u604b\\u4e50\\u56ed\",\"\\u52a8\\u7269\\u519c\\u573a\",\"\\u798f\\u5c14\\u6469\\u65af\\u63a2\\u6848\\u5168\\u96c6\\uff08\\u4e0a\\u4e2d\\u4e0b\\uff09\",\"\\u767d\\u591c\\u884c\",\"\\u5c0f\\u738b\\u5b50\",\"\\u5929\\u9f99\\u516b\\u90e8\",\"\\u5b89\\u5f92\\u751f\\u7ae5\\u8bdd\\u6545\\u4e8b\\u96c6\",\"\\u6492\\u54c8\\u62c9\\u7684\\u6545\\u4e8b\",\"\\u6740\\u6b7b\\u4e00\\u53ea\\u77e5\\u66f4\\u9e1f\",\"\\u5450\\u558a\",\"\\u660e\\u671d\\u90a3\\u4e9b\\u4e8b\\u513f\\uff081-9\\uff09\",\"\\u6c89\\u9ed8\\u7684\\u5927\\u591a\\u6570\",\"\\u5c40\\u5916\\u4eba\",\"\\u5931\\u8e2a\\u7684\\u5b69\\u5b50\",\"\\u4e2d\\u56fd\\u5386\\u4ee3\\u653f\\u6cbb\\u5f97\\u5931\",\"\\u65b0\\u540d\\u5b57\\u7684\\u6545\\u4e8b\",\"\\u4eba\\u7c7b\\u7b80\\u53f2\",\"\\u5e73\\u51e1\\u7684\\u4e16\\u754c\\uff08\\u5168\\u4e09\\u90e8\\uff09\",\"\\u56f4\\u57ce\",\"\\u7b11\\u50b2\\u6c5f\\u6e56\\uff08\\u5168\\u56db\\u518c\\uff09\",\"\\u4e61\\u571f\\u4e2d\\u56fd\",\"\\u970d\\u4e71\\u65f6\\u671f\\u7684\\u7231\\u60c5\",\"\\u91ce\\u8349\",\"\\u767d\\u9e7f\\u539f\",\"\\u8096\\u7533\\u514b\\u7684\\u6551\\u8d4e\",\"\\u4e1c\\u65b9\\u5feb\\u8f66\\u8c0b\\u6740\\u6848\",\"\\u57fa\\u7763\\u5c71\\u4f2f\\u7235\",\"\\u6708\\u4eae\\u548c\\u516d\\u4fbf\\u58eb\",\"\\u6c5f\\u57ce\",\"\\u9093\\u5c0f\\u5e73\\u65f6\\u4ee3\",\"\\u6211\\u4e0e\\u5730\\u575b\",\"\\u4e07\\u5386\\u5341\\u4e94\\u5e74\",\"\\u5f77\\u5fa8\",\"\\u57ce\\u5357\\u65e7\\u4e8b\",\"\\u8ffd\\u98ce\\u7b5d\\u7684\\u4eba\",\"\\u827a\\u672f\\u7684\\u6545\\u4e8b\",\"\\u5361\\u62c9\\u9a6c\\u4f50\\u592b\\u5144\\u5f1f\",\"\\u5c04\\u96d5\\u82f1\\u96c4\\u4f20\",\"\\u5200\\u950b\",\"\\u7f57\\u6770\\u7591\\u6848\",\"\\u5bfb\\u8def\\u4e2d\\u56fd\",\"\\u671d\\u82b1\\u5915\\u62fe\",\"\\u6089\\u8fbe\\u591a\",\"\\u6545\\u4e8b\\u65b0\\u7f16\",\"\\u732e\\u7ed9\\u963f\\u5c14\\u5409\\u4fac\\u7684\\u82b1\\u675f\",\"\\u8bb8\\u4e09\\u89c2\\u5356\\u8840\\u8bb0\",\"\\u683c\\u6797\\u7ae5\\u8bdd\\u5168\\u96c6\",\"\\u5acc\\u7591\\u4ebaX\\u7684\\u732e\\u8eab\",\"\\u65e0\\u4eba\\u751f\\u8fd8\",\"\\u6811\\u4e0a\\u7684\\u7537\\u7235\",\"\\u9ec4\\u91d1\\u65f6\\u4ee3\",\"\\u50b2\\u6162\\u4e0e\\u504f\\u89c1\",\"\\u53f2\\u8bb0\\uff08\\u5168\\u5341\\u518c\\uff09\",\"\\u4e2d\\u56fd\\u5c11\\u5e74\\u513f\\u7ae5\\u767e\\u79d1\\u5168\\u4e66\\uff08\\u5168\\u56db\\u518c\\uff09\",\"\\u60b2\\u60e8\\u4e16\\u754c\\uff08\\u4e0a\\u4e2d\\u4e0b\\uff09\",\"\\u5386\\u53f2\\u6df1\\u5904\\u7684\\u5fe7\\u8651\",\"\\u9f20\\u75ab\",\"\\u795e\\u96d5\\u4fa0\\u4fa3\",\"\\u4e0a\\u5e1d\\u63b7\\u9ab0\\u5b50\\u5417\",\"\\u897f\\u6e38\\u8bb0\\uff08\\u5168\\u4e8c\\u518c\\uff09\",\"\\u6587\\u5b66\\u56de\\u5fc6\\u5f55\",\"\\u8bd7\\u7ecf\",\"\\u6c38\\u6052\\u7684\\u7ec8\\u7ed3\",\"\\u53f0\\u5317\\u4eba\",\"\\u54ed\\u6ce3\\u7684\\u9a86\\u9a7c\",\"\\u4e00\\u4e2a\\u53eb\\u6b27\\u7ef4\\u7684\\u7537\\u4eba\\u51b3\\u5b9a\\u53bb\\u6b7b\",\"\\u707f\\u70c2\\u5343\\u9633\",\"\\u4eba\\u95f4\\u8bcd\\u8bdd\",\"\\u6700\\u597d\\u7684\\u544a\\u522b\",\"\\u7a97\\u8fb9\\u7684\\u5c0f\\u8c46\\u8c46\",\"\\u5510\\u8bd7\\u4e09\\u767e\\u9996\",\"\\u6d6a\\u6f6e\\u4e4b\\u5dc5\",\"\\u770b\\u89c1\",\"\\u547c\\u5170\\u6cb3\\u4f20\",\"\\u9053\\u5fb7\\u7ecf\",\"\\u5b7d\\u5b50\",\"\\u538c\\u5973\",\"\\u7f8e\\u7684\\u5386\\u7a0b\",\"\\u7231\\u4f60\\u5c31\\u50cf\\u7231\\u751f\\u547d\",\"\\u5de8\\u4eba\\u7684\\u9668\\u843d\",\"\\u6211\\u4eec\\u4ee8\",\"\\u6d77\\u5b50\\u7684\\u8bd7\",\"\\u51ac\\u7267\\u573a\",\"\\u6559\\u7236\",\"\\u4eba\\u751f\\u7684\\u67b7\\u9501\",\"\\u770b\\u4e0d\\u89c1\\u7684\\u57ce\\u5e02\",\"\\u56db\\u4e16\\u540c\\u5802\",\"\\u4eba\\u751f\\u7684\\u667a\\u6167\",\"\\u65af\\u901a\\u7eb3\",\"\\u98de\\u9e1f\\u96c6\",\"\\u79bb\\u5f00\\u7684\\uff0c\\u7559\\u4e0b\\u7684\",\"\\u9e7f\\u9f0e\\u8bb0\",\"\\u7f6a\\u4e0e\\u7f5a\",\"\\u53eb\\u9b42\",\"\\u7f8e\\u4e3d\\u65b0\\u4e16\\u754c\",\"\\u68a6\\u91cc\\u82b1\\u843d\\u77e5\\u591a\\u5c11\",\"\\u91d1\\u8272\\u68a6\\u4e61\",\"\\u8fb9\\u57ce\",\"\\u9646\\u72af\\u7109\\u8bc6\",\"\\u8fd9\\u4e9b\\u4eba\\uff0c\\u90a3\\u4e9b\\u4e8b\",\"\\u65f6\\u95f4\\u7b80\\u53f2\",\"\\u738b\\u5c14\\u5fb7\\u7ae5\\u8bdd\",\"\\u4f60\\u5f53\\u50cf\\u9e1f\\u98de\\u5f80\\u4f60\\u7684\\u5c71\",\"\\u79cb\\u56ed\",\"\\u53d7\\u6212\",\"\\u5341\\u4e07\\u4e2a\\u4e3a\\u4ec0\\u4e48\",\"\\u5c0f\\u5f84\\u5206\\u5c94\\u7684\\u82b1\\u56ed\",\"\\u6628\\u65e5\\u7684\\u4e16\\u754c\",\"\\u7f6e\\u8eab\\u4e8b\\u5185\",\"\\u4e00\\u4e2a\\u964c\\u751f\\u5973\\u4eba\\u7684\\u6765\\u4fe1\",\"\\u5931\\u660e\\u75c7\\u6f2b\\u8bb0\",\"\\u6545\\u4e8b\",\"\\u5218\\u64ce\\u897f\\u65b9\\u73b0\\u4ee3\\u601d\\u60f3\\u8bb2\\u4e49\",\"\\u68cb\\u738b\\u00b7\\u6811\\u738b\\u00b7\\u5b69\\u5b50\\u738b\",\"\\u570b\\u53f2\\u5927\\u7db1\\uff08\\u4e0a\\u4e0b\\uff09\",\"\\u6bdb\\u6cfd\\u4e1c\\u9009\\u96c6\\u7b2c\\u4e00\\u5377\",\"\\u7eff\\u6bdb\\u6c34\\u602a\",\"\\u7ecf\\u6d4e\\u5b66\\u539f\\u7406\\uff08\\u4e0a\\u4e0b\\uff09\",\"\\u82cf\\u83f2\\u7684\\u4e16\\u754c\",\"\\u8336\\u9986\",\"\\u4eba\\u95f4\\u8349\\u6728\",\"\\u7edd\\u53eb\",\"\\u514b\\u83b1\\u56e0\\u58f6\",\"\\u7231\\u7684\\u827a\\u672f\",\"\\u6d77\\u7684\\u5973\\u513f\",\"\\u9762\\u7eb1\",\"\\u53f2\\u8482\\u592b\\u00b7\\u4e54\\u5e03\\u65af\\u4f20\",\"\\u4e07\\u6c34\\u5343\\u5c71\\u8d70\\u904d\",\"\\u963f\\u52d2\\u6cf0\\u7684\\u89d2\\u843d\",\"\\u5fb7\\u7c73\\u5b89\",\"\\u6e29\\u67d4\\u7684\\u591c\",\"\\u4e0d\\u80fd\\u627f\\u53d7\\u7684\\u751f\\u547d\\u4e4b\\u8f7b\",\"\\u6211\\u7684\\u5929\\u624d\\u5973\\u53cb\",\"\\u4e5f\\u8bb8\\u4f60\\u8be5\\u627e\\u4e2a\\u4eba\\u804a\\u804a\",\"\\u6211\\u4e5f\\u6709\\u4e00\\u4e2a\\u68a6\\u60f3\",\"\\u9738\\u738b\\u522b\\u59ec\",\"\\u53e4\\u6587\\u89c2\\u6b62\",\"\\u4eae\\u5251\",\"\\u6211\\u4e0d\\u77e5\\u9053\\u8be5\\u8bf4\\u4ec0\\u4e48\\uff0c\\u5173\\u4e8e\\u6b7b\\u4ea1\\u8fd8\\u662f\\u7231\\u60c5\",\"\\u7403\\u72b6\\u95ea\\u7535\",\"\\u503e\\u57ce\\u4e4b\\u604b\",\"\\u6211\\u7684\\u963f\\u52d2\\u6cf0\",\"\\u6d77\\u98ce\\u4e2d\\u5931\\u843d\\u7684\\u8840\\u8272\\u9988\\u8d60\",\"\\u6876\\u5ddd\\u8ddf\\u8e2a\\u72c2\\u6740\\u4eba\\u4e8b\\u4ef6\",\"\\u957f\\u65e5\\u5c06\\u5c3d\",\"\\u793e\\u4f1a\\u5fc3\\u7406\\u5b66\",\"1367\",\"\\u4e00\\u53e5\\u9876\\u4e00\\u4e07\\u53e5\",\"\\u5b69\\u5b50\\u4f60\\u6162\\u6162\\u6765\",\"\\u8349\\u623f\\u5b50\",\"\\u9ea6\\u742a\\u7684\\u793c\\u7269\",\"\\u5929\\u671d\\u7684\\u5d29\\u6e83\",\"\\u4e5d\\u5dde\\u00b7\\u7f25\\u7f08\\u5f55\",\"\\u5f3a\\u98ce\\u5439\\u62c2\",\"\\u6d6e\\u751f\\u516d\\u8bb0\",\"\\u60c5\\u4e66\",\"\\u9001\\u4f60\\u4e00\\u9897\\u5b50\\u5f39\",\"\\u94f6\\u6cb3\\u7cfb\\u6f2b\\u6e38\\u6307\\u5357\",\"\\u91ce\\u706b\\u96c6\",\"\\u5c3c\\u7f57\\u6cb3\\u4e0a\\u7684\\u60e8\\u6848\",\"\\u4e07\\u7269\\u6709\\u7075\\u4e14\\u7f8e\",\"\\u5c11\\u5e74\\u51ef\\u6b4c\",\"\\u534a\\u751f\\u7f18\",\"\\u5b89\\u5a1c\\u00b7\\u5361\\u5217\\u5c3c\\u5a1c\",\"\\u6076\\u610f\",\"\\u6e34\\u671b\\u751f\\u6d3b\",\"\\u989d\\u5c14\\u53e4\\u7eb3\\u6cb3\\u53f3\\u5cb8\",\"\\u9065\\u8fdc\\u7684\\u5411\\u65e5\\u8475\\u5730\",\"\\u7f57\\u751f\\u95e8\",\"\\u7406\\u60f3\\u56fd\",\"\\u501a\\u5929\\u5c60\\u9f99\\u8bb0\",\"\\u67aa\\u70ae\\u3001\\u75c5\\u83cc\\u4e0e\\u94a2\\u94c1\",\"\\u96e8\\u5b63\\u4e0d\\u518d\\u6765\",\"\\u4e00\\u6869\\u4e8b\\u5148\\u5f20\\u626c\\u7684\\u51f6\\u6740\\u6848\",\"\\u6fc0\\u8361\\u4e09\\u5341\\u5e74\",\"\\u4f60\\u597d\\uff0c\\u65e7\\u65f6\\u5149\\uff08\\u4e0a\\u4e0b\\uff09\",\"\\u6700\\u597d\\u7684\\u6211\\u4eec\",\"\\u4eb2\\u7231\\u7684\\u5b89\\u5fb7\\u70c8\",\"2001\\uff1a\\u592a\\u7a7a\\u6f2b\\u6e38\",\"\\u96f7\\u96e8\",\"\\u76ee\\u9001\",\"\\u94f6\\u6cb3\\u5e1d\\u56fd\\uff1a\\u57fa\\u5730\\u4e03\\u90e8\\u66f2\",\"\\u5b59\\u5b50\\u5175\\u6cd5\",\"\\u5f53\\u547c\\u5438\\u5316\\u4e3a\\u7a7a\\u6c14\",\"\\u6c34\\u6d52\\u4f20\\uff08\\u5168\\u4e8c\\u518c\\uff09\",\"\\u89e3\\u5fe7\\u6742\\u8d27\\u5e97\",\"\\u4e0a\\u5b66\\u8bb0\",\"\\u987e\\u57ce\\u7684\\u8bd7\",\"\\u8ba4\\u8bc6\\u7535\\u5f71\",\"\\u4e00\\u5343\\u96f6\\u4e00\\u591c\",\"\\u8352\\u539f\\u72fc\",\"\\u4f17\\u75c5\\u4e4b\\u738b\",\"\\u603b\\u7edf\\u662f\\u9760\\u4e0d\\u4f4f\\u7684\",\"\\u8bba\\u8bed\",\"\\u4f60\\u4e00\\u751f\\u7684\\u6545\\u4e8b\",\"\\u51b0\\u4e0e\\u706b\\u4e4b\\u6b4c\",\"\\u5168\\u7403\\u901a\\u53f2\",\"\\u706b\\u661f\\u6551\\u63f4\",\"\\u5929\\u751f\\u6709\\u7f6a\",\"\\u9752\\u94dc\\u65f6\\u4ee3\",\"\\u8c61\\u68cb\\u7684\\u6545\\u4e8b\",\"\\u8346\\u68d8\\u9e1f\",\"\\u4ece\\u4e00\\u5230\\u65e0\\u7a77\\u5927\",\"\\u6b64\\u751f\\u672a\\u5b8c\\u6210\",\"\\u7e41\\u82b1\",\"\\u6bdb\\u59c6\\u77ed\\u7bc7\\u5c0f\\u8bf4\\u7cbe\\u9009\\u96c6\",\"\\u6b63\\u89c1\",\"\\u5e84\\u5b50\",\"\\u4e2d\\u56fd\\u54f2\\u5b66\\u7b80\\u53f2\",\"\\u91d1\\u9501\\u8bb0\",\"\\u96d5\\u523b\\u65f6\\u5149\",\"\\u73b0\\u4ee3\\u827a\\u672f150\\u5e74\",\"\\u89c4\\u8bad\\u4e0e\\u60e9\\u7f5a\",\"\\u4e8c\\u624b\\u65f6\\u95f4\",\"\\u5982\\u5f57\\u661f\\u5212\\u8fc7\\u591c\\u7a7a\",\"\\u6b65\\u5c65\\u4e0d\\u505c\",\"\\u9ed1\\u5ba2\\u4e0e\\u753b\\u5bb6\",\"\\u9999\\u6c34\",\"\\u9a86\\u9a7c\\u7965\\u5b50\",\"\\u54c8\\u59c6\\u83b1\\u7279\",\"\\u7a3b\\u8349\\u4eba\\u624b\\u8bb0\",\"\\u6c11\\u4e3b\\u7684\\u7ec6\\u8282\",\"\\u65f6\\u95f4\\u7684\\u79e9\\u5e8f\",\"\\u4e0d\\u5b58\\u5728\\u7684\\u9a91\\u58eb\",\"\\u6d88\\u5931\\u768413\\u7ea7\\u53f0\\u9636\",\"\\u88ab\\u8ba8\\u538c\\u7684\\u52c7\\u6c14\",\"\\u4e86\\u4e0d\\u8d77\\u7684\\u76d6\\u8328\\u6bd4\",\"\\u590f\\u6d1b\\u7684\\u7f51\",\"\\u4ece\\u96f6\\u5f00\\u59cb\\u7684\\u5973\\u6027\\u4e3b\\u4e49\",\"\\u5982\\u7236\\u5982\\u5b50\",\"\\u5f20\\u7231\\u73b2\\u6587\\u96c6\",\"\\u7261\\u4e39\\u4ead\",\"\\u4f1a\\u996e\\u7bc7\",\"\\u9ed1\\u7bb1\",\"\\u91d1\\u9601\\u5bfa\",\"\\u793e\\u4f1a\\u5951\\u7ea6\\u8bba\",\"\\u5de8\\u6d41\\u6cb3\",\"\\u663e\\u5fae\\u955c\\u4e0b\\u7684\\u5927\\u660e\",\"\\u7ed9\\u9752\\u5e74\\u8bd7\\u4eba\\u7684\\u4fe1\",\"\\u4f50\\u8d3a\\u7684\\u8d85\\u7ea7\\u963f\\u5b37\",\"\\u4eba\\u7c7b\\u7684\\u7fa4\\u661f\\u95ea\\u8000\\u65f6\",\"\\u957f\\u889c\\u5b50\\u76ae\\u76ae\"],\"x\":[0,1,2,3,4,5,6,7,8,9,10,11,12,13,14,15,16,17,18,19,20,21,22,23,24,25,26,27,28,29,30,31,32,33,34,35,36,37,38,39,40,41,42,43,44,45,46,47,48,49,50,51,52,53,54,55,56,57,58,59,60,61,62,63,64,65,66,67,68,69,70,71,72,73,74,75,76,77,78,79,80,81,82,83,84,85,86,87,88,89,90,91,92,93,94,95,96,97,98,99,100,101,102,103,104,105,106,107,108,109,110,111,112,113,114,115,116,117,118,119,120,121,122,123,124,125,126,127,128,129,130,131,132,133,134,135,136,137,138,139,140,141,142,143,144,145,146,147,148,149,150,151,152,153,154,155,156,157,158,159,160,161,162,163,164,165,166,167,168,169,170,171,172,173,174,175,176,177,178,179,180,181,182,183,184,185,186,187,188,189,190,191,192,193,194,195,196,197,198,199,200,201,202,203,204,205,206,207,208,209,210,211,212,213,214,215,216,217,218,219,220,221,222,223,224,225,226,227,228,229,230,231,232,233,234,235,236,237,238,239,240,241,242,243,244,245,246,247,248,249],\"y\":[366932,682644,235328,371052,130113,191647,68664,148426,302595,130151,116919,386156,684171,120472,113584,136622,117948,132367,136036,131852,193233,58394,58124,69097,172112,295267,419595,101789,64225,241989,34489,81269,107401,122237,118964,182144,51082,47612,83771,176743,50228,132499,738060,21434,24184,76359,74517,45088,49915,127795,27803,30177,55889,99621,84990,480602,127913,41921,150370,215606,21532,13829,58151,41933,51733,92529,30430,73785,40366,24233,35945,55895,52900,51837,109231,49421,39916,189534,21810,31095,315300,73831,17141,32361,36002,25367,103751,78439,284785,41159,26929,37001,26481,27308,28883,26669,50816,60002,55455,51739,25918,24298,34105,90857,25608,209542,52179,62624,56644,20726,138856,32188,20179,15852,31772,12895,22436,130867,21766,15504,17594,17105,14337,18527,20657,19746,50309,24188,24607,41725,36942,40051,18331,62440,56028,41854,16770,27240,20612,40206,86787,20132,14765,19148,17137,26365,17681,71195,46935,23684,16303,21516,24334,23736,14068,54210,73962,39688,69712,13169,29867,18852,62540,100025,137093,20354,33527,44137,21070,9291,78253,20458,77470,10762,19901,16245,61551,30299,56456,43309,50075,35919,16271,44532,66520,116439,14515,71692,202951,11151,11240,23551,68736,715594,13397,23453,16994,53498,17067,11467,19543,19726,30232,14049,18405,16518,13603,24520,11098,49867,12480,20890,29320,11065,16416,9548,18235,57530,6269,11267,8799,19303,10874,35506,21559,18004,183635,43784,18505,73501,17475,16130,58261,89916,43297,63195,26268,22829,14794,12363,8199,17462,30704,17427,28880,24287,10870,22844,28141,12168],\"type\":\"scatter\"}],                        {\"template\":{\"data\":{\"barpolar\":[{\"marker\":{\"line\":{\"color\":\"#E5ECF6\",\"width\":0.5},\"pattern\":{\"fillmode\":\"overlay\",\"size\":10,\"solidity\":0.2}},\"type\":\"barpolar\"}],\"bar\":[{\"error_x\":{\"color\":\"#2a3f5f\"},\"error_y\":{\"color\":\"#2a3f5f\"},\"marker\":{\"line\":{\"color\":\"#E5ECF6\",\"width\":0.5},\"pattern\":{\"fillmode\":\"overlay\",\"size\":10,\"solidity\":0.2}},\"type\":\"bar\"}],\"carpet\":[{\"aaxis\":{\"endlinecolor\":\"#2a3f5f\",\"gridcolor\":\"white\",\"linecolor\":\"white\",\"minorgridcolor\":\"white\",\"startlinecolor\":\"#2a3f5f\"},\"baxis\":{\"endlinecolor\":\"#2a3f5f\",\"gridcolor\":\"white\",\"linecolor\":\"white\",\"minorgridcolor\":\"white\",\"startlinecolor\":\"#2a3f5f\"},\"type\":\"carpet\"}],\"choropleth\":[{\"colorbar\":{\"outlinewidth\":0,\"ticks\":\"\"},\"type\":\"choropleth\"}],\"contourcarpet\":[{\"colorbar\":{\"outlinewidth\":0,\"ticks\":\"\"},\"type\":\"contourcarpet\"}],\"contour\":[{\"colorbar\":{\"outlinewidth\":0,\"ticks\":\"\"},\"colorscale\":[[0.0,\"#0d0887\"],[0.1111111111111111,\"#46039f\"],[0.2222222222222222,\"#7201a8\"],[0.3333333333333333,\"#9c179e\"],[0.4444444444444444,\"#bd3786\"],[0.5555555555555556,\"#d8576b\"],[0.6666666666666666,\"#ed7953\"],[0.7777777777777778,\"#fb9f3a\"],[0.8888888888888888,\"#fdca26\"],[1.0,\"#f0f921\"]],\"type\":\"contour\"}],\"heatmapgl\":[{\"colorbar\":{\"outlinewidth\":0,\"ticks\":\"\"},\"colorscale\":[[0.0,\"#0d0887\"],[0.1111111111111111,\"#46039f\"],[0.2222222222222222,\"#7201a8\"],[0.3333333333333333,\"#9c179e\"],[0.4444444444444444,\"#bd3786\"],[0.5555555555555556,\"#d8576b\"],[0.6666666666666666,\"#ed7953\"],[0.7777777777777778,\"#fb9f3a\"],[0.8888888888888888,\"#fdca26\"],[1.0,\"#f0f921\"]],\"type\":\"heatmapgl\"}],\"heatmap\":[{\"colorbar\":{\"outlinewidth\":0,\"ticks\":\"\"},\"colorscale\":[[0.0,\"#0d0887\"],[0.1111111111111111,\"#46039f\"],[0.2222222222222222,\"#7201a8\"],[0.3333333333333333,\"#9c179e\"],[0.4444444444444444,\"#bd3786\"],[0.5555555555555556,\"#d8576b\"],[0.6666666666666666,\"#ed7953\"],[0.7777777777777778,\"#fb9f3a\"],[0.8888888888888888,\"#fdca26\"],[1.0,\"#f0f921\"]],\"type\":\"heatmap\"}],\"histogram2dcontour\":[{\"colorbar\":{\"outlinewidth\":0,\"ticks\":\"\"},\"colorscale\":[[0.0,\"#0d0887\"],[0.1111111111111111,\"#46039f\"],[0.2222222222222222,\"#7201a8\"],[0.3333333333333333,\"#9c179e\"],[0.4444444444444444,\"#bd3786\"],[0.5555555555555556,\"#d8576b\"],[0.6666666666666666,\"#ed7953\"],[0.7777777777777778,\"#fb9f3a\"],[0.8888888888888888,\"#fdca26\"],[1.0,\"#f0f921\"]],\"type\":\"histogram2dcontour\"}],\"histogram2d\":[{\"colorbar\":{\"outlinewidth\":0,\"ticks\":\"\"},\"colorscale\":[[0.0,\"#0d0887\"],[0.1111111111111111,\"#46039f\"],[0.2222222222222222,\"#7201a8\"],[0.3333333333333333,\"#9c179e\"],[0.4444444444444444,\"#bd3786\"],[0.5555555555555556,\"#d8576b\"],[0.6666666666666666,\"#ed7953\"],[0.7777777777777778,\"#fb9f3a\"],[0.8888888888888888,\"#fdca26\"],[1.0,\"#f0f921\"]],\"type\":\"histogram2d\"}],\"histogram\":[{\"marker\":{\"pattern\":{\"fillmode\":\"overlay\",\"size\":10,\"solidity\":0.2}},\"type\":\"histogram\"}],\"mesh3d\":[{\"colorbar\":{\"outlinewidth\":0,\"ticks\":\"\"},\"type\":\"mesh3d\"}],\"parcoords\":[{\"line\":{\"colorbar\":{\"outlinewidth\":0,\"ticks\":\"\"}},\"type\":\"parcoords\"}],\"pie\":[{\"automargin\":true,\"type\":\"pie\"}],\"scatter3d\":[{\"line\":{\"colorbar\":{\"outlinewidth\":0,\"ticks\":\"\"}},\"marker\":{\"colorbar\":{\"outlinewidth\":0,\"ticks\":\"\"}},\"type\":\"scatter3d\"}],\"scattercarpet\":[{\"marker\":{\"colorbar\":{\"outlinewidth\":0,\"ticks\":\"\"}},\"type\":\"scattercarpet\"}],\"scattergeo\":[{\"marker\":{\"colorbar\":{\"outlinewidth\":0,\"ticks\":\"\"}},\"type\":\"scattergeo\"}],\"scattergl\":[{\"marker\":{\"colorbar\":{\"outlinewidth\":0,\"ticks\":\"\"}},\"type\":\"scattergl\"}],\"scattermapbox\":[{\"marker\":{\"colorbar\":{\"outlinewidth\":0,\"ticks\":\"\"}},\"type\":\"scattermapbox\"}],\"scatterpolargl\":[{\"marker\":{\"colorbar\":{\"outlinewidth\":0,\"ticks\":\"\"}},\"type\":\"scatterpolargl\"}],\"scatterpolar\":[{\"marker\":{\"colorbar\":{\"outlinewidth\":0,\"ticks\":\"\"}},\"type\":\"scatterpolar\"}],\"scatter\":[{\"fillpattern\":{\"fillmode\":\"overlay\",\"size\":10,\"solidity\":0.2},\"type\":\"scatter\"}],\"scatterternary\":[{\"marker\":{\"colorbar\":{\"outlinewidth\":0,\"ticks\":\"\"}},\"type\":\"scatterternary\"}],\"surface\":[{\"colorbar\":{\"outlinewidth\":0,\"ticks\":\"\"},\"colorscale\":[[0.0,\"#0d0887\"],[0.1111111111111111,\"#46039f\"],[0.2222222222222222,\"#7201a8\"],[0.3333333333333333,\"#9c179e\"],[0.4444444444444444,\"#bd3786\"],[0.5555555555555556,\"#d8576b\"],[0.6666666666666666,\"#ed7953\"],[0.7777777777777778,\"#fb9f3a\"],[0.8888888888888888,\"#fdca26\"],[1.0,\"#f0f921\"]],\"type\":\"surface\"}],\"table\":[{\"cells\":{\"fill\":{\"color\":\"#EBF0F8\"},\"line\":{\"color\":\"white\"}},\"header\":{\"fill\":{\"color\":\"#C8D4E3\"},\"line\":{\"color\":\"white\"}},\"type\":\"table\"}]},\"layout\":{\"annotationdefaults\":{\"arrowcolor\":\"#2a3f5f\",\"arrowhead\":0,\"arrowwidth\":1},\"autotypenumbers\":\"strict\",\"coloraxis\":{\"colorbar\":{\"outlinewidth\":0,\"ticks\":\"\"}},\"colorscale\":{\"diverging\":[[0,\"#8e0152\"],[0.1,\"#c51b7d\"],[0.2,\"#de77ae\"],[0.3,\"#f1b6da\"],[0.4,\"#fde0ef\"],[0.5,\"#f7f7f7\"],[0.6,\"#e6f5d0\"],[0.7,\"#b8e186\"],[0.8,\"#7fbc41\"],[0.9,\"#4d9221\"],[1,\"#276419\"]],\"sequential\":[[0.0,\"#0d0887\"],[0.1111111111111111,\"#46039f\"],[0.2222222222222222,\"#7201a8\"],[0.3333333333333333,\"#9c179e\"],[0.4444444444444444,\"#bd3786\"],[0.5555555555555556,\"#d8576b\"],[0.6666666666666666,\"#ed7953\"],[0.7777777777777778,\"#fb9f3a\"],[0.8888888888888888,\"#fdca26\"],[1.0,\"#f0f921\"]],\"sequentialminus\":[[0.0,\"#0d0887\"],[0.1111111111111111,\"#46039f\"],[0.2222222222222222,\"#7201a8\"],[0.3333333333333333,\"#9c179e\"],[0.4444444444444444,\"#bd3786\"],[0.5555555555555556,\"#d8576b\"],[0.6666666666666666,\"#ed7953\"],[0.7777777777777778,\"#fb9f3a\"],[0.8888888888888888,\"#fdca26\"],[1.0,\"#f0f921\"]]},\"colorway\":[\"#636efa\",\"#EF553B\",\"#00cc96\",\"#ab63fa\",\"#FFA15A\",\"#19d3f3\",\"#FF6692\",\"#B6E880\",\"#FF97FF\",\"#FECB52\"],\"font\":{\"color\":\"#2a3f5f\"},\"geo\":{\"bgcolor\":\"white\",\"lakecolor\":\"white\",\"landcolor\":\"#E5ECF6\",\"showlakes\":true,\"showland\":true,\"subunitcolor\":\"white\"},\"hoverlabel\":{\"align\":\"left\"},\"hovermode\":\"closest\",\"mapbox\":{\"style\":\"light\"},\"paper_bgcolor\":\"white\",\"plot_bgcolor\":\"#E5ECF6\",\"polar\":{\"angularaxis\":{\"gridcolor\":\"white\",\"linecolor\":\"white\",\"ticks\":\"\"},\"bgcolor\":\"#E5ECF6\",\"radialaxis\":{\"gridcolor\":\"white\",\"linecolor\":\"white\",\"ticks\":\"\"}},\"scene\":{\"xaxis\":{\"backgroundcolor\":\"#E5ECF6\",\"gridcolor\":\"white\",\"gridwidth\":2,\"linecolor\":\"white\",\"showbackground\":true,\"ticks\":\"\",\"zerolinecolor\":\"white\"},\"yaxis\":{\"backgroundcolor\":\"#E5ECF6\",\"gridcolor\":\"white\",\"gridwidth\":2,\"linecolor\":\"white\",\"showbackground\":true,\"ticks\":\"\",\"zerolinecolor\":\"white\"},\"zaxis\":{\"backgroundcolor\":\"#E5ECF6\",\"gridcolor\":\"white\",\"gridwidth\":2,\"linecolor\":\"white\",\"showbackground\":true,\"ticks\":\"\",\"zerolinecolor\":\"white\"}},\"shapedefaults\":{\"line\":{\"color\":\"#2a3f5f\"}},\"ternary\":{\"aaxis\":{\"gridcolor\":\"white\",\"linecolor\":\"white\",\"ticks\":\"\"},\"baxis\":{\"gridcolor\":\"white\",\"linecolor\":\"white\",\"ticks\":\"\"},\"bgcolor\":\"#E5ECF6\",\"caxis\":{\"gridcolor\":\"white\",\"linecolor\":\"white\",\"ticks\":\"\"}},\"title\":{\"x\":0.05},\"xaxis\":{\"automargin\":true,\"gridcolor\":\"white\",\"linecolor\":\"white\",\"ticks\":\"\",\"title\":{\"standoff\":15},\"zerolinecolor\":\"white\",\"zerolinewidth\":2},\"yaxis\":{\"automargin\":true,\"gridcolor\":\"white\",\"linecolor\":\"white\",\"ticks\":\"\",\"title\":{\"standoff\":15},\"zerolinecolor\":\"white\",\"zerolinewidth\":2}}},\"xaxis\":{\"ticklen\":5,\"title\":{\"text\":\"\\u4e66\\u5e8f\\u5217\\u53f7\"},\"zeroline\":false},\"yaxis\":{\"ticklen\":5,\"title\":{\"text\":\"\\u8bc4\\u4ef7\\u4eba\\u6570\"},\"zeroline\":false}},                        {\"responsive\": true}                    ).then(function(){\n                            \nvar gd = document.getElementById('3e98385b-7696-4c54-a94a-7a3fb4ae618d');\nvar x = new MutationObserver(function (mutations, observer) {{\n        var display = window.getComputedStyle(gd).display;\n        if (!display || display === 'none') {{\n            console.log([gd, 'removed!']);\n            Plotly.purge(gd);\n            observer.disconnect();\n        }}\n}});\n\n// Listen for the removal of the full notebook cells\nvar notebookContainer = gd.closest('#notebook-container');\nif (notebookContainer) {{\n    x.observe(notebookContainer, {childList: true});\n}}\n\n// Listen for the clearing of the current output cell\nvar outputEl = gd.closest('.output');\nif (outputEl) {{\n    x.observe(outputEl, {childList: true});\n}}\n\n                        })                };                });            </script>        </div>"
     },
     "metadata": {},
     "output_type": "display_data"
    }
   ],
   "source": [
    "data_csv_readNum = data_csv[\"评价人数\"]\n",
    "\n",
    "trace1 =go.Scatter(\n",
    " x = data_csv.index,\n",
    " y = data_csv[\"评价人数\"],\n",
    "  mode = \"markers\",\n",
    " name = \"2014\",\n",
    " marker = dict(color = 'rgba(128, 128, 255, 0.8)'),\n",
    " text= data_csv['书名'])\n",
    "\n",
    "#3.定义layout对象\n",
    "layout = dict(xaxis= dict(title= '书序列号',ticklen= 5,zeroline= False),\n",
    " yaxis= dict(title= '评价人数',ticklen= 5,zeroline= False)\n",
    " )\n",
    "#4.将graph部分和layout部分组合成figure对象，绘图\n",
    "fig = dict(data = trace1, layout = layout)\n",
    "iplot(fig)"
   ],
   "metadata": {
    "collapsed": false,
    "pycharm": {
     "name": "#%%\n"
    }
   }
  }
 ],
 "metadata": {
  "kernelspec": {
   "display_name": "Python 3",
   "language": "python",
   "name": "python3"
  },
  "language_info": {
   "codemirror_mode": {
    "name": "ipython",
    "version": 2
   },
   "file_extension": ".py",
   "mimetype": "text/x-python",
   "name": "python",
   "nbconvert_exporter": "python",
   "pygments_lexer": "ipython2",
   "version": "2.7.6"
  }
 },
 "nbformat": 4,
 "nbformat_minor": 0
}